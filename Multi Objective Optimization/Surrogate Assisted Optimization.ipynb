{
 "cells": [
  {
   "cell_type": "markdown",
   "id": "2994d6ba",
   "metadata": {},
   "source": [
    "### performing a surrogate model for the fitness function or optimization function\n",
    "#### f(x) = x^3 + y^2"
   ]
  },
  {
   "cell_type": "code",
   "execution_count": 2,
   "id": "3ea1fe43",
   "metadata": {},
   "outputs": [],
   "source": [
    "import GPy"
   ]
  },
  {
   "cell_type": "code",
   "execution_count": 3,
   "id": "d8c1f01a",
   "metadata": {},
   "outputs": [],
   "source": [
    "import numpy as np"
   ]
  },
  {
   "cell_type": "code",
   "execution_count": 7,
   "id": "21e36b14",
   "metadata": {},
   "outputs": [],
   "source": [
    "x = np.random.uniform(-3.,3.,(20,1))\n",
    "y = np.random.uniform(-2.,5.,(20,1))"
   ]
  },
  {
   "cell_type": "code",
   "execution_count": 8,
   "id": "fa79f640",
   "metadata": {},
   "outputs": [],
   "source": [
    "y = x**3 + y**2"
   ]
  },
  {
   "cell_type": "code",
   "execution_count": 10,
   "id": "9bbca3a4",
   "metadata": {},
   "outputs": [],
   "source": [
    "# here let us consider that x and y are pre considered datasets and y is expensive to calculate so we have to use the Bayesian \n",
    "# Regression model to approximate"
   ]
  },
  {
   "cell_type": "code",
   "execution_count": 11,
   "id": "67eef1f7",
   "metadata": {},
   "outputs": [],
   "source": [
    "kernel = GPy.kern.RBF(input_dim=1, variance=1., lengthscale=1.)"
   ]
  },
  {
   "cell_type": "code",
   "execution_count": 13,
   "id": "715aa896",
   "metadata": {},
   "outputs": [],
   "source": [
    "model = GPy.models.GPRegression(x,y,kernel)"
   ]
  },
  {
   "cell_type": "code",
   "execution_count": 15,
   "id": "a7443bff",
   "metadata": {},
   "outputs": [
    {
     "data": {
      "text/html": [
       "<style type=\"text/css\">\n",
       ".pd{\n",
       "    font-family: \"Courier New\", Courier, monospace !important;\n",
       "    width: 100%;\n",
       "    padding: 3px;\n",
       "}\n",
       "</style>\n",
       "\n",
       "<p class=pd>\n",
       "<b>Model</b>: GP regression<br>\n",
       "<b>Objective</b>: 611.6335239876404<br>\n",
       "<b>Number of Parameters</b>: 3<br>\n",
       "<b>Number of Optimization Parameters</b>: 3<br>\n",
       "<b>Updates</b>: True<br>\n",
       "</p>\n",
       "<style type=\"text/css\">\n",
       ".tg  {font-family:\"Courier New\", Courier, monospace !important;padding:2px 3px;word-break:normal;border-collapse:collapse;border-spacing:0;border-color:#DCDCDC;margin:0px auto;width:100%;}\n",
       ".tg td{font-family:\"Courier New\", Courier, monospace !important;font-weight:bold;color:#444;background-color:#F7FDFA;border-style:solid;border-width:1px;overflow:hidden;word-break:normal;border-color:#DCDCDC;}\n",
       ".tg th{font-family:\"Courier New\", Courier, monospace !important;font-weight:normal;color:#fff;background-color:#26ADE4;border-style:solid;border-width:1px;overflow:hidden;word-break:normal;border-color:#DCDCDC;}\n",
       ".tg .tg-left{font-family:\"Courier New\", Courier, monospace !important;font-weight:normal;text-align:left;}\n",
       ".tg .tg-center{font-family:\"Courier New\", Courier, monospace !important;font-weight:normal;text-align:center;}\n",
       ".tg .tg-right{font-family:\"Courier New\", Courier, monospace !important;font-weight:normal;text-align:right;}\n",
       "</style>\n",
       "<table class=\"tg\"><tr><th><b>  GP_regression.         </b></th><th><b>value</b></th><th><b>constraints</b></th><th><b>priors</b></th></tr>\n",
       "<tr><td class=tg-left>  rbf.variance           </td><td class=tg-right>  1.0</td><td class=tg-center>    +ve    </td><td class=tg-center>      </td></tr>\n",
       "<tr><td class=tg-left>  rbf.lengthscale        </td><td class=tg-right>  1.0</td><td class=tg-center>    +ve    </td><td class=tg-center>      </td></tr>\n",
       "<tr><td class=tg-left>  Gaussian_noise.variance</td><td class=tg-right>  1.0</td><td class=tg-center>    +ve    </td><td class=tg-center>      </td></tr>\n",
       "</table>"
      ],
      "text/plain": [
       "<GPy.models.gp_regression.GPRegression at 0x12819cb2650>"
      ]
     },
     "metadata": {},
     "output_type": "display_data"
    }
   ],
   "source": [
    "from IPython.display import display\n",
    "display(model)"
   ]
  },
  {
   "cell_type": "code",
   "execution_count": 17,
   "id": "db39aed1",
   "metadata": {},
   "outputs": [
    {
     "ename": "AttributeError",
     "evalue": "'dict' object has no attribute 'figure'",
     "output_type": "error",
     "traceback": [
      "\u001b[1;31m---------------------------------------------------------------------------\u001b[0m",
      "\u001b[1;31mAttributeError\u001b[0m                            Traceback (most recent call last)",
      "Input \u001b[1;32mIn [17]\u001b[0m, in \u001b[0;36m<cell line: 2>\u001b[1;34m()\u001b[0m\n\u001b[0;32m      1\u001b[0m fig \u001b[38;5;241m=\u001b[39m model\u001b[38;5;241m.\u001b[39mplot()\n\u001b[1;32m----> 2\u001b[0m \u001b[43mGPy\u001b[49m\u001b[38;5;241;43m.\u001b[39;49m\u001b[43mplotting\u001b[49m\u001b[38;5;241;43m.\u001b[39;49m\u001b[43mshow\u001b[49m\u001b[43m(\u001b[49m\u001b[43mfig\u001b[49m\u001b[43m,\u001b[49m\u001b[43m \u001b[49m\u001b[43mfilename\u001b[49m\u001b[38;5;241;43m=\u001b[39;49m\u001b[38;5;124;43m'\u001b[39;49m\u001b[38;5;124;43mbasic_gp_regression_notebook\u001b[39;49m\u001b[38;5;124;43m'\u001b[39;49m\u001b[43m)\u001b[49m\n",
      "File \u001b[1;32m~\\AppData\\Local\\Programs\\Python\\Python310\\lib\\site-packages\\GPy\\plotting\\__init__.py:150\u001b[0m, in \u001b[0;36mshow\u001b[1;34m(figure, **kwargs)\u001b[0m\n\u001b[0;32m    142\u001b[0m \u001b[38;5;28;01mdef\u001b[39;00m \u001b[38;5;21mshow\u001b[39m(figure, \u001b[38;5;241m*\u001b[39m\u001b[38;5;241m*\u001b[39mkwargs):\n\u001b[0;32m    143\u001b[0m     \u001b[38;5;124;03m\"\"\"\u001b[39;00m\n\u001b[0;32m    144\u001b[0m \u001b[38;5;124;03m    Show the specific plotting library figure, returned by\u001b[39;00m\n\u001b[0;32m    145\u001b[0m \u001b[38;5;124;03m    add_to_canvas().\u001b[39;00m\n\u001b[1;32m   (...)\u001b[0m\n\u001b[0;32m    148\u001b[0m \u001b[38;5;124;03m    for showing/drawing a figure.\u001b[39;00m\n\u001b[0;32m    149\u001b[0m \u001b[38;5;124;03m    \"\"\"\u001b[39;00m\n\u001b[1;32m--> 150\u001b[0m     \u001b[38;5;28;01mreturn\u001b[39;00m plotting_library()\u001b[38;5;241m.\u001b[39mshow_canvas(figure, \u001b[38;5;241m*\u001b[39m\u001b[38;5;241m*\u001b[39mkwargs)\n",
      "File \u001b[1;32m~\\AppData\\Local\\Programs\\Python\\Python310\\lib\\site-packages\\GPy\\plotting\\matplot_dep\\plot_definitions.py:96\u001b[0m, in \u001b[0;36mMatplotlibPlots.show_canvas\u001b[1;34m(self, ax, **kwargs)\u001b[0m\n\u001b[0;32m     95\u001b[0m \u001b[38;5;28;01mdef\u001b[39;00m \u001b[38;5;21mshow_canvas\u001b[39m(\u001b[38;5;28mself\u001b[39m, ax, \u001b[38;5;241m*\u001b[39m\u001b[38;5;241m*\u001b[39mkwargs):\n\u001b[1;32m---> 96\u001b[0m     \u001b[43max\u001b[49m\u001b[38;5;241;43m.\u001b[39;49m\u001b[43mfigure\u001b[49m\u001b[38;5;241m.\u001b[39mcanvas\u001b[38;5;241m.\u001b[39mdraw()\n\u001b[0;32m     97\u001b[0m     \u001b[38;5;28;01mreturn\u001b[39;00m ax\u001b[38;5;241m.\u001b[39mfigure\n",
      "\u001b[1;31mAttributeError\u001b[0m: 'dict' object has no attribute 'figure'"
     ]
    },
    {
     "data": {
      "image/png": "[encoded data removed]",
      "text/plain": [
       "<Figure size 432x288 with 1 Axes>"
      ]
     },
     "metadata": {
      "needs_background": "light"
     },
     "output_type": "display_data"
    }
   ],
   "source": [
    "fig = model.plot()\n",
    "GPy.plotting.show(fig, filename='basic_gp_regression_notebook')"
   ]
  },
  {
   "cell_type": "code",
   "execution_count": 18,
   "id": "e31d9e22",
   "metadata": {},
   "outputs": [
    {
     "name": "stdout",
     "output_type": "stream",
     "text": [
      "Running L-BFGS-B (Scipy implementation) Code:\n",
      "  runtime   i      f              |g|        \n",
      "    00s00  0000   6.116335e+02           nan \n",
      "    00s01  0002   4.076380e+02   2.081002e+04 \n",
      "    00s04  0010   9.191742e+01   5.591859e+01 \n",
      "    00s09  0017   7.124791e+01   8.627304e-03 \n",
      "    00s10  0018   7.113117e+01   1.922609e-02 \n",
      "    00s12  0024   7.023063e+01   3.162299e-03 \n",
      "    00s15  0031   7.021631e+01   1.054158e-07 \n",
      "    00s16  0034   7.021631e+01   7.633448e-11 \n",
      "Runtime:     00s16\n",
      "Optimization status: Converged\n",
      "\n"
     ]
    },
    {
     "data": {
      "text/plain": [
       "<paramz.optimization.optimization.opt_lbfgsb at 0x1281e946110>"
      ]
     },
     "execution_count": 18,
     "metadata": {},
     "output_type": "execute_result"
    }
   ],
   "source": [
    "model.optimize(messages=True)"
   ]
  },
  {
   "cell_type": "code",
   "execution_count": 20,
   "id": "79d4ed98",
   "metadata": {},
   "outputs": [
    {
     "name": "stdout",
     "output_type": "stream",
     "text": [
      "Optimization restart 1/10, f = 70.21631050807343\n",
      "Optimization restart 2/10, f = 70.21631050825872\n",
      "Optimization restart 3/10, f = 70.21631050901573\n",
      "Optimization restart 4/10, f = 70.21631050780476\n",
      "Optimization restart 5/10, f = 70.2163105108033\n",
      "Optimization restart 6/10, f = 70.21631051148701\n",
      "Optimization restart 7/10, f = 70.2163105133912\n",
      "Optimization restart 8/10, f = 70.21631050824196\n",
      "Optimization restart 9/10, f = 70.2163105204331\n",
      "Optimization restart 10/10, f = 70.21631051062374\n"
     ]
    },
    {
     "data": {
      "text/plain": [
       "[<paramz.optimization.optimization.opt_lbfgsb at 0x1281e946110>,\n",
       " <paramz.optimization.optimization.opt_lbfgsb at 0x1281e99caf0>,\n",
       " <paramz.optimization.optimization.opt_lbfgsb at 0x1281e91f580>,\n",
       " <paramz.optimization.optimization.opt_lbfgsb at 0x1281e6c69b0>,\n",
       " <paramz.optimization.optimization.opt_lbfgsb at 0x12818adacb0>,\n",
       " <paramz.optimization.optimization.opt_lbfgsb at 0x12819c53820>,\n",
       " <paramz.optimization.optimization.opt_lbfgsb at 0x1281e6a9ed0>,\n",
       " <paramz.optimization.optimization.opt_lbfgsb at 0x1281e99ffa0>,\n",
       " <paramz.optimization.optimization.opt_lbfgsb at 0x1281e944b20>,\n",
       " <paramz.optimization.optimization.opt_lbfgsb at 0x1281e6c6a10>,\n",
       " <paramz.optimization.optimization.opt_lbfgsb at 0x1281e91cf70>]"
      ]
     },
     "execution_count": 20,
     "metadata": {},
     "output_type": "execute_result"
    }
   ],
   "source": [
    "model.optimize_restarts(num_restarts = 10)"
   ]
  },
  {
   "cell_type": "code",
   "execution_count": 21,
   "id": "f9d44d3e",
   "metadata": {},
   "outputs": [
    {
     "ename": "AttributeError",
     "evalue": "'dict' object has no attribute 'figure'",
     "output_type": "error",
     "traceback": [
      "\u001b[1;31m---------------------------------------------------------------------------\u001b[0m",
      "\u001b[1;31mAttributeError\u001b[0m                            Traceback (most recent call last)",
      "Input \u001b[1;32mIn [21]\u001b[0m, in \u001b[0;36m<cell line: 2>\u001b[1;34m()\u001b[0m\n\u001b[0;32m      1\u001b[0m fig \u001b[38;5;241m=\u001b[39m model\u001b[38;5;241m.\u001b[39mplot()\n\u001b[1;32m----> 2\u001b[0m \u001b[43mGPy\u001b[49m\u001b[38;5;241;43m.\u001b[39;49m\u001b[43mplotting\u001b[49m\u001b[38;5;241;43m.\u001b[39;49m\u001b[43mshow\u001b[49m\u001b[43m(\u001b[49m\u001b[43mfig\u001b[49m\u001b[43m,\u001b[49m\u001b[43m \u001b[49m\u001b[43mfilename\u001b[49m\u001b[38;5;241;43m=\u001b[39;49m\u001b[38;5;124;43m'\u001b[39;49m\u001b[38;5;124;43mbasic_gp_regression_notebook_optimized\u001b[39;49m\u001b[38;5;124;43m'\u001b[39;49m\u001b[43m)\u001b[49m\n",
      "File \u001b[1;32m~\\AppData\\Local\\Programs\\Python\\Python310\\lib\\site-packages\\GPy\\plotting\\__init__.py:150\u001b[0m, in \u001b[0;36mshow\u001b[1;34m(figure, **kwargs)\u001b[0m\n\u001b[0;32m    142\u001b[0m \u001b[38;5;28;01mdef\u001b[39;00m \u001b[38;5;21mshow\u001b[39m(figure, \u001b[38;5;241m*\u001b[39m\u001b[38;5;241m*\u001b[39mkwargs):\n\u001b[0;32m    143\u001b[0m     \u001b[38;5;124;03m\"\"\"\u001b[39;00m\n\u001b[0;32m    144\u001b[0m \u001b[38;5;124;03m    Show the specific plotting library figure, returned by\u001b[39;00m\n\u001b[0;32m    145\u001b[0m \u001b[38;5;124;03m    add_to_canvas().\u001b[39;00m\n\u001b[1;32m   (...)\u001b[0m\n\u001b[0;32m    148\u001b[0m \u001b[38;5;124;03m    for showing/drawing a figure.\u001b[39;00m\n\u001b[0;32m    149\u001b[0m \u001b[38;5;124;03m    \"\"\"\u001b[39;00m\n\u001b[1;32m--> 150\u001b[0m     \u001b[38;5;28;01mreturn\u001b[39;00m plotting_library()\u001b[38;5;241m.\u001b[39mshow_canvas(figure, \u001b[38;5;241m*\u001b[39m\u001b[38;5;241m*\u001b[39mkwargs)\n",
      "File \u001b[1;32m~\\AppData\\Local\\Programs\\Python\\Python310\\lib\\site-packages\\GPy\\plotting\\matplot_dep\\plot_definitions.py:96\u001b[0m, in \u001b[0;36mMatplotlibPlots.show_canvas\u001b[1;34m(self, ax, **kwargs)\u001b[0m\n\u001b[0;32m     95\u001b[0m \u001b[38;5;28;01mdef\u001b[39;00m \u001b[38;5;21mshow_canvas\u001b[39m(\u001b[38;5;28mself\u001b[39m, ax, \u001b[38;5;241m*\u001b[39m\u001b[38;5;241m*\u001b[39mkwargs):\n\u001b[1;32m---> 96\u001b[0m     \u001b[43max\u001b[49m\u001b[38;5;241;43m.\u001b[39;49m\u001b[43mfigure\u001b[49m\u001b[38;5;241m.\u001b[39mcanvas\u001b[38;5;241m.\u001b[39mdraw()\n\u001b[0;32m     97\u001b[0m     \u001b[38;5;28;01mreturn\u001b[39;00m ax\u001b[38;5;241m.\u001b[39mfigure\n",
      "\u001b[1;31mAttributeError\u001b[0m: 'dict' object has no attribute 'figure'"
     ]
    },
    {
     "data": {
      "image/png": "[encoded data removed]",
      "text/plain": [
       "<Figure size 432x288 with 1 Axes>"
      ]
     },
     "metadata": {
      "needs_background": "light"
     },
     "output_type": "display_data"
    }
   ],
   "source": [
    "fig = model.plot()\n",
    "GPy.plotting.show(fig, filename='basic_gp_regression_notebook_optimized')"
   ]
  },
  {
   "cell_type": "code",
   "execution_count": null,
   "id": "00c0dc9f",
   "metadata": {},
   "outputs": [],
   "source": []
  }
 ],
 "metadata": {
  "kernelspec": {
   "display_name": "Python 3 (ipykernel)",
   "language": "python",
   "name": "python3"
  },
  "language_info": {
   "codemirror_mode": {
    "name": "ipython",
    "version": 3
   },
   "file_extension": ".py",
   "mimetype": "text/x-python",
   "name": "python",
   "nbconvert_exporter": "python",
   "pygments_lexer": "ipython3",
   "version": "3.10.4"
  }
 },
 "nbformat": 4,
 "nbformat_minor": 5
}
