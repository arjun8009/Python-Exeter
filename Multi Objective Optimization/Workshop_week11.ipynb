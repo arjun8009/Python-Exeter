{
 "cells": [
  {
   "cell_type": "code",
   "execution_count": 35,
   "metadata": {},
   "outputs": [],
   "source": [
    "from pymoo.operators.sampling.lhs import LHS\n",
    "from pymoo.core.problem import Problem\n",
    "import numpy as np\n",
    "import pandas as pd\n",
    "import matplotlib.pyplot as plt\n",
    "from pymoo.util.ref_dirs import get_reference_directions\n",
    "from sklearn.gaussian_process import GaussianProcessRegressor\n",
    "from sklearn.gaussian_process.kernels import RBF, ConstantKernel as C , WhiteKernel\n"
   ]
  },
  {
   "cell_type": "code",
   "execution_count": 9,
   "metadata": {},
   "outputs": [],
   "source": [
    "class CustomProblem(Problem):\n",
    "    def __init__(self):\n",
    "        super().__init__(n_var=2, n_obj=2,xl=-10,xu=10)\n",
    "\n",
    "    def _evaluate(self, x, out, *args, **kwargs):\n",
    "        objective_values = []\n",
    "        if(len(x)==1):\n",
    "            objective_1 = x[0]**3 + x[1]**2\n",
    "            objective_2 = x[1]**2 + 4*x[0]\n",
    "            objective_values = [objective_1,objective_2]\n",
    "        else:\n",
    "            for  i in range(len(x)):\n",
    "                value = x[i]\n",
    "                objective_1 = value[0]**3 + value[1]**2\n",
    "                objective_2 = value[1]**2 + 4*value[0]\n",
    "                objective_values.append([objective_1,objective_2])\n",
    "        out[\"F\"] = objective_values"
   ]
  },
  {
   "cell_type": "code",
   "execution_count": 11,
   "metadata": {},
   "outputs": [],
   "source": [
    "sampling_function = LHS()\n",
    "problem = CustomProblem()\n",
    "samples = sampling_function(problem,20).get('X')"
   ]
  },
  {
   "cell_type": "code",
   "execution_count": 16,
   "metadata": {},
   "outputs": [
    {
     "data": {
      "text/html": [
       "<div>\n",
       "<style scoped>\n",
       "    .dataframe tbody tr th:only-of-type {\n",
       "        vertical-align: middle;\n",
       "    }\n",
       "\n",
       "    .dataframe tbody tr th {\n",
       "        vertical-align: top;\n",
       "    }\n",
       "\n",
       "    .dataframe thead th {\n",
       "        text-align: right;\n",
       "    }\n",
       "</style>\n",
       "<table border=\"1\" class=\"dataframe\">\n",
       "  <thead>\n",
       "    <tr style=\"text-align: right;\">\n",
       "      <th></th>\n",
       "      <th>x1</th>\n",
       "      <th>x2</th>\n",
       "      <th>Objective_1</th>\n",
       "      <th>Objective_2</th>\n",
       "    </tr>\n",
       "  </thead>\n",
       "  <tbody>\n",
       "    <tr>\n",
       "      <th>0</th>\n",
       "      <td>2.947755</td>\n",
       "      <td>-3.129029</td>\n",
       "      <td>35.404640</td>\n",
       "      <td>21.581843</td>\n",
       "    </tr>\n",
       "    <tr>\n",
       "      <th>1</th>\n",
       "      <td>-4.274019</td>\n",
       "      <td>8.326991</td>\n",
       "      <td>-8.735765</td>\n",
       "      <td>52.242705</td>\n",
       "    </tr>\n",
       "    <tr>\n",
       "      <th>2</th>\n",
       "      <td>-5.027075</td>\n",
       "      <td>-1.737284</td>\n",
       "      <td>-124.023465</td>\n",
       "      <td>-17.090144</td>\n",
       "    </tr>\n",
       "    <tr>\n",
       "      <th>3</th>\n",
       "      <td>-6.751610</td>\n",
       "      <td>9.964879</td>\n",
       "      <td>-208.468120</td>\n",
       "      <td>72.292377</td>\n",
       "    </tr>\n",
       "    <tr>\n",
       "      <th>4</th>\n",
       "      <td>8.437050</td>\n",
       "      <td>-6.985087</td>\n",
       "      <td>649.372822</td>\n",
       "      <td>82.539638</td>\n",
       "    </tr>\n",
       "  </tbody>\n",
       "</table>\n",
       "</div>"
      ],
      "text/plain": [
       "         x1        x2  Objective_1  Objective_2\n",
       "0  2.947755 -3.129029    35.404640    21.581843\n",
       "1 -4.274019  8.326991    -8.735765    52.242705\n",
       "2 -5.027075 -1.737284  -124.023465   -17.090144\n",
       "3 -6.751610  9.964879  -208.468120    72.292377\n",
       "4  8.437050 -6.985087   649.372822    82.539638"
      ]
     },
     "execution_count": 16,
     "metadata": {},
     "output_type": "execute_result"
    }
   ],
   "source": [
    "dataset = pd.DataFrame(data=samples,columns=['x1','x2'])\n",
    "out = {}\n",
    "objectives = []\n",
    "problem._evaluate(samples,out)\n",
    "objectives = out['F']\n",
    "objective_1 = [i[0] for i in objectives]\n",
    "objective_2 = [i[1] for i in objectives]\n",
    "dataset['Objective_1'] = objective_1\n",
    "dataset['Objective_2'] = objective_2\n",
    "dataset.head()"
   ]
  },
  {
   "cell_type": "code",
   "execution_count": 19,
   "metadata": {},
   "outputs": [
    {
     "data": {
      "text/plain": [
       "Text(0, 0.5, 'x2')"
      ]
     },
     "execution_count": 19,
     "metadata": {},
     "output_type": "execute_result"
    },
    {
     "data": {
      "image/png": "[encoded data removed]",
      "text/plain": [
       "<Figure size 640x480 with 1 Axes>"
      ]
     },
     "metadata": {},
     "output_type": "display_data"
    }
   ],
   "source": [
    "plt.scatter(dataset['x1'],dataset['x2'])\n",
    "plt.xlabel('x1')\n",
    "plt.ylabel('x2')"
   ]
  },
  {
   "cell_type": "code",
   "execution_count": 32,
   "metadata": {},
   "outputs": [],
   "source": [
    "def evaluate_chebyshev(objective_vector,refference_vector):\n",
    "    ideal_vector = [-1000,-40]\n",
    "    chebyshev_eval = []\n",
    "    for i in range(len(objective_vector)):\n",
    "        chebyshev_eval.append(refference_vector[i]*(objective_vector[i]-ideal_vector[i]))\n",
    "    return max(chebyshev_eval)\n",
    "\n",
    "def scalarizing_function(objective_vector,refference_vector):\n",
    "    z_ideal = [-1000,-40]\n",
    "    z_nadir = [1000,40]\n",
    "\n",
    "    objective_vector_normalized = [(objective_vector[0]-z_ideal[0])/(z_nadir[0]-z_ideal[0]),\n",
    "                                   (objective_vector[1]-z_ideal[1])/(z_nadir[1]-z_ideal[1])]\n",
    "    \n",
    "        #print('Objective Vector is {0} and scalar value is {1} '.format(objective_vector_normalized,\n",
    "                                                                    #evaluate_chebyshev(objective_vector_normalized,[0.5, 0.5])))\n",
    "    return evaluate_chebyshev(objective_vector_normalized,refference_vector)"
   ]
  },
  {
   "cell_type": "code",
   "execution_count": 25,
   "metadata": {},
   "outputs": [],
   "source": [
    "objective_values = dataset[['Objective_1','Objective_2']].to_numpy()"
   ]
  },
  {
   "cell_type": "code",
   "execution_count": 29,
   "metadata": {},
   "outputs": [],
   "source": [
    "weight_vectors = get_reference_directions('energy',2,100)"
   ]
  },
  {
   "cell_type": "code",
   "execution_count": 33,
   "metadata": {},
   "outputs": [],
   "source": [
    "scalarized_values = []\n",
    "for i in range(len(objective_values)):\n",
    "    scalarized_values.append(scalarizing_function(objective_values[i],weight_vectors[0]))\n",
    "\n",
    "dataset['G'] = scalarized_values"
   ]
  },
  {
   "cell_type": "code",
   "execution_count": 34,
   "metadata": {},
   "outputs": [
    {
     "data": {
      "text/html": [
       "<div>\n",
       "<style scoped>\n",
       "    .dataframe tbody tr th:only-of-type {\n",
       "        vertical-align: middle;\n",
       "    }\n",
       "\n",
       "    .dataframe tbody tr th {\n",
       "        vertical-align: top;\n",
       "    }\n",
       "\n",
       "    .dataframe thead th {\n",
       "        text-align: right;\n",
       "    }\n",
       "</style>\n",
       "<table border=\"1\" class=\"dataframe\">\n",
       "  <thead>\n",
       "    <tr style=\"text-align: right;\">\n",
       "      <th></th>\n",
       "      <th>x1</th>\n",
       "      <th>x2</th>\n",
       "      <th>Objective_1</th>\n",
       "      <th>Objective_2</th>\n",
       "      <th>G</th>\n",
       "    </tr>\n",
       "  </thead>\n",
       "  <tbody>\n",
       "    <tr>\n",
       "      <th>0</th>\n",
       "      <td>2.947755</td>\n",
       "      <td>-3.129029</td>\n",
       "      <td>35.404640</td>\n",
       "      <td>21.581843</td>\n",
       "      <td>40.769773</td>\n",
       "    </tr>\n",
       "    <tr>\n",
       "      <th>1</th>\n",
       "      <td>-4.274019</td>\n",
       "      <td>8.326991</td>\n",
       "      <td>-8.735765</td>\n",
       "      <td>52.242705</td>\n",
       "      <td>41.153034</td>\n",
       "    </tr>\n",
       "    <tr>\n",
       "      <th>2</th>\n",
       "      <td>-5.027075</td>\n",
       "      <td>-1.737284</td>\n",
       "      <td>-124.023465</td>\n",
       "      <td>-17.090144</td>\n",
       "      <td>40.286373</td>\n",
       "    </tr>\n",
       "    <tr>\n",
       "      <th>3</th>\n",
       "      <td>-6.751610</td>\n",
       "      <td>9.964879</td>\n",
       "      <td>-208.468120</td>\n",
       "      <td>72.292377</td>\n",
       "      <td>41.403655</td>\n",
       "    </tr>\n",
       "    <tr>\n",
       "      <th>4</th>\n",
       "      <td>8.437050</td>\n",
       "      <td>-6.985087</td>\n",
       "      <td>649.372822</td>\n",
       "      <td>82.539638</td>\n",
       "      <td>41.531745</td>\n",
       "    </tr>\n",
       "  </tbody>\n",
       "</table>\n",
       "</div>"
      ],
      "text/plain": [
       "         x1        x2  Objective_1  Objective_2          G\n",
       "0  2.947755 -3.129029    35.404640    21.581843  40.769773\n",
       "1 -4.274019  8.326991    -8.735765    52.242705  41.153034\n",
       "2 -5.027075 -1.737284  -124.023465   -17.090144  40.286373\n",
       "3 -6.751610  9.964879  -208.468120    72.292377  41.403655\n",
       "4  8.437050 -6.985087   649.372822    82.539638  41.531745"
      ]
     },
     "execution_count": 34,
     "metadata": {},
     "output_type": "execute_result"
    }
   ],
   "source": [
    "dataset.head()"
   ]
  },
  {
   "cell_type": "code",
   "execution_count": 36,
   "metadata": {},
   "outputs": [],
   "source": [
    "columns = ['x1','x2']"
   ]
  },
  {
   "cell_type": "code",
   "execution_count": 37,
   "metadata": {},
   "outputs": [],
   "source": [
    "X = dataset[columns].to_numpy()\n",
    "Y = dataset['G'].to_numpy().reshape(-1,1)"
   ]
  },
  {
   "cell_type": "code",
   "execution_count": 38,
   "metadata": {},
   "outputs": [
    {
     "name": "stderr",
     "output_type": "stream",
     "text": [
      "c:\\Users\\hp\\AppData\\Local\\Programs\\Python\\Python311\\Lib\\site-packages\\sklearn\\gaussian_process\\_gpr.py:616: ConvergenceWarning: lbfgs failed to converge (status=2):\n",
      "ABNORMAL_TERMINATION_IN_LNSRCH.\n",
      "\n",
      "Increase the number of iterations (max_iter) or scale the data as shown in:\n",
      "    https://scikit-learn.org/stable/modules/preprocessing.html\n",
      "  _check_optimize_result(\"lbfgs\", opt_res)\n",
      "c:\\Users\\hp\\AppData\\Local\\Programs\\Python\\Python311\\Lib\\site-packages\\sklearn\\gaussian_process\\kernels.py:430: ConvergenceWarning: The optimal value found for dimension 0 of parameter k1__k1__constant_value is close to the specified upper bound 100000.0. Increasing the bound and calling fit again may find a better value.\n",
      "  warnings.warn(\n",
      "c:\\Users\\hp\\AppData\\Local\\Programs\\Python\\Python311\\Lib\\site-packages\\sklearn\\gaussian_process\\kernels.py:420: ConvergenceWarning: The optimal value found for dimension 0 of parameter k2__noise_level is close to the specified lower bound 1e-05. Decreasing the bound and calling fit again may find a better value.\n",
      "  warnings.warn(\n"
     ]
    }
   ],
   "source": [
    "kernel_2 = C(4.0) * RBF(length_scale=0.1) + WhiteKernel()\n",
    "model_2 = GaussianProcessRegressor(kernel=kernel_2,n_restarts_optimizer=90,normalize_y=True,random_state=11).fit(X,Y)\n"
   ]
  },
  {
   "cell_type": "code",
   "execution_count": null,
   "metadata": {},
   "outputs": [],
   "source": []
  }
 ],
 "metadata": {
  "kernelspec": {
   "display_name": "Python 3",
   "language": "python",
   "name": "python3"
  },
  "language_info": {
   "codemirror_mode": {
    "name": "ipython",
    "version": 3
   },
   "file_extension": ".py",
   "mimetype": "text/x-python",
   "name": "python",
   "nbconvert_exporter": "python",
   "pygments_lexer": "ipython3",
   "version": "3.11.0"
  },
  "orig_nbformat": 4,
  "vscode": {
   "interpreter": {
    "hash": "b98f472bb8ba48098397e3b897b5be76f7bf0e62d98845cdb0e8066dc5677259"
   }
  }
 },
 "nbformat": 4,
 "nbformat_minor": 2
}
