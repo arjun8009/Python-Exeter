{
 "cells": [
  {
   "cell_type": "code",
   "execution_count": 13,
   "metadata": {},
   "outputs": [],
   "source": [
    "from pymoo.operators.sampling.lhs import LHS\n",
    "from pymoo.core.problem import Problem\n",
    "import numpy as np\n",
    "import pandas as pd"
   ]
  },
  {
   "cell_type": "code",
   "execution_count": 9,
   "metadata": {},
   "outputs": [],
   "source": [
    "class CustomProblem(Problem):\n",
    "    def __init__(self):\n",
    "        super().__init__(n_var=2, n_obj=2,xl=-10,xu=10)\n",
    "\n",
    "    def _evaluate(self, x, out, *args, **kwargs):\n",
    "        objective_values = []\n",
    "        if(len(x)==1):\n",
    "            objective_1 = x[0]**3 + x[1]**2\n",
    "            objective_2 = x[1]**2 + 4*x[0]\n",
    "            objective_values = [objective_1,objective_2]\n",
    "        else:\n",
    "            for  i in range(len(x)):\n",
    "                value = x[i]\n",
    "                objective_1 = value[0]**3 + value[1]**2\n",
    "                objective_2 = value[1]**2 + 4*value[0]\n",
    "                objective_values.append([objective_1,objective_2])\n",
    "        out[\"F\"] = objective_values"
   ]
  },
  {
   "cell_type": "code",
   "execution_count": 11,
   "metadata": {},
   "outputs": [],
   "source": [
    "sampling_function = LHS()\n",
    "problem = CustomProblem()\n",
    "samples = sampling_function(problem,20).get('X')"
   ]
  },
  {
   "cell_type": "code",
   "execution_count": 16,
   "metadata": {},
   "outputs": [
    {
     "data": {
      "text/html": [
       "<div>\n",
       "<style scoped>\n",
       "    .dataframe tbody tr th:only-of-type {\n",
       "        vertical-align: middle;\n",
       "    }\n",
       "\n",
       "    .dataframe tbody tr th {\n",
       "        vertical-align: top;\n",
       "    }\n",
       "\n",
       "    .dataframe thead th {\n",
       "        text-align: right;\n",
       "    }\n",
       "</style>\n",
       "<table border=\"1\" class=\"dataframe\">\n",
       "  <thead>\n",
       "    <tr style=\"text-align: right;\">\n",
       "      <th></th>\n",
       "      <th>x1</th>\n",
       "      <th>x2</th>\n",
       "      <th>Objective_1</th>\n",
       "      <th>Objective_2</th>\n",
       "    </tr>\n",
       "  </thead>\n",
       "  <tbody>\n",
       "    <tr>\n",
       "      <th>0</th>\n",
       "      <td>2.947755</td>\n",
       "      <td>-3.129029</td>\n",
       "      <td>35.404640</td>\n",
       "      <td>21.581843</td>\n",
       "    </tr>\n",
       "    <tr>\n",
       "      <th>1</th>\n",
       "      <td>-4.274019</td>\n",
       "      <td>8.326991</td>\n",
       "      <td>-8.735765</td>\n",
       "      <td>52.242705</td>\n",
       "    </tr>\n",
       "    <tr>\n",
       "      <th>2</th>\n",
       "      <td>-5.027075</td>\n",
       "      <td>-1.737284</td>\n",
       "      <td>-124.023465</td>\n",
       "      <td>-17.090144</td>\n",
       "    </tr>\n",
       "    <tr>\n",
       "      <th>3</th>\n",
       "      <td>-6.751610</td>\n",
       "      <td>9.964879</td>\n",
       "      <td>-208.468120</td>\n",
       "      <td>72.292377</td>\n",
       "    </tr>\n",
       "    <tr>\n",
       "      <th>4</th>\n",
       "      <td>8.437050</td>\n",
       "      <td>-6.985087</td>\n",
       "      <td>649.372822</td>\n",
       "      <td>82.539638</td>\n",
       "    </tr>\n",
       "  </tbody>\n",
       "</table>\n",
       "</div>"
      ],
      "text/plain": [
       "         x1        x2  Objective_1  Objective_2\n",
       "0  2.947755 -3.129029    35.404640    21.581843\n",
       "1 -4.274019  8.326991    -8.735765    52.242705\n",
       "2 -5.027075 -1.737284  -124.023465   -17.090144\n",
       "3 -6.751610  9.964879  -208.468120    72.292377\n",
       "4  8.437050 -6.985087   649.372822    82.539638"
      ]
     },
     "execution_count": 16,
     "metadata": {},
     "output_type": "execute_result"
    }
   ],
   "source": [
    "dataset = pd.DataFrame(data=samples,columns=['x1','x2'])\n",
    "out = {}\n",
    "objectives = []\n",
    "problem._evaluate(samples,out)\n",
    "objectives = out['F']\n",
    "objective_1 = [i[0] for i in objectives]\n",
    "objective_2 = [i[1] for i in objectives]\n",
    "dataset['Objective_1'] = objective_1\n",
    "dataset['Objective_2'] = objective_2\n",
    "dataset.head()"
   ]
  },
  {
   "cell_type": "code",
   "execution_count": null,
   "metadata": {},
   "outputs": [],
   "source": []
  }
 ],
 "metadata": {
  "kernelspec": {
   "display_name": "Python 3",
   "language": "python",
   "name": "python3"
  },
  "language_info": {
   "codemirror_mode": {
    "name": "ipython",
    "version": 3
   },
   "file_extension": ".py",
   "mimetype": "text/x-python",
   "name": "python",
   "nbconvert_exporter": "python",
   "pygments_lexer": "ipython3",
   "version": "3.11.0"
  },
  "orig_nbformat": 4,
  "vscode": {
   "interpreter": {
    "hash": "b98f472bb8ba48098397e3b897b5be76f7bf0e62d98845cdb0e8066dc5677259"
   }
  }
 },
 "nbformat": 4,
 "nbformat_minor": 2
}
