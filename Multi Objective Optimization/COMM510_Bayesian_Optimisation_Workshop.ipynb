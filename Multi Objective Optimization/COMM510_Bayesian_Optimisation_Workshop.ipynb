{
 "cells": [
  {
   "cell_type": "code",
   "execution_count": 1,
   "id": "3537e4d4",
   "metadata": {},
   "outputs": [],
   "source": [
    "import numpy as np\n",
    "import matplotlib.pyplot as plt\n",
    "from sklearn.gaussian_process import GaussianProcessRegressor\n",
    "from sklearn.gaussian_process.kernels import RBF\n",
    "import scipy\n",
    "from scipy.optimize import differential_evolution\n",
    "import warnings\n",
    "warnings.filterwarnings(\"ignore\")"
   ]
  },
  {
   "cell_type": "code",
   "execution_count": 2,
   "id": "6f0669cf",
   "metadata": {},
   "outputs": [],
   "source": [
    "def target(x):\n",
    "    \"\"\"\n",
    "    Function to optimise\n",
    "    \"\"\"\n",
    "    f = np.sin( 3 * np.pi * x**3) - 0.5 * np.sin(8 * np.pi * x**3)\n",
    "    f /= 2\n",
    "    return f"
   ]
  },
  {
   "cell_type": "code",
   "execution_count": 3,
   "id": "f886c4d2",
   "metadata": {},
   "outputs": [],
   "source": [
    "def phi(x):\n",
    "    return scipy.stats.norm.pdf(x)\n",
    "\n",
    "def Phi(x):\n",
    "    return scipy.stats.norm.cdf(x)\n",
    "\n",
    "def EI(mu, sigma, f_best):\n",
    "    s = (f_best - mu)/sigma\n",
    "    return (sigma*s * Phi(s) + sigma*phi(s))\n",
    "    \n",
    "def PI(mu, sigma,f_best):\n",
    "    s = (f_best - mu)/sigma\n",
    "    return (Phi(s))\n",
    "\n",
    "def LCB(mu, sigma,beta):\n",
    "    return (mu - beta*sigma)"
   ]
  },
  {
   "cell_type": "code",
   "execution_count": null,
   "id": "3e140b29",
   "metadata": {},
   "outputs": [],
   "source": []
  }
 ],
 "metadata": {
  "kernelspec": {
   "display_name": "Python 3 (ipykernel)",
   "language": "python",
   "name": "python3"
  },
  "language_info": {
   "codemirror_mode": {
    "name": "ipython",
    "version": 3
   },
   "file_extension": ".py",
   "mimetype": "text/x-python",
   "name": "python",
   "nbconvert_exporter": "python",
   "pygments_lexer": "ipython3",
   "version": "3.8.3"
  }
 },
 "nbformat": 4,
 "nbformat_minor": 5
}
