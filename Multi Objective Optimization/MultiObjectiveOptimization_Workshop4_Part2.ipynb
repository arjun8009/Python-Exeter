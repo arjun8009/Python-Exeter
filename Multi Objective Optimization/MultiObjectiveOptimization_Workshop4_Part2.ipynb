{
 "cells": [
  {
   "cell_type": "markdown",
   "id": "cde909ce",
   "metadata": {},
   "source": [
    "for a box-constrained problem, to help you start this task. This algorithm will be for continuous box-constrained optimisation, when the uncertainty set is infinite, and U defines a box centred around a design x, whose sides are corners are (±ϵ, . . . , ±ϵ). The robust performance of a design is then estimated\n",
    "based on k Monte Carlo samples from U, creating U˜."
   ]
  },
  {
   "cell_type": "code",
   "execution_count": 1,
   "id": "9a67c282",
   "metadata": {},
   "outputs": [
    {
     "data": {
      "text/plain": [
       "[<matplotlib.lines.Line2D at 0x1c522dde8c0>]"
      ]
     },
     "execution_count": 1,
     "metadata": {},
     "output_type": "execute_result"
    },
    {
     "data": {
      "image/png": "[encoded data removed]",
      "text/plain": [
       "<Figure size 432x288 with 1 Axes>"
      ]
     },
     "metadata": {
      "needs_background": "light"
     },
     "output_type": "display_data"
    }
   ],
   "source": [
    "# Creating a box constrained decision space (100,100) ,(200,100) , (100,200) , (200,200)\n",
    "import matplotlib.pyplot as plt\n",
    "plt.plot([100,200],[100,100])\n",
    "plt.plot([100,100],[100,200])\n",
    "plt.plot([100,200],[200,200])\n",
    "plt.plot([200,200],[200,100])"
   ]
  },
  {
   "cell_type": "code",
   "execution_count": 2,
   "id": "09237a02",
   "metadata": {},
   "outputs": [],
   "source": [
    "# creating a box centered around design x of size 2 \n",
    "import numpy as np\n",
    "x = np.random.randint(100,200,1)\n",
    "y = np.random.randint(100,200,1)\n",
    "decision_vector = [x,y]\n",
    "x_1 = np.random.randint(100,200,1)\n",
    "y_1 = np.random.randint(100,200,1)\n",
    "decision_vector_1 = [x_1,y_1]"
   ]
  },
  {
   "cell_type": "code",
   "execution_count": 4,
   "id": "78cf5697",
   "metadata": {},
   "outputs": [
    {
     "data": {
      "text/plain": [
       "[[array([-3]), array([8])],\n",
       " [array([8]), array([-8])],\n",
       " [array([8]), array([2])],\n",
       " [array([-6]), array([2])],\n",
       " [array([5]), array([6])],\n",
       " [array([9]), array([-2])],\n",
       " [array([-8]), array([4])],\n",
       " [array([2]), array([3])],\n",
       " [array([5]), array([-2])],\n",
       " [array([-1]), array([7])],\n",
       " [array([-7]), array([5])],\n",
       " [array([-5]), array([8])],\n",
       " [array([-5]), array([-7])],\n",
       " [array([-1]), array([7])],\n",
       " [array([6]), array([-5])],\n",
       " [array([8]), array([8])],\n",
       " [array([-10]), array([3])],\n",
       " [array([6]), array([-4])],\n",
       " [array([-8]), array([0])],\n",
       " [array([1]), array([1])],\n",
       " [array([1]), array([-7])],\n",
       " [array([3]), array([-8])],\n",
       " [array([-9]), array([0])],\n",
       " [array([7]), array([-3])],\n",
       " [array([7]), array([-3])],\n",
       " [array([-2]), array([8])],\n",
       " [array([2]), array([2])],\n",
       " [array([1]), array([-3])],\n",
       " [array([-7]), array([-7])],\n",
       " [array([1]), array([2])],\n",
       " [array([6]), array([7])],\n",
       " [array([9]), array([0])],\n",
       " [array([2]), array([7])],\n",
       " [array([-3]), array([-10])],\n",
       " [array([-5]), array([0])],\n",
       " [array([1]), array([3])],\n",
       " [array([5]), array([7])],\n",
       " [array([-10]), array([-10])],\n",
       " [array([3]), array([-9])],\n",
       " [array([0]), array([1])],\n",
       " [array([0]), array([-1])],\n",
       " [array([-4]), array([3])],\n",
       " [array([-4]), array([-1])],\n",
       " [array([-5]), array([5])],\n",
       " [array([-2]), array([-6])],\n",
       " [array([-8]), array([-4])],\n",
       " [array([2]), array([-6])],\n",
       " [array([0]), array([-3])],\n",
       " [array([9]), array([9])],\n",
       " [array([-2]), array([4])],\n",
       " [array([5]), array([-3])],\n",
       " [array([1]), array([7])],\n",
       " [array([6]), array([6])],\n",
       " [array([6]), array([0])],\n",
       " [array([1]), array([6])],\n",
       " [array([-9]), array([-10])],\n",
       " [array([1]), array([7])],\n",
       " [array([-8]), array([-9])],\n",
       " [array([-8]), array([-1])],\n",
       " [array([-8]), array([-4])],\n",
       " [array([8]), array([5])],\n",
       " [array([9]), array([1])],\n",
       " [array([-3]), array([-6])],\n",
       " [array([-5]), array([0])],\n",
       " [array([-5]), array([-5])],\n",
       " [array([-5]), array([3])],\n",
       " [array([-7]), array([-8])],\n",
       " [array([3]), array([-3])],\n",
       " [array([-10]), array([-3])],\n",
       " [array([-9]), array([-3])],\n",
       " [array([-1]), array([2])],\n",
       " [array([8]), array([-9])],\n",
       " [array([3]), array([-8])],\n",
       " [array([-10]), array([1])],\n",
       " [array([-6]), array([-1])],\n",
       " [array([-10]), array([9])],\n",
       " [array([-5]), array([4])],\n",
       " [array([-9]), array([-4])],\n",
       " [array([-1]), array([2])],\n",
       " [array([2]), array([8])],\n",
       " [array([0]), array([-6])],\n",
       " [array([3]), array([1])],\n",
       " [array([-3]), array([-4])],\n",
       " [array([3]), array([7])],\n",
       " [array([-7]), array([7])],\n",
       " [array([-10]), array([2])],\n",
       " [array([-6]), array([-6])],\n",
       " [array([-7]), array([-4])],\n",
       " [array([-5]), array([8])],\n",
       " [array([6]), array([5])],\n",
       " [array([-5]), array([-4])],\n",
       " [array([-5]), array([5])],\n",
       " [array([2]), array([2])],\n",
       " [array([-7]), array([1])],\n",
       " [array([-7]), array([-3])],\n",
       " [array([1]), array([-5])],\n",
       " [array([9]), array([9])],\n",
       " [array([7]), array([-6])],\n",
       " [array([-1]), array([3])],\n",
       " [array([-9]), array([3])]]"
      ]
     },
     "execution_count": 4,
     "metadata": {},
     "output_type": "execute_result"
    }
   ],
   "source": [
    "# creating a sample of U\n",
    "u=[]\n",
    "for i in range(0,100):\n",
    "    x = np.random.randint(-10,10,1)\n",
    "    y = np.random.randint(-10,10,1)\n",
    "    u.append([x,y])\n",
    "u"
   ]
  },
  {
   "cell_type": "code",
   "execution_count": 5,
   "id": "5bb476d5",
   "metadata": {},
   "outputs": [
    {
     "data": {
      "text/plain": [
       "[[array([-8]), array([0])],\n",
       " [array([-3]), array([-4])],\n",
       " [array([8]), array([-9])],\n",
       " [array([-1]), array([2])],\n",
       " [array([-5]), array([3])],\n",
       " [array([1]), array([7])]]"
      ]
     },
     "execution_count": 5,
     "metadata": {},
     "output_type": "execute_result"
    }
   ],
   "source": [
    "# sampling from u\n",
    "mean = np.mean(u)\n",
    "std = np.std(u)\n",
    "indexes = []\n",
    "for i in range(0,6):\n",
    "    indexes.append(np.random.randint(0,len(u)))\n",
    "U = [u[i] for i in indexes]\n",
    "U"
   ]
  },
  {
   "cell_type": "code",
   "execution_count": 24,
   "id": "b316a33f",
   "metadata": {},
   "outputs": [
    {
     "data": {
      "text/plain": [
       "[array([126]), array([188])]"
      ]
     },
     "execution_count": 24,
     "metadata": {},
     "output_type": "execute_result"
    }
   ],
   "source": [
    "decision_vector"
   ]
  },
  {
   "cell_type": "code",
   "execution_count": 25,
   "id": "712bcc13",
   "metadata": {},
   "outputs": [],
   "source": [
    "pertubations = []\n",
    "pertubations_2 = []\n",
    "for i in range(0,len(U)):\n",
    "    pertubations.append([decision_vector[0]-U[i][0],decision_vector[0]-U[i][1]])\n",
    "    pertubations_2.append([decision_vector_1[0]-U[i][0],decision_vector_1[0]-U[i][1]])"
   ]
  },
  {
   "cell_type": "code",
   "execution_count": 26,
   "id": "826a1599",
   "metadata": {},
   "outputs": [
    {
     "data": {
      "text/plain": [
       "[[array([122]), array([133])],\n",
       " [array([119]), array([126])],\n",
       " [array([129]), array([128])],\n",
       " [array([120]), array([129])],\n",
       " [array([130]), array([122])],\n",
       " [array([125]), array([124])]]"
      ]
     },
     "execution_count": 26,
     "metadata": {},
     "output_type": "execute_result"
    }
   ],
   "source": [
    "pertubations"
   ]
  },
  {
   "cell_type": "code",
   "execution_count": 27,
   "id": "d87d04e8",
   "metadata": {},
   "outputs": [
    {
     "data": {
      "text/plain": [
       "[[array([149]), array([160])],\n",
       " [array([146]), array([153])],\n",
       " [array([156]), array([155])],\n",
       " [array([147]), array([156])],\n",
       " [array([157]), array([149])],\n",
       " [array([152]), array([151])]]"
      ]
     },
     "execution_count": 27,
     "metadata": {},
     "output_type": "execute_result"
    }
   ],
   "source": [
    "pertubations_2"
   ]
  },
  {
   "cell_type": "code",
   "execution_count": 28,
   "id": "a3b85abb",
   "metadata": {},
   "outputs": [],
   "source": [
    "# Generating objective function\n",
    "objective_vectors = []\n",
    "objective_vectors_2 = []\n",
    "for i in range(0,len(pertubations)):\n",
    "    objective_vectors.append([pertubations[i][0]**2 + pertubations[i][1]**3,pertubations[i][1]**2 - 4*pertubations[i][1]] )\n",
    "    objective_vectors_2.append([pertubations_2[i][0]**2 + pertubations_2[i][1]**3,pertubations_2[i][1]**2 - 4*pertubations_2[i][1]] )"
   ]
  },
  {
   "cell_type": "code",
   "execution_count": 29,
   "id": "76fd9e17",
   "metadata": {},
   "outputs": [
    {
     "data": {
      "text/plain": [
       "[[array([2367521]), array([17157])],\n",
       " [array([2014537]), array([15372])],\n",
       " [array([2113793]), array([15872])],\n",
       " [array([2161089]), array([16125])],\n",
       " [array([1832748]), array([14396])],\n",
       " [array([1922249]), array([14880])]]"
      ]
     },
     "execution_count": 29,
     "metadata": {},
     "output_type": "execute_result"
    }
   ],
   "source": [
    "objective_vectors"
   ]
  },
  {
   "cell_type": "code",
   "execution_count": 21,
   "id": "b72f4207",
   "metadata": {},
   "outputs": [],
   "source": [
    "def dominates_Flag(A,B):\n",
    "    flag = False\n",
    "    count = 0 \n",
    "    for i in range(0,len(A)):\n",
    "        if(A[i]<B[i]):\n",
    "            flag = True\n",
    "            count = count +1\n",
    "        elif(A[i]==B[i]):\n",
    "            flag = True\n",
    "        else:\n",
    "            flag = False\n",
    "            break\n",
    "    if(flag == True and count >= 1):\n",
    "        return True\n",
    "    else:\n",
    "        return False\n"
   ]
  },
  {
   "cell_type": "code",
   "execution_count": 22,
   "id": "687b183b",
   "metadata": {},
   "outputs": [],
   "source": [
    "def flimsily_robust(objective_vectors,objective_vectors_2):\n",
    "    count = 0\n",
    "    for i in range(0,len(objective_vectors)):\n",
    "        if(dominates_Flag(objective_vectors[i],objective_vectors_2[i])):\n",
    "            count = count + 1\n",
    "    if(count>1):\n",
    "        return True\n",
    "    else:\n",
    "        return False"
   ]
  },
  {
   "cell_type": "code",
   "execution_count": 33,
   "id": "ff5b7c3f",
   "metadata": {},
   "outputs": [
    {
     "data": {
      "text/plain": [
       "True"
      ]
     },
     "execution_count": 33,
     "metadata": {},
     "output_type": "execute_result"
    }
   ],
   "source": [
    "flimsily_robust(objective_vectors,objective_vectors_2)"
   ]
  },
  {
   "cell_type": "code",
   "execution_count": 2,
   "id": "4768c84d",
   "metadata": {},
   "outputs": [],
   "source": [
    "def highly_robust(objective_vectors,objective_vectors_2):\n",
    "    count = 0\n",
    "    for i in range(0,len(objective_vectors)):\n",
    "        if(dominates_Flag(objective_vectors[i],objective_vectors_2[i])):\n",
    "            count = count + 1\n",
    "    if(count==len(objective_vectos)):\n",
    "        return True\n",
    "    else:\n",
    "        return False"
   ]
  },
  {
   "cell_type": "code",
   "execution_count": 3,
   "id": "e7f59114",
   "metadata": {},
   "outputs": [],
   "source": [
    "def point_based_minmax_robust(objective_vectors,objective_vectors_2):\n",
    "    objective_vectors_x = []\n",
    "    objective_vectors_y = []\n",
    "    objective_vectors_2_x = []\n",
    "    objective_vectors_2_y = []\n",
    "    for i in objective_vectors:\n",
    "        objective_vectors_x.append(i[0])\n",
    "        objective_vectors_y.append(i[1])\n",
    "    for j in objective_vectors_2:\n",
    "        objective_vectors_2_x.append(j[0])\n",
    "        objective_vectors_2_y.append(j[1])\n",
    "    max_vec1 = [max(objective_vectors_x),max(objective_vectors_y)]\n",
    "    max_vec2 = [max(objective_vectors_2_x),max(objective_vectors_2_y)]\n",
    "    if(dominates_Flag(max_vec1,max_vec2)==True):\n",
    "        return True\n",
    "    else:\n",
    "        return False"
   ]
  },
  {
   "cell_type": "code",
   "execution_count": 4,
   "id": "abf13ce8",
   "metadata": {},
   "outputs": [],
   "source": [
    "import statistics\n",
    "def expected_performace_robust(objective_vectors,objective_vectors_2):\n",
    "    objective_vectors_x = []\n",
    "    objective_vectors_y = []\n",
    "    objective_vectors_2_x = []\n",
    "    objective_vectors_2_y = []\n",
    "    for i in objective_vectors:\n",
    "        objective_vectors_x.append(i[0])\n",
    "        objective_vectors_y.append(i[1])\n",
    "    for j in objective_vectors_2:\n",
    "        objective_vectors_2_x.append(j[0])\n",
    "        objective_vectors_2_y.append(j[1])\n",
    "    mean_vec1 = [statistics.mean(objective_vectors_x),statistics.mean(objective_vectors_y)]\n",
    "    mean_vec2 = [statistics.mean(objective_vectors_2_x),statistics.mean(objective_vectors_2_y)]\n",
    "    if(dominates_Flag(mean_vec1,mean_vec2)==True):\n",
    "        return True\n",
    "    else:\n",
    "        return False"
   ]
  },
  {
   "cell_type": "code",
   "execution_count": 7,
   "id": "ff4357b3",
   "metadata": {},
   "outputs": [
    {
     "name": "stdout",
     "output_type": "stream",
     "text": [
      "Requirement already satisfied: platypus-opt in c:\\users\\hp\\appdata\\local\\programs\\python\\python310\\lib\\site-packages\\platypus_opt-1.0.4-py3.10.egg (1.0.4)\n",
      "Requirement already satisfied: six in c:\\users\\hp\\appdata\\local\\programs\\python\\python310\\lib\\site-packages (from platypus-opt) (1.16.0)\n"
     ]
    },
    {
     "name": "stderr",
     "output_type": "stream",
     "text": [
      "WARNING: You are using pip version 22.0.4; however, version 22.3 is available.\n",
      "You should consider upgrading via the 'C:\\Users\\hp\\AppData\\Local\\Programs\\Python\\Python310\\python.exe -m pip install --upgrade pip' command.\n"
     ]
    }
   ],
   "source": [
    "!pip install platypus-opt"
   ]
  },
  {
   "cell_type": "markdown",
   "id": "364b4e4c",
   "metadata": {},
   "source": [
    "#### Workshop Part 2 . Problem Statement is ZDT2"
   ]
  },
  {
   "cell_type": "code",
   "execution_count": 31,
   "id": "5789ec60",
   "metadata": {},
   "outputs": [],
   "source": [
    "def create_random_vector():\n",
    "    x = np.random.randint(100,200,1)\n",
    "    y = np.random.randint(100,200,1)\n",
    "    decision_vector = [x,y]\n",
    "    x_1 = np.random.randint(100,200,1)\n",
    "    y_1 = np.random.randint(100,200,1)\n",
    "    decision_vector_1 = [x_1,y_1]\n",
    "    return decision_vector_1\n",
    "\n",
    "\n",
    "def create_robust_noise():\n",
    "    u=[]\n",
    "    for i in range(0,100):\n",
    "        x = np.random.randint(-10,10,1)\n",
    "        y = np.random.randint(-10,10,1)\n",
    "        u.append([x,y])\n",
    "    return u\n",
    "\n",
    "def sampling_from_u(u):\n",
    "    indexes = []\n",
    "    for i in range(0,6):\n",
    "        indexes.append(np.random.randint(0,len(u)))\n",
    "    U = [u[i] for i in indexes]\n",
    "    return U\n",
    "\n",
    "\n",
    "def create_pertubations(U,decision_vector):\n",
    "    pertubations = []\n",
    "    for i in range(0,len(U)):\n",
    "        pertubations.append([decision_vector[0]+U[i][0],decision_vector[0]+U[i][1]])\n",
    "    return pertubations\n",
    "\n",
    "def evaluate_objective(pertubations):\n",
    "    objective_vectors = []\n",
    "    for i in range(0,len(pertubations)):\n",
    "        objective_vectors.append([pertubations[i][0]**2 + pertubations[i][1]**3,pertubations[i][1]**2 - 4*pertubations[i][1]] )\n",
    "    return objective_vectors\n",
    "\n",
    "def mutate_parent(x):\n",
    "    y=[]\n",
    "    for i in range(0,len(x)):\n",
    "        z = np.random.randint(-5,5)\n",
    "        a=x[i][0]+z\n",
    "        b=x[i][1]+z\n",
    "        y.append([a,b])\n",
    "    return y\n",
    "\n",
    "def dominates_Flag(A,B):\n",
    "    flag = False\n",
    "    count = 0 \n",
    "    for i in range(0,len(A)):\n",
    "        if(A[i]<B[i]):\n",
    "            flag = True\n",
    "            count = count +1\n",
    "        elif(A[i]==B[i]):\n",
    "            flag = True\n",
    "        else:\n",
    "            flag = False\n",
    "            break\n",
    "    if(flag == True and count >= 1):\n",
    "        return True\n",
    "    else:\n",
    "        return False\n",
    "\n",
    "\n",
    "def flimsily_robust(objective_vectors,objective_vectors_2):\n",
    "    count = 0\n",
    "    for i in range(0,len(objective_vectors)):\n",
    "        #print(objective_vectors[i])\n",
    "        if(dominates_Flag(objective_vectors[i],objective_vectors_2[i])):\n",
    "            count = count + 1\n",
    "    if(count>1):\n",
    "        return True\n",
    "    else:\n",
    "        return False\n",
    "    \n",
    "\n",
    "\n",
    "def PAES_inspired_optimizer():\n",
    "    Archive = []\n",
    "    x_unpertubed = create_random_vector()\n",
    "    U = sampling_from_u(create_robust_noise())\n",
    "    x = create_pertubations(U,x_unpertubed)\n",
    "    Y_parent = evaluate_objective(x)\n",
    "    Archive.append(Y_parent)\n",
    "    z=1\n",
    "    while(z<100):\n",
    "        x_child = mutate_parent(x)\n",
    "        Y_child = evaluate_objective(x_child)\n",
    "        count = 0\n",
    "        index = []\n",
    "        for i in range(0,len(Archive)):\n",
    "            if(flimsily_robust(Y_child,Archive[i])==True):\n",
    "                count = count+1\n",
    "                index.append(i)\n",
    "        if(count == len(Archive)):\n",
    "            x=x_child\n",
    "            Y_parent = Y_child\n",
    "            for i in index:\n",
    "                Archive.pop(i)\n",
    "            Archive.append(Y_child)\n",
    "        print('iteration {0} completed'.format(z))\n",
    "        z=z+1\n",
    "    print('After {0} iterations final Archive is {1}'.format(z,Archive))\n",
    "        "
   ]
  },
  {
   "cell_type": "code",
   "execution_count": 32,
   "id": "cc1164af",
   "metadata": {},
   "outputs": [
    {
     "name": "stdout",
     "output_type": "stream",
     "text": [
      "iteration 1 completed\n",
      "iteration 2 completed\n",
      "iteration 3 completed\n",
      "iteration 4 completed\n",
      "iteration 5 completed\n",
      "iteration 6 completed\n",
      "iteration 7 completed\n",
      "iteration 8 completed\n",
      "iteration 9 completed\n",
      "iteration 10 completed\n",
      "iteration 11 completed\n",
      "iteration 12 completed\n",
      "iteration 13 completed\n",
      "iteration 14 completed\n",
      "iteration 15 completed\n",
      "iteration 16 completed\n",
      "iteration 17 completed\n",
      "iteration 18 completed\n",
      "iteration 19 completed\n",
      "iteration 20 completed\n",
      "iteration 21 completed\n",
      "iteration 22 completed\n",
      "iteration 23 completed\n",
      "iteration 24 completed\n",
      "iteration 25 completed\n",
      "iteration 26 completed\n",
      "iteration 27 completed\n",
      "iteration 28 completed\n",
      "iteration 29 completed\n",
      "iteration 30 completed\n",
      "iteration 31 completed\n",
      "iteration 32 completed\n",
      "iteration 33 completed\n",
      "iteration 34 completed\n",
      "iteration 35 completed\n",
      "iteration 36 completed\n",
      "iteration 37 completed\n",
      "iteration 38 completed\n",
      "iteration 39 completed\n",
      "iteration 40 completed\n",
      "iteration 41 completed\n",
      "iteration 42 completed\n",
      "iteration 43 completed\n",
      "iteration 44 completed\n",
      "iteration 45 completed\n",
      "iteration 46 completed\n",
      "iteration 47 completed\n",
      "iteration 48 completed\n",
      "iteration 49 completed\n",
      "iteration 50 completed\n",
      "iteration 51 completed\n",
      "iteration 52 completed\n",
      "iteration 53 completed\n",
      "iteration 54 completed\n",
      "iteration 55 completed\n",
      "iteration 56 completed\n",
      "iteration 57 completed\n",
      "iteration 58 completed\n",
      "iteration 59 completed\n",
      "iteration 60 completed\n",
      "iteration 61 completed\n",
      "iteration 62 completed\n",
      "iteration 63 completed\n",
      "iteration 64 completed\n",
      "iteration 65 completed\n",
      "iteration 66 completed\n",
      "iteration 67 completed\n",
      "iteration 68 completed\n",
      "iteration 69 completed\n",
      "iteration 70 completed\n",
      "iteration 71 completed\n",
      "iteration 72 completed\n",
      "iteration 73 completed\n",
      "iteration 74 completed\n",
      "iteration 75 completed\n",
      "iteration 76 completed\n",
      "iteration 77 completed\n",
      "iteration 78 completed\n",
      "iteration 79 completed\n",
      "iteration 80 completed\n",
      "iteration 81 completed\n",
      "iteration 82 completed\n",
      "iteration 83 completed\n",
      "iteration 84 completed\n",
      "iteration 85 completed\n",
      "iteration 86 completed\n",
      "iteration 87 completed\n",
      "iteration 88 completed\n",
      "iteration 89 completed\n",
      "iteration 90 completed\n",
      "iteration 91 completed\n",
      "iteration 92 completed\n",
      "iteration 93 completed\n",
      "iteration 94 completed\n",
      "iteration 95 completed\n",
      "iteration 96 completed\n",
      "iteration 97 completed\n",
      "iteration 98 completed\n",
      "iteration 99 completed\n",
      "After 100 iterations final Archive is [[[array([38641]), array([957])], [array([499600]), array([5925])], [array([5274]), array([221])], [array([40393]), array([1020])], [array([36961]), array([957])], [array([160273]), array([2700])]]]\n",
      "None\n"
     ]
    }
   ],
   "source": [
    "print(PAES_inspired_optimizer())"
   ]
  },
  {
   "cell_type": "code",
   "execution_count": null,
   "id": "9fe60f94",
   "metadata": {},
   "outputs": [],
   "source": []
  },
  {
   "cell_type": "code",
   "execution_count": null,
   "id": "c1910915",
   "metadata": {},
   "outputs": [],
   "source": []
  }
 ],
 "metadata": {
  "kernelspec": {
   "display_name": "Python 3 (ipykernel)",
   "language": "python",
   "name": "python3"
  },
  "language_info": {
   "codemirror_mode": {
    "name": "ipython",
    "version": 3
   },
   "file_extension": ".py",
   "mimetype": "text/x-python",
   "name": "python",
   "nbconvert_exporter": "python",
   "pygments_lexer": "ipython3",
   "version": "3.10.4"
  }
 },
 "nbformat": 4,
 "nbformat_minor": 5
}
