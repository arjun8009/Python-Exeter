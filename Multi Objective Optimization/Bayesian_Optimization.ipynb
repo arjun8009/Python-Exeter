{
 "cells": [
  {
   "cell_type": "code",
   "execution_count": 1,
   "metadata": {},
   "outputs": [],
   "source": [
    "from pymoo.problems.many.dtlz import DTLZ2\n",
    "from pymoo.util.ref_dirs import get_reference_directions\n",
    "import pandas as pd\n",
    "from pymoo.util.dominator import Dominator\n",
    "from pymoo.indicators.hv import Hypervolume\n",
    "from sklearn.gaussian_process import GaussianProcessRegressor\n",
    "from sklearn.gaussian_process.kernels import RBF, ConstantKernel as C , WhiteKernel\n",
    "from pymoo.operators.sampling.lhs import LHS\n",
    "import matplotlib.pyplot as plt\n",
    "from pymoo.indicators.hv import HV\n",
    "from pymoo.algorithms.moo.nsga3 import NSGA3\n",
    "from pymoo.util.display.output import Output, pareto_front_if_possible\n",
    "from pymoo.algorithms.moo.moead import MOEAD\n",
    "from pymoo.core.problem import Problem\n",
    "from pymoo.algorithms.moo.spea2 import SPEA2\n",
    "from pymoo.algorithms.moo.nsga2 import NSGA2\n",
    "from pymoo.optimize import minimize\n",
    "import numpy as np\n",
    "import random"
   ]
  },
  {
   "cell_type": "markdown",
   "metadata": {},
   "source": [
    "#### Number of objectives = 2 , Number of decision variables = 2 , Number of samples = 20(10 x 2)"
   ]
  },
  {
   "cell_type": "code",
   "execution_count": 2,
   "metadata": {},
   "outputs": [],
   "source": [
    "weight_vectors = get_reference_directions('energy',2,20)"
   ]
  },
  {
   "cell_type": "code",
   "execution_count": 3,
   "metadata": {},
   "outputs": [],
   "source": [
    "problem = DTLZ2(n_obj=2,n_var=2)\n",
    "sampling  = LHS()\n",
    "ref_dirs = sampling(problem,20).get('X')"
   ]
  },
  {
   "cell_type": "code",
   "execution_count": 4,
   "metadata": {},
   "outputs": [
    {
     "name": "stdout",
     "output_type": "stream",
     "text": [
      "[1. 1.]\n",
      "Hypervolume of PF is 0.2101303514688242 \n"
     ]
    }
   ],
   "source": [
    "pareto_front = problem.pareto_front()\n",
    "hypervolume_pf = Hypervolume(pf= pareto_front,norm_ref_point=False).do(pareto_front)\n",
    "print('Hypervolume of PF is {0} '.format(hypervolume_pf))"
   ]
  },
  {
   "cell_type": "code",
   "execution_count": 5,
   "metadata": {},
   "outputs": [],
   "source": [
    "output = {}\n",
    "problem._evaluate(ref_dirs,output)"
   ]
  },
  {
   "cell_type": "code",
   "execution_count": 6,
   "metadata": {},
   "outputs": [
    {
     "name": "stdout",
     "output_type": "stream",
     "text": [
      "['x1', 'x2']\n"
     ]
    }
   ],
   "source": [
    "objective_value_1 = [i[0] for i in output['F']]\n",
    "objective_value_2 = [i[1] for i in output['F']]\n",
    "columns = []\n",
    "for i in range(1,3):\n",
    "    columns.append('x'+str(i))\n",
    "print(columns)\n",
    "dataset = pd.DataFrame(data = ref_dirs,columns = columns)\n",
    "dataset['Objective 1'] = objective_value_1\n",
    "dataset['Objective 2'] = objective_value_2\n",
    "#dataset = pd.DataFrame(data=dict_data)"
   ]
  },
  {
   "cell_type": "code",
   "execution_count": 7,
   "metadata": {},
   "outputs": [
    {
     "data": {
      "text/html": [
       "<div>\n",
       "<style scoped>\n",
       "    .dataframe tbody tr th:only-of-type {\n",
       "        vertical-align: middle;\n",
       "    }\n",
       "\n",
       "    .dataframe tbody tr th {\n",
       "        vertical-align: top;\n",
       "    }\n",
       "\n",
       "    .dataframe thead th {\n",
       "        text-align: right;\n",
       "    }\n",
       "</style>\n",
       "<table border=\"1\" class=\"dataframe\">\n",
       "  <thead>\n",
       "    <tr style=\"text-align: right;\">\n",
       "      <th></th>\n",
       "      <th>x1</th>\n",
       "      <th>x2</th>\n",
       "      <th>Objective 1</th>\n",
       "      <th>Objective 2</th>\n",
       "    </tr>\n",
       "  </thead>\n",
       "  <tbody>\n",
       "    <tr>\n",
       "      <th>0</th>\n",
       "      <td>0.033888</td>\n",
       "      <td>0.014720</td>\n",
       "      <td>1.233746</td>\n",
       "      <td>0.065737</td>\n",
       "    </tr>\n",
       "    <tr>\n",
       "      <th>1</th>\n",
       "      <td>0.877134</td>\n",
       "      <td>0.123473</td>\n",
       "      <td>0.218994</td>\n",
       "      <td>1.120574</td>\n",
       "    </tr>\n",
       "    <tr>\n",
       "      <th>2</th>\n",
       "      <td>0.712933</td>\n",
       "      <td>0.358535</td>\n",
       "      <td>0.444518</td>\n",
       "      <td>0.918057</td>\n",
       "    </tr>\n",
       "    <tr>\n",
       "      <th>3</th>\n",
       "      <td>0.821605</td>\n",
       "      <td>0.627740</td>\n",
       "      <td>0.281083</td>\n",
       "      <td>0.976675</td>\n",
       "    </tr>\n",
       "    <tr>\n",
       "      <th>4</th>\n",
       "      <td>0.205927</td>\n",
       "      <td>0.289686</td>\n",
       "      <td>0.990076</td>\n",
       "      <td>0.331918</td>\n",
       "    </tr>\n",
       "  </tbody>\n",
       "</table>\n",
       "</div>"
      ],
      "text/plain": [
       "         x1        x2  Objective 1  Objective 2\n",
       "0  0.033888  0.014720     1.233746     0.065737\n",
       "1  0.877134  0.123473     0.218994     1.120574\n",
       "2  0.712933  0.358535     0.444518     0.918057\n",
       "3  0.821605  0.627740     0.281083     0.976675\n",
       "4  0.205927  0.289686     0.990076     0.331918"
      ]
     },
     "execution_count": 7,
     "metadata": {},
     "output_type": "execute_result"
    }
   ],
   "source": [
    "dataset.head()"
   ]
  },
  {
   "cell_type": "markdown",
   "metadata": {},
   "source": [
    "##### MOdelling on Objective 1"
   ]
  },
  {
   "cell_type": "code",
   "execution_count": 8,
   "metadata": {},
   "outputs": [],
   "source": [
    "X = dataset[columns].to_numpy()\n",
    "Y = dataset['Objective 1'].to_numpy().reshape(-1,1)"
   ]
  },
  {
   "cell_type": "code",
   "execution_count": 9,
   "metadata": {},
   "outputs": [
    {
     "name": "stderr",
     "output_type": "stream",
     "text": [
      "c:\\Users\\hp\\AppData\\Local\\Programs\\Python\\Python311\\Lib\\site-packages\\sklearn\\gaussian_process\\kernels.py:420: ConvergenceWarning: The optimal value found for dimension 0 of parameter k2__noise_level is close to the specified lower bound 1e-05. Decreasing the bound and calling fit again may find a better value.\n",
      "  warnings.warn(\n"
     ]
    }
   ],
   "source": [
    "kernel_2 = C(4.0) * RBF(length_scale=0.1) + WhiteKernel()\n",
    "#kernel =  RBF(length_scale=3) \n",
    "model_2 = GaussianProcessRegressor(kernel=kernel_2,n_restarts_optimizer=90,normalize_y=True,random_state=11).fit(X,Y)\n",
    "#output = {}\n",
    "#x= (np.array([x1,x2])).T\n",
    "#problem._evaluate(x,output)\n",
    "#data = [i[0] for i in output['F']]"
   ]
  },
  {
   "cell_type": "markdown",
   "metadata": {},
   "source": [
    "#### Model on Objective 2"
   ]
  },
  {
   "cell_type": "code",
   "execution_count": 10,
   "metadata": {},
   "outputs": [
    {
     "name": "stderr",
     "output_type": "stream",
     "text": [
      "c:\\Users\\hp\\AppData\\Local\\Programs\\Python\\Python311\\Lib\\site-packages\\sklearn\\gaussian_process\\_gpr.py:616: ConvergenceWarning: lbfgs failed to converge (status=2):\n",
      "ABNORMAL_TERMINATION_IN_LNSRCH.\n",
      "\n",
      "Increase the number of iterations (max_iter) or scale the data as shown in:\n",
      "    https://scikit-learn.org/stable/modules/preprocessing.html\n",
      "  _check_optimize_result(\"lbfgs\", opt_res)\n",
      "c:\\Users\\hp\\AppData\\Local\\Programs\\Python\\Python311\\Lib\\site-packages\\sklearn\\gaussian_process\\kernels.py:420: ConvergenceWarning: The optimal value found for dimension 0 of parameter k2__noise_level is close to the specified lower bound 1e-05. Decreasing the bound and calling fit again may find a better value.\n",
      "  warnings.warn(\n"
     ]
    }
   ],
   "source": [
    "X = dataset[columns].to_numpy()\n",
    "Y = dataset['Objective 2'].to_numpy().reshape(-1,1)\n",
    "kernel_2 = C(1.0) * RBF(length_scale=0.1) +  WhiteKernel()\n",
    "#kernel =  RBF(length_scale=3) \n",
    "model_3 = GaussianProcessRegressor(kernel=kernel_2,n_restarts_optimizer=90,normalize_y=True,random_state=12).fit(X,Y)"
   ]
  },
  {
   "cell_type": "markdown",
   "metadata": {},
   "source": [
    "#### Creating Custom Problem that will use my Gaussian Models as Objective Functions"
   ]
  },
  {
   "cell_type": "code",
   "execution_count": 11,
   "metadata": {},
   "outputs": [],
   "source": [
    "class CustomProblemExploit(Problem):\n",
    "\n",
    "    def __init__(self):\n",
    "        super().__init__(n_var=2, n_obj=4,xl=0,xu=1)\n",
    "\n",
    "    def _evaluate(self, x, out, *args, **kwargs):\n",
    "        objective_values = []\n",
    "        if(len(x)==1):\n",
    "            value = np.array(x).reshape(1,-1)\n",
    "            mean_1,std_1 = model_2.predict(value,return_std=True) \n",
    "            mean,std = model_3.predict(value,return_std=True)\n",
    "            objective_values = [mean_1,-std_1,mean,-std]\n",
    "        else:\n",
    "            mean_1,std_1 = model_2.predict(x,return_std=True) \n",
    "            mean,std = model_3.predict(x,return_std=True)\n",
    "            #print(mean)\n",
    "            for  i in range(len(mean_1)):\n",
    "                objective_values.append([mean_1[i],-std_1[i],mean[i],-std[i]])\n",
    "        out[\"F\"] = objective_values"
   ]
  },
  {
   "cell_type": "code",
   "execution_count": 12,
   "metadata": {},
   "outputs": [],
   "source": [
    "class CustomProblemExplore(Problem):\n",
    "\n",
    "    def __init__(self):\n",
    "        super().__init__(n_var=2, n_obj=2,xl=0,xu=1)\n",
    "\n",
    "    def _evaluate(self, x, out, *args, **kwargs):\n",
    "        objective_values = []\n",
    "        if(len(x)==1):\n",
    "            value = np.array(x).reshape(1,-1)\n",
    "            mean_1,std_1 = model_2.predict(value,return_std=True) \n",
    "            mean,std = model_3.predict(value,return_std=True)\n",
    "            objective_values = [mean_1,mean]\n",
    "        else:\n",
    "            mean_1,std_1 = model_2.predict(x,return_std=True) \n",
    "            mean,std = model_3.predict(x,return_std=True)\n",
    "            #print(mean)\n",
    "            for  i in range(len(mean_1)):\n",
    "                objective_values.append([mean_1[i],mean[i]])\n",
    "        out[\"F\"] = objective_values"
   ]
  },
  {
   "cell_type": "code",
   "execution_count": 13,
   "metadata": {},
   "outputs": [],
   "source": [
    "def epsilon_greedy_method(epsilon,problem_1,problem_2,algorithm_1,algorithm_2):\n",
    "    if(np.random.uniform(0,1)<epsilon):\n",
    "        res=minimize(problem_1,algorithm_1,\n",
    "                ('n_gen', 200),\n",
    "                verbose=False,\n",
    "                save_history=True)\n",
    "        index = random.randrange(0,len(res.F))\n",
    "        values =  res.X\n",
    "        return values[index]\n",
    "    else:\n",
    "        res=minimize(problem_2,algorithm_2,\n",
    "                ('n_gen', 200),\n",
    "                verbose=False,\n",
    "                save_history=True)\n",
    "        index = random.randrange(0,len(res.F))\n",
    "        values =  res.X\n",
    "        return values[index]\n",
    "        "
   ]
  },
  {
   "cell_type": "code",
   "execution_count": 14,
   "metadata": {},
   "outputs": [],
   "source": [
    "# non dominated sorting\n",
    "\n",
    "def fast_non_dominated_sort(F, **kwargs):\n",
    "    \n",
    "    M = Dominator.calc_domination_matrix(F)\n",
    "\n",
    "    # calculate the dominance matrix\n",
    "    n = M.shape[0]\n",
    "\n",
    "    fronts = []\n",
    "\n",
    "    if n == 0:\n",
    "        return fronts\n",
    "\n",
    "    # final rank that will be returned\n",
    "    n_ranked = 0\n",
    "    ranked = np.zeros(n, dtype=int)\n",
    "\n",
    "    # for each individual a list of all individuals that are dominated by this one\n",
    "    is_dominating = [[] for _ in range(n)]\n",
    "\n",
    "    # storage for the number of solutions dominated this one\n",
    "    n_dominated = np.zeros(n)\n",
    "\n",
    "    current_front = []\n",
    "\n",
    "    for i in range(n):\n",
    "\n",
    "        for j in range(i + 1, n):\n",
    "            rel = M[i, j]\n",
    "            if rel == 1:\n",
    "                is_dominating[i].append(j)\n",
    "                n_dominated[j] += 1\n",
    "            elif rel == -1:\n",
    "                is_dominating[j].append(i)\n",
    "                n_dominated[i] += 1\n",
    "\n",
    "        if n_dominated[i] == 0:\n",
    "            current_front.append(i)\n",
    "            ranked[i] = 1.0\n",
    "            n_ranked += 1\n",
    "\n",
    "    # append the first front to the current front\n",
    "    fronts.append(current_front)\n",
    "\n",
    "    # while not all solutions are assigned to a pareto front\n",
    "    while n_ranked < n:\n",
    "\n",
    "        next_front = []\n",
    "\n",
    "        # for each individual in the current front\n",
    "        for i in current_front:\n",
    "\n",
    "            # all solutions that are dominated by this individuals\n",
    "            for j in is_dominating[i]:\n",
    "                n_dominated[j] -= 1\n",
    "                if n_dominated[j] == 0:\n",
    "                    next_front.append(j)\n",
    "                    ranked[j] = 1.0\n",
    "                    n_ranked += 1\n",
    "\n",
    "        fronts.append(next_front)\n",
    "        current_front = next_front\n",
    "\n",
    "    return fronts"
   ]
  },
  {
   "cell_type": "code",
   "execution_count": 15,
   "metadata": {},
   "outputs": [],
   "source": [
    "def optimize_problem(algorithm_1,algorithm_2, problem_1,problem_2):\n",
    "    data = []\n",
    "    initial_output = {}\n",
    "    Hypervolume  = []\n",
    "    new_ref_dirs = ref_dirs\n",
    "    problem._evaluate(ref_dirs,initial_output)\n",
    "    initial_objectives = initial_output['F']\n",
    "    initial_ref_vec  = [1.0,1.0]\n",
    "    initial_non_dominated_front = fast_non_dominated_sort(initial_objectives)\n",
    "    initial_ind = HV(ref_point=initial_ref_vec)\n",
    "    print('Iteration 0 initial Hypervolume is {0}'.format(initial_ind(initial_objectives[initial_non_dominated_front[0]])))\n",
    "    Hypervolume.append(initial_ind(initial_objectives[initial_non_dominated_front[0]]))\n",
    "    for i in range(50):\n",
    "        data.append(epsilon_greedy_method(0.1,problem_1,problem_2,algorithm_1,algorithm_2))\n",
    "        new_data = list(new_ref_dirs) + data\n",
    "        new_ref_dirs = list(new_ref_dirs) + data\n",
    "        new_data = np.array(new_data)\n",
    "        output = {}\n",
    "        new_objectives  = problem._evaluate(new_data,output)\n",
    "        new_dataset = pd.DataFrame(data = new_data,columns = columns)\n",
    "        new_obj1 = [i[0] for i in output['F']]\n",
    "        new_obj2 = [i[1] for i in output['F']]\n",
    "        new_dataset['Objective 1']  = new_obj1\n",
    "        new_dataset['Objective 2'] = new_obj2\n",
    "        objectives_new = []\n",
    "        objectives1_new = list(new_dataset['Objective 1'])\n",
    "        objectives2_new = list(new_dataset['Objective 2'])\n",
    "        for j in range(len(new_dataset['Objective 1'])):\n",
    "            objectives_new.append([objectives1_new[j],objectives2_new[j]])\n",
    "        #print('Calculating Front')\n",
    "        fronts_new = fast_non_dominated_sort(np.array(objectives_new))\n",
    "        ref_vector  = [1.0,1.0] #[max(objectives1_new),max(objectives2_new)]\n",
    "        objectives  = np.array(objectives_new)\n",
    "        #print('Calculating Hypervolumne',objectives[fronts_new[0]])\n",
    "        ind = HV(ref_point=ref_vector)\n",
    "        Hypervolume.append(ind(objectives[fronts_new[0]]))\n",
    "        print('Iteration : {0} Hypervolume of Non Dominated Front is {1}'.format(i+1,ind(objectives[fronts_new[0]])))\n",
    "    Hypervolume_increase = [i/hypervolume_pf for i in Hypervolume]\n",
    "    plt.plot(list(range(1,52)),Hypervolume_increase)\n",
    "    plt.title('Hypervolume Increase in 50 Generations')\n",
    "    plt.show()\n",
    "    return [new_dataset,Hypervolume_increase]\n"
   ]
  },
  {
   "cell_type": "code",
   "execution_count": 16,
   "metadata": {},
   "outputs": [],
   "source": [
    "problem_1 = CustomProblemExploit()\n",
    "problem_2 = CustomProblemExplore()\n",
    "algorithm_2 = NSGA2(pop_size = 100)\n",
    "algorithm_2_2 = MOEAD(ref_dirs=weight_vectors)\n",
    "algorithm_3_2 = NSGA3(ref_dirs=weight_vectors)\n",
    "\n",
    "weight_vectors_1 = get_reference_directions('energy',4,20)\n",
    "algorithm_1 = NSGA2(pop_size = 100)\n",
    "algorithm_2_1 = MOEAD(ref_dirs=weight_vectors_1)\n",
    "algorithm_3_1 = NSGA3(ref_dirs=weight_vectors_1)\n"
   ]
  },
  {
   "cell_type": "code",
   "execution_count": 17,
   "metadata": {},
   "outputs": [
    {
     "name": "stdout",
     "output_type": "stream",
     "text": [
      "Iteration 0 initial Hypervolume is 0.14719062453487997\n",
      "Iteration : 1 Hypervolume of Non Dominated Front is 0.14719062453487997\n",
      "Iteration : 2 Hypervolume of Non Dominated Front is 0.14719062453487997\n",
      "Iteration : 3 Hypervolume of Non Dominated Front is 0.14719062453487997\n",
      "Iteration : 4 Hypervolume of Non Dominated Front is 0.1474151890456477\n",
      "Iteration : 5 Hypervolume of Non Dominated Front is 0.1474151890456477\n",
      "Iteration : 6 Hypervolume of Non Dominated Front is 0.1474151890456477\n",
      "Iteration : 7 Hypervolume of Non Dominated Front is 0.1474151890456477\n",
      "Iteration : 8 Hypervolume of Non Dominated Front is 0.1474151890456477\n",
      "Iteration : 9 Hypervolume of Non Dominated Front is 0.14859896753341656\n",
      "Iteration : 10 Hypervolume of Non Dominated Front is 0.14916313040444715\n",
      "Iteration : 11 Hypervolume of Non Dominated Front is 0.15432454708698023\n",
      "Iteration : 12 Hypervolume of Non Dominated Front is 0.15432454708698023\n",
      "Iteration : 13 Hypervolume of Non Dominated Front is 0.1571813811528987\n",
      "Iteration : 14 Hypervolume of Non Dominated Front is 0.1571813811528987\n",
      "Iteration : 15 Hypervolume of Non Dominated Front is 0.1571813811528987\n",
      "Iteration : 16 Hypervolume of Non Dominated Front is 0.1571813811528987\n",
      "Iteration : 17 Hypervolume of Non Dominated Front is 0.1571813811528987\n",
      "Iteration : 18 Hypervolume of Non Dominated Front is 0.15882338484250058\n",
      "Iteration : 19 Hypervolume of Non Dominated Front is 0.1589564596284084\n",
      "Iteration : 20 Hypervolume of Non Dominated Front is 0.1589564596284084\n",
      "Iteration : 21 Hypervolume of Non Dominated Front is 0.1589564596284084\n",
      "Iteration : 22 Hypervolume of Non Dominated Front is 0.15910440666988415\n",
      "Iteration : 23 Hypervolume of Non Dominated Front is 0.15910440666988415\n",
      "Iteration : 24 Hypervolume of Non Dominated Front is 0.15910440666988415\n",
      "Iteration : 25 Hypervolume of Non Dominated Front is 0.15910440666988415\n",
      "Iteration : 26 Hypervolume of Non Dominated Front is 0.1600019931404786\n",
      "Iteration : 27 Hypervolume of Non Dominated Front is 0.1600019931404786\n",
      "Iteration : 28 Hypervolume of Non Dominated Front is 0.16112838538398458\n",
      "Iteration : 29 Hypervolume of Non Dominated Front is 0.16112838538398458\n",
      "Iteration : 30 Hypervolume of Non Dominated Front is 0.16213052636562225\n",
      "Iteration : 31 Hypervolume of Non Dominated Front is 0.16213052636562225\n",
      "Iteration : 32 Hypervolume of Non Dominated Front is 0.16664284380314498\n",
      "Iteration : 33 Hypervolume of Non Dominated Front is 0.17002276756511986\n",
      "Iteration : 34 Hypervolume of Non Dominated Front is 0.1716372408534963\n",
      "Iteration : 35 Hypervolume of Non Dominated Front is 0.1716372408534963\n",
      "Iteration : 36 Hypervolume of Non Dominated Front is 0.1716372408534963\n",
      "Iteration : 37 Hypervolume of Non Dominated Front is 0.1716372408534963\n",
      "Iteration : 38 Hypervolume of Non Dominated Front is 0.1716372408534963\n",
      "Iteration : 39 Hypervolume of Non Dominated Front is 0.1716372408534963\n",
      "Iteration : 40 Hypervolume of Non Dominated Front is 0.1716372408534963\n",
      "Iteration : 41 Hypervolume of Non Dominated Front is 0.1716372408534963\n",
      "Iteration : 42 Hypervolume of Non Dominated Front is 0.173087189624682\n",
      "Iteration : 43 Hypervolume of Non Dominated Front is 0.17316695594335813\n",
      "Iteration : 44 Hypervolume of Non Dominated Front is 0.17316695594335813\n",
      "Iteration : 45 Hypervolume of Non Dominated Front is 0.17316695594335813\n",
      "Iteration : 46 Hypervolume of Non Dominated Front is 0.17316695594335813\n",
      "Iteration : 47 Hypervolume of Non Dominated Front is 0.17316695594335813\n",
      "Iteration : 48 Hypervolume of Non Dominated Front is 0.17316695594335813\n",
      "Iteration : 49 Hypervolume of Non Dominated Front is 0.17316695594335813\n",
      "Iteration : 50 Hypervolume of Non Dominated Front is 0.17316695594335813\n"
     ]
    },
    {
     "data": {
      "image/png": "[encoded data removed]",
      "text/plain": [
       "<Figure size 640x480 with 1 Axes>"
      ]
     },
     "metadata": {},
     "output_type": "display_data"
    },
    {
     "data": {
      "text/plain": [
       "1295"
      ]
     },
     "execution_count": 17,
     "metadata": {},
     "output_type": "execute_result"
    }
   ],
   "source": [
    "new_dataset,Hypervolume_increse_NSGA = optimize_problem(algorithm_1,algorithm_2,problem_1,problem_2)\n",
    "len(new_dataset)\n"
   ]
  },
  {
   "cell_type": "code",
   "execution_count": 18,
   "metadata": {},
   "outputs": [
    {
     "name": "stdout",
     "output_type": "stream",
     "text": [
      "Iteration 0 initial Hypervolume is 0.14719062453487997\n",
      "Iteration : 1 Hypervolume of Non Dominated Front is 0.1472308058241538\n",
      "Iteration : 2 Hypervolume of Non Dominated Front is 0.14775866206373117\n",
      "Iteration : 3 Hypervolume of Non Dominated Front is 0.15507340843455417\n",
      "Iteration : 4 Hypervolume of Non Dominated Front is 0.15507393220077054\n",
      "Iteration : 5 Hypervolume of Non Dominated Front is 0.15507393220077054\n",
      "Iteration : 6 Hypervolume of Non Dominated Front is 0.15507393220077054\n",
      "Iteration : 7 Hypervolume of Non Dominated Front is 0.16645705481574885\n",
      "Iteration : 8 Hypervolume of Non Dominated Front is 0.1686423728006103\n",
      "Iteration : 9 Hypervolume of Non Dominated Front is 0.16874456375037386\n",
      "Iteration : 10 Hypervolume of Non Dominated Front is 0.16874456375037386\n",
      "Iteration : 11 Hypervolume of Non Dominated Front is 0.1690935177373094\n",
      "Iteration : 12 Hypervolume of Non Dominated Front is 0.1690935177373094\n",
      "Iteration : 13 Hypervolume of Non Dominated Front is 0.17187506807987893\n",
      "Iteration : 14 Hypervolume of Non Dominated Front is 0.172125106633709\n",
      "Iteration : 15 Hypervolume of Non Dominated Front is 0.17312384685551893\n",
      "Iteration : 16 Hypervolume of Non Dominated Front is 0.17779467382140338\n",
      "Iteration : 17 Hypervolume of Non Dominated Front is 0.17780882434695816\n",
      "Iteration : 18 Hypervolume of Non Dominated Front is 0.17843552710870086\n",
      "Iteration : 19 Hypervolume of Non Dominated Front is 0.17843734198694644\n",
      "Iteration : 20 Hypervolume of Non Dominated Front is 0.17843734198694644\n",
      "Iteration : 21 Hypervolume of Non Dominated Front is 0.1784385118104818\n",
      "Iteration : 22 Hypervolume of Non Dominated Front is 0.17843919095568322\n",
      "Iteration : 23 Hypervolume of Non Dominated Front is 0.17843919095568322\n",
      "Iteration : 24 Hypervolume of Non Dominated Front is 0.17844453805188673\n",
      "Iteration : 25 Hypervolume of Non Dominated Front is 0.17844453805188673\n",
      "Iteration : 26 Hypervolume of Non Dominated Front is 0.17844483999136304\n",
      "Iteration : 27 Hypervolume of Non Dominated Front is 0.17844483999136304\n",
      "Iteration : 28 Hypervolume of Non Dominated Front is 0.17844502281308036\n",
      "Iteration : 29 Hypervolume of Non Dominated Front is 0.17844502281308036\n",
      "Iteration : 30 Hypervolume of Non Dominated Front is 0.18016289047724326\n",
      "Iteration : 31 Hypervolume of Non Dominated Front is 0.18016321362751403\n",
      "Iteration : 32 Hypervolume of Non Dominated Front is 0.1811091155046875\n",
      "Iteration : 33 Hypervolume of Non Dominated Front is 0.18110912658442124\n",
      "Iteration : 34 Hypervolume of Non Dominated Front is 0.18110912658442124\n",
      "Iteration : 35 Hypervolume of Non Dominated Front is 0.18110999722295906\n",
      "Iteration : 36 Hypervolume of Non Dominated Front is 0.18110999722295906\n",
      "Iteration : 37 Hypervolume of Non Dominated Front is 0.18111031612462403\n",
      "Iteration : 38 Hypervolume of Non Dominated Front is 0.18111201190600004\n",
      "Iteration : 39 Hypervolume of Non Dominated Front is 0.18111201190600004\n",
      "Iteration : 40 Hypervolume of Non Dominated Front is 0.1811120319415045\n",
      "Iteration : 41 Hypervolume of Non Dominated Front is 0.18320205615032362\n",
      "Iteration : 42 Hypervolume of Non Dominated Front is 0.1847941413339382\n",
      "Iteration : 43 Hypervolume of Non Dominated Front is 0.18479414724156795\n",
      "Iteration : 44 Hypervolume of Non Dominated Front is 0.18479414724156795\n",
      "Iteration : 45 Hypervolume of Non Dominated Front is 0.18479414724156795\n",
      "Iteration : 46 Hypervolume of Non Dominated Front is 0.18479414724156795\n",
      "Iteration : 47 Hypervolume of Non Dominated Front is 0.18479414975339048\n",
      "Iteration : 48 Hypervolume of Non Dominated Front is 0.18479414975339048\n",
      "Iteration : 49 Hypervolume of Non Dominated Front is 0.18479415641796001\n",
      "Iteration : 50 Hypervolume of Non Dominated Front is 0.18479415641796001\n"
     ]
    },
    {
     "data": {
      "image/png": "[encoded data removed]",
      "text/plain": [
       "<Figure size 640x480 with 1 Axes>"
      ]
     },
     "metadata": {},
     "output_type": "display_data"
    },
    {
     "data": {
      "text/plain": [
       "1295"
      ]
     },
     "execution_count": 18,
     "metadata": {},
     "output_type": "execute_result"
    }
   ],
   "source": [
    "new_dataset,Hypervolume_increse_MOEAD = optimize_problem(algorithm_2_1,algorithm_2_2,problem_1,problem_2)\n",
    "len(new_dataset)\n"
   ]
  },
  {
   "cell_type": "code",
   "execution_count": 19,
   "metadata": {},
   "outputs": [
    {
     "name": "stdout",
     "output_type": "stream",
     "text": [
      "Iteration 0 initial Hypervolume is 0.14719062453487997\n",
      "Iteration : 1 Hypervolume of Non Dominated Front is 0.14719062453487997\n",
      "Iteration : 2 Hypervolume of Non Dominated Front is 0.14719062453487997\n",
      "Iteration : 3 Hypervolume of Non Dominated Front is 0.14719062453487997\n",
      "Iteration : 4 Hypervolume of Non Dominated Front is 0.14719062453487997\n",
      "Iteration : 5 Hypervolume of Non Dominated Front is 0.14880568578142123\n",
      "Iteration : 6 Hypervolume of Non Dominated Front is 0.15962178111640546\n",
      "Iteration : 7 Hypervolume of Non Dominated Front is 0.15962178111640546\n",
      "Iteration : 8 Hypervolume of Non Dominated Front is 0.15962178111640546\n",
      "Iteration : 9 Hypervolume of Non Dominated Front is 0.16431424600006253\n",
      "Iteration : 10 Hypervolume of Non Dominated Front is 0.1713434960448608\n",
      "Iteration : 11 Hypervolume of Non Dominated Front is 0.1713434960448608\n",
      "Iteration : 12 Hypervolume of Non Dominated Front is 0.1713434960448608\n",
      "Iteration : 13 Hypervolume of Non Dominated Front is 0.1713434960448608\n",
      "Iteration : 14 Hypervolume of Non Dominated Front is 0.1713434960448608\n",
      "Iteration : 15 Hypervolume of Non Dominated Front is 0.1713434960448608\n",
      "Iteration : 16 Hypervolume of Non Dominated Front is 0.1713434960448608\n",
      "Iteration : 17 Hypervolume of Non Dominated Front is 0.1713434960448608\n",
      "Iteration : 18 Hypervolume of Non Dominated Front is 0.1715681415023244\n",
      "Iteration : 19 Hypervolume of Non Dominated Front is 0.1715681415023244\n",
      "Iteration : 20 Hypervolume of Non Dominated Front is 0.1715681415023244\n",
      "Iteration : 21 Hypervolume of Non Dominated Front is 0.1715681415023244\n",
      "Iteration : 22 Hypervolume of Non Dominated Front is 0.1715681415023244\n",
      "Iteration : 23 Hypervolume of Non Dominated Front is 0.1715681415023244\n",
      "Iteration : 24 Hypervolume of Non Dominated Front is 0.1763645591469185\n",
      "Iteration : 25 Hypervolume of Non Dominated Front is 0.1763645591469185\n",
      "Iteration : 26 Hypervolume of Non Dominated Front is 0.17665350700003593\n",
      "Iteration : 27 Hypervolume of Non Dominated Front is 0.17665350700003593\n",
      "Iteration : 28 Hypervolume of Non Dominated Front is 0.17665350700003593\n",
      "Iteration : 29 Hypervolume of Non Dominated Front is 0.17665350700003593\n",
      "Iteration : 30 Hypervolume of Non Dominated Front is 0.17665350700003593\n",
      "Iteration : 31 Hypervolume of Non Dominated Front is 0.17665350700003593\n",
      "Iteration : 32 Hypervolume of Non Dominated Front is 0.17665350700003593\n",
      "Iteration : 33 Hypervolume of Non Dominated Front is 0.17665350700003593\n",
      "Iteration : 34 Hypervolume of Non Dominated Front is 0.17665350700003593\n",
      "Iteration : 35 Hypervolume of Non Dominated Front is 0.17665350700003593\n",
      "Iteration : 36 Hypervolume of Non Dominated Front is 0.17665350700003593\n",
      "Iteration : 37 Hypervolume of Non Dominated Front is 0.17665350700003593\n",
      "Iteration : 38 Hypervolume of Non Dominated Front is 0.1785795474682989\n",
      "Iteration : 39 Hypervolume of Non Dominated Front is 0.17861516263507604\n",
      "Iteration : 40 Hypervolume of Non Dominated Front is 0.17861516263507604\n",
      "Iteration : 41 Hypervolume of Non Dominated Front is 0.17861516263507604\n",
      "Iteration : 42 Hypervolume of Non Dominated Front is 0.17861516263507604\n",
      "Iteration : 43 Hypervolume of Non Dominated Front is 0.17861516263507604\n",
      "Iteration : 44 Hypervolume of Non Dominated Front is 0.17861516263507604\n",
      "Iteration : 45 Hypervolume of Non Dominated Front is 0.18080385738800903\n",
      "Iteration : 46 Hypervolume of Non Dominated Front is 0.18080385738800903\n",
      "Iteration : 47 Hypervolume of Non Dominated Front is 0.18091275118429537\n",
      "Iteration : 48 Hypervolume of Non Dominated Front is 0.18192727761549038\n",
      "Iteration : 49 Hypervolume of Non Dominated Front is 0.18192727761549038\n",
      "Iteration : 50 Hypervolume of Non Dominated Front is 0.18192727761549038\n"
     ]
    },
    {
     "data": {
      "image/png": "[encoded data removed]",
      "text/plain": [
       "<Figure size 640x480 with 1 Axes>"
      ]
     },
     "metadata": {},
     "output_type": "display_data"
    },
    {
     "data": {
      "text/plain": [
       "1295"
      ]
     },
     "execution_count": 19,
     "metadata": {},
     "output_type": "execute_result"
    }
   ],
   "source": [
    "new_dataset,Hypervolume_increse_NSGA3 = optimize_problem(algorithm_3_1,algorithm_3_2,problem_1,problem_2)\n",
    "len(new_dataset)\n"
   ]
  },
  {
   "cell_type": "code",
   "execution_count": 20,
   "metadata": {},
   "outputs": [
    {
     "data": {
      "image/png": "[encoded data removed]",
      "text/plain": [
       "<Figure size 640x480 with 1 Axes>"
      ]
     },
     "metadata": {},
     "output_type": "display_data"
    }
   ],
   "source": [
    "plt.plot(list(range(1,52)),Hypervolume_increse_NSGA,label=\"NSGA2\")\n",
    "plt.plot(list(range(1,52)),Hypervolume_increse_MOEAD,label=\"MOEAD\")\n",
    "plt.plot(list(range(1,52)),Hypervolume_increse_NSGA3,label=\"NSGA3\")\n",
    "plt.title(\"Hypervolume Ratio in 50 iterations for different MOEA's\")\n",
    "plt.legend()\n",
    "plt.show()\n",
    "\n"
   ]
  },
  {
   "cell_type": "code",
   "execution_count": null,
   "metadata": {},
   "outputs": [],
   "source": []
  }
 ],
 "metadata": {
  "kernelspec": {
   "display_name": "Python 3.11.0 64-bit",
   "language": "python",
   "name": "python3"
  },
  "language_info": {
   "codemirror_mode": {
    "name": "ipython",
    "version": 3
   },
   "file_extension": ".py",
   "mimetype": "text/x-python",
   "name": "python",
   "nbconvert_exporter": "python",
   "pygments_lexer": "ipython3",
   "version": "3.11.0"
  },
  "orig_nbformat": 4,
  "vscode": {
   "interpreter": {
    "hash": "b98f472bb8ba48098397e3b897b5be76f7bf0e62d98845cdb0e8066dc5677259"
   }
  }
 },
 "nbformat": 4,
 "nbformat_minor": 2
}
