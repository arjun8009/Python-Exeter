{
 "cells": [
  {
   "cell_type": "code",
   "execution_count": 43,
   "metadata": {},
   "outputs": [],
   "source": [
    "from pymoo.problems.many.dtlz import DTLZ2\n",
    "from pymoo.util.ref_dirs import get_reference_directions\n",
    "import pandas as pd\n",
    "from pymoo.util.dominator import Dominator\n",
    "from pymoo.indicators.hv import Hypervolume\n",
    "from sklearn.gaussian_process import GaussianProcessRegressor\n",
    "from sklearn.gaussian_process.kernels import RBF, ConstantKernel as C\n",
    "from pymoo.operators.sampling.lhs import LHS\n",
    "import matplotlib.pyplot as plt\n",
    "from pymoo.indicators.hv import HV\n",
    "from pymoo.algorithms.moo.nsga3 import NSGA3\n",
    "from pymoo.util.display.output import Output, pareto_front_if_possible\n",
    "from pymoo.algorithms.moo.moead import MOEAD\n",
    "from pymoo.core.problem import Problem\n",
    "from pymoo.algorithms.moo.spea2 import SPEA2\n",
    "from pymoo.algorithms.moo.nsga2 import NSGA2\n",
    "from pymoo.optimize import minimize\n",
    "import numpy as np\n",
    "import random"
   ]
  },
  {
   "cell_type": "markdown",
   "metadata": {},
   "source": [
    "#### Number of Bojectives = 2 , Number of decision variables = 2 , Number of samples = 20(10 x 2)"
   ]
  },
  {
   "cell_type": "code",
   "execution_count": 39,
   "metadata": {},
   "outputs": [],
   "source": [
    "weight_vectors = get_reference_directions('energy',2,20)"
   ]
  },
  {
   "cell_type": "code",
   "execution_count": 3,
   "metadata": {},
   "outputs": [],
   "source": [
    "problem = DTLZ2(n_obj=2,n_var=2)\n",
    "sampling  = LHS()\n",
    "ref_dirs = sampling(problem,20).get('X')"
   ]
  },
  {
   "cell_type": "code",
   "execution_count": 4,
   "metadata": {},
   "outputs": [
    {
     "data": {
      "text/plain": [
       "array([[0.0916874 , 0.61203144],\n",
       "       [0.01731574, 0.34846604],\n",
       "       [0.17866975, 0.41672974],\n",
       "       [0.23170817, 0.13624386],\n",
       "       [0.77570343, 0.95583783],\n",
       "       [0.96734247, 0.18031023],\n",
       "       [0.60281924, 0.37989949],\n",
       "       [0.84654968, 0.281281  ],\n",
       "       [0.42285467, 0.74045622],\n",
       "       [0.13649143, 0.06850451],\n",
       "       [0.48370422, 0.53633135],\n",
       "       [0.70872952, 0.8487783 ],\n",
       "       [0.33217658, 0.47130666],\n",
       "       [0.35398158, 0.20735533],\n",
       "       [0.66170283, 0.55998051],\n",
       "       [0.59102917, 0.04311915],\n",
       "       [0.29005134, 0.78429923],\n",
       "       [0.92050745, 0.93355153],\n",
       "       [0.51001   , 0.88331482],\n",
       "       [0.85717271, 0.68634259]])"
      ]
     },
     "execution_count": 4,
     "metadata": {},
     "output_type": "execute_result"
    }
   ],
   "source": [
    "ref_dirs"
   ]
  },
  {
   "cell_type": "code",
   "execution_count": 5,
   "metadata": {},
   "outputs": [],
   "source": [
    "output = {}\n",
    "problem._evaluate(ref_dirs,output)"
   ]
  },
  {
   "cell_type": "code",
   "execution_count": 6,
   "metadata": {},
   "outputs": [
    {
     "name": "stdout",
     "output_type": "stream",
     "text": [
      "['x1', 'x2']\n"
     ]
    }
   ],
   "source": [
    "objective_value_1 = [i[0] for i in output['F']]\n",
    "objective_value_2 = [i[1] for i in output['F']]\n",
    "columns = []\n",
    "for i in range(1,3):\n",
    "    columns.append('x'+str(i))\n",
    "print(columns)\n",
    "dataset = pd.DataFrame(data = ref_dirs,columns = columns)\n",
    "dataset['Objective 1'] = objective_value_1\n",
    "dataset['Objective 2'] = objective_value_2\n",
    "#dataset = pd.DataFrame(data=dict_data)"
   ]
  },
  {
   "cell_type": "code",
   "execution_count": 7,
   "metadata": {},
   "outputs": [
    {
     "data": {
      "text/html": [
       "<div>\n",
       "<style scoped>\n",
       "    .dataframe tbody tr th:only-of-type {\n",
       "        vertical-align: middle;\n",
       "    }\n",
       "\n",
       "    .dataframe tbody tr th {\n",
       "        vertical-align: top;\n",
       "    }\n",
       "\n",
       "    .dataframe thead th {\n",
       "        text-align: right;\n",
       "    }\n",
       "</style>\n",
       "<table border=\"1\" class=\"dataframe\">\n",
       "  <thead>\n",
       "    <tr style=\"text-align: right;\">\n",
       "      <th></th>\n",
       "      <th>x1</th>\n",
       "      <th>x2</th>\n",
       "      <th>Objective 1</th>\n",
       "      <th>Objective 2</th>\n",
       "    </tr>\n",
       "  </thead>\n",
       "  <tbody>\n",
       "    <tr>\n",
       "      <th>0</th>\n",
       "      <td>0.091687</td>\n",
       "      <td>0.612031</td>\n",
       "      <td>1.002068</td>\n",
       "      <td>0.145326</td>\n",
       "    </tr>\n",
       "    <tr>\n",
       "      <th>1</th>\n",
       "      <td>0.017316</td>\n",
       "      <td>0.348466</td>\n",
       "      <td>1.022584</td>\n",
       "      <td>0.027821</td>\n",
       "    </tr>\n",
       "    <tr>\n",
       "      <th>2</th>\n",
       "      <td>0.178670</td>\n",
       "      <td>0.416730</td>\n",
       "      <td>0.967537</td>\n",
       "      <td>0.278905</td>\n",
       "    </tr>\n",
       "    <tr>\n",
       "      <th>3</th>\n",
       "      <td>0.231708</td>\n",
       "      <td>0.136244</td>\n",
       "      <td>1.058143</td>\n",
       "      <td>0.403087</td>\n",
       "    </tr>\n",
       "    <tr>\n",
       "      <th>4</th>\n",
       "      <td>0.775703</td>\n",
       "      <td>0.955838</td>\n",
       "      <td>0.416784</td>\n",
       "      <td>1.133598</td>\n",
       "    </tr>\n",
       "  </tbody>\n",
       "</table>\n",
       "</div>"
      ],
      "text/plain": [
       "         x1        x2  Objective 1  Objective 2\n",
       "0  0.091687  0.612031     1.002068     0.145326\n",
       "1  0.017316  0.348466     1.022584     0.027821\n",
       "2  0.178670  0.416730     0.967537     0.278905\n",
       "3  0.231708  0.136244     1.058143     0.403087\n",
       "4  0.775703  0.955838     0.416784     1.133598"
      ]
     },
     "execution_count": 7,
     "metadata": {},
     "output_type": "execute_result"
    }
   ],
   "source": [
    "dataset.head()"
   ]
  },
  {
   "cell_type": "markdown",
   "metadata": {},
   "source": [
    "##### MOdelling on Objective 1"
   ]
  },
  {
   "cell_type": "code",
   "execution_count": 8,
   "metadata": {},
   "outputs": [],
   "source": [
    "X = dataset[columns].to_numpy()\n",
    "Y = dataset['Objective 1'].to_numpy().reshape(-1,1)"
   ]
  },
  {
   "cell_type": "code",
   "execution_count": 9,
   "metadata": {},
   "outputs": [
    {
     "name": "stderr",
     "output_type": "stream",
     "text": [
      "c:\\Users\\hp\\AppData\\Local\\Programs\\Python\\Python311\\Lib\\site-packages\\sklearn\\gaussian_process\\_gpr.py:616: ConvergenceWarning: lbfgs failed to converge (status=2):\n",
      "ABNORMAL_TERMINATION_IN_LNSRCH.\n",
      "\n",
      "Increase the number of iterations (max_iter) or scale the data as shown in:\n",
      "    https://scikit-learn.org/stable/modules/preprocessing.html\n",
      "  _check_optimize_result(\"lbfgs\", opt_res)\n"
     ]
    }
   ],
   "source": [
    "kernel_2 = C(1.0) * RBF(length_scale=0.1) \n",
    "#kernel =  RBF(length_scale=3) \n",
    "model_2 = GaussianProcessRegressor(kernel=kernel_2,n_restarts_optimizer=40,normalize_y=True,random_state=11).fit(X,Y)\n",
    "#output = {}\n",
    "#x= (np.array([x1,x2])).T\n",
    "#problem._evaluate(x,output)\n",
    "#data = [i[0] for i in output['F']]"
   ]
  },
  {
   "cell_type": "markdown",
   "metadata": {},
   "source": [
    "#### Model on Objective 2"
   ]
  },
  {
   "cell_type": "code",
   "execution_count": 10,
   "metadata": {},
   "outputs": [
    {
     "name": "stderr",
     "output_type": "stream",
     "text": [
      "c:\\Users\\hp\\AppData\\Local\\Programs\\Python\\Python311\\Lib\\site-packages\\sklearn\\gaussian_process\\_gpr.py:616: ConvergenceWarning: lbfgs failed to converge (status=2):\n",
      "ABNORMAL_TERMINATION_IN_LNSRCH.\n",
      "\n",
      "Increase the number of iterations (max_iter) or scale the data as shown in:\n",
      "    https://scikit-learn.org/stable/modules/preprocessing.html\n",
      "  _check_optimize_result(\"lbfgs\", opt_res)\n"
     ]
    }
   ],
   "source": [
    "X = dataset[columns].to_numpy()\n",
    "Y = dataset['Objective 2'].to_numpy().reshape(-1,1)\n",
    "kernel_2 = C(1.0) * RBF(length_scale=0.1) \n",
    "#kernel =  RBF(length_scale=3) \n",
    "model_3 = GaussianProcessRegressor(kernel=kernel_2,n_restarts_optimizer=30,normalize_y=True,random_state=12).fit(X,Y)"
   ]
  },
  {
   "cell_type": "markdown",
   "metadata": {},
   "source": [
    "#### Creating Custom Problem that will use my Gaussian Models as Objective Functions"
   ]
  },
  {
   "cell_type": "code",
   "execution_count": 17,
   "metadata": {},
   "outputs": [],
   "source": [
    "class CustomProblemExploit(Problem):\n",
    "\n",
    "    def __init__(self):\n",
    "        super().__init__(n_var=2, n_obj=4,xl=0,xu=1)\n",
    "\n",
    "    def _evaluate(self, x, out, *args, **kwargs):\n",
    "        objective_values = []\n",
    "        if(len(x)==1):\n",
    "            value = np.array(x).reshape(1,-1)\n",
    "            mean_1,std_1 = model_2.predict(value,return_std=True) \n",
    "            mean,std = model_3.predict(value,return_std=True)\n",
    "            objective_values = [mean_1,-std_1,mean,-std]\n",
    "        else:\n",
    "            mean_1,std_1 = model_2.predict(x,return_std=True) \n",
    "            mean,std = model_3.predict(x,return_std=True)\n",
    "            #print(mean)\n",
    "            for  i in range(len(mean_1)):\n",
    "                objective_values.append([mean_1[i],-std_1[i],mean[i],-std[i]])\n",
    "        out[\"F\"] = objective_values"
   ]
  },
  {
   "cell_type": "code",
   "execution_count": 18,
   "metadata": {},
   "outputs": [],
   "source": [
    "class CustomProblemExplore(Problem):\n",
    "\n",
    "    def __init__(self):\n",
    "        super().__init__(n_var=2, n_obj=2,xl=0,xu=1)\n",
    "\n",
    "    def _evaluate(self, x, out, *args, **kwargs):\n",
    "        objective_values = []\n",
    "        if(len(x)==1):\n",
    "            value = np.array(x).reshape(1,-1)\n",
    "            mean_1,std_1 = model_2.predict(value,return_std=True) \n",
    "            mean,std = model_3.predict(value,return_std=True)\n",
    "            objective_values = [mean_1,mean]\n",
    "        else:\n",
    "            mean_1,std_1 = model_2.predict(x,return_std=True) \n",
    "            mean,std = model_3.predict(x,return_std=True)\n",
    "            #print(mean)\n",
    "            for  i in range(len(mean_1)):\n",
    "                objective_values.append([mean_1[i],mean[i]])\n",
    "        out[\"F\"] = objective_values"
   ]
  },
  {
   "cell_type": "code",
   "execution_count": 14,
   "metadata": {},
   "outputs": [],
   "source": [
    "def epsilon_greedy_method(epsilon,problem_1,problem_2,algorithm):\n",
    "    if(np.random.uniform(0,1)<epsilon):\n",
    "        res=minimize(problem_1,algorithm,\n",
    "                ('n_gen', 50),\n",
    "                seed=1,\n",
    "                verbose=False,\n",
    "                save_history=True)\n",
    "        index = random.randrange(0,len(res.F))\n",
    "        values =  res.X\n",
    "        return values[index]\n",
    "    else:\n",
    "        res=minimize(problem_2,algorithm,\n",
    "                ('n_gen', 50),\n",
    "                seed=1,\n",
    "                verbose=False,\n",
    "                save_history=True)\n",
    "        index = random.randrange(0,len(res.F))\n",
    "        values =  res.X\n",
    "        return values[index]\n",
    "        "
   ]
  },
  {
   "cell_type": "code",
   "execution_count": 25,
   "metadata": {},
   "outputs": [],
   "source": [
    "# non dominated sorting\n",
    "\n",
    "def fast_non_dominated_sort(F, **kwargs):\n",
    "    \n",
    "    M = Dominator.calc_domination_matrix(F)\n",
    "\n",
    "    # calculate the dominance matrix\n",
    "    n = M.shape[0]\n",
    "\n",
    "    fronts = []\n",
    "\n",
    "    if n == 0:\n",
    "        return fronts\n",
    "\n",
    "    # final rank that will be returned\n",
    "    n_ranked = 0\n",
    "    ranked = np.zeros(n, dtype=int)\n",
    "\n",
    "    # for each individual a list of all individuals that are dominated by this one\n",
    "    is_dominating = [[] for _ in range(n)]\n",
    "\n",
    "    # storage for the number of solutions dominated this one\n",
    "    n_dominated = np.zeros(n)\n",
    "\n",
    "    current_front = []\n",
    "\n",
    "    for i in range(n):\n",
    "\n",
    "        for j in range(i + 1, n):\n",
    "            rel = M[i, j]\n",
    "            if rel == 1:\n",
    "                is_dominating[i].append(j)\n",
    "                n_dominated[j] += 1\n",
    "            elif rel == -1:\n",
    "                is_dominating[j].append(i)\n",
    "                n_dominated[i] += 1\n",
    "\n",
    "        if n_dominated[i] == 0:\n",
    "            current_front.append(i)\n",
    "            ranked[i] = 1.0\n",
    "            n_ranked += 1\n",
    "\n",
    "    # append the first front to the current front\n",
    "    fronts.append(current_front)\n",
    "\n",
    "    # while not all solutions are assigned to a pareto front\n",
    "    while n_ranked < n:\n",
    "\n",
    "        next_front = []\n",
    "\n",
    "        # for each individual in the current front\n",
    "        for i in current_front:\n",
    "\n",
    "            # all solutions that are dominated by this individuals\n",
    "            for j in is_dominating[i]:\n",
    "                n_dominated[j] -= 1\n",
    "                if n_dominated[j] == 0:\n",
    "                    next_front.append(j)\n",
    "                    ranked[j] = 1.0\n",
    "                    n_ranked += 1\n",
    "\n",
    "        fronts.append(next_front)\n",
    "        current_front = next_front\n",
    "\n",
    "    return fronts"
   ]
  },
  {
   "cell_type": "code",
   "execution_count": 35,
   "metadata": {},
   "outputs": [],
   "source": [
    "def optimize_problem(algorithm, problem_1,problem_2):\n",
    "    data = []\n",
    "    Hypervolume  = []\n",
    "    for i in range(50):\n",
    "        data.append(epsilon_greedy_method(0.1,problem_1,problem_2,algorithm))\n",
    "        new_data = list(ref_dirs) + data\n",
    "        new_data = np.array(new_data)\n",
    "        output = {}\n",
    "        new_objectives  = problem._evaluate(new_data,output)\n",
    "        new_dataset = pd.DataFrame(data = new_data,columns = columns)\n",
    "        new_obj1 = [i[0] for i in output['F']]\n",
    "        new_obj2 = [i[1] for i in output['F']]\n",
    "        new_dataset['Objective 1']  = new_obj1\n",
    "        new_dataset['Objective 2'] = new_obj2\n",
    "        objectives_new = []\n",
    "        objectives1_new = list(new_dataset['Objective 1'])\n",
    "        objectives2_new = list(new_dataset['Objective 2'])\n",
    "        for j in range(len(new_dataset['Objective 1'])):\n",
    "            objectives_new.append([objectives1_new[j],objectives2_new[j]])\n",
    "        #print('Calculating Front')\n",
    "        fronts_new = fast_non_dominated_sort(np.array(objectives_new))\n",
    "        ref_vector  = [max(objectives1_new),max(objectives2_new)]\n",
    "        objectives  = np.array(objectives_new)\n",
    "        #print('Calculating Hypervolumne',objectives[fronts_new[0]])\n",
    "        ind = HV(ref_point=ref_vector)\n",
    "        Hypervolume.append(ind(objectives[fronts_new[0]]))\n",
    "        print('Iteration : {0} Hypervolume of Non Dominated Front is {1}'.format(i,ind(objectives[fronts_new[0]])))\n",
    "    plt.plot(list(range(1,51)),Hypervolume)\n",
    "    plt.title('Hypervolume Increase in 50 Generations')\n",
    "    plt.show()\n"
   ]
  },
  {
   "cell_type": "code",
   "execution_count": 44,
   "metadata": {},
   "outputs": [],
   "source": [
    "problem_1 = CustomProblemExploit()\n",
    "problem_2 = CustomProblemExplore()\n",
    "algorithm = NSGA2(pop_size = 100)\n",
    "algorithm_2 = MOEAD(ref_dirs=weight_vectors)\n",
    "algorithm_3 = NSGA3(ref_dirs=weight_vectors)\n"
   ]
  },
  {
   "cell_type": "code",
   "execution_count": 36,
   "metadata": {},
   "outputs": [
    {
     "name": "stdout",
     "output_type": "stream",
     "text": [
      "Iteration : 0 Hypervolume of Non Dominated Front is 0.48243748715999735\n",
      "Iteration : 1 Hypervolume of Non Dominated Front is 0.48243748715999735\n",
      "Iteration : 2 Hypervolume of Non Dominated Front is 0.48243748715999735\n",
      "Iteration : 3 Hypervolume of Non Dominated Front is 0.48243748715999735\n",
      "Iteration : 4 Hypervolume of Non Dominated Front is 0.48243748715999735\n",
      "Iteration : 5 Hypervolume of Non Dominated Front is 0.48243748715999735\n",
      "Iteration : 6 Hypervolume of Non Dominated Front is 0.48243748715999735\n",
      "Iteration : 7 Hypervolume of Non Dominated Front is 0.48243748715999735\n",
      "Iteration : 8 Hypervolume of Non Dominated Front is 0.48243748715999735\n",
      "Iteration : 9 Hypervolume of Non Dominated Front is 0.48243748715999735\n",
      "Iteration : 10 Hypervolume of Non Dominated Front is 0.48243748715999735\n",
      "Iteration : 11 Hypervolume of Non Dominated Front is 0.48243748715999735\n",
      "Iteration : 12 Hypervolume of Non Dominated Front is 0.48243748715999735\n",
      "Iteration : 13 Hypervolume of Non Dominated Front is 0.48243748715999735\n",
      "Iteration : 14 Hypervolume of Non Dominated Front is 0.48243748715999735\n",
      "Iteration : 15 Hypervolume of Non Dominated Front is 0.48243748715999735\n",
      "Iteration : 16 Hypervolume of Non Dominated Front is 0.48243748715999735\n",
      "Iteration : 17 Hypervolume of Non Dominated Front is 0.48243748715999735\n",
      "Iteration : 18 Hypervolume of Non Dominated Front is 0.48243748715999735\n",
      "Iteration : 19 Hypervolume of Non Dominated Front is 0.48243748715999735\n",
      "Iteration : 20 Hypervolume of Non Dominated Front is 0.48243748715999735\n",
      "Iteration : 21 Hypervolume of Non Dominated Front is 0.48243748715999735\n",
      "Iteration : 22 Hypervolume of Non Dominated Front is 0.48243748715999735\n",
      "Iteration : 23 Hypervolume of Non Dominated Front is 0.48243748715999735\n",
      "Iteration : 24 Hypervolume of Non Dominated Front is 0.48243748715999735\n",
      "Iteration : 25 Hypervolume of Non Dominated Front is 0.48243748715999735\n",
      "Iteration : 26 Hypervolume of Non Dominated Front is 0.48243748715999735\n",
      "Iteration : 27 Hypervolume of Non Dominated Front is 0.48243748715999735\n",
      "Iteration : 28 Hypervolume of Non Dominated Front is 0.48243748715999735\n",
      "Iteration : 29 Hypervolume of Non Dominated Front is 0.48243748715999735\n",
      "Iteration : 30 Hypervolume of Non Dominated Front is 0.48243748715999735\n",
      "Iteration : 31 Hypervolume of Non Dominated Front is 0.48243748715999735\n",
      "Iteration : 32 Hypervolume of Non Dominated Front is 0.48243748715999735\n",
      "Iteration : 33 Hypervolume of Non Dominated Front is 0.48243748715999735\n",
      "Iteration : 34 Hypervolume of Non Dominated Front is 0.48243748715999735\n",
      "Iteration : 35 Hypervolume of Non Dominated Front is 0.48243748715999735\n",
      "Iteration : 36 Hypervolume of Non Dominated Front is 0.48243748715999735\n",
      "Iteration : 37 Hypervolume of Non Dominated Front is 0.48243748715999735\n",
      "Iteration : 38 Hypervolume of Non Dominated Front is 0.48243748715999735\n",
      "Iteration : 39 Hypervolume of Non Dominated Front is 0.48243748715999735\n",
      "Iteration : 40 Hypervolume of Non Dominated Front is 0.48243748715999735\n",
      "Iteration : 41 Hypervolume of Non Dominated Front is 0.48243748715999735\n",
      "Iteration : 42 Hypervolume of Non Dominated Front is 0.48243748715999735\n",
      "Iteration : 43 Hypervolume of Non Dominated Front is 0.48243748715999735\n",
      "Iteration : 44 Hypervolume of Non Dominated Front is 0.48243748715999735\n",
      "Iteration : 45 Hypervolume of Non Dominated Front is 0.48243748715999735\n",
      "Iteration : 46 Hypervolume of Non Dominated Front is 0.48243748715999735\n",
      "Iteration : 47 Hypervolume of Non Dominated Front is 0.48243748715999735\n",
      "Iteration : 48 Hypervolume of Non Dominated Front is 0.48243748715999735\n",
      "Iteration : 49 Hypervolume of Non Dominated Front is 0.48243748715999735\n"
     ]
    },
    {
     "data": {
      "image/png": "[encoded data removed]",
      "text/plain": [
       "<Figure size 640x480 with 1 Axes>"
      ]
     },
     "metadata": {},
     "output_type": "display_data"
    }
   ],
   "source": [
    "optimize_problem(algorithm,problem_1,problem_2)\n"
   ]
  },
  {
   "cell_type": "code",
   "execution_count": 42,
   "metadata": {},
   "outputs": [
    {
     "name": "stdout",
     "output_type": "stream",
     "text": [
      "Iteration : 0 Hypervolume of Non Dominated Front is 0.48340860462600765\n",
      "Iteration : 1 Hypervolume of Non Dominated Front is 0.48773477715110747\n",
      "Iteration : 2 Hypervolume of Non Dominated Front is 0.48773477715110747\n",
      "Iteration : 3 Hypervolume of Non Dominated Front is 0.48773477715110747\n",
      "Iteration : 4 Hypervolume of Non Dominated Front is 0.48773477715110747\n",
      "Iteration : 5 Hypervolume of Non Dominated Front is 0.48773477715110747\n",
      "Iteration : 6 Hypervolume of Non Dominated Front is 0.48773477715110747\n",
      "Iteration : 7 Hypervolume of Non Dominated Front is 0.48773477715110747\n",
      "Iteration : 8 Hypervolume of Non Dominated Front is 0.48773477715110747\n",
      "Iteration : 9 Hypervolume of Non Dominated Front is 0.48773477715110747\n",
      "Iteration : 10 Hypervolume of Non Dominated Front is 0.48773477715110747\n",
      "Iteration : 11 Hypervolume of Non Dominated Front is 0.48773477715110747\n",
      "Iteration : 12 Hypervolume of Non Dominated Front is 0.48773477715110747\n",
      "Iteration : 13 Hypervolume of Non Dominated Front is 0.48773477715110747\n",
      "Iteration : 14 Hypervolume of Non Dominated Front is 0.48773477715110747\n",
      "Iteration : 15 Hypervolume of Non Dominated Front is 0.48773477715110747\n",
      "Iteration : 16 Hypervolume of Non Dominated Front is 0.48773477715110747\n",
      "Iteration : 17 Hypervolume of Non Dominated Front is 0.48773477715110747\n",
      "Iteration : 18 Hypervolume of Non Dominated Front is 0.48773477715110747\n",
      "Iteration : 19 Hypervolume of Non Dominated Front is 0.48773477715110747\n",
      "Iteration : 20 Hypervolume of Non Dominated Front is 0.48773477715110747\n",
      "Iteration : 21 Hypervolume of Non Dominated Front is 0.48773477715110747\n",
      "Iteration : 22 Hypervolume of Non Dominated Front is 0.48773477715110747\n",
      "Iteration : 23 Hypervolume of Non Dominated Front is 0.48773477715110747\n",
      "Iteration : 24 Hypervolume of Non Dominated Front is 0.48773477715110747\n",
      "Iteration : 25 Hypervolume of Non Dominated Front is 0.48773477715110747\n",
      "Iteration : 26 Hypervolume of Non Dominated Front is 0.48773477715110747\n",
      "Iteration : 27 Hypervolume of Non Dominated Front is 0.48773477715110747\n",
      "Iteration : 28 Hypervolume of Non Dominated Front is 0.48773477715110747\n",
      "Iteration : 29 Hypervolume of Non Dominated Front is 0.48773477715110747\n",
      "Iteration : 30 Hypervolume of Non Dominated Front is 0.48773477715110747\n",
      "Iteration : 31 Hypervolume of Non Dominated Front is 0.48773477715110747\n",
      "Iteration : 32 Hypervolume of Non Dominated Front is 0.48773477715110747\n",
      "Iteration : 33 Hypervolume of Non Dominated Front is 0.48773477715110747\n",
      "Iteration : 34 Hypervolume of Non Dominated Front is 0.48773477715110747\n",
      "Iteration : 35 Hypervolume of Non Dominated Front is 0.48773477715110747\n",
      "Iteration : 36 Hypervolume of Non Dominated Front is 0.48773477715110747\n",
      "Iteration : 37 Hypervolume of Non Dominated Front is 0.48773477715110747\n",
      "Iteration : 38 Hypervolume of Non Dominated Front is 0.48773477715110747\n",
      "Iteration : 39 Hypervolume of Non Dominated Front is 0.48773477715110747\n",
      "Iteration : 40 Hypervolume of Non Dominated Front is 0.48773477715110747\n",
      "Iteration : 41 Hypervolume of Non Dominated Front is 0.48773477715110747\n",
      "Iteration : 42 Hypervolume of Non Dominated Front is 0.48773477715110747\n",
      "Iteration : 43 Hypervolume of Non Dominated Front is 0.48773477715110747\n",
      "Iteration : 44 Hypervolume of Non Dominated Front is 0.48773477715110747\n",
      "Iteration : 45 Hypervolume of Non Dominated Front is 0.48773477715110747\n",
      "Iteration : 46 Hypervolume of Non Dominated Front is 0.48773477715110747\n",
      "Iteration : 47 Hypervolume of Non Dominated Front is 0.48773477715110747\n",
      "Iteration : 48 Hypervolume of Non Dominated Front is 0.48773477715110747\n",
      "Iteration : 49 Hypervolume of Non Dominated Front is 0.48773477715110747\n"
     ]
    },
    {
     "data": {
      "image/png": "[encoded data removed]",
      "text/plain": [
       "<Figure size 640x480 with 1 Axes>"
      ]
     },
     "metadata": {},
     "output_type": "display_data"
    }
   ],
   "source": [
    "optimize_problem(algorithm_2,problem_1,problem_2)\n"
   ]
  },
  {
   "cell_type": "code",
   "execution_count": 45,
   "metadata": {},
   "outputs": [
    {
     "name": "stdout",
     "output_type": "stream",
     "text": [
      "Iteration : 0 Hypervolume of Non Dominated Front is 0.48243748715999735\n",
      "Iteration : 1 Hypervolume of Non Dominated Front is 0.48243748715999735\n",
      "Iteration : 2 Hypervolume of Non Dominated Front is 0.48243748715999735\n",
      "Iteration : 3 Hypervolume of Non Dominated Front is 0.48243748715999735\n",
      "Iteration : 4 Hypervolume of Non Dominated Front is 0.48243748715999735\n",
      "Iteration : 5 Hypervolume of Non Dominated Front is 0.48243748715999735\n",
      "Iteration : 6 Hypervolume of Non Dominated Front is 0.48243748715999735\n",
      "Iteration : 7 Hypervolume of Non Dominated Front is 0.48243748715999735\n",
      "Iteration : 8 Hypervolume of Non Dominated Front is 0.48243748715999735\n",
      "Iteration : 9 Hypervolume of Non Dominated Front is 0.48243748715999735\n",
      "Iteration : 10 Hypervolume of Non Dominated Front is 0.48243748715999735\n",
      "Iteration : 11 Hypervolume of Non Dominated Front is 0.48243748715999735\n",
      "Iteration : 12 Hypervolume of Non Dominated Front is 0.48243748715999735\n",
      "Iteration : 13 Hypervolume of Non Dominated Front is 0.48243748715999735\n",
      "Iteration : 14 Hypervolume of Non Dominated Front is 0.48243748715999735\n",
      "Iteration : 15 Hypervolume of Non Dominated Front is 0.48243748715999735\n",
      "Iteration : 16 Hypervolume of Non Dominated Front is 0.48243748715999735\n",
      "Iteration : 17 Hypervolume of Non Dominated Front is 0.48243748715999735\n",
      "Iteration : 18 Hypervolume of Non Dominated Front is 0.48243748715999735\n",
      "Iteration : 19 Hypervolume of Non Dominated Front is 0.48243748715999735\n",
      "Iteration : 20 Hypervolume of Non Dominated Front is 0.48243748715999735\n",
      "Iteration : 21 Hypervolume of Non Dominated Front is 0.48243748715999735\n",
      "Iteration : 22 Hypervolume of Non Dominated Front is 0.48243748715999735\n",
      "Iteration : 23 Hypervolume of Non Dominated Front is 0.48243748715999735\n",
      "Iteration : 24 Hypervolume of Non Dominated Front is 0.48243748715999735\n",
      "Iteration : 25 Hypervolume of Non Dominated Front is 0.48243748715999735\n",
      "Iteration : 26 Hypervolume of Non Dominated Front is 0.48243748715999735\n",
      "Iteration : 27 Hypervolume of Non Dominated Front is 0.48243748715999735\n",
      "Iteration : 28 Hypervolume of Non Dominated Front is 0.48243748715999735\n",
      "Iteration : 29 Hypervolume of Non Dominated Front is 0.48243748715999735\n",
      "Iteration : 30 Hypervolume of Non Dominated Front is 0.48243748715999735\n",
      "Iteration : 31 Hypervolume of Non Dominated Front is 0.48243748715999735\n",
      "Iteration : 32 Hypervolume of Non Dominated Front is 0.48243748715999735\n",
      "Iteration : 33 Hypervolume of Non Dominated Front is 0.48243748715999735\n",
      "Iteration : 34 Hypervolume of Non Dominated Front is 0.48243748715999735\n",
      "Iteration : 35 Hypervolume of Non Dominated Front is 0.48243748715999735\n",
      "Iteration : 36 Hypervolume of Non Dominated Front is 0.48243748715999735\n",
      "Iteration : 37 Hypervolume of Non Dominated Front is 0.48243748715999735\n",
      "Iteration : 38 Hypervolume of Non Dominated Front is 0.48243748715999735\n",
      "Iteration : 39 Hypervolume of Non Dominated Front is 0.48243748715999735\n",
      "Iteration : 40 Hypervolume of Non Dominated Front is 0.48243748715999735\n",
      "Iteration : 41 Hypervolume of Non Dominated Front is 0.48243748715999735\n",
      "Iteration : 42 Hypervolume of Non Dominated Front is 0.48243748715999735\n",
      "Iteration : 43 Hypervolume of Non Dominated Front is 0.48243748715999735\n",
      "Iteration : 44 Hypervolume of Non Dominated Front is 0.48243748715999735\n",
      "Iteration : 45 Hypervolume of Non Dominated Front is 0.48243748715999735\n",
      "Iteration : 46 Hypervolume of Non Dominated Front is 0.48243748715999735\n",
      "Iteration : 47 Hypervolume of Non Dominated Front is 0.48243748715999735\n",
      "Iteration : 48 Hypervolume of Non Dominated Front is 0.48243748715999735\n",
      "Iteration : 49 Hypervolume of Non Dominated Front is 0.48243748715999735\n"
     ]
    },
    {
     "data": {
      "image/png": "[encoded data removed]",
      "text/plain": [
       "<Figure size 640x480 with 1 Axes>"
      ]
     },
     "metadata": {},
     "output_type": "display_data"
    }
   ],
   "source": [
    "optimize_problem(algorithm_3,problem_1,problem_2)"
   ]
  },
  {
   "cell_type": "code",
   "execution_count": null,
   "metadata": {},
   "outputs": [],
   "source": []
  }
 ],
 "metadata": {
  "kernelspec": {
   "display_name": "Python 3.11.0 64-bit",
   "language": "python",
   "name": "python3"
  },
  "language_info": {
   "codemirror_mode": {
    "name": "ipython",
    "version": 3
   },
   "file_extension": ".py",
   "mimetype": "text/x-python",
   "name": "python",
   "nbconvert_exporter": "python",
   "pygments_lexer": "ipython3",
   "version": "3.11.0"
  },
  "orig_nbformat": 4,
  "vscode": {
   "interpreter": {
    "hash": "b98f472bb8ba48098397e3b897b5be76f7bf0e62d98845cdb0e8066dc5677259"
   }
  }
 },
 "nbformat": 4,
 "nbformat_minor": 2
}
