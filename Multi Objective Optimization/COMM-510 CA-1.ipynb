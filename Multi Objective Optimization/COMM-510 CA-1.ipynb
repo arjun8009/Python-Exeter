{
 "cells": [
  {
   "cell_type": "markdown",
   "id": "df94b277",
   "metadata": {},
   "source": [
    "### Which MOEA is the Best ?"
   ]
  },
  {
   "cell_type": "markdown",
   "id": "f5c84de9",
   "metadata": {},
   "source": [
    "Algorithms to be considered\n",
    "* PAES(1+1)\n",
    "* PAES(1+|A|)\n",
    "* SPEA 2\n",
    "* NSGA 2\n",
    "* MOEA/D (Chebychev , Weighted sum , Penalty Boundary Intersection)\n",
    "* NSGA 3"
   ]
  },
  {
   "cell_type": "markdown",
   "id": "5b81343c",
   "metadata": {},
   "source": [
    "Literature Review:\n",
    "* papers on all these algorithms (Foundational Papers)\n",
    "* Test Problems Definitions \n",
    "* Evaluation Metrics (Strongly Pareto Compliant and Weakly Pareto Compliant)"
   ]
  },
  {
   "cell_type": "code",
   "execution_count": 24,
   "id": "8f4d929a",
   "metadata": {},
   "outputs": [
    {
     "name": "stdout",
     "output_type": "stream",
     "text": [
      "==========================================================================================================\n",
      "n_gen  |  n_eval  | n_nds  |      igd      |       gd      |       hv      |      igd+     |      gd+     \n",
      "==========================================================================================================\n",
      "     1 |     1000 |     21 |  0.2553826449 |  0.4167162640 |  0.0298997870 |  0.2501945841 |  0.4167162629\n",
      "     2 |     2000 |     21 |  0.2084496407 |  0.3921714517 |  0.0419878932 |  0.2067178296 |  0.3921714506\n",
      "     3 |     3000 |     23 |  0.1493522873 |  0.2679981175 |  0.0721297437 |  0.1373112127 |  0.2679979383\n",
      "     4 |     4000 |     27 |  0.1183466943 |  0.2486509771 |  0.0880531409 |  0.1144693870 |  0.2486502345\n",
      "==========================================================================================================\n",
      "n_gen  |  n_eval  | n_nds  |      igd      |       gd      |       hv      |      igd+     |      gd+     \n",
      "==========================================================================================================\n",
      "     1 |     1000 |     17 |  0.2432514650 |  0.3859681103 |  0.0238110585 |  0.2408632497 |  0.3859681103\n",
      "     2 |     2000 |     26 |  0.1826342354 |  0.2968381813 |  0.0466920877 |  0.1785612813 |  0.2968381813\n",
      "     3 |     3000 |     31 |  0.1383944650 |  0.2636156356 |  0.0733817899 |  0.1370565163 |  0.2636150619\n",
      "     4 |     4000 |     38 |  0.1193097386 |  0.1696220907 |  0.1040105598 |  0.1155050359 |  0.1696203121\n"
     ]
    }
   ],
   "source": [
    "model_list = []\n",
    "from pymoo.algorithms.moo.spea2 import SPEA2\n",
    "from pymoo.problems.many import DTLZ2\n",
    "from pymoo.optimize import minimize\n",
    "problem = DTLZ2(n_obj=2)\n",
    "algorithm = SPEA2(pop_size=1000)\n",
    "for i in range(5):\n",
    "    model_list.append(minimize(problem,\n",
    "                algorithm,\n",
    "                ('n_gen', 4),\n",
    "                save_history = True,\n",
    "                verbose=True))"
   ]
  },
  {
   "cell_type": "code",
   "execution_count": 25,
   "id": "f1eebc42",
   "metadata": {},
   "outputs": [],
   "source": [
    "data_hv_per_gen = []\n",
    "for i in model_list:\n",
    "    data = []\n",
    "    for j in range(4):\n",
    "        data.append(i.history[j].output.hv.value)\n",
    "    data_hv_per_gen.append(data)\n",
    "    "
   ]
  },
  {
   "cell_type": "code",
   "execution_count": 26,
   "id": "56bcb8d5",
   "metadata": {},
   "outputs": [
    {
     "data": {
      "text/plain": [
       "[[0.029899787006212097,\n",
       "  0.041987893229116516,\n",
       "  0.07212974374960487,\n",
       "  0.08805314090639976],\n",
       " [0.023811058487330942,\n",
       "  0.046692087665613,\n",
       "  0.07338178986759754,\n",
       "  0.1040105598268996]]"
      ]
     },
     "execution_count": 26,
     "metadata": {},
     "output_type": "execute_result"
    }
   ],
   "source": [
    "data_hv_per_gen"
   ]
  },
  {
   "cell_type": "code",
   "execution_count": 29,
   "id": "c1347c41",
   "metadata": {},
   "outputs": [
    {
     "data": {
      "image/png": "[encoded data removed]",
      "text/plain": [
       "<Figure size 640x480 with 1 Axes>"
      ]
     },
     "metadata": {},
     "output_type": "display_data"
    }
   ],
   "source": [
    "import matplotlib.pyplot as plt\n",
    "plt.figure()\n",
    "plt.scatter([1,2,3,4],data_hv_per_gen[0])\n",
    "plt.plot([1,2,3,4],data_hv_per_gen[0])\n",
    "plt.ylabel('Hypervolume Improvement per Gen')\n",
    "plt.xlabel('Generations')\n",
    "plt.show()"
   ]
  },
  {
   "cell_type": "code",
   "execution_count": null,
   "id": "b6e6ee28",
   "metadata": {},
   "outputs": [],
   "source": [
    "from pymoo.algorithms.moo.spea2 import NSGA2\n",
    "from pymoo.problems.many import DTLZ2\n",
    "from pymoo.optimize import minimize\n",
    "model_list_nsga2 = []\n",
    "problem = DTLZ2(n_obj=2)\n",
    "algorithm = NSGA2(pop_size=1000)\n",
    "for i in range(5):\n",
    "    model_list_nsga2.append(minimize(problem,\n",
    "               algorithm,\n",
    "               ('n_gen', 10),\n",
    "               seed=1,\n",
    "               verbose=True))"
   ]
  },
  {
   "cell_type": "code",
   "execution_count": null,
   "id": "445809ac",
   "metadata": {},
   "outputs": [],
   "source": [
    "from pymoo.algorithms.moo.spea2 import MOEAD\n",
    "from pymoo.problems.many import DTLZ2\n",
    "from pymoo.util.ref_dirs import get_reference_directions\n",
    "from pymoo.optimize import minimize\n",
    "model_list_moead = []\n",
    "problem = DTLZ2(n_obj=2)\n",
    "ref_dirs = get_reference_directions('energy',3,90,seed=1)\n",
    "algorithm = MOEAD(ref_dirs=ref_dirs , n_neighbours=15)\n",
    "for i in range(5):\n",
    "    model_list_moead.append(minimize(problem,\n",
    "               algorithm,\n",
    "               ('n_gen', 10),\n",
    "               seed=1,\n",
    "               verbose=True))"
   ]
  },
  {
   "cell_type": "code",
   "execution_count": null,
   "id": "c7085591",
   "metadata": {},
   "outputs": [],
   "source": [
    "from pymoo.algorithms.moo.rnsga2 import RNSGA2\n",
    "from pymoo.problems.many import DTLZ2\n",
    "from pymoo.optimize import minimize\n",
    "model_list_rnsga2 = []\n",
    "problem = DTLZ2(n_obj=2)\n",
    "algorithm = RNSGA2(pop_size = 1000,extreme_points_as_reference_points=True)\n",
    "for i in range(5):\n",
    "    model_list_rnsga2.append(minimize(problem,\n",
    "               algorithm,\n",
    "               ('n_gen', 10),\n",
    "               seed=1,\n",
    "               verbose=True))"
   ]
  },
  {
   "cell_type": "code",
   "execution_count": null,
   "id": "b03ab428",
   "metadata": {},
   "outputs": [],
   "source": [
    "from pymoo.algorithms.moo.nsga3 import NSGA3\n",
    "from pymoo.problems.many import DTLZ2\n",
    "from pymoo.util.ref_dirs import get_reference_directions\n",
    "from pymoo.optimize import minimize\n",
    "model_list_nsga3 = []\n",
    "problem = DTLZ2(n_obj=2)\n",
    "ref_dirs = get_reference_directions('energy',3,90,seed=1)\n",
    "algorithm = NSGA3(ref_dirs=ref_dirs)\n",
    "for i in range(5):\n",
    "    model_list_nsga3.append(minimize(problem,\n",
    "               algorithm,\n",
    "               ('n_gen', 10),\n",
    "               seed=1,\n",
    "               verbose=True))"
   ]
  }
 ],
 "metadata": {
  "kernelspec": {
   "display_name": "Python 3.11.0 64-bit",
   "language": "python",
   "name": "python3"
  },
  "language_info": {
   "codemirror_mode": {
    "name": "ipython",
    "version": 3
   },
   "file_extension": ".py",
   "mimetype": "text/x-python",
   "name": "python",
   "nbconvert_exporter": "python",
   "pygments_lexer": "ipython3",
   "version": "3.11.0"
  },
  "vscode": {
   "interpreter": {
    "hash": "b98f472bb8ba48098397e3b897b5be76f7bf0e62d98845cdb0e8066dc5677259"
   }
  }
 },
 "nbformat": 4,
 "nbformat_minor": 5
}
