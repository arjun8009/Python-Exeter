{
 "cells": [
  {
   "cell_type": "code",
   "execution_count": 16,
   "metadata": {},
   "outputs": [],
   "source": [
    "import pandas as pd\n",
    "import numpy as np"
   ]
  },
  {
   "cell_type": "code",
   "execution_count": 17,
   "metadata": {},
   "outputs": [
    {
     "data": {
      "text/html": [
       "<div>\n",
       "<style scoped>\n",
       "    .dataframe tbody tr th:only-of-type {\n",
       "        vertical-align: middle;\n",
       "    }\n",
       "\n",
       "    .dataframe tbody tr th {\n",
       "        vertical-align: top;\n",
       "    }\n",
       "\n",
       "    .dataframe thead th {\n",
       "        text-align: right;\n",
       "    }\n",
       "</style>\n",
       "<table border=\"1\" class=\"dataframe\">\n",
       "  <thead>\n",
       "    <tr style=\"text-align: right;\">\n",
       "      <th></th>\n",
       "      <th>4.489109206338354197e-01</th>\n",
       "      <th>1.152543602374665355e+00</th>\n",
       "    </tr>\n",
       "  </thead>\n",
       "  <tbody>\n",
       "    <tr>\n",
       "      <th>0</th>\n",
       "      <td>0.575619</td>\n",
       "      <td>1.101881</td>\n",
       "    </tr>\n",
       "    <tr>\n",
       "      <th>1</th>\n",
       "      <td>1.136860</td>\n",
       "      <td>0.732040</td>\n",
       "    </tr>\n",
       "    <tr>\n",
       "      <th>2</th>\n",
       "      <td>0.207543</td>\n",
       "      <td>1.099134</td>\n",
       "    </tr>\n",
       "    <tr>\n",
       "      <th>3</th>\n",
       "      <td>0.986390</td>\n",
       "      <td>0.548399</td>\n",
       "    </tr>\n",
       "    <tr>\n",
       "      <th>4</th>\n",
       "      <td>0.002896</td>\n",
       "      <td>1.625912</td>\n",
       "    </tr>\n",
       "    <tr>\n",
       "      <th>...</th>\n",
       "      <td>...</td>\n",
       "      <td>...</td>\n",
       "    </tr>\n",
       "    <tr>\n",
       "      <th>94</th>\n",
       "      <td>1.228242</td>\n",
       "      <td>0.035492</td>\n",
       "    </tr>\n",
       "    <tr>\n",
       "      <th>95</th>\n",
       "      <td>1.256985</td>\n",
       "      <td>0.440264</td>\n",
       "    </tr>\n",
       "    <tr>\n",
       "      <th>96</th>\n",
       "      <td>1.087160</td>\n",
       "      <td>0.616679</td>\n",
       "    </tr>\n",
       "    <tr>\n",
       "      <th>97</th>\n",
       "      <td>0.140289</td>\n",
       "      <td>1.411173</td>\n",
       "    </tr>\n",
       "    <tr>\n",
       "      <th>98</th>\n",
       "      <td>1.494624</td>\n",
       "      <td>0.684253</td>\n",
       "    </tr>\n",
       "  </tbody>\n",
       "</table>\n",
       "<p>99 rows × 2 columns</p>\n",
       "</div>"
      ],
      "text/plain": [
       "    4.489109206338354197e-01  1.152543602374665355e+00\n",
       "0                   0.575619                  1.101881\n",
       "1                   1.136860                  0.732040\n",
       "2                   0.207543                  1.099134\n",
       "3                   0.986390                  0.548399\n",
       "4                   0.002896                  1.625912\n",
       "..                       ...                       ...\n",
       "94                  1.228242                  0.035492\n",
       "95                  1.256985                  0.440264\n",
       "96                  1.087160                  0.616679\n",
       "97                  0.140289                  1.411173\n",
       "98                  1.494624                  0.684253\n",
       "\n",
       "[99 rows x 2 columns]"
      ]
     },
     "execution_count": 17,
     "metadata": {},
     "output_type": "execute_result"
    }
   ],
   "source": [
    "data = pd.read_csv('f_values_r_nsga_ii.csv')\n",
    "data"
   ]
  },
  {
   "cell_type": "code",
   "execution_count": 18,
   "metadata": {},
   "outputs": [
    {
     "data": {
      "text/plain": [
       "array([[0.57561894, 1.10188061],\n",
       "       [1.13686006, 0.7320396 ],\n",
       "       [0.20754267, 1.09913361],\n",
       "       [0.98639005, 0.54839901],\n",
       "       [0.00289581, 1.62591168],\n",
       "       [1.31547433, 0.07020579],\n",
       "       [1.43167617, 0.19593853],\n",
       "       [1.20905875, 0.87898769],\n",
       "       [1.25725762, 0.95327387],\n",
       "       [0.83350059, 1.16313132],\n",
       "       [1.16038216, 0.37368869],\n",
       "       [1.24721458, 0.67977233],\n",
       "       [0.75761625, 0.76334956],\n",
       "       [1.21666531, 0.23339526],\n",
       "       [1.22666029, 1.01790899],\n",
       "       [1.28769931, 0.2907208 ],\n",
       "       [1.48539212, 0.17486129],\n",
       "       [0.56379927, 1.14001148],\n",
       "       [0.22938365, 1.59418535],\n",
       "       [1.06690889, 0.52023173],\n",
       "       [1.10447179, 0.98283642],\n",
       "       [1.51812186, 0.65933951],\n",
       "       [0.98502054, 1.4060689 ],\n",
       "       [0.04205615, 1.29640944],\n",
       "       [0.01557053, 1.11842231],\n",
       "       [0.298146  , 1.26482836],\n",
       "       [1.54331765, 0.72672552],\n",
       "       [0.06872614, 1.34119605],\n",
       "       [1.24847859, 0.08210062],\n",
       "       [1.0844678 , 0.86155116],\n",
       "       [1.02253998, 0.47466246],\n",
       "       [1.18854254, 0.44431217],\n",
       "       [0.55847433, 1.21492903],\n",
       "       [1.07881312, 0.65619705],\n",
       "       [1.20993248, 0.42987392],\n",
       "       [0.21414204, 1.07104166],\n",
       "       [0.21245047, 1.23696451],\n",
       "       [1.30644599, 0.46326461],\n",
       "       [0.78956508, 1.25609028],\n",
       "       [0.94433117, 0.92286455],\n",
       "       [1.22334842, 0.54503599],\n",
       "       [1.17748386, 0.24496761],\n",
       "       [0.2970968 , 1.26282242],\n",
       "       [1.23560395, 0.80617962],\n",
       "       [0.08954745, 1.27415807],\n",
       "       [0.18858068, 1.23016431],\n",
       "       [0.53589488, 1.50654916],\n",
       "       [0.76957496, 0.9473042 ],\n",
       "       [1.37666271, 0.15208311],\n",
       "       [0.89203642, 0.691323  ],\n",
       "       [1.06143374, 0.76624101],\n",
       "       [1.13006651, 0.10762339],\n",
       "       [0.19695127, 1.18850471],\n",
       "       [0.97595586, 0.8291801 ],\n",
       "       [1.09282144, 0.84948322],\n",
       "       [1.09783363, 0.57305125],\n",
       "       [0.17957346, 1.34696766],\n",
       "       [1.14792633, 0.72191825],\n",
       "       [0.84978315, 0.72807514],\n",
       "       [1.02864092, 0.36950266],\n",
       "       [0.54748158, 1.09384046],\n",
       "       [1.09570451, 0.81978171],\n",
       "       [0.45660058, 1.2018163 ],\n",
       "       [1.14741471, 0.3149541 ],\n",
       "       [0.57313536, 1.32532538],\n",
       "       [0.87496015, 1.12572091],\n",
       "       [1.46587804, 0.36507586],\n",
       "       [0.49224053, 1.03770902],\n",
       "       [0.4401189 , 1.09334151],\n",
       "       [1.40017098, 0.09720966],\n",
       "       [0.48959323, 1.28191691],\n",
       "       [1.12353133, 0.38316288],\n",
       "       [1.09621151, 0.67438842],\n",
       "       [0.74090888, 0.92463287],\n",
       "       [0.45682514, 1.31484542],\n",
       "       [0.57821987, 1.30473307],\n",
       "       [0.08122264, 1.20422293],\n",
       "       [1.37384481, 0.0638405 ],\n",
       "       [1.3086481 , 0.36108278],\n",
       "       [1.21878114, 0.72723918],\n",
       "       [0.39087688, 1.29107844],\n",
       "       [1.33444162, 0.91263522],\n",
       "       [0.67789145, 0.85465722],\n",
       "       [0.68087345, 0.99541179],\n",
       "       [1.58270417, 0.55631264],\n",
       "       [0.27044619, 1.35531373],\n",
       "       [0.26264426, 1.26775428],\n",
       "       [0.93252196, 1.06216037],\n",
       "       [1.22280139, 0.42155946],\n",
       "       [1.16368667, 0.04215202],\n",
       "       [0.15592418, 1.39193736],\n",
       "       [1.42600698, 0.25281013],\n",
       "       [0.72775715, 0.9669431 ],\n",
       "       [1.2805593 , 0.27181926],\n",
       "       [1.22824222, 0.03549213],\n",
       "       [1.25698531, 0.44026373],\n",
       "       [1.08716038, 0.61667917],\n",
       "       [0.14028918, 1.41117335],\n",
       "       [1.49462353, 0.68425271]])"
      ]
     },
     "execution_count": 18,
     "metadata": {},
     "output_type": "execute_result"
    }
   ],
   "source": [
    "column_data = [float(i) for i in data.columns]\n",
    "remaining_data = data.to_numpy()\n",
    "remaining_data"
   ]
  },
  {
   "cell_type": "code",
   "execution_count": 19,
   "metadata": {},
   "outputs": [
    {
     "data": {
      "text/plain": [
       "[[0.4489109206338354, 1.1525436023746654],\n",
       " [0.5756189390497641, 1.1018806075616636],\n",
       " [1.136860057627934, 0.7320395964246349],\n",
       " [0.20754267486120867, 1.0991336123543425],\n",
       " [0.9863900497479609, 0.5483990103369387],\n",
       " [0.002895810482683848, 1.6259116847982764],\n",
       " [1.3154743280695271, 0.07020579295580961],\n",
       " [1.4316761747563782, 0.1959385253140752],\n",
       " [1.2090587521830864, 0.878987686453633],\n",
       " [1.2572576178655577, 0.9532738744672568],\n",
       " [0.833500585458498, 1.1631313212142576],\n",
       " [1.1603821577541475, 0.3736886855727749],\n",
       " [1.2472145792251663, 0.6797723297160101],\n",
       " [0.7576162522954822, 0.7633495559030219],\n",
       " [1.216665309229671, 0.23339525974584813],\n",
       " [1.2266602879717647, 1.0179089921906173],\n",
       " [1.2876993144427946, 0.2907207975754424],\n",
       " [1.4853921167755515, 0.17486128702023465],\n",
       " [0.5637992660415477, 1.140011475323128],\n",
       " [0.22938364927839383, 1.5941853455484831],\n",
       " [1.0669088900986137, 0.5202317254638622],\n",
       " [1.104471790499836, 0.9828364170173997],\n",
       " [1.5181218568227623, 0.6593395104027663],\n",
       " [0.9850205404698593, 1.4060688994025448],\n",
       " [0.042056149437112895, 1.2964094424668524],\n",
       " [0.015570525192304268, 1.1184223127056871],\n",
       " [0.29814599830621474, 1.2648283635097655],\n",
       " [1.5433176535603883, 0.7267255220359694],\n",
       " [0.06872613701524469, 1.3411960519242958],\n",
       " [1.248478585785611, 0.08210061527237401],\n",
       " [1.0844677955218087, 0.8615511556071832],\n",
       " [1.0225399795823271, 0.47466245791790695],\n",
       " [1.188542535676606, 0.4443121698340921],\n",
       " [0.5584743263893419, 1.21492903141068],\n",
       " [1.0788131232840754, 0.6561970536125822],\n",
       " [1.209932482138082, 0.429873917885362],\n",
       " [0.21414203668835127, 1.0710416618460719],\n",
       " [0.21245046636183912, 1.2369645065475063],\n",
       " [1.3064459874522572, 0.46326461346985426],\n",
       " [0.7895650792505392, 1.256090281019941],\n",
       " [0.9443311737595091, 0.9228645536561246],\n",
       " [1.2233484163677812, 0.5450359862884396],\n",
       " [1.1774838607671412, 0.24496760515473603],\n",
       " [0.29709679505314407, 1.262822418647739],\n",
       " [1.2356039520620523, 0.8061796161304585],\n",
       " [0.08954745369608522, 1.2741580710283136],\n",
       " [0.18858068157605315, 1.2301643075082764],\n",
       " [0.5358948790385287, 1.5065491627600383],\n",
       " [0.7695749602086664, 0.9473041977788893],\n",
       " [1.3766627126476743, 0.15208310660336274],\n",
       " [0.8920364197770013, 0.691323002393327],\n",
       " [1.061433744545948, 0.7662410104890723],\n",
       " [1.1300665134223449, 0.10762338985545931],\n",
       " [0.19695127042816327, 1.1885047081235995],\n",
       " [0.9759558563503475, 0.8291800989671693],\n",
       " [1.0928214429188967, 0.8494832200566875],\n",
       " [1.097833627315889, 0.5730512465515755],\n",
       " [0.17957345524900375, 1.3469676614055774],\n",
       " [1.1479263268444513, 0.7219182540647869],\n",
       " [0.8497831537644208, 0.7280751433285457],\n",
       " [1.0286409162399457, 0.3695026632671077],\n",
       " [0.5474815811865833, 1.093840462325257],\n",
       " [1.0957045107964243, 0.8197817077016746],\n",
       " [0.4566005792835164, 1.2018162974348587],\n",
       " [1.1474147064010156, 0.31495410079178116],\n",
       " [0.5731353550592153, 1.3253253823119924],\n",
       " [0.8749601479819882, 1.1257209070127698],\n",
       " [1.46587804176619, 0.36507585768902184],\n",
       " [0.49224052990841694, 1.037709024215555],\n",
       " [0.4401188986776345, 1.093341511730589],\n",
       " [1.400170978289614, 0.0972096622595155],\n",
       " [0.48959323266656646, 1.2819169054230493],\n",
       " [1.1235313286662805, 0.38316287790139064],\n",
       " [1.0962115146679527, 0.6743884218706478],\n",
       " [0.7409088831813235, 0.9246328671345329],\n",
       " [0.45682513915445766, 1.3148454210187528],\n",
       " [0.5782198696547707, 1.304733073524835],\n",
       " [0.08122263988743796, 1.204222929155534],\n",
       " [1.373844812896196, 0.06384050038014008],\n",
       " [1.3086480989124567, 0.36108278162683055],\n",
       " [1.2187811382856844, 0.7272391826662828],\n",
       " [0.3908768761109357, 1.2910784354742932],\n",
       " [1.3344416214205759, 0.9126352248218234],\n",
       " [0.6778914541544082, 0.8546572239736979],\n",
       " [0.6808734505768544, 0.9954117856282718],\n",
       " [1.5827041709129634, 0.5563126397378744],\n",
       " [0.27044619055945923, 1.3553137253217227],\n",
       " [0.26264425670696845, 1.2677542751315272],\n",
       " [0.9325219578264883, 1.0621603715815007],\n",
       " [1.2228013903687551, 0.4215594595998466],\n",
       " [1.163686665832382, 0.04215202073580832],\n",
       " [0.15592418134918262, 1.3919373610563524],\n",
       " [1.4260069824666508, 0.2528101342372345],\n",
       " [0.7277571495398254, 0.9669430983283278],\n",
       " [1.2805592961023236, 0.2718192642619105],\n",
       " [1.2282422162747555, 0.035492127544964135],\n",
       " [1.2569853142177816, 0.440263729250658],\n",
       " [1.0871603800504615, 0.6166791675600045],\n",
       " [0.140289175492572, 1.4111733509889086],\n",
       " [1.4946235259423684, 0.684252707124592]]"
      ]
     },
     "execution_count": 19,
     "metadata": {},
     "output_type": "execute_result"
    }
   ],
   "source": [
    "final_data = []\n",
    "final_data.append(column_data)\n",
    "for i in remaining_data:\n",
    "    final_data.append(list(i))\n",
    "final_data"
   ]
  },
  {
   "cell_type": "code",
   "execution_count": 20,
   "metadata": {},
   "outputs": [],
   "source": [
    "def dominates_Flag(A,B):\n",
    "    flag = False\n",
    "    count = 0 \n",
    "    for i in range(0,len(A)):\n",
    "        if(A[i]<B[i]):\n",
    "            flag = True\n",
    "            count = count +1\n",
    "        elif(A[i]==B[i]):\n",
    "            flag = True\n",
    "        else:\n",
    "            flag = False\n",
    "            break\n",
    "    if(flag == True and count >= 1):\n",
    "        return True\n",
    "    else:\n",
    "        return False\n",
    "\n"
   ]
  },
  {
   "cell_type": "code",
   "execution_count": 21,
   "metadata": {},
   "outputs": [],
   "source": [
    "def non_dominated_fronts(final_data,num_solns):\n",
    "    ranks = []\n",
    "    data_copy = final_data\n",
    "    while(len(data_copy)>=num_solns):\n",
    "        internal_ranks = []\n",
    "        for i in data_copy:\n",
    "            Flag =False\n",
    "            for j in data_copy:\n",
    "                if(i!=j and i not in internal_ranks and dominates_Flag(j,i)==False):\n",
    "                    Flag = True\n",
    "                elif(i!=j and i not in internal_ranks and dominates_Flag(j,i)==True):\n",
    "                    Flag=False\n",
    "                    break\n",
    "            if(Flag==True):\n",
    "                internal_ranks.append(i)\n",
    "        ranks.append(internal_ranks)\n",
    "        #print(internal_ranks)\n",
    "        for i in internal_ranks:\n",
    "            data_copy.remove(i)\n",
    "    return ranks\n",
    "            \n",
    "\n"
   ]
  },
  {
   "cell_type": "code",
   "execution_count": 22,
   "metadata": {},
   "outputs": [],
   "source": [
    "ranks = non_dominated_fronts(final_data,40)"
   ]
  },
  {
   "cell_type": "code",
   "execution_count": 23,
   "metadata": {},
   "outputs": [
    {
     "data": {
      "text/plain": [
       "4"
      ]
     },
     "execution_count": 23,
     "metadata": {},
     "output_type": "execute_result"
    }
   ],
   "source": [
    "len(ranks)"
   ]
  },
  {
   "cell_type": "code",
   "execution_count": 26,
   "metadata": {},
   "outputs": [
    {
     "name": "stdout",
     "output_type": "stream",
     "text": [
      "number of elements in front 0 is 15\n",
      "number of elements in front 1 is 18\n",
      "number of elements in front 2 is 13\n",
      "number of elements in front 3 is 19\n",
      "Number of elements to remove from last front is 15\n"
     ]
    }
   ],
   "source": [
    "for i in range(len(ranks)):\n",
    "    print('number of elements in front {0} is {1}'.format(i,len(ranks[i])))\n",
    "print('Number of elements to remove from last front is {0}'.format((15+18+13+19)-50))"
   ]
  },
  {
   "cell_type": "code",
   "execution_count": 29,
   "metadata": {},
   "outputs": [
    {
     "data": {
      "text/plain": [
       "Text(0.5, 0, 'Objective 1')"
      ]
     },
     "execution_count": 29,
     "metadata": {},
     "output_type": "execute_result"
    },
    {
     "data": {
      "image/png": "[encoded data removed]",
      "text/plain": [
       "<Figure size 640x480 with 1 Axes>"
      ]
     },
     "metadata": {},
     "output_type": "display_data"
    }
   ],
   "source": [
    "import matplotlib.pyplot as plt\n",
    "# plotting all the fronts\n",
    "front_1_x = [i[0] for i in ranks[0]]\n",
    "front_1_y = [i[1] for i in ranks[0]]\n",
    "front_2_x = [i[0] for i in ranks[1]]\n",
    "front_2_y = [i[1] for i in ranks[1]]\n",
    "front_3_x = [i[0] for i in ranks[2]]\n",
    "front_3_y = [i[1] for i in ranks[2]]\n",
    "front_4_x = [i[0] for i in ranks[3]]\n",
    "front_4_y = [i[1] for i in ranks[3]]\n",
    "plt.scatter(front_1_x,front_1_y,color='red')\n",
    "plt.scatter(front_2_x,front_2_y,color='blue')\n",
    "plt.scatter(front_3_x,front_3_y,color='green')\n",
    "plt.scatter(front_4_x,front_4_y,color='yellow')\n",
    "plt.ylabel('Objective 2')\n",
    "plt.xlabel('Objective 1')"
   ]
  },
  {
   "cell_type": "code",
   "execution_count": 31,
   "metadata": {},
   "outputs": [],
   "source": [
    "def crowding_distance_calculation(front,data):\n",
    "    objective_1  = [i[0] for i in front]\n",
    "    objective_2  = [i[1] for i in front]\n",
    "    objective_1_full  = [i[0] for i in data]\n",
    "    objective_2_full  = [i[1] for i in data]\n",
    "    objective_1.sort()\n",
    "    objective_2.sort()\n",
    "    distance_1 = [0 for i in range(len(objective_1))]\n",
    "    distance_2 = [0 for i in range(len(objective_2))]\n",
    "    distance_1[0] = np.inf\n",
    "    distance_1[len(distance_1)-1] = np.inf\n",
    "    distance_2[0] = np.inf\n",
    "    distance_2[len(distance_2)-1] = np.inf\n",
    "    objective_1_max = max(objective_1_full)\n",
    "    objective_2_max = max(objective_2_full)\n",
    "    objective_1_min = min(objective_1_full)\n",
    "    objective_2_min = min(objective_2_full)\n",
    "    for i in range(1,len(objective_1)-1):\n",
    "        distance_1[i]  =distance_1[i] + (objective_1[i+1] - objective_1[i-1])/(objective_1_max-objective_1_min)\n",
    "        distance_2[i]  =distance_2[i] + (objective_2[i+1] - objective_2[i-1])/(objective_2_max-objective_2_min)\n",
    "    return (distance_1,distance_2)\n",
    "\n",
    "\n"
   ]
  },
  {
   "cell_type": "code",
   "execution_count": 33,
   "metadata": {},
   "outputs": [
    {
     "data": {
      "text/plain": [
       "[[0.4489109206338354, 1.1525436023746654],\n",
       " [0.5756189390497641, 1.1018806075616636],\n",
       " [1.136860057627934, 0.7320395964246349],\n",
       " [0.20754267486120867, 1.0991336123543425],\n",
       " [0.9863900497479609, 0.5483990103369387],\n",
       " [0.002895810482683848, 1.6259116847982764],\n",
       " [1.3154743280695271, 0.07020579295580961],\n",
       " [1.4316761747563782, 0.1959385253140752],\n",
       " [1.2090587521830864, 0.878987686453633],\n",
       " [1.2572576178655577, 0.9532738744672568],\n",
       " [0.833500585458498, 1.1631313212142576],\n",
       " [1.1603821577541475, 0.3736886855727749],\n",
       " [1.2472145792251663, 0.6797723297160101],\n",
       " [0.7576162522954822, 0.7633495559030219],\n",
       " [1.216665309229671, 0.23339525974584813],\n",
       " [1.2266602879717647, 1.0179089921906173],\n",
       " [1.2876993144427946, 0.2907207975754424],\n",
       " [1.4853921167755515, 0.17486128702023465],\n",
       " [0.5637992660415477, 1.140011475323128],\n",
       " [0.22938364927839383, 1.5941853455484831],\n",
       " [1.0669088900986137, 0.5202317254638622],\n",
       " [1.104471790499836, 0.9828364170173997],\n",
       " [1.5181218568227623, 0.6593395104027663],\n",
       " [0.9850205404698593, 1.4060688994025448],\n",
       " [0.042056149437112895, 1.2964094424668524],\n",
       " [0.015570525192304268, 1.1184223127056871],\n",
       " [0.29814599830621474, 1.2648283635097655],\n",
       " [1.5433176535603883, 0.7267255220359694],\n",
       " [0.06872613701524469, 1.3411960519242958],\n",
       " [1.248478585785611, 0.08210061527237401],\n",
       " [1.0844677955218087, 0.8615511556071832],\n",
       " [1.0225399795823271, 0.47466245791790695],\n",
       " [1.188542535676606, 0.4443121698340921],\n",
       " [0.5584743263893419, 1.21492903141068],\n",
       " [1.0788131232840754, 0.6561970536125822],\n",
       " [1.209932482138082, 0.429873917885362],\n",
       " [0.21414203668835127, 1.0710416618460719],\n",
       " [0.21245046636183912, 1.2369645065475063],\n",
       " [1.3064459874522572, 0.46326461346985426],\n",
       " [0.7895650792505392, 1.256090281019941],\n",
       " [0.9443311737595091, 0.9228645536561246],\n",
       " [1.2233484163677812, 0.5450359862884396],\n",
       " [1.1774838607671412, 0.24496760515473603],\n",
       " [0.29709679505314407, 1.262822418647739],\n",
       " [1.2356039520620523, 0.8061796161304585],\n",
       " [0.08954745369608522, 1.2741580710283136],\n",
       " [0.18858068157605315, 1.2301643075082764],\n",
       " [0.5358948790385287, 1.5065491627600383],\n",
       " [0.7695749602086664, 0.9473041977788893],\n",
       " [1.3766627126476743, 0.15208310660336274],\n",
       " [0.8920364197770013, 0.691323002393327],\n",
       " [1.061433744545948, 0.7662410104890723],\n",
       " [1.1300665134223449, 0.10762338985545931],\n",
       " [0.19695127042816327, 1.1885047081235995],\n",
       " [0.9759558563503475, 0.8291800989671693],\n",
       " [1.0928214429188967, 0.8494832200566875],\n",
       " [1.097833627315889, 0.5730512465515755],\n",
       " [0.17957345524900375, 1.3469676614055774],\n",
       " [1.1479263268444513, 0.7219182540647869],\n",
       " [0.8497831537644208, 0.7280751433285457],\n",
       " [1.0286409162399457, 0.3695026632671077],\n",
       " [0.5474815811865833, 1.093840462325257],\n",
       " [1.0957045107964243, 0.8197817077016746],\n",
       " [0.4566005792835164, 1.2018162974348587],\n",
       " [1.1474147064010156, 0.31495410079178116],\n",
       " [0.5731353550592153, 1.3253253823119924],\n",
       " [0.8749601479819882, 1.1257209070127698],\n",
       " [1.46587804176619, 0.36507585768902184],\n",
       " [0.49224052990841694, 1.037709024215555],\n",
       " [0.4401188986776345, 1.093341511730589],\n",
       " [1.400170978289614, 0.0972096622595155],\n",
       " [0.48959323266656646, 1.2819169054230493],\n",
       " [1.1235313286662805, 0.38316287790139064],\n",
       " [1.0962115146679527, 0.6743884218706478],\n",
       " [0.7409088831813235, 0.9246328671345329],\n",
       " [0.45682513915445766, 1.3148454210187528],\n",
       " [0.5782198696547707, 1.304733073524835],\n",
       " [0.08122263988743796, 1.204222929155534],\n",
       " [1.373844812896196, 0.06384050038014008],\n",
       " [1.3086480989124567, 0.36108278162683055],\n",
       " [1.2187811382856844, 0.7272391826662828],\n",
       " [0.3908768761109357, 1.2910784354742932],\n",
       " [1.3344416214205759, 0.9126352248218234],\n",
       " [0.6778914541544082, 0.8546572239736979],\n",
       " [0.6808734505768544, 0.9954117856282718],\n",
       " [1.5827041709129634, 0.5563126397378744],\n",
       " [0.27044619055945923, 1.3553137253217227],\n",
       " [0.26264425670696845, 1.2677542751315272],\n",
       " [0.9325219578264883, 1.0621603715815007],\n",
       " [1.2228013903687551, 0.4215594595998466],\n",
       " [1.163686665832382, 0.04215202073580832],\n",
       " [0.15592418134918262, 1.3919373610563524],\n",
       " [1.4260069824666508, 0.2528101342372345],\n",
       " [0.7277571495398254, 0.9669430983283278],\n",
       " [1.2805592961023236, 0.2718192642619105],\n",
       " [1.2282422162747555, 0.035492127544964135],\n",
       " [1.2569853142177816, 0.440263729250658],\n",
       " [1.0871603800504615, 0.6166791675600045],\n",
       " [0.140289175492572, 1.4111733509889086],\n",
       " [1.4946235259423684, 0.684252707124592]]"
      ]
     },
     "execution_count": 33,
     "metadata": {},
     "output_type": "execute_result"
    }
   ],
   "source": [
    "final_data = []\n",
    "final_data.append(column_data)\n",
    "for i in remaining_data:\n",
    "    final_data.append(list(i))\n",
    "final_data"
   ]
  },
  {
   "cell_type": "code",
   "execution_count": 35,
   "metadata": {},
   "outputs": [],
   "source": [
    "distance_1,distance_2 = crowding_distance_calculation(ranks[3],final_data)"
   ]
  },
  {
   "cell_type": "code",
   "execution_count": 36,
   "metadata": {},
   "outputs": [
    {
     "data": {
      "text/plain": [
       "[inf,\n",
       " 0.024866484277708354,\n",
       " 0.035780469599022056,\n",
       " 0.17535489175349156,\n",
       " 0.22239963306942787,\n",
       " 0.07533721351736086,\n",
       " 0.23339710120568963,\n",
       " 0.3220953054922773,\n",
       " 0.101467677414208,\n",
       " 0.007112707817013393,\n",
       " 0.002145875306124287,\n",
       " 0.0587653712978808,\n",
       " 0.07198402687219348,\n",
       " 0.021685449672401005,\n",
       " 0.049225484718622446,\n",
       " 0.12862673548742978,\n",
       " 0.09113564905706018,\n",
       " 0.037590087377893384,\n",
       " inf]"
      ]
     },
     "execution_count": 36,
     "metadata": {},
     "output_type": "execute_result"
    }
   ],
   "source": [
    "distance_1"
   ]
  },
  {
   "cell_type": "code",
   "execution_count": 37,
   "metadata": {},
   "outputs": [
    {
     "data": {
      "text/plain": [
       "[inf,\n",
       " 0.04901149942573588,\n",
       " 0.05959576630524976,\n",
       " 0.10610365333663635,\n",
       " 0.08749459831230946,\n",
       " 0.014306105662797513,\n",
       " 0.15374213858861716,\n",
       " 0.23608206787649558,\n",
       " 0.1100934639463514,\n",
       " 0.026263162896239364,\n",
       " 0.1337239287299202,\n",
       " 0.15111072475085405,\n",
       " 0.048950041758841226,\n",
       " 0.06283605443445762,\n",
       " 0.060960663355912305,\n",
       " 0.09126608341096996,\n",
       " 0.09744149196485447,\n",
       " 0.04037028423758555,\n",
       " inf]"
      ]
     },
     "execution_count": 37,
     "metadata": {},
     "output_type": "execute_result"
    }
   ],
   "source": [
    "distance_2"
   ]
  },
  {
   "cell_type": "code",
   "execution_count": 38,
   "metadata": {},
   "outputs": [
    {
     "data": {
      "text/plain": [
       "array([       inf, 0.07387798, 0.09537624, 0.28145855, 0.30989423,\n",
       "       0.08964332, 0.38713924, 0.55817737, 0.21156114, 0.03337587,\n",
       "       0.1358698 , 0.2098761 , 0.12093407, 0.0845215 , 0.11018615,\n",
       "       0.21989282, 0.18857714, 0.07796037,        inf])"
      ]
     },
     "execution_count": 38,
     "metadata": {},
     "output_type": "execute_result"
    }
   ],
   "source": [
    "total_distance = np.add(distance_1,distance_2)\n",
    "total_distance"
   ]
  },
  {
   "cell_type": "code",
   "execution_count": 39,
   "metadata": {},
   "outputs": [
    {
     "data": {
      "text/plain": [
       "19"
      ]
     },
     "execution_count": 39,
     "metadata": {},
     "output_type": "execute_result"
    }
   ],
   "source": [
    "len(total_distance)"
   ]
  },
  {
   "cell_type": "code",
   "execution_count": 46,
   "metadata": {},
   "outputs": [],
   "source": [
    "distances_except_extremes = []\n",
    "for i in range(2,len(total_distance)-1):\n",
    "    distances_except_extremes.append(total_distance[i])\n",
    "distances_except_extremes.sort()\n",
    "total_distance = list(total_distance)\n",
    "indexes = [total_distance.index(distances_except_extremes[i]) \n",
    "for i in range(len(distances_except_extremes)-1,len(distances_except_extremes)-3,-1)]"
   ]
  },
  {
   "cell_type": "code",
   "execution_count": 48,
   "metadata": {},
   "outputs": [],
   "source": [
    "final_included_data = []\n",
    "final_included_data.append(ranks[3][0])\n",
    "final_included_data.append(ranks[3][len(ranks[3])-1])\n",
    "for i in indexes:\n",
    "    final_included_data.append(ranks[3][i])"
   ]
  },
  {
   "cell_type": "code",
   "execution_count": 49,
   "metadata": {},
   "outputs": [
    {
     "data": {
      "text/plain": [
       "[[0.5756189390497641, 1.1018806075616636],\n",
       " [0.140289175492572, 1.4111733509889086],\n",
       " [1.209932482138082, 0.429873917885362],\n",
       " [1.188542535676606, 0.4443121698340921]]"
      ]
     },
     "execution_count": 49,
     "metadata": {},
     "output_type": "execute_result"
    }
   ],
   "source": [
    "final_included_data"
   ]
  },
  {
   "cell_type": "code",
   "execution_count": 50,
   "metadata": {},
   "outputs": [
    {
     "data": {
      "text/plain": [
       "Text(0.5, 0, 'Objective 1')"
      ]
     },
     "execution_count": 50,
     "metadata": {},
     "output_type": "execute_result"
    },
    {
     "data": {
      "image/png": "[encoded data removed]",
      "text/plain": [
       "<Figure size 640x480 with 1 Axes>"
      ]
     },
     "metadata": {},
     "output_type": "display_data"
    }
   ],
   "source": [
    "import matplotlib.pyplot as plt\n",
    "# plotting only included fronts in Archive\n",
    "front_1_x = [i[0] for i in ranks[0]]\n",
    "front_1_y = [i[1] for i in ranks[0]]\n",
    "front_2_x = [i[0] for i in ranks[1]]\n",
    "front_2_y = [i[1] for i in ranks[1]]\n",
    "front_3_x = [i[0] for i in ranks[2]]\n",
    "front_3_y = [i[1] for i in ranks[2]]\n",
    "front_4_x = [i[0] for i in final_included_data]\n",
    "front_4_y = [i[1] for i in final_included_data]\n",
    "plt.scatter(front_1_x,front_1_y,color='red')\n",
    "plt.scatter(front_2_x,front_2_y,color='blue')\n",
    "plt.scatter(front_3_x,front_3_y,color='green')\n",
    "plt.scatter(front_4_x,front_4_y,color='yellow')\n",
    "plt.ylabel('Objective 2')\n",
    "plt.xlabel('Objective 1')"
   ]
  },
  {
   "cell_type": "code",
   "execution_count": null,
   "metadata": {},
   "outputs": [],
   "source": []
  }
 ],
 "metadata": {
  "kernelspec": {
   "display_name": "Python 3.11.0 64-bit",
   "language": "python",
   "name": "python3"
  },
  "language_info": {
   "codemirror_mode": {
    "name": "ipython",
    "version": 3
   },
   "file_extension": ".py",
   "mimetype": "text/x-python",
   "name": "python",
   "nbconvert_exporter": "python",
   "pygments_lexer": "ipython3",
   "version": "3.11.0"
  },
  "orig_nbformat": 4,
  "vscode": {
   "interpreter": {
    "hash": "b98f472bb8ba48098397e3b897b5be76f7bf0e62d98845cdb0e8066dc5677259"
   }
  }
 },
 "nbformat": 4,
 "nbformat_minor": 2
}
