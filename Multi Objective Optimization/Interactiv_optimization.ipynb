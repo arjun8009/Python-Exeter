{
 "cells": [
  {
   "cell_type": "code",
   "execution_count": null,
   "metadata": {},
   "outputs": [],
   "source": [
    "from pymoo.algorithms.moo.spea2 import SPEA2\n",
    "from pymoo.optimize import minimize\n",
    "from pymoo.problems.many.dtlz import DTLZ2\n",
    "import matplotlib.pyplot as plt\n",
    "import numpy as np\n",
    "import time\n",
    "from IPython import display\n"
   ]
  },
  {
   "cell_type": "code",
   "execution_count": null,
   "metadata": {},
   "outputs": [],
   "source": [
    "problem = DTLZ2(n_obj=2)\n",
    "algorithm = SPEA2(pop_size=1000,save_history=True)\n",
    "res_list = []\n",
    "res = minimize(problem,\n",
    "            algorithm,\n",
    "            ('n_gen', 100),\n",
    "            seed=1,\n",
    "            verbose=True,\n",
    "            save_history=True)\n",
    "\n"
   ]
  },
  {
   "cell_type": "code",
   "execution_count": null,
   "metadata": {},
   "outputs": [],
   "source": [
    "history = []\n",
    "for algo in res.history:\n",
    "    count = 1\n",
    "    history = algo.opt.get(\"F\")\n",
    "    obj_1 = [i[0] for i in history]\n",
    "    obj_2 = [i[1] for i in history]\n",
    "    pareto_front = problem.pareto_front()\n",
    "    obj1_pareto = [i[0] for i in pareto_front]\n",
    "    obj2_pareto = [i[1] for i in pareto_front]\n",
    "    #count = count + 1\n",
    "    plt.gca().cla()\n",
    "    plt.scatter(obj_1, obj_2,color='red',label='Approximation')\n",
    "    plt.scatter(obj1_pareto, obj2_pareto,color='blue',label='Pareto Front')\n",
    "    plt.legend()\n",
    "    plt.grid()\n",
    "    plt.ylabel('Objective 1')\n",
    "    plt.xlabel('Objective 2')\n",
    "    plt.title('Optimization Of DLTZ')\n",
    "    #plt.text(0.7,0.9,\"Iteration : {0}\".format(count + 1))\n",
    "    display.clear_output(wait=True)\n",
    "    display.display(plt.gcf())\n",
    "    time.sleep(1)\n",
    "display.clear_output()\n",
    "\n",
    "\n"
   ]
  },
  {
   "cell_type": "code",
   "execution_count": null,
   "metadata": {},
   "outputs": [],
   "source": []
  },
  {
   "cell_type": "code",
   "execution_count": null,
   "metadata": {},
   "outputs": [],
   "source": []
  }
 ],
 "metadata": {
  "kernelspec": {
   "display_name": "Python 3",
   "language": "python",
   "name": "python3"
  },
  "language_info": {
   "codemirror_mode": {
    "name": "ipython",
    "version": 3
   },
   "file_extension": ".py",
   "mimetype": "text/x-python",
   "name": "python",
   "nbconvert_exporter": "python",
   "pygments_lexer": "ipython3",
   "version": "3.11.0"
  },
  "orig_nbformat": 4,
  "vscode": {
   "interpreter": {
    "hash": "b98f472bb8ba48098397e3b897b5be76f7bf0e62d98845cdb0e8066dc5677259"
   }
  }
 },
 "nbformat": 4,
 "nbformat_minor": 2
}
