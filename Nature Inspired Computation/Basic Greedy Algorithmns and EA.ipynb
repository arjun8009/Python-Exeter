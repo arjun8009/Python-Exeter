{
 "cells": [
  {
   "cell_type": "markdown",
   "id": "9c0b06be",
   "metadata": {},
   "source": [
    "#### Hill Climbing"
   ]
  },
  {
   "cell_type": "code",
   "execution_count": 96,
   "id": "4617a026",
   "metadata": {},
   "outputs": [],
   "source": [
    "# lets make an input of 5 cities [A,B,C,D,E] each city is encoded with one Letter\n",
    "# An encoding is represented as a string eg 'ABCDE'\n",
    "# cost is to be minimised and represented by a dict {AB:10,BC:30,CD:20,DE:15,AE:25}\n",
    "# fitness is considered to be minimum cost considering (1/cost)\n",
    "# Mutation is done by swapping\n",
    "# termination is considered to be 100 evaluations or generations\n",
    "\n",
    "import numpy as np\n",
    "import matplotlib.pyplot as plt\n",
    "def hillclimbing(init_ele,fitness_dict):\n",
    "    generation = 1\n",
    "    fitness = []\n",
    "    fitness_2 = []\n",
    "    while(generation<=10):\n",
    "        value = mutate(init_ele)\n",
    "        if(isFitter(value,init_ele,fitness_dict)==True):\n",
    "            init_ele = value\n",
    "            fitness.append(calculateFitness(init_ele,fitness_dict))\n",
    "            fitness_2.append(calculateFitness(value,fitness_dict))\n",
    "        else:\n",
    "            fitness.append(calculateFitness(init_ele,fitness_dict))\n",
    "            fitness_2.append(calculateFitness(value,fitness_dict))\n",
    "        print('Generation {0} : child is {1} with fitness {2}'.format(generation,value,calculateFitness(value,fitness_dict)))\n",
    "        generation = generation + 1\n",
    "    fig, ax = plt.subplots(2,2)\n",
    "    ax[0,0].scatter(list(range(1,11)),fitness)\n",
    "    ax[0,0].plot(list(range(1,11)),fitness)\n",
    "    \n",
    "    ax[0,1].scatter(list(range(1,11)),fitness_2)\n",
    "    ax[0,1].plot(list(range(1,11)),fitness_2)\n",
    "   \n",
    "\n",
    "    plt.show()\n",
    "    \n",
    "            \n",
    "    "
   ]
  },
  {
   "cell_type": "code",
   "execution_count": 97,
   "id": "d6b15a3d",
   "metadata": {},
   "outputs": [],
   "source": [
    "def mutate(init_ele):\n",
    "    value_1 = 0\n",
    "    value_2 = 0\n",
    "    while(value_1 == value_2):\n",
    "        value_1 = np.random.randint(0,len(init_ele)-1)\n",
    "        value_2 = np.random.randint(0,len(init_ele)-1)\n",
    "    B= list(init_ele)\n",
    "    X= B[value_1]\n",
    "    B[value_1]=B[value_2]\n",
    "    B[value_2]=X\n",
    "    new_init_ele = ''.join(B)\n",
    "    return new_init_ele\n",
    "    \n",
    "    "
   ]
  },
  {
   "cell_type": "code",
   "execution_count": 98,
   "id": "008b3088",
   "metadata": {},
   "outputs": [],
   "source": [
    "def isFitter(value,init_ele,fitness_dict):\n",
    "    if(calculateFitness(value,fitness_dict)>calculateFitness(init_ele,fitness_dict)):\n",
    "        return True\n",
    "    else:\n",
    "        return False"
   ]
  },
  {
   "cell_type": "code",
   "execution_count": 99,
   "id": "fe06c726",
   "metadata": {},
   "outputs": [],
   "source": [
    "def calculateFitness(x,fitness_dict):\n",
    "    sum = 0\n",
    "    val=''\n",
    "    for i in range(0,len(x)-1):\n",
    "        val = x[i]+x[i+1]\n",
    "        sum = sum + fitness_dict[val] \n",
    "        val =''\n",
    "    val2= x[len(x)-1]+x[0]\n",
    "    sum = sum + fitness_dict[val2]\n",
    "    val2=''\n",
    "    fitness = 1/sum\n",
    "    return fitness\n",
    "    "
   ]
  },
  {
   "cell_type": "code",
   "execution_count": 100,
   "id": "fe39a621",
   "metadata": {},
   "outputs": [
    {
     "name": "stdout",
     "output_type": "stream",
     "text": [
      "Generation 1 : child is DBCAE with fitness 0.006024096385542169\n",
      "Generation 2 : child is ADCBE with fitness 0.007352941176470588\n",
      "Generation 3 : child is BACDE with fitness 0.007874015748031496\n",
      "Generation 4 : child is ABDCE with fitness 0.00980392156862745\n",
      "Generation 5 : child is CBDAE with fitness 0.0072992700729927005\n",
      "Generation 6 : child is BADCE with fitness 0.007142857142857143\n",
      "Generation 7 : child is DBACE with fitness 0.006756756756756757\n",
      "Generation 8 : child is ACDBE with fitness 0.008264462809917356\n",
      "Generation 9 : child is BADCE with fitness 0.007142857142857143\n",
      "Generation 10 : child is ADBCE with fitness 0.007407407407407408\n"
     ]
    },
    {
     "data": {
      "image/png": "[encoded data removed]",
      "text/plain": [
       "<Figure size 432x288 with 4 Axes>"
      ]
     },
     "metadata": {
      "needs_background": "light"
     },
     "output_type": "display_data"
    }
   ],
   "source": [
    "hillclimbing('ABCDE',{\n",
    "    'AB':10,'AC':20,'AD':40,'AE':50,\n",
    "    'BA':16,'CA':18,'DA':15,'EA':13,\n",
    "    'BC':15,'BD':14,'BE':23,\n",
    "    'CB':24,'DB':38,'EB':19,\n",
    "    'CD':27,'CE':29,\n",
    "    'DC':36,'EC':34,\n",
    "    'DE':45,'ED':45\n",
    "    \n",
    "})"
   ]
  },
  {
   "cell_type": "code",
   "execution_count": 4,
   "id": "a4307529",
   "metadata": {},
   "outputs": [
    {
     "name": "stdout",
     "output_type": "stream",
     "text": [
      "distance of A to B and will check AB\n",
      "distance of B to C and will check BC\n",
      "distance of C to D and will check CD\n",
      "distance of D to E and will check DE\n",
      "distance of E to A and will check EA\n"
     ]
    }
   ],
   "source": [
    "x='ABCDE'\n",
    "for i in range(0,len(x)-1):\n",
    "    print('distance of {0} to {1} and will check {2}'.format(x[i],x[i+1],x[i]+x[i+1]))\n",
    "print('distance of {0} to {1} and will check {2}'.format(x[len(x)-1],x[0],x[len(x)-1]+x[0]))"
   ]
  },
  {
   "cell_type": "code",
   "execution_count": 10,
   "id": "93e524f3",
   "metadata": {},
   "outputs": [
    {
     "data": {
      "text/plain": [
       "1"
      ]
     },
     "execution_count": 10,
     "metadata": {},
     "output_type": "execute_result"
    }
   ],
   "source": [
    "np.random.randint(0,4)"
   ]
  },
  {
   "cell_type": "code",
   "execution_count": 12,
   "id": "0f4f58f8",
   "metadata": {},
   "outputs": [
    {
     "ename": "TypeError",
     "evalue": "'str' object does not support item assignment",
     "output_type": "error",
     "traceback": [
      "\u001b[1;31m---------------------------------------------------------------------------\u001b[0m",
      "\u001b[1;31mTypeError\u001b[0m                                 Traceback (most recent call last)",
      "Input \u001b[1;32mIn [12]\u001b[0m, in \u001b[0;36m<cell line: 3>\u001b[1;34m()\u001b[0m\n\u001b[0;32m      1\u001b[0m A\u001b[38;5;241m=\u001b[39m\u001b[38;5;124m'\u001b[39m\u001b[38;5;124mABCD\u001b[39m\u001b[38;5;124m'\u001b[39m\n\u001b[0;32m      2\u001b[0m x\u001b[38;5;241m=\u001b[39mA[\u001b[38;5;241m0\u001b[39m]\n\u001b[1;32m----> 3\u001b[0m A[\u001b[38;5;241m0\u001b[39m]\u001b[38;5;241m=\u001b[39mA[\u001b[38;5;241m1\u001b[39m]\n\u001b[0;32m      4\u001b[0m A[\u001b[38;5;241m1\u001b[39m]\u001b[38;5;241m=\u001b[39mx\n\u001b[0;32m      5\u001b[0m A\n",
      "\u001b[1;31mTypeError\u001b[0m: 'str' object does not support item assignment"
     ]
    }
   ],
   "source": [
    "A='ABCD'\n",
    "x=A[0]\n",
    "A[0]=A[1]\n",
    "A[1]=x\n",
    "A"
   ]
  },
  {
   "cell_type": "code",
   "execution_count": 16,
   "id": "9cb47e27",
   "metadata": {},
   "outputs": [
    {
     "name": "stdout",
     "output_type": "stream",
     "text": [
      "BACD\n"
     ]
    }
   ],
   "source": [
    "B= list(A)\n",
    "B\n",
    "x= B[0]\n",
    "B[0]=B[1]\n",
    "B[1]=x\n",
    "print(''.join(B))"
   ]
  },
  {
   "cell_type": "code",
   "execution_count": 17,
   "id": "3763d046",
   "metadata": {},
   "outputs": [
    {
     "data": {
      "text/plain": [
       "False"
      ]
     },
     "execution_count": 17,
     "metadata": {},
     "output_type": "execute_result"
    }
   ],
   "source": [
    "A='BACD'\n",
    "B==A"
   ]
  },
  {
   "cell_type": "code",
   "execution_count": 20,
   "id": "8ef2accc",
   "metadata": {},
   "outputs": [
    {
     "data": {
      "text/plain": [
       "True"
      ]
     },
     "execution_count": 20,
     "metadata": {},
     "output_type": "execute_result"
    }
   ],
   "source": [
    "X=''.join(B)\n",
    "X==A"
   ]
  },
  {
   "cell_type": "code",
   "execution_count": 25,
   "id": "ebafc186",
   "metadata": {},
   "outputs": [
    {
     "data": {
      "text/plain": [
       "0.5"
      ]
     },
     "execution_count": 25,
     "metadata": {},
     "output_type": "execute_result"
    }
   ],
   "source": [
    "1/2"
   ]
  },
  {
   "cell_type": "code",
   "execution_count": 60,
   "id": "f16c4059",
   "metadata": {},
   "outputs": [
    {
     "data": {
      "text/plain": [
       "148.0"
      ]
     },
     "execution_count": 60,
     "metadata": {},
     "output_type": "execute_result"
    }
   ],
   "source": [
    "1/0.006756756756756757"
   ]
  },
  {
   "cell_type": "markdown",
   "id": "e9bb234b",
   "metadata": {},
   "source": [
    "#### Using a Basic Evolutionary Algorithm to Solve a 0-1 Knapsack Problem"
   ]
  },
  {
   "cell_type": "code",
   "execution_count": 2,
   "id": "644689bf",
   "metadata": {},
   "outputs": [],
   "source": [
    "import matplotlib.pyplot as plt\n",
    "import numpy as np\n",
    "def knapsack(max_cost,value_list,cost_list):\n",
    "    History = []\n",
    "    population = create_valid_randomised_population(max_cost,cost_list)\n",
    "    count = 0 \n",
    "    History.append(population)\n",
    "    \n",
    "    while(count<=100):\n",
    "        parents_selected = selection_from_population(population,value_list)\n",
    "        offspring = crossover_parents(parents_selected,value_list)\n",
    "        offspring_mutated = mutate(offspring)\n",
    "        population = offspring\n",
    "        History.append(population)\n",
    "        print('Best Fitness in Generation {0} is {1}'.format(count,max(calculate_Fitness(population,value_list))))\n",
    "        count = count + 1\n",
    "        \n",
    "    answers = give_best_valid_each_generation(History,value_list,max_cost,cost_list)\n",
    "    final_answers = []\n",
    "    \n",
    "    for i in answers :\n",
    "        final_answers.append(i)\n",
    "    \n",
    "    final_fitness = calculate_Fitness(final_answers,value_list)\n",
    "    index = final_fitness.index(max(final_fitness))\n",
    "           \n",
    "    print('final valid answer = {0} with fitness = {1}'.format(final_answers[index],max(final_fitness)))\n",
    "    plt.figure()\n",
    "    fitnesses = calculate_Fitness(answers,value_list)\n",
    "    plt.scatter(list(range(1,103)),fitnesses)\n",
    "    plt.plot(list(range(1,103)),fitnesses)\n",
    "    plt.show()\n",
    "        "
   ]
  },
  {
   "cell_type": "code",
   "execution_count": 3,
   "id": "6c142250",
   "metadata": {},
   "outputs": [],
   "source": [
    "def create_valid_randomised_population(max_cost,cost_list):\n",
    "    count = 1\n",
    "    population = []\n",
    "    while(count <= 5):\n",
    "        bits =''\n",
    "        for i in range(0,100):\n",
    "            bits = bits + str(np.random.randint(0,2))\n",
    "        if(check_validity(bits,max_cost,cost_list) == True):\n",
    "            count = count + 1\n",
    "            population.append(bits)\n",
    "    return population"
   ]
  },
  {
   "cell_type": "code",
   "execution_count": 4,
   "id": "c660bc89",
   "metadata": {},
   "outputs": [],
   "source": [
    "def check_validity(bits,max_cost,cost_list):\n",
    "    flag = False\n",
    "    sums = 0\n",
    "    for i in range(0,len(bits)):\n",
    "        value = int(bits[i])\n",
    "        sums = sums + cost_list[i]*value\n",
    "    if(sums <= max_cost):\n",
    "        return True\n",
    "    else:\n",
    "        return False\n",
    "        \n",
    "        "
   ]
  },
  {
   "cell_type": "code",
   "execution_count": 5,
   "id": "5fb91506",
   "metadata": {},
   "outputs": [],
   "source": [
    "def selection_from_population(population,value_list):\n",
    "    parents = []\n",
    "    for i in range(1,6):\n",
    "        parent_1 = population[np.random.randint(0,5)]\n",
    "        parent_2 = population[np.random.randint(0,5)]\n",
    "        if(calculate_Fitness([parent_1],value_list)[0]>calculate_Fitness([parent_2],value_list)[0]):\n",
    "            parents.append(parent_1)\n",
    "        else:\n",
    "            parents.append(parent_2)\n",
    "    return parents"
   ]
  },
  {
   "cell_type": "code",
   "execution_count": 6,
   "id": "eb412b4b",
   "metadata": {},
   "outputs": [],
   "source": [
    "def calculate_Fitness(values,value_list):\n",
    "    fitness = []\n",
    "    for i in values:\n",
    "        sums = 0\n",
    "        for j in range(0,len(i)):\n",
    "            value_index = int(i[j])\n",
    "            sums = sums + value_list[j]*value_index\n",
    "        fitness.append(sums)\n",
    "    return fitness"
   ]
  },
  {
   "cell_type": "code",
   "execution_count": 7,
   "id": "bac29932",
   "metadata": {},
   "outputs": [],
   "source": [
    "def crossover_parents(parents_selected,value_list):\n",
    "    offspring = []\n",
    "    print(parents_selected)\n",
    "    for i in range(0,3):\n",
    "        index_1 = np.random.randint(0,5)\n",
    "        index_2 = np.random.randint(0,5)\n",
    "        parent_1 = parents_selected[index_1]\n",
    "        parent_2 = parents_selected[index_2]\n",
    "        if(i==0 or i == 1):\n",
    "            cross_over_point = np.random.randint(1,3)\n",
    "            parent_1 = parent_1[0:cross_over_point] + parent_2[cross_over_point:]\n",
    "            parent_2 = parent_2[0:cross_over_point] + parent_1[cross_over_point:]\n",
    "        offspring.append(parent_1)\n",
    "        offspring.append(parent_2)\n",
    "    \n",
    "    fitness = calculate_Fitness(offspring,value_list)\n",
    "    index = fitness.index(min(fitness))\n",
    "    offspring.remove(offspring[index])\n",
    "    return offspring\n",
    "    \n",
    "    \n",
    "        \n",
    "    "
   ]
  },
  {
   "cell_type": "code",
   "execution_count": 8,
   "id": "5a28e6fa",
   "metadata": {},
   "outputs": [],
   "source": [
    "def mutate(offspring):\n",
    "    index = np.random.randint(0,5)\n",
    "    value = offspring[index]\n",
    "    offspring.remove(offspring[index])\n",
    "    mutate_index = np.random.randint(0,3)\n",
    "    if(value[mutate_index] == '1'):\n",
    "        value = value[0:mutate_index] + '0' + value[mutate_index+1:]\n",
    "    else:\n",
    "        value = value[0:mutate_index] + '1' + value[mutate_index+1:]\n",
    "    offspring.append(value)\n",
    "    return offspring"
   ]
  },
  {
   "cell_type": "code",
   "execution_count": 9,
   "id": "3cd94dfe",
   "metadata": {},
   "outputs": [],
   "source": [
    "def give_best_valid_each_generation(History,value_list,max_cost,cost_list) :\n",
    "    best_values = []\n",
    "    for i in History:\n",
    "        corrected = []\n",
    "        for j in i:\n",
    "            if(check_validity(j,max_cost,cost_list)==True):\n",
    "                corrected.append(j)\n",
    "        if(len(corrected)>0):\n",
    "            fitnesses = calculate_Fitness(corrected,value_list)\n",
    "            index = fitnesses.index(max(fitnesses))\n",
    "            best_values.append(corrected[index])\n",
    "    return best_values\n",
    "        \n",
    "    "
   ]
  },
  {
   "cell_type": "code",
   "execution_count": 10,
   "id": "54614ddc",
   "metadata": {},
   "outputs": [
    {
     "ename": "IndexError",
     "evalue": "list index out of range",
     "output_type": "error",
     "traceback": [
      "\u001b[1;31m---------------------------------------------------------------------------\u001b[0m",
      "\u001b[1;31mIndexError\u001b[0m                                Traceback (most recent call last)",
      "Input \u001b[1;32mIn [10]\u001b[0m, in \u001b[0;36m<cell line: 1>\u001b[1;34m()\u001b[0m\n\u001b[1;32m----> 1\u001b[0m \u001b[43mknapsack\u001b[49m\u001b[43m(\u001b[49m\u001b[38;5;241;43m50\u001b[39;49m\u001b[43m,\u001b[49m\u001b[43m[\u001b[49m\u001b[38;5;241;43m60\u001b[39;49m\u001b[43m,\u001b[49m\u001b[38;5;241;43m100\u001b[39;49m\u001b[43m,\u001b[49m\u001b[38;5;241;43m120\u001b[39;49m\u001b[43m]\u001b[49m\u001b[43m,\u001b[49m\u001b[43m[\u001b[49m\u001b[38;5;241;43m10\u001b[39;49m\u001b[43m,\u001b[49m\u001b[38;5;241;43m20\u001b[39;49m\u001b[43m,\u001b[49m\u001b[38;5;241;43m30\u001b[39;49m\u001b[43m]\u001b[49m\u001b[43m)\u001b[49m\n",
      "Input \u001b[1;32mIn [2]\u001b[0m, in \u001b[0;36mknapsack\u001b[1;34m(max_cost, value_list, cost_list)\u001b[0m\n\u001b[0;32m      3\u001b[0m \u001b[38;5;28;01mdef\u001b[39;00m \u001b[38;5;21mknapsack\u001b[39m(max_cost,value_list,cost_list):\n\u001b[0;32m      4\u001b[0m     History \u001b[38;5;241m=\u001b[39m []\n\u001b[1;32m----> 5\u001b[0m     population \u001b[38;5;241m=\u001b[39m \u001b[43mcreate_valid_randomised_population\u001b[49m\u001b[43m(\u001b[49m\u001b[43mmax_cost\u001b[49m\u001b[43m,\u001b[49m\u001b[43mcost_list\u001b[49m\u001b[43m)\u001b[49m\n\u001b[0;32m      6\u001b[0m     count \u001b[38;5;241m=\u001b[39m \u001b[38;5;241m0\u001b[39m \n\u001b[0;32m      7\u001b[0m     History\u001b[38;5;241m.\u001b[39mappend(population)\n",
      "Input \u001b[1;32mIn [3]\u001b[0m, in \u001b[0;36mcreate_valid_randomised_population\u001b[1;34m(max_cost, cost_list)\u001b[0m\n\u001b[0;32m      6\u001b[0m \u001b[38;5;28;01mfor\u001b[39;00m i \u001b[38;5;129;01min\u001b[39;00m \u001b[38;5;28mrange\u001b[39m(\u001b[38;5;241m0\u001b[39m,\u001b[38;5;241m100\u001b[39m):\n\u001b[0;32m      7\u001b[0m     bits \u001b[38;5;241m=\u001b[39m bits \u001b[38;5;241m+\u001b[39m \u001b[38;5;28mstr\u001b[39m(np\u001b[38;5;241m.\u001b[39mrandom\u001b[38;5;241m.\u001b[39mrandint(\u001b[38;5;241m0\u001b[39m,\u001b[38;5;241m2\u001b[39m))\n\u001b[1;32m----> 8\u001b[0m \u001b[38;5;28;01mif\u001b[39;00m(\u001b[43mcheck_validity\u001b[49m\u001b[43m(\u001b[49m\u001b[43mbits\u001b[49m\u001b[43m,\u001b[49m\u001b[43mmax_cost\u001b[49m\u001b[43m,\u001b[49m\u001b[43mcost_list\u001b[49m\u001b[43m)\u001b[49m \u001b[38;5;241m==\u001b[39m \u001b[38;5;28;01mTrue\u001b[39;00m):\n\u001b[0;32m      9\u001b[0m     count \u001b[38;5;241m=\u001b[39m count \u001b[38;5;241m+\u001b[39m \u001b[38;5;241m1\u001b[39m\n\u001b[0;32m     10\u001b[0m     population\u001b[38;5;241m.\u001b[39mappend(bits)\n",
      "Input \u001b[1;32mIn [4]\u001b[0m, in \u001b[0;36mcheck_validity\u001b[1;34m(bits, max_cost, cost_list)\u001b[0m\n\u001b[0;32m      4\u001b[0m \u001b[38;5;28;01mfor\u001b[39;00m i \u001b[38;5;129;01min\u001b[39;00m \u001b[38;5;28mrange\u001b[39m(\u001b[38;5;241m0\u001b[39m,\u001b[38;5;28mlen\u001b[39m(bits)):\n\u001b[0;32m      5\u001b[0m     value \u001b[38;5;241m=\u001b[39m \u001b[38;5;28mint\u001b[39m(bits[i])\n\u001b[1;32m----> 6\u001b[0m     sums \u001b[38;5;241m=\u001b[39m sums \u001b[38;5;241m+\u001b[39m \u001b[43mcost_list\u001b[49m\u001b[43m[\u001b[49m\u001b[43mi\u001b[49m\u001b[43m]\u001b[49m\u001b[38;5;241m*\u001b[39mvalue\n\u001b[0;32m      7\u001b[0m \u001b[38;5;28;01mif\u001b[39;00m(sums \u001b[38;5;241m<\u001b[39m\u001b[38;5;241m=\u001b[39m max_cost):\n\u001b[0;32m      8\u001b[0m     \u001b[38;5;28;01mreturn\u001b[39;00m \u001b[38;5;28;01mTrue\u001b[39;00m\n",
      "\u001b[1;31mIndexError\u001b[0m: list index out of range"
     ]
    }
   ],
   "source": [
    "knapsack(50,[60,100,120],[10,20,30])"
   ]
  },
  {
   "cell_type": "code",
   "execution_count": 11,
   "id": "81dd350e",
   "metadata": {},
   "outputs": [],
   "source": [
    "def extract_data_from_file():\n",
    "    file = open('output.txt','r')\n",
    "    content = file.readlines()\n",
    "    weights = []\n",
    "    values = []\n",
    "    max_cost = 0\n",
    "    first_line = content[0].split(' ')\n",
    "    for k in first_line:\n",
    "        x=k.strip()\n",
    "        if(x.isdigit()==True):\n",
    "            max_cost = x\n",
    "    for i in range(1,len(content)):\n",
    "        data = content[i].split(' ')\n",
    "        if('weight:' in data):\n",
    "            for j in data:\n",
    "                res = False\n",
    "                value = j.strip()\n",
    "                try:\n",
    "                    float(value)\n",
    "                    res = True\n",
    "                except:\n",
    "                    res = False\n",
    "                if(res==True):\n",
    "                    weights.append(value)\n",
    "        if('value:' in data):\n",
    "            for j in data:\n",
    "                value = j.strip()\n",
    "                if(value.isdigit()==True):\n",
    "                    values.append(value)\n",
    "    weights = [float(i) for i in weights]\n",
    "    values = [int(i) for i in values]\n",
    "    max_cost = float(max_cost)\n",
    "    return weights,values,max_cost"
   ]
  },
  {
   "cell_type": "code",
   "execution_count": 12,
   "id": "28c32e98",
   "metadata": {},
   "outputs": [],
   "source": [
    "def begin_knapsack_problem():\n",
    "    weights,values,max_cost = extract_data_from_file()\n",
    "    knapsack(max_cost,values,weights)"
   ]
  },
  {
   "cell_type": "code",
   "execution_count": 13,
   "id": "70d7bc23",
   "metadata": {},
   "outputs": [
    {
     "name": "stdout",
     "output_type": "stream",
     "text": [
      "['1011111110101111110010000001111111011010001000011101100000111110001000000100100001010101100000110010', '1110001110000111011001010101010000111100110101111110110011101010010011001000100001101100000100001111', '0111001001000010011001110001101110100111001110101111011101110001111010000110000110110001000110010000', '1011111110101111110010000001111111011010001000011101100000111110001000000100100001010101100000110010', '1011111110101111110010000001111111011010001000011101100000111110001000000100100001010101100000110010']\n",
      "Best Fitness in Generation 0 is 2971\n",
      "['1011111110101111110010000001111111011010001000011101100000111110001000000100100001010101100000110010', '1111111110101111110010000001111111011010001000011101100000111110001000000100100001010101100000110010', '1011111110101111110010000001111111011010001000011101100000111110001000000100100001010101100000110010', '1011111110101111110010000001111111011010001000011101100000111110001000000100100001010101100000110010', '1011111110101111110010000001111111011010001000011101100000111110001000000100100001010101100000110010']\n",
      "Best Fitness in Generation 1 is 2971\n",
      "['1111111110101111110010000001111111011010001000011101100000111110001000000100100001010101100000110010', '1111111110101111110010000001111111011010001000011101100000111110001000000100100001010101100000110010', '1111111110101111110010000001111111011010001000011101100000111110001000000100100001010101100000110010', '1111111110101111110010000001111111011010001000011101100000111110001000000100100001010101100000110010', '1111111110101111110010000001111111011010001000011101100000111110001000000100100001010101100000110010']\n",
      "Best Fitness in Generation 2 is 2971\n",
      "['1111111110101111110010000001111111011010001000011101100000111110001000000100100001010101100000110010', '1111111110101111110010000001111111011010001000011101100000111110001000000100100001010101100000110010', '1111111110101111110010000001111111011010001000011101100000111110001000000100100001010101100000110010', '1111111110101111110010000001111111011010001000011101100000111110001000000100100001010101100000110010', '1111111110101111110010000001111111011010001000011101100000111110001000000100100001010101100000110010']\n",
      "Best Fitness in Generation 3 is 2971\n",
      "['1111111110101111110010000001111111011010001000011101100000111110001000000100100001010101100000110010', '1111111110101111110010000001111111011010001000011101100000111110001000000100100001010101100000110010', '1111111110101111110010000001111111011010001000011101100000111110001000000100100001010101100000110010', '0111111110101111110010000001111111011010001000011101100000111110001000000100100001010101100000110010', '1111111110101111110010000001111111011010001000011101100000111110001000000100100001010101100000110010']\n",
      "Best Fitness in Generation 4 is 2971\n",
      "['1111111110101111110010000001111111011010001000011101100000111110001000000100100001010101100000110010', '1111111110101111110010000001111111011010001000011101100000111110001000000100100001010101100000110010', '1111111110101111110010000001111111011010001000011101100000111110001000000100100001010101100000110010', '1111111110101111110010000001111111011010001000011101100000111110001000000100100001010101100000110010', '1111111110101111110010000001111111011010001000011101100000111110001000000100100001010101100000110010']\n",
      "Best Fitness in Generation 5 is 2971\n",
      "['1111111110101111110010000001111111011010001000011101100000111110001000000100100001010101100000110010', '1111111110101111110010000001111111011010001000011101100000111110001000000100100001010101100000110010', '1111111110101111110010000001111111011010001000011101100000111110001000000100100001010101100000110010', '1111111110101111110010000001111111011010001000011101100000111110001000000100100001010101100000110010', '1111111110101111110010000001111111011010001000011101100000111110001000000100100001010101100000110010']\n",
      "Best Fitness in Generation 6 is 2971\n",
      "['1111111110101111110010000001111111011010001000011101100000111110001000000100100001010101100000110010', '1111111110101111110010000001111111011010001000011101100000111110001000000100100001010101100000110010', '1111111110101111110010000001111111011010001000011101100000111110001000000100100001010101100000110010', '1111111110101111110010000001111111011010001000011101100000111110001000000100100001010101100000110010', '1111111110101111110010000001111111011010001000011101100000111110001000000100100001010101100000110010']\n",
      "Best Fitness in Generation 7 is 2971\n",
      "['1111111110101111110010000001111111011010001000011101100000111110001000000100100001010101100000110010', '1111111110101111110010000001111111011010001000011101100000111110001000000100100001010101100000110010', '1111111110101111110010000001111111011010001000011101100000111110001000000100100001010101100000110010', '1111111110101111110010000001111111011010001000011101100000111110001000000100100001010101100000110010', '1111111110101111110010000001111111011010001000011101100000111110001000000100100001010101100000110010']\n",
      "Best Fitness in Generation 8 is 2971\n",
      "['1111111110101111110010000001111111011010001000011101100000111110001000000100100001010101100000110010', '1111111110101111110010000001111111011010001000011101100000111110001000000100100001010101100000110010', '1011111110101111110010000001111111011010001000011101100000111110001000000100100001010101100000110010', '1111111110101111110010000001111111011010001000011101100000111110001000000100100001010101100000110010', '1111111110101111110010000001111111011010001000011101100000111110001000000100100001010101100000110010']\n",
      "Best Fitness in Generation 9 is 2971\n",
      "['1111111110101111110010000001111111011010001000011101100000111110001000000100100001010101100000110010', '1011111110101111110010000001111111011010001000011101100000111110001000000100100001010101100000110010', '1111111110101111110010000001111111011010001000011101100000111110001000000100100001010101100000110010', '1111111110101111110010000001111111011010001000011101100000111110001000000100100001010101100000110010', '1111111110101111110010000001111111011010001000011101100000111110001000000100100001010101100000110010']\n",
      "Best Fitness in Generation 10 is 2971\n",
      "['1111111110101111110010000001111111011010001000011101100000111110001000000100100001010101100000110010', '1111111110101111110010000001111111011010001000011101100000111110001000000100100001010101100000110010', '1111111110101111110010000001111111011010001000011101100000111110001000000100100001010101100000110010', '1111111110101111110010000001111111011010001000011101100000111110001000000100100001010101100000110010', '1111111110101111110010000001111111011010001000011101100000111110001000000100100001010101100000110010']\n",
      "Best Fitness in Generation 11 is 2971\n",
      "['1111111110101111110010000001111111011010001000011101100000111110001000000100100001010101100000110010', '1111111110101111110010000001111111011010001000011101100000111110001000000100100001010101100000110010', '1111111110101111110010000001111111011010001000011101100000111110001000000100100001010101100000110010', '1111111110101111110010000001111111011010001000011101100000111110001000000100100001010101100000110010', '0111111110101111110010000001111111011010001000011101100000111110001000000100100001010101100000110010']\n",
      "Best Fitness in Generation 12 is 2971\n",
      "['0111111110101111110010000001111111011010001000011101100000111110001000000100100001010101100000110010', '1111111110101111110010000001111111011010001000011101100000111110001000000100100001010101100000110010', '1111111110101111110010000001111111011010001000011101100000111110001000000100100001010101100000110010', '0111111110101111110010000001111111011010001000011101100000111110001000000100100001010101100000110010', '1111111110101111110010000001111111011010001000011101100000111110001000000100100001010101100000110010']\n",
      "Best Fitness in Generation 13 is 2971\n",
      "['1111111110101111110010000001111111011010001000011101100000111110001000000100100001010101100000110010', '1111111110101111110010000001111111011010001000011101100000111110001000000100100001010101100000110010', '1111111110101111110010000001111111011010001000011101100000111110001000000100100001010101100000110010', '1111111110101111110010000001111111011010001000011101100000111110001000000100100001010101100000110010', '1111111110101111110010000001111111011010001000011101100000111110001000000100100001010101100000110010']\n",
      "Best Fitness in Generation 14 is 2971\n",
      "['1011111110101111110010000001111111011010001000011101100000111110001000000100100001010101100000110010', '1111111110101111110010000001111111011010001000011101100000111110001000000100100001010101100000110010', '1111111110101111110010000001111111011010001000011101100000111110001000000100100001010101100000110010', '1111111110101111110010000001111111011010001000011101100000111110001000000100100001010101100000110010', '1111111110101111110010000001111111011010001000011101100000111110001000000100100001010101100000110010']\n",
      "Best Fitness in Generation 15 is 2971\n",
      "['1111111110101111110010000001111111011010001000011101100000111110001000000100100001010101100000110010', '1011111110101111110010000001111111011010001000011101100000111110001000000100100001010101100000110010', '1111111110101111110010000001111111011010001000011101100000111110001000000100100001010101100000110010', '1111111110101111110010000001111111011010001000011101100000111110001000000100100001010101100000110010', '1111111110101111110010000001111111011010001000011101100000111110001000000100100001010101100000110010']\n",
      "Best Fitness in Generation 16 is 2971\n",
      "['1111111110101111110010000001111111011010001000011101100000111110001000000100100001010101100000110010', '1111111110101111110010000001111111011010001000011101100000111110001000000100100001010101100000110010', '1111111110101111110010000001111111011010001000011101100000111110001000000100100001010101100000110010', '1111111110101111110010000001111111011010001000011101100000111110001000000100100001010101100000110010', '1111111110101111110010000001111111011010001000011101100000111110001000000100100001010101100000110010']\n",
      "Best Fitness in Generation 17 is 2971\n",
      "['1111111110101111110010000001111111011010001000011101100000111110001000000100100001010101100000110010', '1111111110101111110010000001111111011010001000011101100000111110001000000100100001010101100000110010', '1111111110101111110010000001111111011010001000011101100000111110001000000100100001010101100000110010', '1111111110101111110010000001111111011010001000011101100000111110001000000100100001010101100000110010', '1111111110101111110010000001111111011010001000011101100000111110001000000100100001010101100000110010']\n",
      "Best Fitness in Generation 18 is 2971\n",
      "['1111111110101111110010000001111111011010001000011101100000111110001000000100100001010101100000110010', '1111111110101111110010000001111111011010001000011101100000111110001000000100100001010101100000110010', '1111111110101111110010000001111111011010001000011101100000111110001000000100100001010101100000110010', '1111111110101111110010000001111111011010001000011101100000111110001000000100100001010101100000110010', '1111111110101111110010000001111111011010001000011101100000111110001000000100100001010101100000110010']\n",
      "Best Fitness in Generation 19 is 2971\n",
      "['1111111110101111110010000001111111011010001000011101100000111110001000000100100001010101100000110010', '1111111110101111110010000001111111011010001000011101100000111110001000000100100001010101100000110010', '1111111110101111110010000001111111011010001000011101100000111110001000000100100001010101100000110010', '1111111110101111110010000001111111011010001000011101100000111110001000000100100001010101100000110010', '1111111110101111110010000001111111011010001000011101100000111110001000000100100001010101100000110010']\n",
      "Best Fitness in Generation 20 is 2971\n",
      "['1111111110101111110010000001111111011010001000011101100000111110001000000100100001010101100000110010', '1111111110101111110010000001111111011010001000011101100000111110001000000100100001010101100000110010', '1111111110101111110010000001111111011010001000011101100000111110001000000100100001010101100000110010', '1111111110101111110010000001111111011010001000011101100000111110001000000100100001010101100000110010', '1111111110101111110010000001111111011010001000011101100000111110001000000100100001010101100000110010']\n",
      "Best Fitness in Generation 21 is 2971\n",
      "['1111111110101111110010000001111111011010001000011101100000111110001000000100100001010101100000110010', '1111111110101111110010000001111111011010001000011101100000111110001000000100100001010101100000110010', '1111111110101111110010000001111111011010001000011101100000111110001000000100100001010101100000110010', '1111111110101111110010000001111111011010001000011101100000111110001000000100100001010101100000110010', '1111111110101111110010000001111111011010001000011101100000111110001000000100100001010101100000110010']\n",
      "Best Fitness in Generation 22 is 2971\n",
      "['1111111110101111110010000001111111011010001000011101100000111110001000000100100001010101100000110010', '1111111110101111110010000001111111011010001000011101100000111110001000000100100001010101100000110010', '1111111110101111110010000001111111011010001000011101100000111110001000000100100001010101100000110010', '1111111110101111110010000001111111011010001000011101100000111110001000000100100001010101100000110010', '1111111110101111110010000001111111011010001000011101100000111110001000000100100001010101100000110010']\n",
      "Best Fitness in Generation 23 is 2971\n",
      "['1111111110101111110010000001111111011010001000011101100000111110001000000100100001010101100000110010', '1111111110101111110010000001111111011010001000011101100000111110001000000100100001010101100000110010', '1111111110101111110010000001111111011010001000011101100000111110001000000100100001010101100000110010', '1111111110101111110010000001111111011010001000011101100000111110001000000100100001010101100000110010', '1111111110101111110010000001111111011010001000011101100000111110001000000100100001010101100000110010']\n",
      "Best Fitness in Generation 24 is 2971\n",
      "['1111111110101111110010000001111111011010001000011101100000111110001000000100100001010101100000110010', '1111111110101111110010000001111111011010001000011101100000111110001000000100100001010101100000110010', '1111111110101111110010000001111111011010001000011101100000111110001000000100100001010101100000110010', '1111111110101111110010000001111111011010001000011101100000111110001000000100100001010101100000110010', '1111111110101111110010000001111111011010001000011101100000111110001000000100100001010101100000110010']\n",
      "Best Fitness in Generation 25 is 2971\n",
      "['1111111110101111110010000001111111011010001000011101100000111110001000000100100001010101100000110010', '1111111110101111110010000001111111011010001000011101100000111110001000000100100001010101100000110010', '1111111110101111110010000001111111011010001000011101100000111110001000000100100001010101100000110010', '1111111110101111110010000001111111011010001000011101100000111110001000000100100001010101100000110010', '1111111110101111110010000001111111011010001000011101100000111110001000000100100001010101100000110010']\n",
      "Best Fitness in Generation 26 is 2971\n",
      "['1111111110101111110010000001111111011010001000011101100000111110001000000100100001010101100000110010', '1111111110101111110010000001111111011010001000011101100000111110001000000100100001010101100000110010', '1111111110101111110010000001111111011010001000011101100000111110001000000100100001010101100000110010', '1111111110101111110010000001111111011010001000011101100000111110001000000100100001010101100000110010', '1111111110101111110010000001111111011010001000011101100000111110001000000100100001010101100000110010']\n",
      "Best Fitness in Generation 27 is 2971\n",
      "['1111111110101111110010000001111111011010001000011101100000111110001000000100100001010101100000110010', '1111111110101111110010000001111111011010001000011101100000111110001000000100100001010101100000110010', '1111111110101111110010000001111111011010001000011101100000111110001000000100100001010101100000110010', '0111111110101111110010000001111111011010001000011101100000111110001000000100100001010101100000110010', '1111111110101111110010000001111111011010001000011101100000111110001000000100100001010101100000110010']\n",
      "Best Fitness in Generation 28 is 2971\n",
      "['1111111110101111110010000001111111011010001000011101100000111110001000000100100001010101100000110010', '1111111110101111110010000001111111011010001000011101100000111110001000000100100001010101100000110010', '0111111110101111110010000001111111011010001000011101100000111110001000000100100001010101100000110010', '1111111110101111110010000001111111011010001000011101100000111110001000000100100001010101100000110010', '1111111110101111110010000001111111011010001000011101100000111110001000000100100001010101100000110010']\n",
      "Best Fitness in Generation 29 is 2971\n",
      "['1111111110101111110010000001111111011010001000011101100000111110001000000100100001010101100000110010', '1111111110101111110010000001111111011010001000011101100000111110001000000100100001010101100000110010', '1111111110101111110010000001111111011010001000011101100000111110001000000100100001010101100000110010', '1111111110101111110010000001111111011010001000011101100000111110001000000100100001010101100000110010', '1111111110101111110010000001111111011010001000011101100000111110001000000100100001010101100000110010']\n",
      "Best Fitness in Generation 30 is 2971\n",
      "['1111111110101111110010000001111111011010001000011101100000111110001000000100100001010101100000110010', '1111111110101111110010000001111111011010001000011101100000111110001000000100100001010101100000110010', '1111111110101111110010000001111111011010001000011101100000111110001000000100100001010101100000110010', '1111111110101111110010000001111111011010001000011101100000111110001000000100100001010101100000110010', '1111111110101111110010000001111111011010001000011101100000111110001000000100100001010101100000110010']\n",
      "Best Fitness in Generation 31 is 2971\n",
      "['1111111110101111110010000001111111011010001000011101100000111110001000000100100001010101100000110010', '1111111110101111110010000001111111011010001000011101100000111110001000000100100001010101100000110010', '1111111110101111110010000001111111011010001000011101100000111110001000000100100001010101100000110010', '1111111110101111110010000001111111011010001000011101100000111110001000000100100001010101100000110010', '1111111110101111110010000001111111011010001000011101100000111110001000000100100001010101100000110010']\n",
      "Best Fitness in Generation 32 is 2971\n",
      "['1111111110101111110010000001111111011010001000011101100000111110001000000100100001010101100000110010', '1111111110101111110010000001111111011010001000011101100000111110001000000100100001010101100000110010', '1111111110101111110010000001111111011010001000011101100000111110001000000100100001010101100000110010', '1111111110101111110010000001111111011010001000011101100000111110001000000100100001010101100000110010', '1111111110101111110010000001111111011010001000011101100000111110001000000100100001010101100000110010']\n",
      "Best Fitness in Generation 33 is 2971\n",
      "['1111111110101111110010000001111111011010001000011101100000111110001000000100100001010101100000110010', '0111111110101111110010000001111111011010001000011101100000111110001000000100100001010101100000110010', '1111111110101111110010000001111111011010001000011101100000111110001000000100100001010101100000110010', '1111111110101111110010000001111111011010001000011101100000111110001000000100100001010101100000110010', '1111111110101111110010000001111111011010001000011101100000111110001000000100100001010101100000110010']\n",
      "Best Fitness in Generation 34 is 2971\n",
      "['1111111110101111110010000001111111011010001000011101100000111110001000000100100001010101100000110010', '1111111110101111110010000001111111011010001000011101100000111110001000000100100001010101100000110010', '1111111110101111110010000001111111011010001000011101100000111110001000000100100001010101100000110010', '1111111110101111110010000001111111011010001000011101100000111110001000000100100001010101100000110010', '1111111110101111110010000001111111011010001000011101100000111110001000000100100001010101100000110010']\n",
      "Best Fitness in Generation 35 is 2971\n",
      "['1111111110101111110010000001111111011010001000011101100000111110001000000100100001010101100000110010', '1111111110101111110010000001111111011010001000011101100000111110001000000100100001010101100000110010', '1111111110101111110010000001111111011010001000011101100000111110001000000100100001010101100000110010', '1111111110101111110010000001111111011010001000011101100000111110001000000100100001010101100000110010', '1111111110101111110010000001111111011010001000011101100000111110001000000100100001010101100000110010']\n",
      "Best Fitness in Generation 36 is 2971\n",
      "['1111111110101111110010000001111111011010001000011101100000111110001000000100100001010101100000110010', '1111111110101111110010000001111111011010001000011101100000111110001000000100100001010101100000110010', '1111111110101111110010000001111111011010001000011101100000111110001000000100100001010101100000110010', '1111111110101111110010000001111111011010001000011101100000111110001000000100100001010101100000110010', '1111111110101111110010000001111111011010001000011101100000111110001000000100100001010101100000110010']\n",
      "Best Fitness in Generation 37 is 2971\n",
      "['1111111110101111110010000001111111011010001000011101100000111110001000000100100001010101100000110010', '1111111110101111110010000001111111011010001000011101100000111110001000000100100001010101100000110010', '1101111110101111110010000001111111011010001000011101100000111110001000000100100001010101100000110010', '1111111110101111110010000001111111011010001000011101100000111110001000000100100001010101100000110010', '1111111110101111110010000001111111011010001000011101100000111110001000000100100001010101100000110010']\n",
      "Best Fitness in Generation 38 is 2971\n",
      "['1101111110101111110010000001111111011010001000011101100000111110001000000100100001010101100000110010', '1111111110101111110010000001111111011010001000011101100000111110001000000100100001010101100000110010', '1101111110101111110010000001111111011010001000011101100000111110001000000100100001010101100000110010', '1101111110101111110010000001111111011010001000011101100000111110001000000100100001010101100000110010', '1111111110101111110010000001111111011010001000011101100000111110001000000100100001010101100000110010']\n",
      "Best Fitness in Generation 39 is 2971\n",
      "['1101111110101111110010000001111111011010001000011101100000111110001000000100100001010101100000110010', '1101111110101111110010000001111111011010001000011101100000111110001000000100100001010101100000110010', '1111111110101111110010000001111111011010001000011101100000111110001000000100100001010101100000110010', '1101111110101111110010000001111111011010001000011101100000111110001000000100100001010101100000110010', '1101111110101111110010000001111111011010001000011101100000111110001000000100100001010101100000110010']\n",
      "Best Fitness in Generation 40 is 2971\n",
      "['1101111110101111110010000001111111011010001000011101100000111110001000000100100001010101100000110010', '1101111110101111110010000001111111011010001000011101100000111110001000000100100001010101100000110010', '1101111110101111110010000001111111011010001000011101100000111110001000000100100001010101100000110010', '1101111110101111110010000001111111011010001000011101100000111110001000000100100001010101100000110010', '1111111110101111110010000001111111011010001000011101100000111110001000000100100001010101100000110010']\n",
      "Best Fitness in Generation 41 is 2971\n",
      "['1101111110101111110010000001111111011010001000011101100000111110001000000100100001010101100000110010', '1111111110101111110010000001111111011010001000011101100000111110001000000100100001010101100000110010', '1111111110101111110010000001111111011010001000011101100000111110001000000100100001010101100000110010', '1111111110101111110010000001111111011010001000011101100000111110001000000100100001010101100000110010', '1111111110101111110010000001111111011010001000011101100000111110001000000100100001010101100000110010']\n",
      "Best Fitness in Generation 42 is 2912\n",
      "['1101111110101111110010000001111111011010001000011101100000111110001000000100100001010101100000110010', '1101111110101111110010000001111111011010001000011101100000111110001000000100100001010101100000110010', '1101111110101111110010000001111111011010001000011101100000111110001000000100100001010101100000110010', '1011111110101111110010000001111111011010001000011101100000111110001000000100100001010101100000110010', '1101111110101111110010000001111111011010001000011101100000111110001000000100100001010101100000110010']\n",
      "Best Fitness in Generation 43 is 2912\n",
      "['1101111110101111110010000001111111011010001000011101100000111110001000000100100001010101100000110010', '1101111110101111110010000001111111011010001000011101100000111110001000000100100001010101100000110010', '1101111110101111110010000001111111011010001000011101100000111110001000000100100001010101100000110010', '1101111110101111110010000001111111011010001000011101100000111110001000000100100001010101100000110010', '1101111110101111110010000001111111011010001000011101100000111110001000000100100001010101100000110010']\n",
      "Best Fitness in Generation 44 is 2912\n",
      "['1101111110101111110010000001111111011010001000011101100000111110001000000100100001010101100000110010', '1101111110101111110010000001111111011010001000011101100000111110001000000100100001010101100000110010', '1101111110101111110010000001111111011010001000011101100000111110001000000100100001010101100000110010', '1101111110101111110010000001111111011010001000011101100000111110001000000100100001010101100000110010', '1101111110101111110010000001111111011010001000011101100000111110001000000100100001010101100000110010']\n",
      "Best Fitness in Generation 45 is 2912\n",
      "['1101111110101111110010000001111111011010001000011101100000111110001000000100100001010101100000110010', '1101111110101111110010000001111111011010001000011101100000111110001000000100100001010101100000110010', '1101111110101111110010000001111111011010001000011101100000111110001000000100100001010101100000110010', '1101111110101111110010000001111111011010001000011101100000111110001000000100100001010101100000110010', '1101111110101111110010000001111111011010001000011101100000111110001000000100100001010101100000110010']\n",
      "Best Fitness in Generation 46 is 2971\n",
      "['1111111110101111110010000001111111011010001000011101100000111110001000000100100001010101100000110010', '1101111110101111110010000001111111011010001000011101100000111110001000000100100001010101100000110010', '1111111110101111110010000001111111011010001000011101100000111110001000000100100001010101100000110010', '1111111110101111110010000001111111011010001000011101100000111110001000000100100001010101100000110010', '1101111110101111110010000001111111011010001000011101100000111110001000000100100001010101100000110010']\n",
      "Best Fitness in Generation 47 is 2971\n",
      "['1101111110101111110010000001111111011010001000011101100000111110001000000100100001010101100000110010', '1111111110101111110010000001111111011010001000011101100000111110001000000100100001010101100000110010', '1101111110101111110010000001111111011010001000011101100000111110001000000100100001010101100000110010', '1111111110101111110010000001111111011010001000011101100000111110001000000100100001010101100000110010', '1101111110101111110010000001111111011010001000011101100000111110001000000100100001010101100000110010']\n",
      "Best Fitness in Generation 48 is 2971\n",
      "['1111111110101111110010000001111111011010001000011101100000111110001000000100100001010101100000110010', '1111111110101111110010000001111111011010001000011101100000111110001000000100100001010101100000110010', '1111111110101111110010000001111111011010001000011101100000111110001000000100100001010101100000110010', '1111111110101111110010000001111111011010001000011101100000111110001000000100100001010101100000110010', '1111111110101111110010000001111111011010001000011101100000111110001000000100100001010101100000110010']\n",
      "Best Fitness in Generation 49 is 2971\n",
      "['1111111110101111110010000001111111011010001000011101100000111110001000000100100001010101100000110010', '1011111110101111110010000001111111011010001000011101100000111110001000000100100001010101100000110010', '1111111110101111110010000001111111011010001000011101100000111110001000000100100001010101100000110010', '1111111110101111110010000001111111011010001000011101100000111110001000000100100001010101100000110010', '1111111110101111110010000001111111011010001000011101100000111110001000000100100001010101100000110010']\n",
      "Best Fitness in Generation 50 is 2971\n",
      "['1111111110101111110010000001111111011010001000011101100000111110001000000100100001010101100000110010', '1111111110101111110010000001111111011010001000011101100000111110001000000100100001010101100000110010', '1111111110101111110010000001111111011010001000011101100000111110001000000100100001010101100000110010', '1111111110101111110010000001111111011010001000011101100000111110001000000100100001010101100000110010', '1111111110101111110010000001111111011010001000011101100000111110001000000100100001010101100000110010']\n",
      "Best Fitness in Generation 51 is 2971\n",
      "['1111111110101111110010000001111111011010001000011101100000111110001000000100100001010101100000110010', '1111111110101111110010000001111111011010001000011101100000111110001000000100100001010101100000110010', '1111111110101111110010000001111111011010001000011101100000111110001000000100100001010101100000110010', '1111111110101111110010000001111111011010001000011101100000111110001000000100100001010101100000110010', '1111111110101111110010000001111111011010001000011101100000111110001000000100100001010101100000110010']\n",
      "Best Fitness in Generation 52 is 2971\n",
      "['1111111110101111110010000001111111011010001000011101100000111110001000000100100001010101100000110010', '1111111110101111110010000001111111011010001000011101100000111110001000000100100001010101100000110010', '1111111110101111110010000001111111011010001000011101100000111110001000000100100001010101100000110010', '1111111110101111110010000001111111011010001000011101100000111110001000000100100001010101100000110010', '1111111110101111110010000001111111011010001000011101100000111110001000000100100001010101100000110010']\n",
      "Best Fitness in Generation 53 is 2971\n",
      "['1111111110101111110010000001111111011010001000011101100000111110001000000100100001010101100000110010', '1111111110101111110010000001111111011010001000011101100000111110001000000100100001010101100000110010', '1111111110101111110010000001111111011010001000011101100000111110001000000100100001010101100000110010', '1111111110101111110010000001111111011010001000011101100000111110001000000100100001010101100000110010', '1111111110101111110010000001111111011010001000011101100000111110001000000100100001010101100000110010']\n",
      "Best Fitness in Generation 54 is 2971\n",
      "['1111111110101111110010000001111111011010001000011101100000111110001000000100100001010101100000110010', '1111111110101111110010000001111111011010001000011101100000111110001000000100100001010101100000110010', '1111111110101111110010000001111111011010001000011101100000111110001000000100100001010101100000110010', '1111111110101111110010000001111111011010001000011101100000111110001000000100100001010101100000110010', '1111111110101111110010000001111111011010001000011101100000111110001000000100100001010101100000110010']\n",
      "Best Fitness in Generation 55 is 2971\n",
      "['1111111110101111110010000001111111011010001000011101100000111110001000000100100001010101100000110010', '1111111110101111110010000001111111011010001000011101100000111110001000000100100001010101100000110010', '1111111110101111110010000001111111011010001000011101100000111110001000000100100001010101100000110010', '1111111110101111110010000001111111011010001000011101100000111110001000000100100001010101100000110010', '1111111110101111110010000001111111011010001000011101100000111110001000000100100001010101100000110010']\n",
      "Best Fitness in Generation 56 is 2971\n",
      "['1111111110101111110010000001111111011010001000011101100000111110001000000100100001010101100000110010', '1111111110101111110010000001111111011010001000011101100000111110001000000100100001010101100000110010', '1111111110101111110010000001111111011010001000011101100000111110001000000100100001010101100000110010', '1111111110101111110010000001111111011010001000011101100000111110001000000100100001010101100000110010', '1111111110101111110010000001111111011010001000011101100000111110001000000100100001010101100000110010']\n",
      "Best Fitness in Generation 57 is 2971\n",
      "['1111111110101111110010000001111111011010001000011101100000111110001000000100100001010101100000110010', '1111111110101111110010000001111111011010001000011101100000111110001000000100100001010101100000110010', '1111111110101111110010000001111111011010001000011101100000111110001000000100100001010101100000110010', '1111111110101111110010000001111111011010001000011101100000111110001000000100100001010101100000110010', '1111111110101111110010000001111111011010001000011101100000111110001000000100100001010101100000110010']\n",
      "Best Fitness in Generation 58 is 2971\n",
      "['1111111110101111110010000001111111011010001000011101100000111110001000000100100001010101100000110010', '1111111110101111110010000001111111011010001000011101100000111110001000000100100001010101100000110010', '1111111110101111110010000001111111011010001000011101100000111110001000000100100001010101100000110010', '1111111110101111110010000001111111011010001000011101100000111110001000000100100001010101100000110010', '1111111110101111110010000001111111011010001000011101100000111110001000000100100001010101100000110010']\n",
      "Best Fitness in Generation 59 is 2971\n",
      "['1111111110101111110010000001111111011010001000011101100000111110001000000100100001010101100000110010', '1101111110101111110010000001111111011010001000011101100000111110001000000100100001010101100000110010', '1111111110101111110010000001111111011010001000011101100000111110001000000100100001010101100000110010', '1111111110101111110010000001111111011010001000011101100000111110001000000100100001010101100000110010', '1111111110101111110010000001111111011010001000011101100000111110001000000100100001010101100000110010']\n",
      "Best Fitness in Generation 60 is 2971\n",
      "['1111111110101111110010000001111111011010001000011101100000111110001000000100100001010101100000110010', '1111111110101111110010000001111111011010001000011101100000111110001000000100100001010101100000110010', '1111111110101111110010000001111111011010001000011101100000111110001000000100100001010101100000110010', '1111111110101111110010000001111111011010001000011101100000111110001000000100100001010101100000110010', '1111111110101111110010000001111111011010001000011101100000111110001000000100100001010101100000110010']\n",
      "Best Fitness in Generation 61 is 2971\n",
      "['1111111110101111110010000001111111011010001000011101100000111110001000000100100001010101100000110010', '1111111110101111110010000001111111011010001000011101100000111110001000000100100001010101100000110010', '1111111110101111110010000001111111011010001000011101100000111110001000000100100001010101100000110010', '1111111110101111110010000001111111011010001000011101100000111110001000000100100001010101100000110010', '1111111110101111110010000001111111011010001000011101100000111110001000000100100001010101100000110010']\n",
      "Best Fitness in Generation 62 is 2971\n",
      "['1111111110101111110010000001111111011010001000011101100000111110001000000100100001010101100000110010', '1111111110101111110010000001111111011010001000011101100000111110001000000100100001010101100000110010', '1111111110101111110010000001111111011010001000011101100000111110001000000100100001010101100000110010', '1111111110101111110010000001111111011010001000011101100000111110001000000100100001010101100000110010', '1111111110101111110010000001111111011010001000011101100000111110001000000100100001010101100000110010']\n",
      "Best Fitness in Generation 63 is 2971\n",
      "['1111111110101111110010000001111111011010001000011101100000111110001000000100100001010101100000110010', '1111111110101111110010000001111111011010001000011101100000111110001000000100100001010101100000110010', '1111111110101111110010000001111111011010001000011101100000111110001000000100100001010101100000110010', '1111111110101111110010000001111111011010001000011101100000111110001000000100100001010101100000110010', '1111111110101111110010000001111111011010001000011101100000111110001000000100100001010101100000110010']\n",
      "Best Fitness in Generation 64 is 2971\n",
      "['1111111110101111110010000001111111011010001000011101100000111110001000000100100001010101100000110010', '1111111110101111110010000001111111011010001000011101100000111110001000000100100001010101100000110010', '1111111110101111110010000001111111011010001000011101100000111110001000000100100001010101100000110010', '1111111110101111110010000001111111011010001000011101100000111110001000000100100001010101100000110010', '1111111110101111110010000001111111011010001000011101100000111110001000000100100001010101100000110010']\n",
      "Best Fitness in Generation 65 is 2971\n",
      "['1111111110101111110010000001111111011010001000011101100000111110001000000100100001010101100000110010', '1111111110101111110010000001111111011010001000011101100000111110001000000100100001010101100000110010', '1111111110101111110010000001111111011010001000011101100000111110001000000100100001010101100000110010', '1111111110101111110010000001111111011010001000011101100000111110001000000100100001010101100000110010', '1111111110101111110010000001111111011010001000011101100000111110001000000100100001010101100000110010']\n",
      "Best Fitness in Generation 66 is 2971\n",
      "['1111111110101111110010000001111111011010001000011101100000111110001000000100100001010101100000110010', '1111111110101111110010000001111111011010001000011101100000111110001000000100100001010101100000110010', '1111111110101111110010000001111111011010001000011101100000111110001000000100100001010101100000110010', '1111111110101111110010000001111111011010001000011101100000111110001000000100100001010101100000110010', '1111111110101111110010000001111111011010001000011101100000111110001000000100100001010101100000110010']\n",
      "Best Fitness in Generation 67 is 2971\n",
      "['1111111110101111110010000001111111011010001000011101100000111110001000000100100001010101100000110010', '1111111110101111110010000001111111011010001000011101100000111110001000000100100001010101100000110010', '1111111110101111110010000001111111011010001000011101100000111110001000000100100001010101100000110010', '1111111110101111110010000001111111011010001000011101100000111110001000000100100001010101100000110010', '1111111110101111110010000001111111011010001000011101100000111110001000000100100001010101100000110010']\n",
      "Best Fitness in Generation 68 is 2971\n",
      "['1111111110101111110010000001111111011010001000011101100000111110001000000100100001010101100000110010', '1111111110101111110010000001111111011010001000011101100000111110001000000100100001010101100000110010', '1111111110101111110010000001111111011010001000011101100000111110001000000100100001010101100000110010', '1111111110101111110010000001111111011010001000011101100000111110001000000100100001010101100000110010', '1111111110101111110010000001111111011010001000011101100000111110001000000100100001010101100000110010']\n",
      "Best Fitness in Generation 69 is 2971\n",
      "['1111111110101111110010000001111111011010001000011101100000111110001000000100100001010101100000110010', '1111111110101111110010000001111111011010001000011101100000111110001000000100100001010101100000110010', '1111111110101111110010000001111111011010001000011101100000111110001000000100100001010101100000110010', '1111111110101111110010000001111111011010001000011101100000111110001000000100100001010101100000110010', '1111111110101111110010000001111111011010001000011101100000111110001000000100100001010101100000110010']\n",
      "Best Fitness in Generation 70 is 2971\n",
      "['1111111110101111110010000001111111011010001000011101100000111110001000000100100001010101100000110010', '1111111110101111110010000001111111011010001000011101100000111110001000000100100001010101100000110010', '1111111110101111110010000001111111011010001000011101100000111110001000000100100001010101100000110010', '1111111110101111110010000001111111011010001000011101100000111110001000000100100001010101100000110010', '1111111110101111110010000001111111011010001000011101100000111110001000000100100001010101100000110010']\n",
      "Best Fitness in Generation 71 is 2971\n",
      "['1111111110101111110010000001111111011010001000011101100000111110001000000100100001010101100000110010', '1111111110101111110010000001111111011010001000011101100000111110001000000100100001010101100000110010', '1111111110101111110010000001111111011010001000011101100000111110001000000100100001010101100000110010', '1111111110101111110010000001111111011010001000011101100000111110001000000100100001010101100000110010', '1111111110101111110010000001111111011010001000011101100000111110001000000100100001010101100000110010']\n",
      "Best Fitness in Generation 72 is 2971\n",
      "['1111111110101111110010000001111111011010001000011101100000111110001000000100100001010101100000110010', '1111111110101111110010000001111111011010001000011101100000111110001000000100100001010101100000110010', '1111111110101111110010000001111111011010001000011101100000111110001000000100100001010101100000110010', '1111111110101111110010000001111111011010001000011101100000111110001000000100100001010101100000110010', '1111111110101111110010000001111111011010001000011101100000111110001000000100100001010101100000110010']\n",
      "Best Fitness in Generation 73 is 2971\n",
      "['1111111110101111110010000001111111011010001000011101100000111110001000000100100001010101100000110010', '1111111110101111110010000001111111011010001000011101100000111110001000000100100001010101100000110010', '1111111110101111110010000001111111011010001000011101100000111110001000000100100001010101100000110010', '1111111110101111110010000001111111011010001000011101100000111110001000000100100001010101100000110010', '1111111110101111110010000001111111011010001000011101100000111110001000000100100001010101100000110010']\n",
      "Best Fitness in Generation 74 is 2971\n",
      "['0111111110101111110010000001111111011010001000011101100000111110001000000100100001010101100000110010', '1111111110101111110010000001111111011010001000011101100000111110001000000100100001010101100000110010', '1111111110101111110010000001111111011010001000011101100000111110001000000100100001010101100000110010', '1111111110101111110010000001111111011010001000011101100000111110001000000100100001010101100000110010', '1111111110101111110010000001111111011010001000011101100000111110001000000100100001010101100000110010']\n",
      "Best Fitness in Generation 75 is 2971\n",
      "['1111111110101111110010000001111111011010001000011101100000111110001000000100100001010101100000110010', '1111111110101111110010000001111111011010001000011101100000111110001000000100100001010101100000110010', '1111111110101111110010000001111111011010001000011101100000111110001000000100100001010101100000110010', '1111111110101111110010000001111111011010001000011101100000111110001000000100100001010101100000110010', '1111111110101111110010000001111111011010001000011101100000111110001000000100100001010101100000110010']\n",
      "Best Fitness in Generation 76 is 2971\n",
      "['1111111110101111110010000001111111011010001000011101100000111110001000000100100001010101100000110010', '1111111110101111110010000001111111011010001000011101100000111110001000000100100001010101100000110010', '1111111110101111110010000001111111011010001000011101100000111110001000000100100001010101100000110010', '1111111110101111110010000001111111011010001000011101100000111110001000000100100001010101100000110010', '1111111110101111110010000001111111011010001000011101100000111110001000000100100001010101100000110010']\n",
      "Best Fitness in Generation 77 is 2971\n",
      "['1111111110101111110010000001111111011010001000011101100000111110001000000100100001010101100000110010', '1111111110101111110010000001111111011010001000011101100000111110001000000100100001010101100000110010', '1111111110101111110010000001111111011010001000011101100000111110001000000100100001010101100000110010', '1111111110101111110010000001111111011010001000011101100000111110001000000100100001010101100000110010', '1111111110101111110010000001111111011010001000011101100000111110001000000100100001010101100000110010']\n",
      "Best Fitness in Generation 78 is 2971\n",
      "['1111111110101111110010000001111111011010001000011101100000111110001000000100100001010101100000110010', '1111111110101111110010000001111111011010001000011101100000111110001000000100100001010101100000110010', '1111111110101111110010000001111111011010001000011101100000111110001000000100100001010101100000110010', '1111111110101111110010000001111111011010001000011101100000111110001000000100100001010101100000110010', '1111111110101111110010000001111111011010001000011101100000111110001000000100100001010101100000110010']\n",
      "Best Fitness in Generation 79 is 2971\n",
      "['1111111110101111110010000001111111011010001000011101100000111110001000000100100001010101100000110010', '1111111110101111110010000001111111011010001000011101100000111110001000000100100001010101100000110010', '1111111110101111110010000001111111011010001000011101100000111110001000000100100001010101100000110010', '1111111110101111110010000001111111011010001000011101100000111110001000000100100001010101100000110010', '1111111110101111110010000001111111011010001000011101100000111110001000000100100001010101100000110010']\n",
      "Best Fitness in Generation 80 is 2971\n",
      "['1111111110101111110010000001111111011010001000011101100000111110001000000100100001010101100000110010', '1111111110101111110010000001111111011010001000011101100000111110001000000100100001010101100000110010', '1111111110101111110010000001111111011010001000011101100000111110001000000100100001010101100000110010', '1111111110101111110010000001111111011010001000011101100000111110001000000100100001010101100000110010', '1111111110101111110010000001111111011010001000011101100000111110001000000100100001010101100000110010']\n",
      "Best Fitness in Generation 81 is 2971\n",
      "['1111111110101111110010000001111111011010001000011101100000111110001000000100100001010101100000110010', '1111111110101111110010000001111111011010001000011101100000111110001000000100100001010101100000110010', '1111111110101111110010000001111111011010001000011101100000111110001000000100100001010101100000110010', '1111111110101111110010000001111111011010001000011101100000111110001000000100100001010101100000110010', '1111111110101111110010000001111111011010001000011101100000111110001000000100100001010101100000110010']\n",
      "Best Fitness in Generation 82 is 2971\n",
      "['1111111110101111110010000001111111011010001000011101100000111110001000000100100001010101100000110010', '1111111110101111110010000001111111011010001000011101100000111110001000000100100001010101100000110010', '1111111110101111110010000001111111011010001000011101100000111110001000000100100001010101100000110010', '1111111110101111110010000001111111011010001000011101100000111110001000000100100001010101100000110010', '1111111110101111110010000001111111011010001000011101100000111110001000000100100001010101100000110010']\n",
      "Best Fitness in Generation 83 is 2971\n",
      "['1111111110101111110010000001111111011010001000011101100000111110001000000100100001010101100000110010', '1111111110101111110010000001111111011010001000011101100000111110001000000100100001010101100000110010', '1111111110101111110010000001111111011010001000011101100000111110001000000100100001010101100000110010', '1111111110101111110010000001111111011010001000011101100000111110001000000100100001010101100000110010', '1111111110101111110010000001111111011010001000011101100000111110001000000100100001010101100000110010']\n",
      "Best Fitness in Generation 84 is 2971\n",
      "['1111111110101111110010000001111111011010001000011101100000111110001000000100100001010101100000110010', '1111111110101111110010000001111111011010001000011101100000111110001000000100100001010101100000110010', '1111111110101111110010000001111111011010001000011101100000111110001000000100100001010101100000110010', '1111111110101111110010000001111111011010001000011101100000111110001000000100100001010101100000110010', '1111111110101111110010000001111111011010001000011101100000111110001000000100100001010101100000110010']\n",
      "Best Fitness in Generation 85 is 2971\n",
      "['1111111110101111110010000001111111011010001000011101100000111110001000000100100001010101100000110010', '1111111110101111110010000001111111011010001000011101100000111110001000000100100001010101100000110010', '1111111110101111110010000001111111011010001000011101100000111110001000000100100001010101100000110010', '1111111110101111110010000001111111011010001000011101100000111110001000000100100001010101100000110010', '1111111110101111110010000001111111011010001000011101100000111110001000000100100001010101100000110010']\n",
      "Best Fitness in Generation 86 is 2971\n",
      "['1111111110101111110010000001111111011010001000011101100000111110001000000100100001010101100000110010', '1111111110101111110010000001111111011010001000011101100000111110001000000100100001010101100000110010', '1111111110101111110010000001111111011010001000011101100000111110001000000100100001010101100000110010', '1111111110101111110010000001111111011010001000011101100000111110001000000100100001010101100000110010', '1111111110101111110010000001111111011010001000011101100000111110001000000100100001010101100000110010']\n",
      "Best Fitness in Generation 87 is 2971\n",
      "['1111111110101111110010000001111111011010001000011101100000111110001000000100100001010101100000110010', '1111111110101111110010000001111111011010001000011101100000111110001000000100100001010101100000110010', '1111111110101111110010000001111111011010001000011101100000111110001000000100100001010101100000110010', '1111111110101111110010000001111111011010001000011101100000111110001000000100100001010101100000110010', '1111111110101111110010000001111111011010001000011101100000111110001000000100100001010101100000110010']\n",
      "Best Fitness in Generation 88 is 2971\n",
      "['1111111110101111110010000001111111011010001000011101100000111110001000000100100001010101100000110010', '1111111110101111110010000001111111011010001000011101100000111110001000000100100001010101100000110010', '1111111110101111110010000001111111011010001000011101100000111110001000000100100001010101100000110010', '1111111110101111110010000001111111011010001000011101100000111110001000000100100001010101100000110010', '1111111110101111110010000001111111011010001000011101100000111110001000000100100001010101100000110010']\n",
      "Best Fitness in Generation 89 is 2971\n",
      "['1111111110101111110010000001111111011010001000011101100000111110001000000100100001010101100000110010', '1111111110101111110010000001111111011010001000011101100000111110001000000100100001010101100000110010', '1111111110101111110010000001111111011010001000011101100000111110001000000100100001010101100000110010', '1111111110101111110010000001111111011010001000011101100000111110001000000100100001010101100000110010', '1111111110101111110010000001111111011010001000011101100000111110001000000100100001010101100000110010']\n",
      "Best Fitness in Generation 90 is 2971\n",
      "['1111111110101111110010000001111111011010001000011101100000111110001000000100100001010101100000110010', '1111111110101111110010000001111111011010001000011101100000111110001000000100100001010101100000110010', '1111111110101111110010000001111111011010001000011101100000111110001000000100100001010101100000110010', '1111111110101111110010000001111111011010001000011101100000111110001000000100100001010101100000110010', '1111111110101111110010000001111111011010001000011101100000111110001000000100100001010101100000110010']\n",
      "Best Fitness in Generation 91 is 2971\n",
      "['1111111110101111110010000001111111011010001000011101100000111110001000000100100001010101100000110010', '1111111110101111110010000001111111011010001000011101100000111110001000000100100001010101100000110010', '1111111110101111110010000001111111011010001000011101100000111110001000000100100001010101100000110010', '1111111110101111110010000001111111011010001000011101100000111110001000000100100001010101100000110010', '1111111110101111110010000001111111011010001000011101100000111110001000000100100001010101100000110010']\n",
      "Best Fitness in Generation 92 is 2971\n",
      "['1111111110101111110010000001111111011010001000011101100000111110001000000100100001010101100000110010', '1111111110101111110010000001111111011010001000011101100000111110001000000100100001010101100000110010', '1111111110101111110010000001111111011010001000011101100000111110001000000100100001010101100000110010', '1111111110101111110010000001111111011010001000011101100000111110001000000100100001010101100000110010', '1111111110101111110010000001111111011010001000011101100000111110001000000100100001010101100000110010']\n",
      "Best Fitness in Generation 93 is 2971\n",
      "['1111111110101111110010000001111111011010001000011101100000111110001000000100100001010101100000110010', '1111111110101111110010000001111111011010001000011101100000111110001000000100100001010101100000110010', '1111111110101111110010000001111111011010001000011101100000111110001000000100100001010101100000110010', '1111111110101111110010000001111111011010001000011101100000111110001000000100100001010101100000110010', '1111111110101111110010000001111111011010001000011101100000111110001000000100100001010101100000110010']\n",
      "Best Fitness in Generation 94 is 2971\n",
      "['1111111110101111110010000001111111011010001000011101100000111110001000000100100001010101100000110010', '1111111110101111110010000001111111011010001000011101100000111110001000000100100001010101100000110010', '1111111110101111110010000001111111011010001000011101100000111110001000000100100001010101100000110010', '1111111110101111110010000001111111011010001000011101100000111110001000000100100001010101100000110010', '1111111110101111110010000001111111011010001000011101100000111110001000000100100001010101100000110010']\n",
      "Best Fitness in Generation 95 is 2971\n",
      "['1111111110101111110010000001111111011010001000011101100000111110001000000100100001010101100000110010', '1111111110101111110010000001111111011010001000011101100000111110001000000100100001010101100000110010', '1111111110101111110010000001111111011010001000011101100000111110001000000100100001010101100000110010', '1111111110101111110010000001111111011010001000011101100000111110001000000100100001010101100000110010', '1111111110101111110010000001111111011010001000011101100000111110001000000100100001010101100000110010']\n",
      "Best Fitness in Generation 96 is 2971\n",
      "['1111111110101111110010000001111111011010001000011101100000111110001000000100100001010101100000110010', '1111111110101111110010000001111111011010001000011101100000111110001000000100100001010101100000110010', '1101111110101111110010000001111111011010001000011101100000111110001000000100100001010101100000110010', '1111111110101111110010000001111111011010001000011101100000111110001000000100100001010101100000110010', '1111111110101111110010000001111111011010001000011101100000111110001000000100100001010101100000110010']\n",
      "Best Fitness in Generation 97 is 2971\n",
      "['1011111110101111110010000001111111011010001000011101100000111110001000000100100001010101100000110010', '1011111110101111110010000001111111011010001000011101100000111110001000000100100001010101100000110010', '1111111110101111110010000001111111011010001000011101100000111110001000000100100001010101100000110010', '1111111110101111110010000001111111011010001000011101100000111110001000000100100001010101100000110010', '1111111110101111110010000001111111011010001000011101100000111110001000000100100001010101100000110010']\n",
      "Best Fitness in Generation 98 is 2971\n",
      "['1111111110101111110010000001111111011010001000011101100000111110001000000100100001010101100000110010', '1111111110101111110010000001111111011010001000011101100000111110001000000100100001010101100000110010', '1111111110101111110010000001111111011010001000011101100000111110001000000100100001010101100000110010', '0111111110101111110010000001111111011010001000011101100000111110001000000100100001010101100000110010', '1111111110101111110010000001111111011010001000011101100000111110001000000100100001010101100000110010']\n",
      "Best Fitness in Generation 99 is 2971\n",
      "['1111111110101111110010000001111111011010001000011101100000111110001000000100100001010101100000110010', '1111111110101111110010000001111111011010001000011101100000111110001000000100100001010101100000110010', '1111111110101111110010000001111111011010001000011101100000111110001000000100100001010101100000110010', '1111111110101111110010000001111111011010001000011101100000111110001000000100100001010101100000110010', '1111111110101111110010000001111111011010001000011101100000111110001000000100100001010101100000110010']\n",
      "Best Fitness in Generation 100 is 2971\n",
      "final valid answer = 1111111110101111110010000001111111011010001000011101100000111110001000000100100001010101100000110010 with fitness = 2971\n"
     ]
    },
    {
     "data": {
      "image/png": "[encoded data removed]",
      "text/plain": [
       "<Figure size 432x288 with 1 Axes>"
      ]
     },
     "metadata": {
      "needs_background": "light"
     },
     "output_type": "display_data"
    }
   ],
   "source": [
    "begin_knapsack_problem()"
   ]
  },
  {
   "cell_type": "code",
   "execution_count": null,
   "id": "9ccb7cf3",
   "metadata": {},
   "outputs": [],
   "source": []
  }
 ],
 "metadata": {
  "kernelspec": {
   "display_name": "Python 3 (ipykernel)",
   "language": "python",
   "name": "python3"
  },
  "language_info": {
   "codemirror_mode": {
    "name": "ipython",
    "version": 3
   },
   "file_extension": ".py",
   "mimetype": "text/x-python",
   "name": "python",
   "nbconvert_exporter": "python",
   "pygments_lexer": "ipython3",
   "version": "3.10.4"
  }
 },
 "nbformat": 4,
 "nbformat_minor": 5
}
