{
 "cells": [
  {
   "cell_type": "markdown",
   "id": "159e860e",
   "metadata": {},
   "source": [
    "### Code On Nature Inspired Computation - CA1 (Author : Arjun Biswas Student Id: 720036621)\n",
    "\n",
    "#### Some points to Note:\n",
    "    * The graphs are present along with the output. For Example in cell 4 after each run of the algorithm , the graphs are present so scrolling to the end of the output shows the graph\n",
    "    \n",
    "    * The code is commented to show the various steps used\n",
    "    * Random seeds are used to reproduce the results\n",
    "    * Due to space constraints only the 2 best graphs are shown in the report. All the rest of the graphs are visible from the output"
   ]
  },
  {
   "cell_type": "code",
   "execution_count": null,
   "id": "2673660d",
   "metadata": {},
   "outputs": [],
   "source": [
    "import random\n",
    "\n",
    "# Extracting the data from the file\n",
    "def extract_data_from_file():\n",
    "    file = open('output.txt','r')\n",
    "    content = file.readlines()\n",
    "    weights = []\n",
    "    values = []\n",
    "    max_cost = 0\n",
    "    # Extracting the first line to get the max weight constraint\n",
    "    first_line = content[0].split(' ')\n",
    "    for k in first_line:\n",
    "        x=k.strip()\n",
    "        if(x.isdigit()==True):\n",
    "            max_cost = x\n",
    "    for i in range(1,len(content)):\n",
    "        data = content[i].split(' ')\n",
    "        # Extracting the digit with the weight contents\n",
    "        if('weight:' in data):\n",
    "            for j in data:\n",
    "                res = False\n",
    "                value = j.strip()\n",
    "                try:\n",
    "                    float(value)\n",
    "                    res = True\n",
    "                except:\n",
    "                    res = False\n",
    "                if(res==True):\n",
    "                    weights.append(value)\n",
    "         # Extracting the digit with the value contents\n",
    "        if('value:' in data):\n",
    "            for j in data:\n",
    "                value = j.strip()\n",
    "                if(value.isdigit()==True):\n",
    "                    values.append(value)\n",
    "    weights = [float(i) for i in weights]\n",
    "    values = [int(i) for i in values]\n",
    "    max_cost = float(max_cost)\n",
    "    return weights,values,max_cost\n",
    "\n",
    "\n",
    "import matplotlib.pyplot as plt\n",
    "import numpy as np\n",
    "def knapsack(max_cost,value_list,cost_list,population_size,mutation_rate,tournament_size,Population):\n",
    "    # History will contain best solutions with best fitness in every generation\n",
    "    # avg History will contain average fitness in every generation\n",
    "    History = []\n",
    "    avg_History = []\n",
    "    Flag = False\n",
    "    return_value = 0\n",
    "    population = []\n",
    "    for i in Population:\n",
    "        population.append(i)\n",
    "    count = 1 \n",
    "    # repeating for 10000 generations\n",
    "    while(count<=10000):\n",
    "        # tournament_size is the k value\n",
    "        parents_selected = selection_from_population(population,value_list,population_size,tournament_size)\n",
    "        offspring = crossover_parents(parents_selected,value_list)\n",
    "        corrected_mutated_offspring =[]\n",
    "        # Handling of edge case in case mutation is not required\n",
    "        if(mutation_rate == 0):\n",
    "            offspring_mutated = offspring\n",
    "        else:\n",
    "            offspring_mutated = mutate(offspring,mutation_rate)\n",
    "        for i in offspring_mutated:\n",
    "            # Indirect encoding correction after mutation\n",
    "            corrected_mutated_offspring.append(indirect_encoding_correction(i,max_cost,cost_list,value_list))\n",
    "        fitnesses_of_population = calculate_Fitness(population,value_list)\n",
    "        fitnesses_of_children = calculate_Fitness(corrected_mutated_offspring,value_list)\n",
    "        for i in range(0,len(fitnesses_of_children)):\n",
    "            if(fitnesses_of_children[i]>min(calculate_Fitness(population,value_list))):\n",
    "                # replacing the weakest offspring\n",
    "                index = fitnesses_of_population.index(min(fitnesses_of_population))\n",
    "                population.pop(index)\n",
    "                population.append(corrected_mutated_offspring[i])     \n",
    "        next_gen = population\n",
    "        History.append(max(calculate_Fitness(population,value_list)))\n",
    "        avg_History.append(sum(calculate_Fitness(population,value_list))/100)\n",
    "        confirm_value = calculate_Fitness(population,value_list)\n",
    "        print('Best Fitness in Generation {0} is {1} and weight is {2}'.format(count,max(calculate_Fitness(population,value_list)),findmax_cost(population[confirm_value.index(max(confirm_value))],max_cost,cost_list)))\n",
    "        if(count==9999):\n",
    "            for i in range(0,100):\n",
    "                if(check_validity(population[i],max_cost,cost_list)):\n",
    "                    Flag = True\n",
    "                else:\n",
    "                    Flag = False\n",
    "                    break\n",
    "            if(Flag == False):\n",
    "                print('Invalid Solns Present')\n",
    "            else:\n",
    "                print('All OK')\n",
    "            return_value = max(calculate_Fitness(population,value_list))\n",
    "        count = count + 1\n",
    "    plt.figure()\n",
    "    print(len(History))\n",
    "    plt.subplot(1,3,1);plt.scatter(list(range(1,10001)),History);plt.xlabel('Generations');plt.ylabel('Best Solution in Each Generation')\n",
    "    plt.subplot(1,3,3);plt.scatter(list(range(1,10001)),avg_History);plt.xlabel('Generations');plt.ylabel('Average Solution in Each Generation')\n",
    "    plt.show()\n",
    "    return return_value\n",
    "    \n",
    "        \n",
    "\n",
    "def create_valid_randomised_population(max_cost,cost_list,value_list,population_size):\n",
    "    count = 1\n",
    "    population = []\n",
    "    while(count <= population_size):\n",
    "        bits =''\n",
    "        for i in range(0,100):\n",
    "            # Random selection of bits\n",
    "            bits = bits + str(np.random.randint(0,2))\n",
    "        if(check_validity(bits,max_cost,cost_list) == True):\n",
    "            count = count + 1\n",
    "            population.append(bits)\n",
    "        else:\n",
    "            weight = findmax_cost(bits,max_cost,cost_list)\n",
    "            # Indirect encoding mechanism. If weight > max cost then remove bags with minimum value (1 ---> 0 for bags with \n",
    "            # minimum value) to prevent value loss. Continue till weight>max weight\n",
    "            while(weight>max_cost):\n",
    "                index = []\n",
    "                for j in range(0,len(bits)):\n",
    "                    if(bits[j]=='1'):\n",
    "                        index.append(j)\n",
    "                values = []\n",
    "                for j in index:\n",
    "                    values.append(value_list[j])\n",
    "                min_value = values.index(min(values))\n",
    "                min_value_index = index[min_value]\n",
    "\n",
    "                bits = bits[0:min_value_index]+'0'+bits[min_value_index+1:]\n",
    "                weight = findmax_cost(bits,max_cost,cost_list)\n",
    "            count = count + 1\n",
    "            population.append(bits)\n",
    "    return population\n",
    "\n",
    "\n",
    "def check_validity(bits,max_cost,cost_list):\n",
    "    flag = False\n",
    "    sums = 0\n",
    "    for i in range(0,len(bits)):\n",
    "        value = int(bits[i])\n",
    "        sums = sums + cost_list[i]*value\n",
    "    if(sums <= max_cost):\n",
    "        return True\n",
    "    else:\n",
    "        return False\n",
    "        \n",
    "def findmax_cost(bits,max_cost,cost_list):\n",
    "    flag = False\n",
    "    sums = 0\n",
    "    for i in range(0,len(bits)):\n",
    "        value = int(bits[i])\n",
    "        sums = sums + cost_list[i]*value\n",
    "        sums = round(sums,3)\n",
    "    return sums\n",
    "\n",
    "def selection_from_population(population,value_list,population_size,tournament_size):\n",
    "    final_parents = []\n",
    "    # first loop to be executed twice for 2 parents\n",
    "    for i in range(1,3):\n",
    "        parents = []\n",
    "        # choosing k member indices of the tournament\n",
    "        indexes = list(np.random.randint(0,100,tournament_size))\n",
    "        # choosing the members and competing\n",
    "        for j in range(0,tournament_size):\n",
    "            parents.append(population[int(indexes[j])])\n",
    "        fitness = calculate_Fitness(parents,value_list)\n",
    "        index = fitness.index(max(fitness))\n",
    "        final_parents.append(parents[index])\n",
    "    return final_parents\n",
    "\n",
    "def calculate_Fitness(values,value_list):\n",
    "    fitness = []\n",
    "    for i in values:\n",
    "        sums = 0\n",
    "        for j in range(0,len(i)):\n",
    "            value_index = int(i[j])\n",
    "            sums = sums + value_list[j]*value_index\n",
    "        fitness.append(sums)\n",
    "    return fitness\n",
    "\n",
    "def crossover_parents(parents_selected,value_list):\n",
    "    offspring = []\n",
    "    parent_1 = parents_selected[0]\n",
    "    parent_2 = parents_selected[1]\n",
    "    # crossover point is random\n",
    "    cross_over_point = np.random.randint(0,100)\n",
    "    child_1 = parent_1[0:cross_over_point] + parent_2[cross_over_point:]\n",
    "    child_2 = parent_2[0:cross_over_point] + parent_1[cross_over_point:]\n",
    "    offspring.append(child_1)\n",
    "    offspring.append(child_2)\n",
    "    return offspring\n",
    "        \n",
    "\n",
    "def mutate(offspring,number):\n",
    "    offsprings=[]\n",
    "    for j in offspring:\n",
    "        indexes = []\n",
    "        for i in range(0,number):\n",
    "            # mutation point is random\n",
    "            indexes.append(np.random.randint(0,100))\n",
    "        for i in indexes:\n",
    "            if(j[i] == '1'):\n",
    "                j = j[0:i] + '0' + j[i+1:]\n",
    "            else:\n",
    "                j = j[0:i] + '1' + j[i+1:]\n",
    "        offsprings.append(j)\n",
    "    return offsprings\n",
    "\n",
    "# indirect encoding in a separate function . Only the correction part is written again to correct solutions\n",
    "def indirect_encoding_correction(bits,max_cost,cost_list,value_list):\n",
    "    while(findmax_cost(bits,max_cost,cost_list)>max_cost):\n",
    "        index = []\n",
    "        for j in range(0,len(bits)):\n",
    "            if(bits[j]=='1'):\n",
    "                index.append(j)\n",
    "        values = []\n",
    "        for j in index:\n",
    "            values.append(value_list[j])\n",
    "        min_value = values.index(min(values))\n",
    "        min_value_index = index[min_value]\n",
    "        if(bits[min_value_index]=='1'):\n",
    "            bits = bits[0:min_value_index]+'0'+bits[min_value_index+1:]\n",
    "    return bits\n",
    "\n",
    "def begin_knapsack_problem(population_size,mutation_rate,tournament_size,population):\n",
    "    return knapsack(max_cost,values,weights,population_size,mutation_rate,tournament_size,population)"
   ]
  },
  {
   "cell_type": "code",
   "execution_count": null,
   "id": "d4f4d52b",
   "metadata": {},
   "outputs": [],
   "source": [
    "import random\n",
    "import numpy as np"
   ]
  },
  {
   "cell_type": "markdown",
   "id": "4b9d9ab8",
   "metadata": {},
   "source": [
    "#### Creating a valid Random Population of Size 100 and using a Random seed to Reproduce result"
   ]
  },
  {
   "cell_type": "code",
   "execution_count": null,
   "id": "f9a3cf62",
   "metadata": {},
   "outputs": [],
   "source": [
    "np.random.seed(9)\n",
    "weights,values,max_cost = extract_data_from_file()\n",
    "Population = create_valid_randomised_population(max_cost,weights,values,population_size=100)"
   ]
  },
  {
   "cell_type": "code",
   "execution_count": null,
   "id": "6d4e2fad",
   "metadata": {},
   "outputs": [],
   "source": [
    "np.random.seed(999)\n",
    "weights,values,max_cost = extract_data_from_file()\n",
    "Population_2 = create_valid_randomised_population(max_cost,weights,values,population_size=200)"
   ]
  },
  {
   "cell_type": "markdown",
   "id": "f5243151",
   "metadata": {},
   "source": [
    "#### Iteration 1 : Population size = 100 , Mutation Rate = 1 , Tournament size = 2 , crossover = included"
   ]
  },
  {
   "cell_type": "code",
   "execution_count": null,
   "id": "69e411db",
   "metadata": {},
   "outputs": [],
   "source": [
    "np.random.seed(50)\n",
    "data = []\n",
    "for i in range(3):\n",
    "    data.append(begin_knapsack_problem(100,1,2,Population))\n",
    "print(sum(data)/len(data))"
   ]
  },
  {
   "cell_type": "markdown",
   "id": "470af3d1",
   "metadata": {},
   "source": [
    "#### Iteration 2 : Population size = 100 , Mutation Rate = 2 , Tournament size = 2 , crossover = included"
   ]
  },
  {
   "cell_type": "code",
   "execution_count": null,
   "id": "43ee3830",
   "metadata": {},
   "outputs": [],
   "source": [
    "np.random.seed(89)\n",
    "data_2 = []\n",
    "for i in range(3):\n",
    "    data_2.append(begin_knapsack_problem(100,2,2,Population))\n",
    "print(sum(data_2)/len(data_2))"
   ]
  },
  {
   "cell_type": "markdown",
   "id": "0776b522",
   "metadata": {},
   "source": [
    "#### Iteration 3 : Population size = 100 , Mutation Rate = 3 , Tournament size = 2 , crossover = included"
   ]
  },
  {
   "cell_type": "code",
   "execution_count": null,
   "id": "37a0fb2a",
   "metadata": {},
   "outputs": [],
   "source": [
    "np.random.seed(91)\n",
    "data_3 = []\n",
    "for i in range(3):\n",
    "    data_3.append(begin_knapsack_problem(100,3,2,Population))\n",
    "print(print(sum(data_3)/len(data_3)))"
   ]
  },
  {
   "cell_type": "markdown",
   "id": "efb06be4",
   "metadata": {},
   "source": [
    "#### Iteration 4 : Population size = 100 , Mutation Rate = 1 , Tournament size = 20 , crossover = included"
   ]
  },
  {
   "cell_type": "code",
   "execution_count": null,
   "id": "3cdd7026",
   "metadata": {},
   "outputs": [],
   "source": [
    "np.random.seed(53)\n",
    "data_4 = []\n",
    "for i in range(3):\n",
    "    data_4.append(begin_knapsack_problem(100,1,20,Population))\n",
    "print(sum(data_4)/len(data_4))"
   ]
  },
  {
   "cell_type": "markdown",
   "id": "80fbff3b",
   "metadata": {},
   "source": [
    "#### Iteration 5 : Population size = 100 , Mutation Rate = 2 , Tournament size = 20 , crossover = included"
   ]
  },
  {
   "cell_type": "code",
   "execution_count": null,
   "id": "290d805a",
   "metadata": {},
   "outputs": [],
   "source": [
    "np.random.seed(54)\n",
    "data_5=[]\n",
    "for i in range(3):\n",
    "    data_5.append(begin_knapsack_problem(100,2,20,Population))\n",
    "print(sum(data_5)/len(data_5))"
   ]
  },
  {
   "cell_type": "markdown",
   "id": "c92a44ac",
   "metadata": {},
   "source": [
    "#### Iteration 6 : Population size = 100 , Mutation Rate = 3 , Tournament size = 20 , crossover = included"
   ]
  },
  {
   "cell_type": "code",
   "execution_count": null,
   "id": "03b0e949",
   "metadata": {},
   "outputs": [],
   "source": [
    "np.random.seed(92)\n",
    "data_6=[]\n",
    "for i in range(3):\n",
    "    data_6.append(begin_knapsack_problem(100,3,20,Population))\n",
    "print(sum(data_6)/len(data_6))"
   ]
  },
  {
   "cell_type": "markdown",
   "id": "b204f4ec",
   "metadata": {},
   "source": [
    "#### Iteration 7 : Population size = 100 , Mutation Rate = 3 , Tournament size = 40 , crossover = included"
   ]
  },
  {
   "cell_type": "code",
   "execution_count": null,
   "id": "780fcffb",
   "metadata": {},
   "outputs": [],
   "source": [
    "np.random.seed(56)\n",
    "data_7 = []\n",
    "for i in range(3):\n",
    "    data_7.append(begin_knapsack_problem(100,3,40,Population))\n",
    "print(sum(data_7)/len(data_7))"
   ]
  },
  {
   "cell_type": "markdown",
   "id": "88d2ec90",
   "metadata": {},
   "source": [
    "#### Iteration 8 : Population size = 100 , Mutation Rate = 2 , Tournament size = 40 , crossover = included"
   ]
  },
  {
   "cell_type": "code",
   "execution_count": null,
   "id": "5d668ef8",
   "metadata": {},
   "outputs": [],
   "source": [
    "np.random.seed(57)\n",
    "data_8 = []\n",
    "for i in range(3):\n",
    "    data_8.append(begin_knapsack_problem(100,2,40,Population))\n",
    "print(sum(data_8)/len(data_8))"
   ]
  },
  {
   "cell_type": "markdown",
   "id": "95729efd",
   "metadata": {},
   "source": [
    "#### Iteration 9 : Population size = 100 , Mutation Rate = 1 , Tournament size = 40 , crossover = included"
   ]
  },
  {
   "cell_type": "code",
   "execution_count": null,
   "id": "232cb3e8",
   "metadata": {},
   "outputs": [],
   "source": [
    "np.random.seed(58)\n",
    "data_9 = []\n",
    "for i in range(3):\n",
    "    data_9.append(begin_knapsack_problem(100,1,40,Population))\n",
    "print(sum(data_9)/len(data_9))"
   ]
  },
  {
   "cell_type": "markdown",
   "id": "daebdcf7",
   "metadata": {},
   "source": [
    "#### Iteration 10 : Population size = 100 , Mutation Rate = 1 , Tournament size = 4 , crossover = included"
   ]
  },
  {
   "cell_type": "code",
   "execution_count": null,
   "id": "0fc07080",
   "metadata": {},
   "outputs": [],
   "source": [
    "np.random.seed(96)\n",
    "data_10 = []\n",
    "for i in range(3):\n",
    "    data_10.append(begin_knapsack_problem(100,1,4,Population))\n",
    "print(sum(data_10)/len(data_10))"
   ]
  },
  {
   "cell_type": "markdown",
   "id": "964bd106",
   "metadata": {},
   "source": [
    "#### Iteration 11 : Population size = 100 , Mutation Rate = 2 , Tournament size = 4 , crossover = included"
   ]
  },
  {
   "cell_type": "code",
   "execution_count": null,
   "id": "f5b79968",
   "metadata": {},
   "outputs": [],
   "source": [
    "np.random.seed(60)\n",
    "data_11 = []\n",
    "for i in range(3):\n",
    "    data_11.append(begin_knapsack_problem(100,2,4,Population))\n",
    "print(sum(data_11)/len(data_11))"
   ]
  },
  {
   "cell_type": "markdown",
   "id": "b7891bbd",
   "metadata": {},
   "source": [
    "#### Iteration 12 : Population size = 100 , Mutation Rate = 3 , Tournament size = 4 , crossover = included"
   ]
  },
  {
   "cell_type": "code",
   "execution_count": null,
   "id": "a5329eae",
   "metadata": {},
   "outputs": [],
   "source": [
    "np.random.seed(61)\n",
    "data_12 = []\n",
    "for i in range(3):\n",
    "    data_12.append(begin_knapsack_problem(100,3,4,Population))\n",
    "print(sum(data_12)/len(data_12))"
   ]
  },
  {
   "cell_type": "markdown",
   "id": "b9f3f8f1",
   "metadata": {},
   "source": [
    "#### Iteration 13 : Population size = 100 , Mutation Rate = 1 , Tournament size = 3 , crossover = included"
   ]
  },
  {
   "cell_type": "code",
   "execution_count": null,
   "id": "79e2606c",
   "metadata": {},
   "outputs": [],
   "source": [
    "np.random.seed(65)\n",
    "data_13 = []\n",
    "for i in range(3):\n",
    "    data_13.append(begin_knapsack_problem(100,1,3,Population))\n",
    "print(sum(data_13)/len(data_13))"
   ]
  },
  {
   "cell_type": "markdown",
   "id": "127083a5",
   "metadata": {},
   "source": [
    "#### Iteration 14 : Population size = 100 , Mutation Rate = 2 , Tournament size = 3 , crossover = included"
   ]
  },
  {
   "cell_type": "code",
   "execution_count": null,
   "id": "d87a2e0a",
   "metadata": {},
   "outputs": [],
   "source": [
    "np.random.seed(86)\n",
    "data_14 = []\n",
    "for i in range(3):\n",
    "    data_14.append(begin_knapsack_problem(100,2,3,Population))\n",
    "print(sum(data_14)/len(data_14))"
   ]
  },
  {
   "cell_type": "markdown",
   "id": "29c4a498",
   "metadata": {},
   "source": [
    "#### Iteration 15 : Population size = 100 , Mutation Rate = 3 , Tournament size = 3 , crossover = included"
   ]
  },
  {
   "cell_type": "code",
   "execution_count": null,
   "id": "c0fbd6dd",
   "metadata": {},
   "outputs": [],
   "source": [
    "np.random.seed(87)\n",
    "data_15 = []\n",
    "for i in range(3):\n",
    "    data_15.append(begin_knapsack_problem(100,3,3,Population))\n",
    "print(sum(data_15)/len(data_15))"
   ]
  },
  {
   "cell_type": "markdown",
   "id": "79233b06",
   "metadata": {},
   "source": [
    "#### Iteration 16 : population size 200 , mutation rate 1 , tournament selection 2"
   ]
  },
  {
   "cell_type": "code",
   "execution_count": null,
   "id": "c6770c9f",
   "metadata": {},
   "outputs": [],
   "source": [
    "np.random.seed(1000)\n",
    "data_200 = []\n",
    "for i in range(3):\n",
    "    data_200.append(begin_knapsack_problem(200,1,2,Population_2))\n",
    "print(sum(data_200)/len(data_200))"
   ]
  },
  {
   "cell_type": "markdown",
   "id": "63e9a5f8",
   "metadata": {},
   "source": [
    "#### Iteration 18 : population size 200 , Tournament size 3, mutation rate = 2"
   ]
  },
  {
   "cell_type": "code",
   "execution_count": null,
   "id": "daa473f8",
   "metadata": {},
   "outputs": [],
   "source": [
    "np.random.seed(1001)\n",
    "data_201 = []\n",
    "for i in range(3):\n",
    "    data_201.append(begin_knapsack_problem(200,2,2,Population_2))\n",
    "print(sum(data_201)/len(data_201))"
   ]
  },
  {
   "cell_type": "markdown",
   "id": "8f6dcf20",
   "metadata": {},
   "source": [
    "#### Iteration 19 : population size 200 , Tournament size 2, mutation rate = 3"
   ]
  },
  {
   "cell_type": "code",
   "execution_count": null,
   "id": "a977f02c",
   "metadata": {},
   "outputs": [],
   "source": [
    "np.random.seed(1002)\n",
    "data_202 = []\n",
    "for i in range(3):\n",
    "    data_202.append(begin_knapsack_problem(200,3,2,Population_2))\n",
    "print(sum(data_202)/len(data_202))"
   ]
  },
  {
   "cell_type": "markdown",
   "id": "159cdfae",
   "metadata": {},
   "source": [
    "#### Iteration 20 : Population = 200, Mutation rate = 1, k = 3"
   ]
  },
  {
   "cell_type": "code",
   "execution_count": null,
   "id": "6a4cbd1c",
   "metadata": {},
   "outputs": [],
   "source": [
    "np.random.seed(1003)\n",
    "data_203 = []\n",
    "for i in range(3):\n",
    "    data_203.append(begin_knapsack_problem(200,1,3,Population_2))\n",
    "print(sum(data_203)/len(data_203))"
   ]
  },
  {
   "cell_type": "markdown",
   "id": "d57eb69c",
   "metadata": {},
   "source": [
    "#### Iteration 21 : Population = 200, Mutation rate = 2, k = 3"
   ]
  },
  {
   "cell_type": "code",
   "execution_count": null,
   "id": "988c62f8",
   "metadata": {},
   "outputs": [],
   "source": [
    "np.random.seed(1004)\n",
    "data_204 = []\n",
    "for i in range(3):\n",
    "    data_204.append(begin_knapsack_problem(200,2,3,Population_2))\n",
    "print(sum(data_204)/len(data_204))"
   ]
  },
  {
   "cell_type": "markdown",
   "id": "adfc123b",
   "metadata": {},
   "source": [
    "#### Iteration 22 : Population = 200, Mutation rate = 3, k = 3"
   ]
  },
  {
   "cell_type": "code",
   "execution_count": null,
   "id": "494c5826",
   "metadata": {},
   "outputs": [],
   "source": [
    "np.random.seed(1005)\n",
    "data_205 = []\n",
    "for i in range(3):\n",
    "    data_205.append(begin_knapsack_problem(200,3,3,Population_2))\n",
    "print(sum(data_205)/len(data_205))"
   ]
  },
  {
   "cell_type": "markdown",
   "id": "e031f5cd",
   "metadata": {},
   "source": [
    "## Results Obtained"
   ]
  },
  {
   "cell_type": "code",
   "execution_count": null,
   "id": "292ab324",
   "metadata": {
    "scrolled": true
   },
   "outputs": [],
   "source": [
    "print('Combination 1 (Tournament size = {0} , Mutation Rate = {1}) : Best Fitness = {2} and Average Fitness ={3}'.format(2,1,max(data),sum(data)/len(data)))\n",
    "print('Combination 2 (Tournament size = {0} , Mutation Rate = {1}) : Best Fitness = {2} and Average Fitness ={3}'.format(2,2,max(data_2),sum(data_2)/len(data_2)))\n",
    "print('Combination 3 (Tournament size = {0} , Mutation Rate = {1}) : Best Fitness = {2} and Average Fitness ={3}'.format(2,3,max(data_3),sum(data_3)/len(data_3)))\n",
    "print('Combination 4 (Tournament size = {0} , Mutation Rate = {1}) : Best Fitness = {2} and Average Fitness ={3}'.format(20,1,max(data_4),sum(data_4)/len(data_4)))\n",
    "print('Combination 5 (Tournament size = {0} , Mutation Rate = {1}) : Best Fitness = {2} and Average Fitness ={3}'.format(20,2,max(data_5),sum(data_5)/len(data_5)))\n",
    "print('Combination 6 (Tournament size = {0} , Mutation Rate = {1}) : Best Fitness = {2} and Average Fitness ={3}'.format(20,3,max(data_6),sum(data_6)/len(data_6)))\n",
    "print('Combination 7 (Tournament size = {0} , Mutation Rate = {1}) : Best Fitness = {2} and Average Fitness ={3}'.format(40,1,max(data_9),sum(data_9)/len(data_9)))\n",
    "print('Combination 8 (Tournament size = {0} , Mutation Rate = {1}) : Best Fitness = {2} and Average Fitness ={3}'.format(40,2,max(data_8),sum(data_8)/len(data_8)))\n",
    "print('Combination 9 (Tournament size = {0} , Mutation Rate = {1}) : Best Fitness = {2} and Average Fitness ={3}'.format(40,3,max(data_7),sum(data_7)/len(data_7)))\n"
   ]
  },
  {
   "cell_type": "code",
   "execution_count": null,
   "id": "e5e85f57",
   "metadata": {},
   "outputs": [],
   "source": [
    "print('Combination 10 (Tournament size = {0} , Mutation Rate = {1}) : Best Fitness = {2} and Average Fitness ={3}'.format(4,1,max(data_10),sum(data_10)/len(data_10)))\n",
    "print('Combination 11 (Tournament size = {0} , Mutation Rate = {1}) : Best Fitness = {2} and Average Fitness ={3}'.format(4,2,max(data_11),sum(data_11)/len(data_11)))\n",
    "print('Combination 12 (Tournament size = {0} , Mutation Rate = {1}) : Best Fitness = {2} and Average Fitness ={3}'.format(4,3,max(data_12),sum(data_12)/len(data_12)))\n",
    "print('Combination 13 (Tournament size = {0} , Mutation Rate = {1}) : Best Fitness = {2} and Average Fitness ={3}'.format(3,1,max(data_13),sum(data_13)/len(data_13)))\n",
    "print('Combination 14 (Tournament size = {0} , Mutation Rate = {1}) : Best Fitness = {2} and Average Fitness ={3}'.format(3,2,max(data_14),sum(data_14)/len(data_14)))\n",
    "print('Combination 15 (Tournament size = {0} , Mutation Rate = {1}) : Best Fitness = {2} and Average Fitness ={3}'.format(3,3,max(data_15),sum(data_15)/len(data_15)))\n"
   ]
  },
  {
   "cell_type": "markdown",
   "id": "ddbcfdb7",
   "metadata": {},
   "source": [
    "#### Supplimentary Iteration 1 : Removal of Mutation from Iteration 2"
   ]
  },
  {
   "cell_type": "code",
   "execution_count": null,
   "id": "0b4c7caf",
   "metadata": {},
   "outputs": [],
   "source": [
    "np.random.seed(71)\n",
    "data_2 = []\n",
    "for i in range(3):\n",
    "    data_2.append(begin_knapsack_problem(100,0,2,Population))\n",
    "print(sum(data_2)/len(data_2))"
   ]
  },
  {
   "cell_type": "markdown",
   "id": "f18b1a05",
   "metadata": {},
   "source": [
    "#### Supplimentary Iteration 2 : Removal of Crossover from the code and application on Iteration 2"
   ]
  },
  {
   "cell_type": "code",
   "execution_count": null,
   "id": "65629c36",
   "metadata": {},
   "outputs": [],
   "source": [
    "import random\n",
    "def extract_data_from_file():\n",
    "    file = open('output.txt','r')\n",
    "    content = file.readlines()\n",
    "    weights = []\n",
    "    values = []\n",
    "    max_cost = 0\n",
    "    first_line = content[0].split(' ')\n",
    "    for k in first_line:\n",
    "        x=k.strip()\n",
    "        if(x.isdigit()==True):\n",
    "            max_cost = x\n",
    "    for i in range(1,len(content)):\n",
    "        data = content[i].split(' ')\n",
    "        if('weight:' in data):\n",
    "            for j in data:\n",
    "                res = False\n",
    "                value = j.strip()\n",
    "                try:\n",
    "                    float(value)\n",
    "                    res = True\n",
    "                except:\n",
    "                    res = False\n",
    "                if(res==True):\n",
    "                    weights.append(value)\n",
    "        if('value:' in data):\n",
    "            for j in data:\n",
    "                value = j.strip()\n",
    "                if(value.isdigit()==True):\n",
    "                    values.append(value)\n",
    "    weights = [float(i) for i in weights]\n",
    "    values = [int(i) for i in values]\n",
    "    max_cost = float(max_cost)\n",
    "    return weights,values,max_cost\n",
    "\n",
    "\n",
    "import matplotlib.pyplot as plt\n",
    "import numpy as np\n",
    "def knapsack_remove_crossover(max_cost,value_list,cost_list,population_size,mutation_rate,tournament_size,Population):\n",
    "    History = []\n",
    "    avg_History = []\n",
    "    Flag = False\n",
    "    return_value = 0\n",
    "    #print('Stuck 0')\n",
    "    #population = create_valid_randomised_population(max_cost,cost_list,value_list,population_size)\n",
    "    population = []\n",
    "    for i in Population:\n",
    "        population.append(i)\n",
    "    count = 1 \n",
    "    \n",
    "    while(count<=10000):\n",
    "        #print('Stuck 1')\n",
    "        parents_selected = selection_from_population(population,value_list,population_size,tournament_size)\n",
    "        #print('Stuck 2')\n",
    "        offspring = parents_selected#crossover_parents(parents_selected,value_list)\n",
    "        #print('length of cross over is {0}'.format(len(offspring)))\n",
    "        corrected_mutated_offspring =[]\n",
    "        #print('Stuck 3') \n",
    "        #print('Stuck 4')\n",
    "        if(mutation_rate == 0):\n",
    "            offspring_mutated = offspring\n",
    "        else:\n",
    "            offspring_mutated = mutate(offspring,mutation_rate)\n",
    "        #print('Stuck 5')\n",
    "        for i in offspring_mutated:\n",
    "            corrected_mutated_offspring.append(indirect_encoding_correction(i,max_cost,cost_list,value_list))\n",
    "        \n",
    "        #population = offspring\n",
    "        #print('length of mutated is {0}'.format(len(corrected_mutated_offspring)))\n",
    "        fitnesses_of_population = calculate_Fitness(population,value_list)\n",
    "        #print('Stuck 7')\n",
    "        fitnesses_of_children = calculate_Fitness(corrected_mutated_offspring,value_list)\n",
    "        for i in range(0,len(fitnesses_of_children)):\n",
    "            if(fitnesses_of_children[i]>min(calculate_Fitness(population,value_list))):\n",
    "                #print('Generation : {0} Child Fitness : {1} replacing parent Fitness {1} '.format(count,fitnesses_of_children[i],min(fitnesses_of_population)))\n",
    "                index = fitnesses_of_population.index(min(fitnesses_of_population))\n",
    "                population.pop(index)\n",
    "                population.append(corrected_mutated_offspring[i])     \n",
    "        next_gen = population\n",
    "        History.append(max(calculate_Fitness(population,value_list)))\n",
    "        avg_History.append(sum(calculate_Fitness(population,value_list))/100)\n",
    "        print('Best Fitness in Generation {0} is {1}'.format(count,max(calculate_Fitness(population,value_list))))\n",
    "        if(count==9999):\n",
    "            for i in range(0,100):\n",
    "                if(check_validity(population[i],max_cost,cost_list)):\n",
    "                    Flag = True\n",
    "                else:\n",
    "                    Flag = False\n",
    "                    break\n",
    "            if(Flag == False):\n",
    "                print('Invalid Solns Present')\n",
    "            else:\n",
    "                print('All OK')\n",
    "            return_value = max(calculate_Fitness(population,value_list))\n",
    "            #print('Best Fitness in Generation {0} is {1}'.format(count,return_value))\n",
    "        count = count + 1\n",
    "    plt.figure()\n",
    "    print(len(History))\n",
    "    plt.subplot(1,3,1);plt.scatter(list(range(1,10001)),History);plt.xlabel('Generations');plt.ylabel('Best Solution in Each Generation')\n",
    "    plt.subplot(1,3,3);plt.scatter(list(range(1,10001)),avg_History);plt.xlabel('Generations');plt.ylabel('Average Solution in Each Generation')\n",
    "    plt.show()\n",
    "    return return_value\n",
    "\n",
    "def begin_knapsack_problem_without_crossover(population_size,mutation_rate,tournament_size,population):\n",
    "    return knapsack_remove_crossover(max_cost,values,weights,population_size,mutation_rate,tournament_size,population)"
   ]
  },
  {
   "cell_type": "code",
   "execution_count": null,
   "id": "a2aca754",
   "metadata": {},
   "outputs": [],
   "source": [
    "np.random.seed(82)\n",
    "data_20 = []\n",
    "for i in range(3):\n",
    "    data_20.append(begin_knapsack_problem_without_crossover(100,2,2,Population))\n",
    "print(sum(data_20)/len(data_20))"
   ]
  },
  {
   "cell_type": "code",
   "execution_count": null,
   "id": "d4be8c35",
   "metadata": {
    "scrolled": true
   },
   "outputs": [],
   "source": [
    "# Further experiment on duplicates in higher K values of tournament selection\n",
    "# here for values of k = 3 and k=20 the indexes of parents (0-100) are chosen.\n",
    "# We are checking duplicates to determine whether a very high selection pressure due to large value of k \n",
    "# leads to choosing the same indivisuals in a population\n",
    "\n",
    "for i in range(20):\n",
    "    x=[]\n",
    "    y=[]\n",
    "    for i in range(3):\n",
    "        x.append(np.random.randint(0,100))\n",
    "    for i in range(20):\n",
    "        y.append(np.random.randint(0,100))\n",
    "    print('number of duplicates with k = 3 is {0}'.format((len(x)-len(set(x)))))\n",
    "    print('number of duplicates with k = 20 is {0}'.format((len(y)-len(set(y)))))"
   ]
  },
  {
   "cell_type": "code",
   "execution_count": null,
   "id": "8fe48d77",
   "metadata": {},
   "outputs": [],
   "source": []
  },
  {
   "cell_type": "code",
   "execution_count": null,
   "id": "8777d45f",
   "metadata": {},
   "outputs": [],
   "source": []
  },
  {
   "cell_type": "code",
   "execution_count": null,
   "id": "e824434c",
   "metadata": {},
   "outputs": [],
   "source": []
  }
 ],
 "metadata": {
  "kernelspec": {
   "display_name": "Python 3 (ipykernel)",
   "language": "python",
   "name": "python3"
  },
  "language_info": {
   "codemirror_mode": {
    "name": "ipython",
    "version": 3
   },
   "file_extension": ".py",
   "mimetype": "text/x-python",
   "name": "python",
   "nbconvert_exporter": "python",
   "pygments_lexer": "ipython3",
   "version": "3.11.0"
  }
 },
 "nbformat": 4,
 "nbformat_minor": 5
}
