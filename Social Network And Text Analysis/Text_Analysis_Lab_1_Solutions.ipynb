{
  "nbformat": 4,
  "nbformat_minor": 0,
  "metadata": {
    "colab": {
      "provenance": []
    },
    "kernelspec": {
      "name": "python3",
      "display_name": "Python 3"
    },
    "language_info": {
      "name": "python"
    }
  },
  "cells": [
    {
      "cell_type": "markdown",
      "source": [
        "# 1. Finding text"
      ],
      "metadata": {
        "id": "0d0eFBGHsoY8"
      }
    },
    {
      "cell_type": "markdown",
      "source": [
        "use command line to download a book from a url - this particular book is *The Adventures of Sherlock Holmes* by Arthur Conan Doyle"
      ],
      "metadata": {
        "id": "__mV4FPesqtC"
      }
    },
    {
      "cell_type": "code",
      "execution_count": null,
      "metadata": {
        "colab": {
          "base_uri": "https://localhost:8080/"
        },
        "id": "Q6WPhIEPr4aU",
        "outputId": "a10dbb20-9235-407b-c3d2-668862a97b3e"
      },
      "outputs": [
        {
          "output_type": "stream",
          "name": "stdout",
          "text": [
            "--2023-03-10 14:40:21--  https://www.gutenberg.org/files/1661/1661-0.txt\n",
            "Resolving www.gutenberg.org (www.gutenberg.org)... 152.19.134.47, 2610:28:3090:3000:0:bad:cafe:47\n",
            "Connecting to www.gutenberg.org (www.gutenberg.org)|152.19.134.47|:443... connected.\n",
            "HTTP request sent, awaiting response... 200 OK\n",
            "Length: 607430 (593K) [text/plain]\n",
            "Saving to: ‘1661-0.txt’\n",
            "\n",
            "1661-0.txt          100%[===================>] 593.19K  3.17MB/s    in 0.2s    \n",
            "\n",
            "2023-03-10 14:40:23 (3.17 MB/s) - ‘1661-0.txt’ saved [607430/607430]\n",
            "\n"
          ]
        }
      ],
      "source": [
        "!wget https://www.gutenberg.org/files/1661/1661-0.txt"
      ]
    },
    {
      "cell_type": "markdown",
      "source": [
        "Section of the book (paragraph #2) manually copied-and-pasted into the file `1661-0-sample.txt`"
      ],
      "metadata": {
        "id": "nMqn3X26u8T6"
      }
    },
    {
      "cell_type": "markdown",
      "source": [
        "# 2. Command line methods"
      ],
      "metadata": {
        "id": "gfLKh8mfulBy"
      }
    },
    {
      "cell_type": "markdown",
      "source": [
        "The wc command counts the number of lines, words, and characters in a text file"
      ],
      "metadata": {
        "id": "knvk3PV1uzjC"
      }
    },
    {
      "cell_type": "code",
      "source": [
        "!wc 1661-0.txt\n",
        "!wc 1661-0-sample.txt"
      ],
      "metadata": {
        "colab": {
          "base_uri": "https://localhost:8080/"
        },
        "id": "Ib2rce-3unb8",
        "outputId": "b3e3ed39-8840-41e3-aed8-138cfd3ae895"
      },
      "execution_count": null,
      "outputs": [
        {
          "output_type": "stream",
          "name": "stdout",
          "text": [
            " 12304 107560 607427 1661-0.txt\n",
            "  18  222 1318 1661-0-sample.txt\n"
          ]
        }
      ]
    },
    {
      "cell_type": "markdown",
      "source": [
        "grep (short for 'global regular expression print') searches for strings and text in a file\n",
        "\n",
        "the below regular expressions 'the', etc. return lines containing the string, not just 'the' but also 'loa**the**d'; 'fish' and 'sel**fish**', etc."
      ],
      "metadata": {
        "id": "LkXeH-ozvuj6"
      }
    },
    {
      "cell_type": "code",
      "source": [
        "!grep 'the' 1661-0-sample.txt"
      ],
      "metadata": {
        "colab": {
          "base_uri": "https://localhost:8080/"
        },
        "id": "aau9Oo0Ywjca",
        "outputId": "795d02fe-2d9e-44d4-af21-9dcd9270be8a"
      },
      "execution_count": null,
      "outputs": [
        {
          "output_type": "stream",
          "name": "stdout",
          "text": [
            "from each other. My own complete happiness, and the home-centred\r\n",
            "interests which rise up around the man who first finds himself master\r\n",
            "while Holmes, who loathed every form of society with his whole Bohemian\r\n",
            "the drowsiness of the drug, and the fierce energy of his own keen\r\n",
            "nature. He was still, as ever, deeply attracted by the study of crime,\r\n",
            "mysteries which had been abandoned as hopeless by the official police.\r\n",
            "summons to Odessa in the case of the Trepoff murder, of his clearing up\r\n",
            "of the singular tragedy of the Atkinson brothers at Trincomalee, and\r\n",
            "finally of the mission which he had accomplished so delicately and\r\n",
            "successfully for the reigning family of Holland. Beyond these signs of\r\n",
            "his activity, however, which I merely shared with all the readers of\r\n",
            "the daily press, I knew little of my former friend and companion.\n"
          ]
        }
      ]
    },
    {
      "cell_type": "code",
      "source": [
        "!grep 'fish' 1661-0.txt"
      ],
      "metadata": {
        "colab": {
          "base_uri": "https://localhost:8080/"
        },
        "id": "X77__2lzwv3b",
        "outputId": "08f566a1-a527-4062-a6af-9a9ae3f4dea5"
      },
      "execution_count": null,
      "outputs": [
        {
          "output_type": "stream",
          "name": "stdout",
          "text": [
            "monograph upon the deep-sea fishes.\r\n",
            "“The fish that you have tattooed immediately above your right wrist\r\n",
            "trick of staining the fishes’ scales of a delicate pink is quite\r\n",
            "Windibank, it was as cruel and selfish and heartless a trick in a petty\r\n",
            "“I fished about with a rake. I thought there might be some weapon or\r\n",
            "morning letters, if I remember right, were from a fish-monger and a\r\n",
            "“No, it is not selfishness or conceit,” said he, answering, as was his\r\n"
          ]
        }
      ]
    },
    {
      "cell_type": "code",
      "source": [
        "!grep 'house' -o 1661-0.txt"
      ],
      "metadata": {
        "colab": {
          "base_uri": "https://localhost:8080/"
        },
        "id": "6h1fip7gwzvc",
        "outputId": "e2245aba-c1f0-4a55-d136-d1e306cea538"
      },
      "execution_count": null,
      "outputs": [
        {
          "output_type": "stream",
          "name": "stdout",
          "text": [
            "house\n",
            "house\n",
            "house\n",
            "house\n",
            "house\n",
            "house\n",
            "house\n",
            "house\n",
            "house\n",
            "house\n",
            "house\n",
            "house\n",
            "house\n",
            "house\n",
            "house\n",
            "house\n",
            "house\n",
            "house\n",
            "house\n",
            "house\n",
            "house\n",
            "house\n",
            "house\n",
            "house\n",
            "house\n",
            "house\n",
            "house\n",
            "house\n",
            "house\n",
            "house\n",
            "house\n",
            "house\n",
            "house\n",
            "house\n",
            "house\n",
            "house\n",
            "house\n",
            "house\n",
            "house\n",
            "house\n",
            "house\n",
            "house\n",
            "house\n",
            "house\n",
            "house\n",
            "house\n",
            "house\n",
            "house\n",
            "house\n",
            "house\n",
            "house\n",
            "house\n",
            "house\n",
            "house\n",
            "house\n",
            "house\n",
            "house\n",
            "house\n",
            "house\n",
            "house\n",
            "house\n",
            "house\n",
            "house\n",
            "house\n",
            "house\n",
            "house\n",
            "house\n",
            "house\n",
            "house\n",
            "house\n",
            "house\n",
            "house\n",
            "house\n",
            "house\n",
            "house\n",
            "house\n",
            "house\n",
            "house\n",
            "house\n",
            "house\n",
            "house\n",
            "house\n",
            "house\n",
            "house\n",
            "house\n",
            "house\n",
            "house\n",
            "house\n",
            "house\n",
            "house\n",
            "house\n",
            "house\n",
            "house\n",
            "house\n",
            "house\n",
            "house\n",
            "house\n",
            "house\n",
            "house\n",
            "house\n",
            "house\n",
            "house\n",
            "house\n",
            "house\n",
            "house\n",
            "house\n",
            "house\n",
            "house\n",
            "house\n",
            "house\n",
            "house\n",
            "house\n",
            "house\n",
            "house\n",
            "house\n",
            "house\n",
            "house\n",
            "house\n",
            "house\n",
            "house\n",
            "house\n",
            "house\n",
            "house\n",
            "house\n",
            "house\n",
            "house\n",
            "house\n",
            "house\n",
            "house\n",
            "house\n",
            "house\n",
            "house\n",
            "house\n",
            "house\n",
            "house\n",
            "house\n",
            "house\n",
            "house\n",
            "house\n",
            "house\n",
            "house\n",
            "house\n",
            "house\n",
            "house\n",
            "house\n",
            "house\n",
            "house\n"
          ]
        }
      ]
    },
    {
      "cell_type": "markdown",
      "source": [
        "* The -o part of the below commands is known as a 'flag' - this is a sort of operator that can change how a command behaves. In the below examples the -o flag means grep only returns the matched text rather than the whole matched line\n",
        "\n",
        "* the | 'pipe' character allows commands to be combined. Here we first collect all the string matches with the grep command and then use the wc command to count them - the -l flag outputs only the number of lines; here each string match is output on its own line, so this is equivalent to counting the matches."
      ],
      "metadata": {
        "id": "7C-X2vDdxjcN"
      }
    },
    {
      "cell_type": "code",
      "source": [
        "!grep -o 'the' 1661-0.txt | wc -l\n",
        "!grep -o 'fish' 1661-0.txt | wc -l\n",
        "!grep -o 'house' 1661-0.txt | wc -l"
      ],
      "metadata": {
        "colab": {
          "base_uri": "https://localhost:8080/"
        },
        "id": "IjFykTCsxYmL",
        "outputId": "3f95a431-d747-4341-c345-81d121d33e15"
      },
      "execution_count": null,
      "outputs": [
        {
          "output_type": "stream",
          "name": "stdout",
          "text": [
            "7231\n",
            "7\n",
            "147\n"
          ]
        }
      ]
    },
    {
      "cell_type": "markdown",
      "source": [
        "# 3. Regular expressions"
      ],
      "metadata": {
        "id": "So2g-xQGyfWM"
      }
    },
    {
      "cell_type": "code",
      "source": [
        "import re\n",
        "\n",
        "# load sample into python\n",
        "with open('1661-0-sample.txt', 'r') as f:\n",
        "    text_sample = f.read()"
      ],
      "metadata": {
        "id": "-GFnAPRFyg30"
      },
      "execution_count": null,
      "outputs": []
    },
    {
      "cell_type": "code",
      "source": [
        "text_sample"
      ],
      "metadata": {
        "colab": {
          "base_uri": "https://localhost:8080/",
          "height": 175
        },
        "id": "jIzRyvsF0v8D",
        "outputId": "866acfd9-f602-4fb8-8627-89e384d7fe52"
      },
      "execution_count": null,
      "outputs": [
        {
          "output_type": "execute_result",
          "data": {
            "text/plain": [
              "'I had seen little of Holmes lately. My marriage had drifted us away\\nfrom each other. My own complete happiness, and the home-centred\\ninterests which rise up around the man who first finds himself master\\nof his own establishment, were sufficient to absorb all my attention,\\nwhile Holmes, who loathed every form of society with his whole Bohemian\\nsoul, remained in our lodgings in Baker Street, buried among his old\\nbooks, and alternating from week to week between cocaine and ambition,\\nthe drowsiness of the drug, and the fierce energy of his own keen\\nnature. He was still, as ever, deeply attracted by the study of crime,\\nand occupied his immense faculties and extraordinary powers of\\nobservation in following out those clues, and clearing up those\\nmysteries which had been abandoned as hopeless by the official police.\\nFrom time to time I heard some vague account of his doings: of his\\nsummons to Odessa in the case of the Trepoff murder, of his clearing up\\nof the singular tragedy of the Atkinson brothers at Trincomalee, and\\nfinally of the mission which he had accomplished so delicately and\\nsuccessfully for the reigning family of Holland. Beyond these signs of\\nhis activity, however, which I merely shared with all the readers of\\nthe daily press, I knew little of my former friend and companion.'"
            ],
            "application/vnd.google.colaboratory.intrinsic+json": {
              "type": "string"
            }
          },
          "metadata": {},
          "execution_count": 11
        }
      ]
    },
    {
      "cell_type": "markdown",
      "source": [
        "The python library `re` has some useful built-in functions. Below we use `findall` which returns all matches.\n",
        "\n",
        "Our regular expression string can be broken up into four components:\n",
        "* `\\b` indicates a word boundary - whatever comes next in the regular expression must be at the start of a word\n",
        "* `[aeiou]` matches any one of the characters between the brackets.\n",
        "* `[a-zA-Z]` matches any letter (lower or upper case). \n",
        "* The `+` modifier matches between one and unlimited occurences of the previous token - here, that means any number of letters (following the first matched vowel)."
      ],
      "metadata": {
        "id": "o57I42fb2X1P"
      }
    },
    {
      "cell_type": "code",
      "source": [
        "re.findall(r'\\b[aeiouAEIOU][a-zA-Z]+', text_sample)"
      ],
      "metadata": {
        "colab": {
          "base_uri": "https://localhost:8080/"
        },
        "id": "DTtWuNfU0zrq",
        "outputId": "f98c2a0f-2693-402e-bc78-572bad4a31cd"
      },
      "execution_count": null,
      "outputs": [
        {
          "output_type": "execute_result",
          "data": {
            "text/plain": [
              "['of',\n",
              " 'us',\n",
              " 'away',\n",
              " 'each',\n",
              " 'other',\n",
              " 'own',\n",
              " 'and',\n",
              " 'interests',\n",
              " 'up',\n",
              " 'around',\n",
              " 'of',\n",
              " 'own',\n",
              " 'establishment',\n",
              " 'absorb',\n",
              " 'all',\n",
              " 'attention',\n",
              " 'every',\n",
              " 'of',\n",
              " 'in',\n",
              " 'our',\n",
              " 'in',\n",
              " 'among',\n",
              " 'old',\n",
              " 'and',\n",
              " 'alternating',\n",
              " 'and',\n",
              " 'ambition',\n",
              " 'of',\n",
              " 'and',\n",
              " 'energy',\n",
              " 'of',\n",
              " 'own',\n",
              " 'as',\n",
              " 'ever',\n",
              " 'attracted',\n",
              " 'of',\n",
              " 'and',\n",
              " 'occupied',\n",
              " 'immense',\n",
              " 'and',\n",
              " 'extraordinary',\n",
              " 'of',\n",
              " 'observation',\n",
              " 'in',\n",
              " 'out',\n",
              " 'and',\n",
              " 'up',\n",
              " 'abandoned',\n",
              " 'as',\n",
              " 'official',\n",
              " 'account',\n",
              " 'of',\n",
              " 'of',\n",
              " 'Odessa',\n",
              " 'in',\n",
              " 'of',\n",
              " 'of',\n",
              " 'up',\n",
              " 'of',\n",
              " 'of',\n",
              " 'Atkinson',\n",
              " 'at',\n",
              " 'and',\n",
              " 'of',\n",
              " 'accomplished',\n",
              " 'and',\n",
              " 'of',\n",
              " 'of',\n",
              " 'activity',\n",
              " 'all',\n",
              " 'of',\n",
              " 'of',\n",
              " 'and']"
            ]
          },
          "metadata": {},
          "execution_count": 12
        }
      ]
    },
    {
      "cell_type": "markdown",
      "source": [
        "# 4. Tokenization"
      ],
      "metadata": {
        "id": "E0RVZiYZ3i61"
      }
    },
    {
      "cell_type": "markdown",
      "source": [
        "before using nltk we must first download some nltk data"
      ],
      "metadata": {
        "id": "GqxDBQuN5TiU"
      }
    },
    {
      "cell_type": "code",
      "source": [
        "import nltk\n",
        "nltk.download('popular')"
      ],
      "metadata": {
        "colab": {
          "base_uri": "https://localhost:8080/"
        },
        "id": "wM0n1BBl5Mw1",
        "outputId": "21da6534-f3f6-4d2d-b6f0-4c99ee298d52"
      },
      "execution_count": null,
      "outputs": [
        {
          "output_type": "stream",
          "name": "stderr",
          "text": [
            "[nltk_data] Downloading collection 'popular'\n",
            "[nltk_data]    | \n",
            "[nltk_data]    | Downloading package cmudict to /root/nltk_data...\n",
            "[nltk_data]    |   Unzipping corpora/cmudict.zip.\n",
            "[nltk_data]    | Downloading package gazetteers to /root/nltk_data...\n",
            "[nltk_data]    |   Unzipping corpora/gazetteers.zip.\n",
            "[nltk_data]    | Downloading package genesis to /root/nltk_data...\n",
            "[nltk_data]    |   Unzipping corpora/genesis.zip.\n",
            "[nltk_data]    | Downloading package gutenberg to /root/nltk_data...\n",
            "[nltk_data]    |   Unzipping corpora/gutenberg.zip.\n",
            "[nltk_data]    | Downloading package inaugural to /root/nltk_data...\n",
            "[nltk_data]    |   Unzipping corpora/inaugural.zip.\n",
            "[nltk_data]    | Downloading package movie_reviews to\n",
            "[nltk_data]    |     /root/nltk_data...\n",
            "[nltk_data]    |   Unzipping corpora/movie_reviews.zip.\n",
            "[nltk_data]    | Downloading package names to /root/nltk_data...\n",
            "[nltk_data]    |   Unzipping corpora/names.zip.\n",
            "[nltk_data]    | Downloading package shakespeare to /root/nltk_data...\n",
            "[nltk_data]    |   Unzipping corpora/shakespeare.zip.\n",
            "[nltk_data]    | Downloading package stopwords to /root/nltk_data...\n",
            "[nltk_data]    |   Unzipping corpora/stopwords.zip.\n",
            "[nltk_data]    | Downloading package treebank to /root/nltk_data...\n",
            "[nltk_data]    |   Unzipping corpora/treebank.zip.\n",
            "[nltk_data]    | Downloading package twitter_samples to\n",
            "[nltk_data]    |     /root/nltk_data...\n",
            "[nltk_data]    |   Unzipping corpora/twitter_samples.zip.\n",
            "[nltk_data]    | Downloading package omw to /root/nltk_data...\n",
            "[nltk_data]    | Downloading package omw-1.4 to /root/nltk_data...\n",
            "[nltk_data]    | Downloading package wordnet to /root/nltk_data...\n",
            "[nltk_data]    | Downloading package wordnet2021 to /root/nltk_data...\n",
            "[nltk_data]    | Downloading package wordnet31 to /root/nltk_data...\n",
            "[nltk_data]    | Downloading package wordnet_ic to /root/nltk_data...\n",
            "[nltk_data]    |   Unzipping corpora/wordnet_ic.zip.\n",
            "[nltk_data]    | Downloading package words to /root/nltk_data...\n",
            "[nltk_data]    |   Unzipping corpora/words.zip.\n",
            "[nltk_data]    | Downloading package maxent_ne_chunker to\n",
            "[nltk_data]    |     /root/nltk_data...\n",
            "[nltk_data]    |   Unzipping chunkers/maxent_ne_chunker.zip.\n",
            "[nltk_data]    | Downloading package punkt to /root/nltk_data...\n",
            "[nltk_data]    |   Unzipping tokenizers/punkt.zip.\n",
            "[nltk_data]    | Downloading package snowball_data to\n",
            "[nltk_data]    |     /root/nltk_data...\n",
            "[nltk_data]    | Downloading package averaged_perceptron_tagger to\n",
            "[nltk_data]    |     /root/nltk_data...\n",
            "[nltk_data]    |   Unzipping taggers/averaged_perceptron_tagger.zip.\n",
            "[nltk_data]    | \n",
            "[nltk_data]  Done downloading collection popular\n"
          ]
        },
        {
          "output_type": "execute_result",
          "data": {
            "text/plain": [
              "True"
            ]
          },
          "metadata": {},
          "execution_count": 13
        }
      ]
    },
    {
      "cell_type": "code",
      "source": [
        "from nltk.tokenize import word_tokenize"
      ],
      "metadata": {
        "id": "3OuYj36z4WA5"
      },
      "execution_count": null,
      "outputs": []
    },
    {
      "cell_type": "code",
      "source": [
        "some_strings = [\n",
        "    \"The quick brown fox jumped over the lazy dog.\",\n",
        "    \"Everything Everywhere All at Once\",\n",
        "    \"Mr. Baron-Cohen and Mrs. O'Neill co-operated on a short-term plan.\",\n",
        "    \"Here-is a; m3ssy- str!ng\"\n",
        "]"
      ],
      "metadata": {
        "id": "8-9po9MH4e1b"
      },
      "execution_count": null,
      "outputs": []
    },
    {
      "cell_type": "code",
      "source": [
        "for s in some_strings:\n",
        "    print(word_tokenize(s))"
      ],
      "metadata": {
        "colab": {
          "base_uri": "https://localhost:8080/"
        },
        "id": "NS6cXu_p5DTi",
        "outputId": "f00d5acf-95bc-4a8c-e611-c71632817ce8"
      },
      "execution_count": null,
      "outputs": [
        {
          "output_type": "stream",
          "name": "stdout",
          "text": [
            "['The', 'quick', 'brown', 'fox', 'jumped', 'over', 'the', 'lazy', 'dog', '.']\n",
            "['Everything', 'Everywhere', 'All', 'at', 'Once']\n",
            "['Mr.', 'Baron-Cohen', 'and', 'Mrs.', \"O'Neill\", 'co-operated', 'on', 'a', 'short-term', 'plan', '.']\n",
            "['Here-is', 'a', ';', 'm3ssy-', 'str', '!', 'ng']\n"
          ]
        }
      ]
    },
    {
      "cell_type": "code",
      "source": [
        "text_sample_tokens = word_tokenize(text_sample)"
      ],
      "metadata": {
        "id": "Ihzm3_O45wb6"
      },
      "execution_count": null,
      "outputs": []
    },
    {
      "cell_type": "code",
      "source": [
        "text_sample_tokens[:25]"
      ],
      "metadata": {
        "colab": {
          "base_uri": "https://localhost:8080/"
        },
        "id": "zo4pNeTW73bE",
        "outputId": "c4b48c5b-dbcb-4611-c09f-782991cabceb"
      },
      "execution_count": null,
      "outputs": [
        {
          "output_type": "execute_result",
          "data": {
            "text/plain": [
              "['I',\n",
              " 'had',\n",
              " 'seen',\n",
              " 'little',\n",
              " 'of',\n",
              " 'Holmes',\n",
              " 'lately',\n",
              " '.',\n",
              " 'My',\n",
              " 'marriage',\n",
              " 'had',\n",
              " 'drifted',\n",
              " 'us',\n",
              " 'away',\n",
              " 'from',\n",
              " 'each',\n",
              " 'other',\n",
              " '.',\n",
              " 'My',\n",
              " 'own',\n",
              " 'complete',\n",
              " 'happiness',\n",
              " ',',\n",
              " 'and',\n",
              " 'the']"
            ]
          },
          "metadata": {},
          "execution_count": 19
        }
      ]
    },
    {
      "cell_type": "markdown",
      "source": [
        "Not all tokens are words - nltk separates punctuation such as commas and full stops. Tokens can be repeated."
      ],
      "metadata": {
        "id": "-OlVRPTS54IK"
      }
    },
    {
      "cell_type": "markdown",
      "source": [
        "# 5. N-grams"
      ],
      "metadata": {
        "id": "w6EEEkwa6CmC"
      }
    },
    {
      "cell_type": "code",
      "source": [
        "from nltk import bigrams, ngrams"
      ],
      "metadata": {
        "id": "3Cz0UhKu6DyO"
      },
      "execution_count": null,
      "outputs": []
    },
    {
      "cell_type": "code",
      "source": [
        "text_sample_bigrams = list(bigrams(text_sample_tokens))"
      ],
      "metadata": {
        "id": "ttpJYtl47aXC"
      },
      "execution_count": null,
      "outputs": []
    },
    {
      "cell_type": "code",
      "source": [
        "text_sample_bigrams[:10]"
      ],
      "metadata": {
        "colab": {
          "base_uri": "https://localhost:8080/"
        },
        "id": "kDjINLN37gxj",
        "outputId": "595e262d-b285-4c69-a6d9-525a6779660c"
      },
      "execution_count": null,
      "outputs": [
        {
          "output_type": "execute_result",
          "data": {
            "text/plain": [
              "[('I', 'had'),\n",
              " ('had', 'seen'),\n",
              " ('seen', 'little'),\n",
              " ('little', 'of'),\n",
              " ('of', 'Holmes'),\n",
              " ('Holmes', 'lately'),\n",
              " ('lately', '.'),\n",
              " ('.', 'My'),\n",
              " ('My', 'marriage'),\n",
              " ('marriage', 'had')]"
            ]
          },
          "metadata": {},
          "execution_count": 23
        }
      ]
    },
    {
      "cell_type": "code",
      "source": [
        "text_sample_3grams = list(ngrams(text_sample_tokens, 3))\n",
        "text_sample_4grams = list(ngrams(text_sample_tokens, 4))"
      ],
      "metadata": {
        "id": "SjuXibAz7qoi"
      },
      "execution_count": null,
      "outputs": []
    },
    {
      "cell_type": "code",
      "source": [
        "text_sample_3grams[:10]"
      ],
      "metadata": {
        "colab": {
          "base_uri": "https://localhost:8080/"
        },
        "id": "5IhJ-HPa7_FN",
        "outputId": "3ced44a1-efd9-4e4f-c81e-f459f9d0db18"
      },
      "execution_count": null,
      "outputs": [
        {
          "output_type": "execute_result",
          "data": {
            "text/plain": [
              "[('I', 'had', 'seen'),\n",
              " ('had', 'seen', 'little'),\n",
              " ('seen', 'little', 'of'),\n",
              " ('little', 'of', 'Holmes'),\n",
              " ('of', 'Holmes', 'lately'),\n",
              " ('Holmes', 'lately', '.'),\n",
              " ('lately', '.', 'My'),\n",
              " ('.', 'My', 'marriage'),\n",
              " ('My', 'marriage', 'had'),\n",
              " ('marriage', 'had', 'drifted')]"
            ]
          },
          "metadata": {},
          "execution_count": 25
        }
      ]
    },
    {
      "cell_type": "code",
      "source": [
        "text_sample_4grams[:10]"
      ],
      "metadata": {
        "colab": {
          "base_uri": "https://localhost:8080/"
        },
        "id": "ddWhfSde8AfJ",
        "outputId": "43213232-a62a-4147-baf3-2f7b9b188624"
      },
      "execution_count": null,
      "outputs": [
        {
          "output_type": "execute_result",
          "data": {
            "text/plain": [
              "[('I', 'had', 'seen', 'little'),\n",
              " ('had', 'seen', 'little', 'of'),\n",
              " ('seen', 'little', 'of', 'Holmes'),\n",
              " ('little', 'of', 'Holmes', 'lately'),\n",
              " ('of', 'Holmes', 'lately', '.'),\n",
              " ('Holmes', 'lately', '.', 'My'),\n",
              " ('lately', '.', 'My', 'marriage'),\n",
              " ('.', 'My', 'marriage', 'had'),\n",
              " ('My', 'marriage', 'had', 'drifted'),\n",
              " ('marriage', 'had', 'drifted', 'us')]"
            ]
          },
          "metadata": {},
          "execution_count": 26
        }
      ]
    },
    {
      "cell_type": "markdown",
      "source": [
        "# 6. & 7. Bag of words representation and Cleaning"
      ],
      "metadata": {
        "id": "Ri4Bw2YW8OnD"
      }
    },
    {
      "cell_type": "code",
      "source": [
        "from nltk.corpus import stopwords"
      ],
      "metadata": {
        "id": "ZFRg0tPQIaKI"
      },
      "execution_count": null,
      "outputs": []
    },
    {
      "cell_type": "code",
      "source": [
        "from collections import Counter\n",
        "import matplotlib.pyplot as plt\n",
        "\n",
        "def BoW(text, n=1, clean=False):\n",
        "    tokens = word_tokenize(text) # tokenize text\n",
        "    \n",
        "    if clean:\n",
        "        tokens = clean_tokens(tokens)\n",
        "\n",
        "    if n > 1: # optionally use bigrams\n",
        "        tokens = ngrams(tokens, n)\n",
        "    \n",
        "    token_frequency = Counter(tokens) # get Counter (like a dictionary) of the frequency of each token\n",
        "    return token_frequency\n",
        "\n",
        "\n",
        "def BoW_hist(token_frequency, n_top=10):\n",
        "    top_tokens = token_frequency.most_common(n_top)\n",
        "\n",
        "    w, f = [[i for i,j in top_tokens], [j for i,j in top_tokens]]\n",
        "    \n",
        "    fig, ax = plt.subplots(figsize=(6 * n_top/10,4))\n",
        "    ax.bar(range(n_top), f)\n",
        "    ax.set_xticks(range(n_top))\n",
        "    ax.set_xticklabels(w, rotation=45, ha='right')\n",
        "    \n",
        "    return fig, ax\n",
        "\n",
        "\n",
        "def clean_tokens(tokens):\n",
        "    sw = stopwords.words('english') # nltk's collection of English-language stopwords\n",
        "    punctuation = [',', '.', ';', '“', '”', '’', '‘', '!', '?', '\\'\\'', '``', '--'] # non-exhaustive list of punctuation commonly found in the three books of interest\n",
        "    tokens = [s.lower() for s in tokens]\n",
        "    tokens = [s for s in tokens if s not in punctuation and s not in sw] # make all tokens lowercase\n",
        "    return tokens"
      ],
      "metadata": {
        "id": "1RJMkuWu8Q7h"
      },
      "execution_count": null,
      "outputs": []
    },
    {
      "cell_type": "code",
      "source": [
        "BoW(text_sample).most_common(5)"
      ],
      "metadata": {
        "colab": {
          "base_uri": "https://localhost:8080/"
        },
        "id": "oEsg4hF-IyAJ",
        "outputId": "089a0539-a9bb-438c-a72a-98951a626f74"
      },
      "execution_count": null,
      "outputs": [
        {
          "output_type": "execute_result",
          "data": {
            "text/plain": [
              "[('of', 18), (',', 18), ('the', 15), ('and', 10), ('his', 9)]"
            ]
          },
          "metadata": {},
          "execution_count": 34
        }
      ]
    },
    {
      "cell_type": "markdown",
      "source": [
        "## Compare three texts"
      ],
      "metadata": {
        "id": "beGa0WKpFJOj"
      }
    },
    {
      "cell_type": "markdown",
      "source": [
        "Download two new books"
      ],
      "metadata": {
        "id": "ywqCZn3GFOCC"
      }
    },
    {
      "cell_type": "code",
      "source": [
        "!wget https://www.gutenberg.org/cache/epub/37106/pg37106.txt\n",
        "!wget https://www.gutenberg.org/cache/epub/16389/pg16389.txt"
      ],
      "metadata": {
        "colab": {
          "base_uri": "https://localhost:8080/"
        },
        "id": "gPPJxixGFK5B",
        "outputId": "58675073-5cb1-4623-bb6f-ebe72acb6cd9"
      },
      "execution_count": null,
      "outputs": [
        {
          "output_type": "stream",
          "name": "stdout",
          "text": [
            "--2023-03-10 15:15:33--  https://www.gutenberg.org/cache/epub/37106/pg37106.txt\n",
            "Resolving www.gutenberg.org (www.gutenberg.org)... 152.19.134.47, 2610:28:3090:3000:0:bad:cafe:47\n",
            "Connecting to www.gutenberg.org (www.gutenberg.org)|152.19.134.47|:443... connected.\n",
            "HTTP request sent, awaiting response... 200 OK\n",
            "Length: 1123165 (1.1M) [text/plain]\n",
            "Saving to: ‘pg37106.txt’\n",
            "\n",
            "pg37106.txt         100%[===================>]   1.07M  4.79MB/s    in 0.2s    \n",
            "\n",
            "2023-03-10 15:15:34 (4.79 MB/s) - ‘pg37106.txt’ saved [1123165/1123165]\n",
            "\n",
            "--2023-03-10 15:15:34--  https://www.gutenberg.org/cache/epub/16389/pg16389.txt\n",
            "Resolving www.gutenberg.org (www.gutenberg.org)... 152.19.134.47, 2610:28:3090:3000:0:bad:cafe:47\n",
            "Connecting to www.gutenberg.org (www.gutenberg.org)|152.19.134.47|:443... connected.\n",
            "HTTP request sent, awaiting response... 200 OK\n",
            "Length: 475035 (464K) [text/plain]\n",
            "Saving to: ‘pg16389.txt’\n",
            "\n",
            "pg16389.txt         100%[===================>] 463.90K  2.43MB/s    in 0.2s    \n",
            "\n",
            "2023-03-10 15:15:35 (2.43 MB/s) - ‘pg16389.txt’ saved [475035/475035]\n",
            "\n"
          ]
        }
      ]
    },
    {
      "cell_type": "code",
      "source": [
        "texts = []\n",
        "book_paths = ['1661-0.txt', 'pg16389.txt', 'pg37106.txt']\n",
        "for path in book_paths:\n",
        "    with open(path, 'r') as f:\n",
        "        texts.append(f.read())"
      ],
      "metadata": {
        "id": "AL8uH4lxFQta"
      },
      "execution_count": null,
      "outputs": []
    },
    {
      "cell_type": "code",
      "source": [
        "texts_token_freq = [BoW(x) for x in texts]"
      ],
      "metadata": {
        "id": "FDHjSDY7F1uE"
      },
      "execution_count": null,
      "outputs": []
    },
    {
      "cell_type": "code",
      "source": [
        "book_names = [\n",
        "    'The Adventures of Sherlock Holmes - Arthur Conan Doyle, 1892', \n",
        "    'Little Women - Louisa M. Alcott, 1868', \n",
        "    'The Enchanted April - Elizabeth Von Arnim, 1922'\n",
        "]"
      ],
      "metadata": {
        "id": "Nw3K611UHZBU"
      },
      "execution_count": null,
      "outputs": []
    },
    {
      "cell_type": "code",
      "source": [
        "for i, x in enumerate(texts_token_freq):\n",
        "    fig, ax = BoW_hist(x, n_top=15)\n",
        "    ax.set_title(book_names[i])\n",
        "    plt.show()"
      ],
      "metadata": {
        "colab": {
          "base_uri": "https://localhost:8080/",
          "height": 843
        },
        "id": "DRzWggqoGQ3i",
        "outputId": "6f47af55-dfaa-4546-c7b0-364aedf42a41"
      },
      "execution_count": null,
      "outputs": [
        {
          "output_type": "display_data",
          "data": {
            "text/plain": [
              "<Figure size 648x288 with 1 Axes>"
            ],
            "image/png": "[encoded data removed]"
          },
          "metadata": {
            "needs_background": "light"
          }
        },
        {
          "output_type": "display_data",
          "data": {
            "text/plain": [
              "<Figure size 648x288 with 1 Axes>"
            ],
            "image/png": "[encoded data removed]"
          },
          "metadata": {
            "needs_background": "light"
          }
        },
        {
          "output_type": "display_data",
          "data": {
            "text/plain": [
              "<Figure size 648x288 with 1 Axes>"
            ],
            "image/png": "[encoded data removed]"
          },
          "metadata": {
            "needs_background": "light"
          }
        }
      ]
    },
    {
      "cell_type": "markdown",
      "source": [
        "## Using bigrams"
      ],
      "metadata": {
        "id": "nq22M-W5I5Iw"
      }
    },
    {
      "cell_type": "code",
      "source": [
        "texts_bigram_freq = [BoW(x, n=2) for x in texts]"
      ],
      "metadata": {
        "id": "OiKoSUT3I-7q"
      },
      "execution_count": null,
      "outputs": []
    },
    {
      "cell_type": "code",
      "source": [
        "for i, x in enumerate(texts_bigram_freq):\n",
        "    fig, ax = BoW_hist(x, n_top=15)\n",
        "    ax.set_title(book_names[i])\n",
        "    plt.show()"
      ],
      "metadata": {
        "colab": {
          "base_uri": "https://localhost:8080/",
          "height": 944
        },
        "id": "R5o3NCrlDNQU",
        "outputId": "e7f86b59-0bef-452a-84be-cb1f0d0f430e"
      },
      "execution_count": null,
      "outputs": [
        {
          "output_type": "display_data",
          "data": {
            "text/plain": [
              "<Figure size 648x288 with 1 Axes>"
            ],
            "image/png": "[encoded data removed]"
          },
          "metadata": {
            "needs_background": "light"
          }
        },
        {
          "output_type": "display_data",
          "data": {
            "text/plain": [
              "<Figure size 648x288 with 1 Axes>"
            ],
            "image/png": "[encoded data removed]"
          },
          "metadata": {
            "needs_background": "light"
          }
        },
        {
          "output_type": "display_data",
          "data": {
            "text/plain": [
              "<Figure size 648x288 with 1 Axes>"
            ],
            "image/png": "[encoded data removed]"
          },
          "metadata": {
            "needs_background": "light"
          }
        }
      ]
    },
    {
      "cell_type": "markdown",
      "source": [
        "## Now with cleaning"
      ],
      "metadata": {
        "id": "JvTdceTMJUWR"
      }
    },
    {
      "cell_type": "code",
      "source": [
        "texts_clean_token_freq = [BoW(x, clean=True) for x in texts]"
      ],
      "metadata": {
        "id": "T00BFNL7JV46"
      },
      "execution_count": null,
      "outputs": []
    },
    {
      "cell_type": "code",
      "source": [
        "for i, x in enumerate(texts_clean_token_freq):\n",
        "    fig, ax = BoW_hist(x, n_top=15)\n",
        "    ax.set_title(book_names[i])\n",
        "    plt.show()"
      ],
      "metadata": {
        "colab": {
          "base_uri": "https://localhost:8080/",
          "height": 882
        },
        "id": "sZxqtbtKJaCB",
        "outputId": "76bf15a6-3728-4345-dc4a-884ac9808f00"
      },
      "execution_count": null,
      "outputs": [
        {
          "output_type": "display_data",
          "data": {
            "text/plain": [
              "<Figure size 648x288 with 1 Axes>"
            ],
            "image/png": "[encoded data removed]"
          },
          "metadata": {
            "needs_background": "light"
          }
        },
        {
          "output_type": "display_data",
          "data": {
            "text/plain": [
              "<Figure size 648x288 with 1 Axes>"
            ],
            "image/png": "[encoded data removed]"
          },
          "metadata": {
            "needs_background": "light"
          }
        },
        {
          "output_type": "display_data",
          "data": {
            "text/plain": [
              "<Figure size 648x288 with 1 Axes>"
            ],
            "image/png": "[encoded data removed]"
          },
          "metadata": {
            "needs_background": "light"
          }
        }
      ]
    },
    {
      "cell_type": "code",
      "source": [
        "stopwords.words('english')"
      ],
      "metadata": {
        "colab": {
          "base_uri": "https://localhost:8080/"
        },
        "id": "u2KTDtOuILs8",
        "outputId": "cd7d1643-99a3-4b15-b8bf-a59a45880ec4"
      },
      "execution_count": null,
      "outputs": [
        {
          "output_type": "execute_result",
          "data": {
            "text/plain": [
              "['i',\n",
              " 'me',\n",
              " 'my',\n",
              " 'myself',\n",
              " 'we',\n",
              " 'our',\n",
              " 'ours',\n",
              " 'ourselves',\n",
              " 'you',\n",
              " \"you're\",\n",
              " \"you've\",\n",
              " \"you'll\",\n",
              " \"you'd\",\n",
              " 'your',\n",
              " 'yours',\n",
              " 'yourself',\n",
              " 'yourselves',\n",
              " 'he',\n",
              " 'him',\n",
              " 'his',\n",
              " 'himself',\n",
              " 'she',\n",
              " \"she's\",\n",
              " 'her',\n",
              " 'hers',\n",
              " 'herself',\n",
              " 'it',\n",
              " \"it's\",\n",
              " 'its',\n",
              " 'itself',\n",
              " 'they',\n",
              " 'them',\n",
              " 'their',\n",
              " 'theirs',\n",
              " 'themselves',\n",
              " 'what',\n",
              " 'which',\n",
              " 'who',\n",
              " 'whom',\n",
              " 'this',\n",
              " 'that',\n",
              " \"that'll\",\n",
              " 'these',\n",
              " 'those',\n",
              " 'am',\n",
              " 'is',\n",
              " 'are',\n",
              " 'was',\n",
              " 'were',\n",
              " 'be',\n",
              " 'been',\n",
              " 'being',\n",
              " 'have',\n",
              " 'has',\n",
              " 'had',\n",
              " 'having',\n",
              " 'do',\n",
              " 'does',\n",
              " 'did',\n",
              " 'doing',\n",
              " 'a',\n",
              " 'an',\n",
              " 'the',\n",
              " 'and',\n",
              " 'but',\n",
              " 'if',\n",
              " 'or',\n",
              " 'because',\n",
              " 'as',\n",
              " 'until',\n",
              " 'while',\n",
              " 'of',\n",
              " 'at',\n",
              " 'by',\n",
              " 'for',\n",
              " 'with',\n",
              " 'about',\n",
              " 'against',\n",
              " 'between',\n",
              " 'into',\n",
              " 'through',\n",
              " 'during',\n",
              " 'before',\n",
              " 'after',\n",
              " 'above',\n",
              " 'below',\n",
              " 'to',\n",
              " 'from',\n",
              " 'up',\n",
              " 'down',\n",
              " 'in',\n",
              " 'out',\n",
              " 'on',\n",
              " 'off',\n",
              " 'over',\n",
              " 'under',\n",
              " 'again',\n",
              " 'further',\n",
              " 'then',\n",
              " 'once',\n",
              " 'here',\n",
              " 'there',\n",
              " 'when',\n",
              " 'where',\n",
              " 'why',\n",
              " 'how',\n",
              " 'all',\n",
              " 'any',\n",
              " 'both',\n",
              " 'each',\n",
              " 'few',\n",
              " 'more',\n",
              " 'most',\n",
              " 'other',\n",
              " 'some',\n",
              " 'such',\n",
              " 'no',\n",
              " 'nor',\n",
              " 'not',\n",
              " 'only',\n",
              " 'own',\n",
              " 'same',\n",
              " 'so',\n",
              " 'than',\n",
              " 'too',\n",
              " 'very',\n",
              " 's',\n",
              " 't',\n",
              " 'can',\n",
              " 'will',\n",
              " 'just',\n",
              " 'don',\n",
              " \"don't\",\n",
              " 'should',\n",
              " \"should've\",\n",
              " 'now',\n",
              " 'd',\n",
              " 'll',\n",
              " 'm',\n",
              " 'o',\n",
              " 're',\n",
              " 've',\n",
              " 'y',\n",
              " 'ain',\n",
              " 'aren',\n",
              " \"aren't\",\n",
              " 'couldn',\n",
              " \"couldn't\",\n",
              " 'didn',\n",
              " \"didn't\",\n",
              " 'doesn',\n",
              " \"doesn't\",\n",
              " 'hadn',\n",
              " \"hadn't\",\n",
              " 'hasn',\n",
              " \"hasn't\",\n",
              " 'haven',\n",
              " \"haven't\",\n",
              " 'isn',\n",
              " \"isn't\",\n",
              " 'ma',\n",
              " 'mightn',\n",
              " \"mightn't\",\n",
              " 'mustn',\n",
              " \"mustn't\",\n",
              " 'needn',\n",
              " \"needn't\",\n",
              " 'shan',\n",
              " \"shan't\",\n",
              " 'shouldn',\n",
              " \"shouldn't\",\n",
              " 'wasn',\n",
              " \"wasn't\",\n",
              " 'weren',\n",
              " \"weren't\",\n",
              " 'won',\n",
              " \"won't\",\n",
              " 'wouldn',\n",
              " \"wouldn't\"]"
            ]
          },
          "metadata": {},
          "execution_count": 42
        }
      ]
    }
  ]
}