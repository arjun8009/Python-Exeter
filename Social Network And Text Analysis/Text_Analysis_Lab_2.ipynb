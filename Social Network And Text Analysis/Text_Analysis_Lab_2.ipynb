{
 "cells": [
  {
   "cell_type": "code",
   "execution_count": 1,
   "metadata": {},
   "outputs": [
    {
     "name": "stderr",
     "output_type": "stream",
     "text": [
      "[nltk_data] Downloading collection 'popular'\n",
      "[nltk_data]    | \n",
      "[nltk_data]    | Downloading package cmudict to\n",
      "[nltk_data]    |     C:\\Users\\hp\\AppData\\Roaming\\nltk_data...\n",
      "[nltk_data]    |   Package cmudict is already up-to-date!\n",
      "[nltk_data]    | Downloading package gazetteers to\n",
      "[nltk_data]    |     C:\\Users\\hp\\AppData\\Roaming\\nltk_data...\n",
      "[nltk_data]    |   Package gazetteers is already up-to-date!\n",
      "[nltk_data]    | Downloading package genesis to\n",
      "[nltk_data]    |     C:\\Users\\hp\\AppData\\Roaming\\nltk_data...\n",
      "[nltk_data]    |   Package genesis is already up-to-date!\n",
      "[nltk_data]    | Downloading package gutenberg to\n",
      "[nltk_data]    |     C:\\Users\\hp\\AppData\\Roaming\\nltk_data...\n",
      "[nltk_data]    |   Package gutenberg is already up-to-date!\n",
      "[nltk_data]    | Downloading package inaugural to\n",
      "[nltk_data]    |     C:\\Users\\hp\\AppData\\Roaming\\nltk_data...\n",
      "[nltk_data]    |   Package inaugural is already up-to-date!\n",
      "[nltk_data]    | Downloading package movie_reviews to\n",
      "[nltk_data]    |     C:\\Users\\hp\\AppData\\Roaming\\nltk_data...\n",
      "[nltk_data]    |   Package movie_reviews is already up-to-date!\n",
      "[nltk_data]    | Downloading package names to\n",
      "[nltk_data]    |     C:\\Users\\hp\\AppData\\Roaming\\nltk_data...\n",
      "[nltk_data]    |   Package names is already up-to-date!\n",
      "[nltk_data]    | Downloading package shakespeare to\n",
      "[nltk_data]    |     C:\\Users\\hp\\AppData\\Roaming\\nltk_data...\n",
      "[nltk_data]    |   Package shakespeare is already up-to-date!\n",
      "[nltk_data]    | Downloading package stopwords to\n",
      "[nltk_data]    |     C:\\Users\\hp\\AppData\\Roaming\\nltk_data...\n",
      "[nltk_data]    |   Package stopwords is already up-to-date!\n",
      "[nltk_data]    | Downloading package treebank to\n",
      "[nltk_data]    |     C:\\Users\\hp\\AppData\\Roaming\\nltk_data...\n",
      "[nltk_data]    |   Package treebank is already up-to-date!\n",
      "[nltk_data]    | Downloading package twitter_samples to\n",
      "[nltk_data]    |     C:\\Users\\hp\\AppData\\Roaming\\nltk_data...\n",
      "[nltk_data]    |   Package twitter_samples is already up-to-date!\n",
      "[nltk_data]    | Downloading package omw to\n",
      "[nltk_data]    |     C:\\Users\\hp\\AppData\\Roaming\\nltk_data...\n",
      "[nltk_data]    |   Package omw is already up-to-date!\n",
      "[nltk_data]    | Downloading package omw-1.4 to\n",
      "[nltk_data]    |     C:\\Users\\hp\\AppData\\Roaming\\nltk_data...\n",
      "[nltk_data]    |   Package omw-1.4 is already up-to-date!\n",
      "[nltk_data]    | Downloading package wordnet to\n",
      "[nltk_data]    |     C:\\Users\\hp\\AppData\\Roaming\\nltk_data...\n",
      "[nltk_data]    |   Package wordnet is already up-to-date!\n",
      "[nltk_data]    | Downloading package wordnet2021 to\n",
      "[nltk_data]    |     C:\\Users\\hp\\AppData\\Roaming\\nltk_data...\n",
      "[nltk_data]    |   Package wordnet2021 is already up-to-date!\n",
      "[nltk_data]    | Downloading package wordnet31 to\n",
      "[nltk_data]    |     C:\\Users\\hp\\AppData\\Roaming\\nltk_data...\n",
      "[nltk_data]    |   Package wordnet31 is already up-to-date!\n",
      "[nltk_data]    | Downloading package wordnet_ic to\n",
      "[nltk_data]    |     C:\\Users\\hp\\AppData\\Roaming\\nltk_data...\n",
      "[nltk_data]    |   Package wordnet_ic is already up-to-date!\n",
      "[nltk_data]    | Downloading package words to\n",
      "[nltk_data]    |     C:\\Users\\hp\\AppData\\Roaming\\nltk_data...\n",
      "[nltk_data]    |   Package words is already up-to-date!\n",
      "[nltk_data]    | Downloading package maxent_ne_chunker to\n",
      "[nltk_data]    |     C:\\Users\\hp\\AppData\\Roaming\\nltk_data...\n",
      "[nltk_data]    |   Package maxent_ne_chunker is already up-to-date!\n",
      "[nltk_data]    | Downloading package punkt to\n",
      "[nltk_data]    |     C:\\Users\\hp\\AppData\\Roaming\\nltk_data...\n",
      "[nltk_data]    |   Package punkt is already up-to-date!\n",
      "[nltk_data]    | Downloading package snowball_data to\n",
      "[nltk_data]    |     C:\\Users\\hp\\AppData\\Roaming\\nltk_data...\n",
      "[nltk_data]    |   Package snowball_data is already up-to-date!\n",
      "[nltk_data]    | Downloading package averaged_perceptron_tagger to\n",
      "[nltk_data]    |     C:\\Users\\hp\\AppData\\Roaming\\nltk_data...\n",
      "[nltk_data]    |   Package averaged_perceptron_tagger is already up-\n",
      "[nltk_data]    |       to-date!\n",
      "[nltk_data]    | \n",
      "[nltk_data]  Done downloading collection popular\n"
     ]
    }
   ],
   "source": [
    "from nltk.corpus import stopwords\n",
    "import nltk\n",
    "nltk.download('popular')\n",
    "from nltk.tokenize import word_tokenize"
   ]
  },
  {
   "cell_type": "code",
   "execution_count": 55,
   "metadata": {},
   "outputs": [],
   "source": [
    "from nltk import bigrams, ngrams\n",
    "import wget\n",
    "import numpy as np\n",
    "import matplotlib.pyplot as plt"
   ]
  },
  {
   "cell_type": "code",
   "execution_count": 59,
   "metadata": {},
   "outputs": [
    {
     "data": {
      "text/plain": [
       "'1659-0.txt'"
      ]
     },
     "execution_count": 59,
     "metadata": {},
     "output_type": "execute_result"
    }
   ],
   "source": [
    "wget.download('https://www.gutenberg.org/files/1661/1661-0.txt')\n",
    "wget.download('https://www.gutenberg.org/files/1660/1660-0.txt')\n",
    "wget.download('https://www.gutenberg.org/files/1659/1659-0.txt')"
   ]
  },
  {
   "cell_type": "code",
   "execution_count": 60,
   "metadata": {},
   "outputs": [],
   "source": [
    "with open('1660-0.txt', 'r',encoding='utf-8') as f:\n",
    "    text_sample = f.read()\n",
    "\n",
    "with open('1661-0.txt', 'r',encoding='utf-8') as f:\n",
    "    text_sample_2 = f.read()\n",
    "\n",
    "with open('1659-0.txt', 'r',encoding='utf-8') as f:\n",
    "    text_sample_3 = f.read()"
   ]
  },
  {
   "cell_type": "code",
   "execution_count": 4,
   "metadata": {},
   "outputs": [],
   "source": [
    "from collections import Counter\n",
    "import matplotlib.pyplot as plt\n",
    "\n",
    "def BoW(text, n=1, clean=False):\n",
    "    tokens = word_tokenize(text) # tokenize text\n",
    "    \n",
    "    if clean:\n",
    "        tokens = clean_tokens(tokens)\n",
    "\n",
    "    if n > 1: # optionally use bigrams\n",
    "        tokens = ngrams(tokens, n)\n",
    "    \n",
    "    token_frequency = Counter(tokens) # get Counter (like a dictionary) of the frequency of each token\n",
    "    return token_frequency\n",
    "\n",
    "\n",
    "def BoW_hist(token_frequency, n_top=10):\n",
    "    top_tokens = token_frequency.most_common(n_top)\n",
    "\n",
    "    w, f = [[i for i,j in top_tokens], [j for i,j in top_tokens]]\n",
    "    \n",
    "    fig, ax = plt.subplots(figsize=(6 * n_top/10,4))\n",
    "    ax.bar(range(n_top), f)\n",
    "    ax.set_xticks(range(n_top))\n",
    "    ax.set_xticklabels(w, rotation=45, ha='right')\n",
    "    \n",
    "    return fig, ax\n",
    "\n",
    "\n",
    "def clean_tokens(tokens):\n",
    "    sw = stopwords.words('english') # nltk's collection of English-language stopwords\n",
    "    punctuation = [',', '.', ';', '“', '”', '’', '‘', '!', '?', '\\'\\'', '``', '--'] # non-exhaustive list of punctuation commonly found in the three books of interest\n",
    "    tokens = [s.lower() for s in tokens]\n",
    "    tokens = [s for s in tokens if s not in punctuation and s not in sw] # make all tokens lowercase\n",
    "    return tokens"
   ]
  },
  {
   "cell_type": "code",
   "execution_count": 70,
   "metadata": {},
   "outputs": [],
   "source": [
    "def vectorizer(documents):\n",
    "    dictionaries = []\n",
    "    for i in documents:\n",
    "        dictionaries.append(dict(BoW(i)))\n",
    "    #print(len(dictionaries),dictionaries)\n",
    "    if(len(dictionaries)>1):\n",
    "        keys = [list(dictionaries[i].keys())+list(dictionaries[i+1].keys()) for i in range(len(dictionaries)-1)]\n",
    "    else:\n",
    "        keys = [list(dictionaries[0].keys())]\n",
    "    vectors = []\n",
    "    #print(len(keys),keys)\n",
    "    for i in range(len(dictionaries)):\n",
    "        #print(type(i))\n",
    "        dictionary = dictionaries[i]\n",
    "        vectors.append([dictionary.get(keys[0][j],0) for j in range(len(keys[0]))])\n",
    "    return keys,vectors\n",
    "\n"
   ]
  },
  {
   "cell_type": "code",
   "execution_count": 47,
   "metadata": {},
   "outputs": [],
   "source": [
    "keys,vectors=vectorizer([text_sample,text_sample_2])"
   ]
  },
  {
   "cell_type": "code",
   "execution_count": 104,
   "metadata": {},
   "outputs": [],
   "source": [
    "def cosine_similarity(vector1,vector2):\n",
    "    vector1 = list(map(int, vector1))\n",
    "    vector2 = list(map(int, vector2))\n",
    "    return np.sum(np.multiply(vector1,vector2))/((np.sqrt((np.sum(np.square(vector1)))))*(np.sqrt((np.sum(np.square(vector2))))))\n",
    "\n",
    "def similarity_matrice(vectors):\n",
    "    similarity_matrix =[]\n",
    "    for i in range(len(vectors)):\n",
    "        similarity = []\n",
    "        for j in range(len(vectors)):\n",
    "            similarity.append(np.round(cosine_similarity(vectors[i], vectors[j]),2))\n",
    "        similarity_matrix.append(similarity)\n",
    "    return similarity_matrix\n",
    "\n",
    "def plot_similarity_matrix(vectors):\n",
    "    similarity_matrix = np.array(similarity_matrice(vectors))\n",
    "    #print(similarity_matrix)\n",
    "    plt.matshow(similarity_matrix)\n",
    "    plt.title('Similarity Measure')\n",
    "    labels = ['Text 1','Text 2','Text 3']\n",
    "    plt.xticks(range(len(labels)), labels)\n",
    "    plt.yticks(range(len(labels)), labels)\n",
    "    for i in range(similarity_matrix.shape[0]):\n",
    "        for j in range(similarity_matrix.shape[1]):\n",
    "            plt.text(j,i,str(similarity_matrix[i,j]))\n",
    "\n",
    "    plt.colorbar()\n",
    "    plt.show()\n",
    "    \n"
   ]
  },
  {
   "cell_type": "code",
   "execution_count": 105,
   "metadata": {},
   "outputs": [
    {
     "data": {
      "image/png": "[encoded data removed]",
      "text/plain": [
       "<Figure size 480x480 with 2 Axes>"
      ]
     },
     "metadata": {},
     "output_type": "display_data"
    }
   ],
   "source": [
    "keys,vectors=vectorizer([text_sample,text_sample_2,text_sample_3])\n",
    "plot_similarity_matrix(vectors)\n"
   ]
  },
  {
   "cell_type": "code",
   "execution_count": null,
   "metadata": {},
   "outputs": [],
   "source": []
  }
 ],
 "metadata": {
  "kernelspec": {
   "display_name": "Python 3",
   "language": "python",
   "name": "python3"
  },
  "language_info": {
   "codemirror_mode": {
    "name": "ipython",
    "version": 3
   },
   "file_extension": ".py",
   "mimetype": "text/x-python",
   "name": "python",
   "nbconvert_exporter": "python",
   "pygments_lexer": "ipython3",
   "version": "3.11.0"
  },
  "orig_nbformat": 4
 },
 "nbformat": 4,
 "nbformat_minor": 2
}
