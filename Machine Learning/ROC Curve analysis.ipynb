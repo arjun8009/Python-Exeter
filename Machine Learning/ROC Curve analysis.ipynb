{
 "cells": [
  {
   "cell_type": "markdown",
   "metadata": {},
   "source": [
    "## ROC Curve analysis\n",
    "\n",
    "Understand how to make a ROC curve and use that to compare the predictive performance of two classifiers."
   ]
  },
  {
   "cell_type": "code",
   "execution_count": 3,
   "metadata": {},
   "outputs": [],
   "source": [
    "%matplotlib inline\n",
    "import matplotlib.pyplot as plt\n",
    "import numpy as np\n",
    "import scipy as sp\n",
    "import warnings\n",
    "warnings.filterwarnings('ignore')"
   ]
  },
  {
   "cell_type": "markdown",
   "metadata": {},
   "source": [
    "Consider the following code to a) create a classification problem, b) train two classifiers and c) compute the predictions for some test samples"
   ]
  },
  {
   "cell_type": "code",
   "execution_count": 4,
   "metadata": {},
   "outputs": [],
   "source": [
    "from sklearn.datasets import make_classification\n",
    "X,y = make_classification(n_samples=500, n_features=20, n_informative=2, n_redundant=2, n_repeated=0, n_classes=2, n_clusters_per_class=2, weights=None, flip_y=0.1, class_sep=1.0)"
   ]
  },
  {
   "cell_type": "code",
   "execution_count": 5,
   "metadata": {},
   "outputs": [],
   "source": [
    "from sklearn.model_selection import train_test_split\n",
    "X_train, X_test, y_train, y_test = train_test_split(X,y, test_size=50)"
   ]
  },
  {
   "cell_type": "code",
   "execution_count": 6,
   "metadata": {},
   "outputs": [],
   "source": [
    "from sklearn.ensemble import RandomForestClassifier\n",
    "rf = RandomForestClassifier(max_depth=5, n_estimators=10)\n",
    "rf.fit(X_train,y_train)\n",
    "preds1 = rf.predict_proba(X_test)[:,1]"
   ]
  },
  {
   "cell_type": "code",
   "execution_count": 7,
   "metadata": {},
   "outputs": [],
   "source": [
    "from sklearn.svm import LinearSVC\n",
    "svm = LinearSVC(C=5e2)\n",
    "svm.fit(X_train,y_train)\n",
    "preds2 = svm.decision_function(X_test)"
   ]
  },
  {
   "cell_type": "markdown",
   "metadata": {},
   "source": [
    "## Question 1\n",
    "\n",
    "Make the functions `TPR = true_positive_rate(preds, targets)` and `FPR = false_positive_rate(preds, targets)` to compute the sequence of true (resp. false) positive rates for all possible threshold values."
   ]
  },
  {
   "cell_type": "markdown",
   "metadata": {},
   "source": [
    "## Suggestions\n",
    "\n",
    "Consider the following case:\n",
    "\n",
    "preds = [0.1, 0.5, 0.2, 0.8, 0.0]\n",
    "\n",
    "targets = [1, 1, 0, 1, 0]\n",
    "\n",
    "sort the previous arrays according to the values in `preds`:\n",
    "\n",
    "sorted_preds = [0.8, 0.5, 0.2, 0.1, 0.0]\n",
    "\n",
    "sorted_targets = [1, 1, 0, 1, 0]\n",
    "\n",
    "consider all the possible thresholds: \n",
    "- is positive all that is above 0.8 (included)\n",
    "- is positive all that is above 0.5 (included)\n",
    "- is positive all that is above 0.2 (included)\n",
    "- is positive all that is above 0.1 (included)\n",
    "- is positive all that is above 0.0 (included)\n",
    "\n",
    "let's  now consider as an example the case: is positive all that is above 0.2 (included)\n",
    "\n",
    "then we have as predictions:\n",
    "\n",
    "[1, 1, 1, 0, 0]\n",
    "\n",
    "that we have to compare to the true targets\n",
    "\n",
    "[1, 1, 0, 1, 0]\n",
    "\n",
    "we see that the true positives are\n",
    "\n",
    "[yes, yes, no, no, no]\n",
    "\n",
    "and the false positives are\n",
    "\n",
    "[no, no, yes, no, no]\n",
    "\n",
    "the number of positives is 3, the number of negatives is 2, so the true positive rate and the false positive rates are\n",
    "\n",
    "TPR = TP/P = 2/3\n",
    "\n",
    "FPR = FP/N = 1/2\n",
    "\n",
    "---\n",
    "\n",
    "We can now derive the same results only considering the true targets sorted by the predictions:\n",
    "\n",
    "[1, 1, 0, 1, 0]\n",
    "\n",
    "we consider implicitly anything until the third position (that would correspond to the threshold 0.2) as predicted positive and the rest as predicted negative \n",
    "\n",
    "so we can just count how many times we have a positive target until the third position to obtain the number of true positives\n",
    "\n",
    "we can then proceed incrementally and count the cumulative number of 1s at each position:\n",
    "\n",
    "- we have 1 true positive until position 1\n",
    "- we have 2 true positives until position 2\n",
    "- we have 2 true positives until position 3\n",
    "- we have 3 true positives until position 4\n",
    "- we have 3 true positives until position 5\n",
    "\n",
    "we can proceed similarly to have an incremental count of the false positives.\n",
    "\n",
    "At the end we can have an array with the incremental count of true positives and an array with the incremental count of false positives, this is what we need to compute the TPR and FPR and from these the ROC curve."
   ]
  },
  {
   "cell_type": "code",
   "execution_count": 8,
   "metadata": {},
   "outputs": [],
   "source": [
    "def true_positive_rate(preds, targets):\n",
    "    # YOUR CODE HERE\n",
    "    Threshold = np.sort(preds)\n",
    "    #print(Threshold)\n",
    "    preds,targets = [list(x) for x in zip(*sorted(zip(preds, targets), key=lambda pair: pair[0]))]\n",
    "    TP_final = []\n",
    "    FN_final = []\n",
    "    for i in Threshold:\n",
    "    #preds,targets = [list(x) for x in zip(*sorted(zip(preds, targets), key=lambda pair: pair[0]))]\n",
    "        predicted_targets = [1 if j>=i else 0 for j in preds]\n",
    "        TP = [1 if(predicted_targets[j] == targets[j] and predicted_targets[j] ==1) else 0 for j in range(len(predicted_targets)) ]\n",
    "        FN = [1 if(predicted_targets[j] != targets[j] and predicted_targets[j] ==0) else 0 for j in range(len(predicted_targets)) ]\n",
    "        TP_count = TP.count(1)\n",
    "        FN_count = FN.count(1)\n",
    "        TP_final.append(TP_count/(TP_count + FN_count))\n",
    "    TP_final = np.flip(TP_final)\n",
    "    #print(TP_final)\n",
    "    return TP_final\n",
    "\n",
    "    \n",
    "def false_positive_rate(preds, targets):\n",
    "    #preds,targets = [list(x) for x in zip(*sorted(zip(preds, targets), key=lambda pair: pair[0]))]\n",
    "    Threshold = np.sort(preds)\n",
    "    #print(Threshold)\n",
    "    preds,targets = [list(x) for x in zip(*sorted(zip(preds, targets), key=lambda pair: pair[0]))]\n",
    "    FP_final = []\n",
    "    TN_final = []\n",
    "    for i in Threshold:\n",
    "    #preds,targets = [list(x) for x in zip(*sorted(zip(preds, targets), key=lambda pair: pair[0]))]\n",
    "        predicted_targets = [1 if j>=i else 0 for j in preds]\n",
    "        FP = [1 if(predicted_targets[j] != targets[j] and predicted_targets[j] ==1) else 0 for j in range(len(predicted_targets)) ]\n",
    "        TN = [1 if(predicted_targets[j] == targets[j] and predicted_targets[j] ==0) else 0 for j in range(len(predicted_targets)) ]\n",
    "        FP_count = FP.count(1)\n",
    "        TN_count = TN.count(1)\n",
    "        FP_final.append(FP_count/(FP_count + TN_count))\n",
    "    FP_final = np.flip(FP_final)\n",
    "    return FP_final"
   ]
  },
  {
   "cell_type": "code",
   "execution_count": 9,
   "metadata": {},
   "outputs": [],
   "source": [
    "# This cell is reserved for the unit tests. Do not consider this cell. \n",
    "### BEGIN TESTS\n",
    "test_preds = np.array([0.1, 0.5, 0.2, 0.8, 0.0])\n",
    "test_targets = np.array([1, 1, 0, 1, 0])\n",
    "\n",
    "TPR = true_positive_rate(test_preds, test_targets)\n",
    "FPR = false_positive_rate(test_preds, test_targets)\n",
    "assert np.sum(np.fabs(TPR - np.array([1/3, 2/3, 2/3, 1, 1]))) < 1e-2, 'The result should be: TPR=[1/3, 2/3, 2/3, 1, 1]'\n",
    "assert np.sum(np.fabs(FPR - np.array([0. , 0. , 0.5, 0.5, 1. ]))) < 1e-2, 'The result should be: TPR=[0. , 0. , 0.5, 0.5, 1. ]'\n",
    "### END TESTS"
   ]
  },
  {
   "cell_type": "markdown",
   "metadata": {},
   "source": [
    "## Question 2\n",
    "\n",
    "Make the functions `compute_auc(TPR, FPR)` to compute the area under the curve of the ROC. \n",
    "\n",
    "Hint: consider the individual rectangles formed by every successive (FPR, TPR) pairs. See the figures below. "
   ]
  },
  {
   "cell_type": "code",
   "execution_count": 17,
   "metadata": {},
   "outputs": [],
   "source": [
    "def compute_auc(TPR, FPR):\n",
    "    # YOUR CODE HERE\n",
    "    cords = [i for i in zip(FPR, TPR)]\n",
    "    Areas = []\n",
    "    for i in range(len(cords)-1):\n",
    "        cord_1 = cords[i]\n",
    "        cord_2 = cords[i+1]\n",
    "        l = 1 - (max(cord_1[0],cord_2[0]))\n",
    "        b = np.abs(cord_1[1] - cord_2[1])\n",
    "        print(l*b)\n",
    "        Areas.append(l*b)\n",
    "    return sum(Areas)\n",
    "\n",
    "    #raise NotImplementedError()"
   ]
  },
  {
   "cell_type": "code",
   "execution_count": 18,
   "metadata": {},
   "outputs": [
    {
     "name": "stdout",
     "output_type": "stream",
     "text": [
      "0.3333333333333333\n",
      "0.0\n",
      "0.16666666666666669\n",
      "0.0\n"
     ]
    },
    {
     "ename": "AssertionError",
     "evalue": "AUC should be 0.833 rahter than 0.500",
     "output_type": "error",
     "traceback": [
      "\u001b[1;31m---------------------------------------------------------------------------\u001b[0m",
      "\u001b[1;31mAssertionError\u001b[0m                            Traceback (most recent call last)",
      "Cell \u001b[1;32mIn [18], line 10\u001b[0m\n\u001b[0;32m      7\u001b[0m FPR \u001b[39m=\u001b[39m np\u001b[39m.\u001b[39marray([\u001b[39m0.\u001b[39m , \u001b[39m0.\u001b[39m , \u001b[39m0.5\u001b[39m, \u001b[39m0.5\u001b[39m, \u001b[39m1.\u001b[39m ])\n\u001b[0;32m      9\u001b[0m auc \u001b[39m=\u001b[39m compute_auc(TPR, FPR)\n\u001b[1;32m---> 10\u001b[0m \u001b[39massert\u001b[39;00m np\u001b[39m.\u001b[39mfabs(auc \u001b[39m-\u001b[39m \u001b[39m0.83333\u001b[39m) \u001b[39m<\u001b[39m \u001b[39m1e-3\u001b[39m, \u001b[39m'\u001b[39m\u001b[39mAUC should be 0.833 rahter than \u001b[39m\u001b[39m%.3f\u001b[39;00m\u001b[39m'\u001b[39m\u001b[39m%\u001b[39mauc\n\u001b[0;32m     11\u001b[0m \u001b[39m### END TESTS\u001b[39;00m\n",
      "\u001b[1;31mAssertionError\u001b[0m: AUC should be 0.833 rahter than 0.500"
     ]
    }
   ],
   "source": [
    "# This cell is reserved for the unit tests. Do not consider this cell. \n",
    "### BEGIN TESTS\n",
    "test_preds = np.array([0.1, 0.5, 0.2, 0.8, 0.0])\n",
    "test_targets = np.array([1, 1, 0, 1, 0])\n",
    "\n",
    "TPR = np.array([1/3, 2/3, 2/3, 1, 1])\n",
    "FPR = np.array([0. , 0. , 0.5, 0.5, 1. ])\n",
    "\n",
    "auc = compute_auc(TPR, FPR)\n",
    "assert np.fabs(auc - 0.83333) < 1e-3, 'AUC should be 0.833 rahter than %.3f'%auc\n",
    "### END TESTS"
   ]
  },
  {
   "cell_type": "markdown",
   "metadata": {},
   "source": [
    "## Question 3\n",
    "\n",
    "Make the function `plot_roc(preds, targets)` to plot the ROC curve. \n",
    "\n",
    "You should obtain something like:\n",
    "\n",
    "<img src='plot.png' width=400>\n"
   ]
  },
  {
   "cell_type": "code",
   "execution_count": null,
   "metadata": {},
   "outputs": [],
   "source": [
    "def plot_roc(preds, targets):\n",
    "    # YOUR CODE HERE\n",
    "    raise NotImplementedError()"
   ]
  },
  {
   "cell_type": "code",
   "execution_count": null,
   "metadata": {},
   "outputs": [],
   "source": [
    "# This cell is reserved for the unit tests. Do not consider this cell. \n",
    "### BEGIN TESTS\n",
    "test_preds = np.array([0.1, 0.5, 0.2, 0.8, 0.0])\n",
    "test_targets = np.array([1, 1, 0, 1, 0])\n",
    "try:\n",
    "    plot_roc(test_preds, test_targets)\n",
    "except Exception:\n",
    "    assert False, 'the function should not raise an exception when asked to plot'\n",
    "else:\n",
    "    pass\n",
    "### END TESTS"
   ]
  },
  {
   "cell_type": "markdown",
   "metadata": {},
   "source": [
    "## Bonus question \n",
    "\n",
    "Make the function `comparative_plot_roc(preds1, preds2, targets)` to plot two ROC curves. \n",
    "\n",
    "You should obtain something like:\n",
    "\n",
    "<img src='plot2.png' width=400>"
   ]
  },
  {
   "cell_type": "code",
   "execution_count": 14,
   "metadata": {},
   "outputs": [
    {
     "data": {
      "image/png": "[encoded data removed]",
      "text/plain": [
       "<Figure size 432x432 with 1 Axes>"
      ]
     },
     "metadata": {
      "needs_background": "light"
     },
     "output_type": "display_data"
    }
   ],
   "source": [
    "#you can compare visually your implementation against the scikit implementation\n",
    "\n",
    "from sklearn.metrics import plot_roc_curve\n",
    "fig, ax = plt.subplots(figsize=(6,6))\n",
    "plot_roc_curve(svm, X_test, y_test, ax=ax)\n",
    "plot_roc_curve(rf, X_test, y_test, ax=ax)\n",
    "ax.set_aspect(1.)\n",
    "plt.grid()\n",
    "plt.show()"
   ]
  },
  {
   "cell_type": "code",
   "execution_count": 7,
   "metadata": {},
   "outputs": [],
   "source": [
    "def comparative_plot_roc(preds1, preds2, targets):\n",
    "    # YOUR CODE HERE\n",
    "    raise NotImplementedError()"
   ]
  },
  {
   "cell_type": "code",
   "execution_count": null,
   "metadata": {},
   "outputs": [],
   "source": [
    "# This cell is reserved for the unit tests. Do not consider this cell. \n",
    "### BEGIN TESTS\n",
    "test_preds1 = np.array([0.1, 0.5, 0.2, 0.8, 0.0])\n",
    "test_preds2 = np.array([0.2, 0.3, 0.1, 0.8, 0.6])\n",
    "test_targets = np.array([1, 1, 0, 1, 0])\n",
    "try:\n",
    "    comparative_plot_roc(test_preds1, test_preds2, test_targets)\n",
    "except Exception:\n",
    "    assert False, 'the function should not raise an exception when asked to plot'\n",
    "else:\n",
    "    pass\n",
    "### END TESTS"
   ]
  },
  {
   "cell_type": "markdown",
   "metadata": {},
   "source": [
    "---"
   ]
  }
 ],
 "metadata": {
  "kernelspec": {
   "display_name": "Python 3",
   "language": "python",
   "name": "python3"
  },
  "language_info": {
   "codemirror_mode": {
    "name": "ipython",
    "version": 3
   },
   "file_extension": ".py",
   "mimetype": "text/x-python",
   "name": "python",
   "nbconvert_exporter": "python",
   "pygments_lexer": "ipython3",
   "version": "3.11.0"
  },
  "vscode": {
   "interpreter": {
    "hash": "b98f472bb8ba48098397e3b897b5be76f7bf0e62d98845cdb0e8066dc5677259"
   }
  }
 },
 "nbformat": 4,
 "nbformat_minor": 4
}
