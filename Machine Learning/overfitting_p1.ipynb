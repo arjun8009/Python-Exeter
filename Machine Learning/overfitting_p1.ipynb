{
 "cells": [
  {
   "cell_type": "markdown",
   "metadata": {
    "slideshow": {
     "slide_type": "slide"
    }
   },
   "source": [
    "# Classifier Overfitting (part 1)\n",
    "\n",
    "**Aim:** Understand the notion of overfitting.\n",
    "\n",
    "In this first part we are going to develop only the functions to manipulate the dataset.\n",
    "\n",
    "In the subsequent part we are going to build the classifiers that operate over the datasets that we have generated here. \n",
    "\n",
    "Here we are building the functions needed to acquire the data and to add noise to make the task progressively  more difficult in a controlled way. "
   ]
  },
  {
   "cell_type": "code",
   "execution_count": 1,
   "metadata": {
    "slideshow": {
     "slide_type": "slide"
    }
   },
   "outputs": [],
   "source": [
    "%matplotlib inline\n",
    "import matplotlib.pyplot as plt\n",
    "import numpy as np\n",
    "import scipy as sp\n",
    "import warnings\n",
    "warnings.filterwarnings('ignore')"
   ]
  },
  {
   "cell_type": "markdown",
   "metadata": {
    "slideshow": {
     "slide_type": "slide"
    }
   },
   "source": [
    "## Question 1\n",
    "\n",
    "a) Make a function `X,y = get_digits_data(digit_list=None)` that retreives the scikit [digits dataset](https://scikit-learn.org/stable/modules/generated/sklearn.datasets.load_digits.html). The function should return a data matrix `X` (with instances as rows) and a target vector `y`. The function should accept in input a list containing an arbitrary number of digits of interest: e.g. if one is interested in discriminating between the digits `7` and `9` then one should pass `digit_list=[7,9]`, if the digits of interest are `8,4,5,0` then `digit_list=[8,4,5,0]`, etc.\n",
    "\n",
    "b) Make a function `plot_digit(x, shape=(8,8))` to represent a single instance vector `x` as a 2D array with shape `shape`. Use an inverted gray scale color map.\n",
    "\n",
    "c) Make a function `plot_digits(X,y, shape=(8,8), n_images_per_row=5)` to arrange the 2D array representations of the instances in `X` in a grid with `n_images_per_row` columns. Each representation should have as a title the corresponding target."
   ]
  },
  {
   "cell_type": "code",
   "execution_count": 15,
   "metadata": {
    "slideshow": {
     "slide_type": "slide"
    }
   },
   "outputs": [],
   "source": [
    "from sklearn.datasets import load_digits\n",
    "def get_digits_data(digit_list=None):\n",
    "    # YOUR CODE HERE\n",
    "    X,y = load_digits(return_X_y=True)\n",
    "    if(digit_list is None):\n",
    "        return X,y\n",
    "    indexes = []\n",
    "    Y = list(y)\n",
    "    for i in digit_list:\n",
    "        for j in range(len(Y)):\n",
    "            if(Y[j]==i):\n",
    "                indexes.append(j)\n",
    "    X  = X[indexes]\n",
    "    y = y[indexes]\n",
    "\n",
    "    return X,y\n",
    "    \n",
    "def plot_digit(x, shape):\n",
    "    # YOUR CODE HERE\n",
    "    x = np.array(x)\n",
    "    x  = x.reshape(shape[0],shape[1])\n",
    "    plt.imshow(x,cmap='gray')\n",
    "    \n",
    "def plot_digits(X,y,shape, n_images_per_row=5):\n",
    "    # YOUR CODE HERE\n",
    "    try:\n",
    "        shape = list(shape)\n",
    "        n_rows = int(len(y)/n_images_per_row)\n",
    "        fig,ax = plt.subplots(n_rows,n_images_per_row)\n",
    "        count = 0\n",
    "        for i in range(n_rows):\n",
    "            for j in range(n_images_per_row):\n",
    "                x  = np.array(X[count])\n",
    "                x = X[count].reshape(shape[0],shape[1])\n",
    "                ax[i,j].imshow(x,cmap='gray')\n",
    "                count = count + 1\n",
    "    except Exception as e:\n",
    "        assert 'shape should be of same dimension'    \n",
    "        "
   ]
  },
  {
   "cell_type": "code",
   "execution_count": 7,
   "metadata": {},
   "outputs": [
    {
     "data": {
      "image/png": "[encoded data removed]",
      "text/plain": [
       "<Figure size 640x480 with 10 Axes>"
      ]
     },
     "metadata": {},
     "output_type": "display_data"
    }
   ],
   "source": [
    "X,y = get_digits_data([6,7])\n",
    "plot_digits(X[0:10],y[0:10],(8,8),5)"
   ]
  },
  {
   "cell_type": "code",
   "execution_count": null,
   "metadata": {},
   "outputs": [],
   "source": []
  },
  {
   "cell_type": "markdown",
   "metadata": {
    "slideshow": {
     "slide_type": "slide"
    }
   },
   "source": [
    "## Question 2\n",
    "\n",
    "a) Make a function `X = add_input_noise(X, amount)` that returns a copy of the input data matrix `X` where a random real value in the interval `(-amount, amount)` has been added to each feature.\n",
    "\n",
    "b) Make a function `y = add_target_noise(y, amount)` that returns a copy of the input target vector `y` where a fraction of `amount` elements have been swapped: amount=0.2 means 20% of the elements have been swapped. For example if `y = [0,1,2,3,4,5,6,7,8,9]` then `add_target_noise(y, amount=0.1)` could yield `[0,1,9,3,4,5,6,7,8,2]`, while `add_target_noise(y, amount=0.2)` could yield `[0,1,9,3,6,5,4,7,8,2]`.\n",
    "\n",
    "c) Make a function `X,y = sample(X,y,n_samples)` that returns a random sample of `n_samples` instances in `X` and the corresponding `y`. The sample is obtained without replacement (i.e. an instance cannot be returned more than one time).  "
   ]
  },
  {
   "cell_type": "code",
   "execution_count": 8,
   "metadata": {},
   "outputs": [],
   "source": [
    "def add_input_noise(X, amount=16):\n",
    "    # YOUR CODE HERE\n",
    "    shape = list(X.shape)\n",
    "    lower_lim = -int(amount)\n",
    "    upper_lim = int(amount)\n",
    "    X_copy = []\n",
    "    for i in X:\n",
    "        random_noise = np.random.rand(1,shape[1])*(2*amount)-amount\n",
    "        x = np.array(i)\n",
    "        #x = x.reshape(shape[0],shape[1])\n",
    "        z = np.add(x,random_noise)\n",
    "        X_copy.append(z)\n",
    "    X_copy = np.array(X_copy)\n",
    "    #print(X_copy)\n",
    "    return X_copy\n",
    "    \n",
    "def add_target_noise(y, amount):\n",
    "    Y = y.copy()\n",
    "    num_swaps = int(amount * (len(y)))\n",
    "    for i in range(num_swaps):\n",
    "        index_1  = np.random.randint(0,len(y))\n",
    "        index_2  = np.random.randint(0,len(y))\n",
    "        Y[index_2],Y[index_1] = Y[index_1],Y[index_2]\n",
    "    return Y\n",
    "    \n",
    "def sample(X,y,n_samples):\n",
    "    # YOUR CODE HERE\n",
    "    sample_X = []\n",
    "    sample_y = []\n",
    "    indexes = []\n",
    "    for i in range(n_samples):\n",
    "        index = np.random.randint(0,len(y))\n",
    "        if(index in indexes):\n",
    "            while(index in indexes):\n",
    "                index = np.random.randint(0,len(y))\n",
    "        sample_X.append(X[index])\n",
    "        sample_y.append(y[index])\n",
    "        indexes.append(index)\n",
    "    return np.array(sample_X),np.array(sample_y)\n",
    "   "
   ]
  },
  {
   "cell_type": "code",
   "execution_count": 5,
   "metadata": {},
   "outputs": [],
   "source": [
    "X,y = get_digits_data([6,7])\n",
    "X,y = sample(X,y,10)"
   ]
  },
  {
   "cell_type": "markdown",
   "metadata": {},
   "source": [
    "---"
   ]
  },
  {
   "cell_type": "markdown",
   "metadata": {},
   "source": [
    "## Usage examples\n",
    "\n",
    "The following cells show some examples of how you might use the requested functions. These examples are not available in the Assessment. In the Assessment you are to test your implementations on a **separate** notebook.\n",
    "\n",
    "**Do not** add or remove cells in the Assessment notebook.\n",
    "\n",
    "In the Assessment notebook you need to write **only** the function implementation, i.e. you need to replace \n",
    "\n",
    "```python\n",
    "def function_name(input_var):\n",
    "    # YOUR CODE HERE\n",
    "    raise NotImplementedError() \n",
    "```\n",
    "\n",
    "with\n",
    "\n",
    "```python\n",
    "def function_name(input_var):\n",
    "    result = input_var * 2\n",
    "    return result\n",
    "```\n",
    "\n",
    "**do not** write things like:\n",
    "\n",
    "```python\n",
    "def function_name(input_var):\n",
    "    result = input_var * 2\n",
    "    return result\n",
    "    raise NotImplementedError() \n",
    "```\n",
    "or\n",
    "```python\n",
    "def function_name(input_var):\n",
    "    result = input_var * 2\n",
    "    raise NotImplementedError() \n",
    "    return result\n",
    "```"
   ]
  },
  {
   "cell_type": "code",
   "execution_count": 1004,
   "metadata": {},
   "outputs": [
    {
     "name": "stdout",
     "output_type": "stream",
     "text": [
      "#instances:722 #features:64\n",
      "#classes:4\n"
     ]
    }
   ],
   "source": [
    "X,y = get_digits_data(digit_list=[5,6,7,9])\n",
    "print('#instances:%d #features:%d'%(X.shape[0], X.shape[1]))\n",
    "print('#classes:%d'%(len(set(y))))"
   ]
  },
  {
   "cell_type": "code",
   "execution_count": 1005,
   "metadata": {},
   "outputs": [
    {
     "data": {
      "image/png": "[encoded data removed]",
      "text/plain": [
       "<Figure size 144x144 with 1 Axes>"
      ]
     },
     "metadata": {
      "needs_background": "light"
     },
     "output_type": "display_data"
    }
   ],
   "source": [
    "#display one digit\n",
    "plot_digit(X[0], shape=(8,8))"
   ]
  },
  {
   "cell_type": "code",
   "execution_count": 1006,
   "metadata": {},
   "outputs": [
    {
     "data": {
      "image/png": "[encoded data removed]",
      "text/plain": [
       "<Figure size 1080x288 with 60 Axes>"
      ]
     },
     "metadata": {
      "needs_background": "light"
     },
     "output_type": "display_data"
    }
   ],
   "source": [
    "#plot sample digits with associated targets\n",
    "plot_digits(X[:60],y[:60], shape=(8,8), n_images_per_row=15)"
   ]
  },
  {
   "cell_type": "code",
   "execution_count": 1007,
   "metadata": {},
   "outputs": [
    {
     "data": {
      "image/png": "[encoded data removed]",
      "text/plain": [
       "<Figure size 144x144 with 1 Axes>"
      ]
     },
     "metadata": {
      "needs_background": "light"
     },
     "output_type": "display_data"
    }
   ],
   "source": [
    "#perturb input\n",
    "X = add_input_noise(X, amount=10)\n",
    "plot_digit(X[0], shape=(8,8))"
   ]
  },
  {
   "cell_type": "code",
   "execution_count": 1008,
   "metadata": {},
   "outputs": [
    {
     "name": "stdout",
     "output_type": "stream",
     "text": [
      "Original targets\n",
      "[5 5 5 5 5 5 5 5 5 5 5 5 5 5 5 5 5 5 5 5]\n",
      "Noisy targets\n",
      "[7 5 5 6 9 5 5 5 6 6 5 5 5 9 5 9 5 9 6 9]\n"
     ]
    }
   ],
   "source": [
    "#perturb targets\n",
    "print('Original targets')\n",
    "print(y[:20])\n",
    "y = add_target_noise(y, amount=.6)\n",
    "print('Noisy targets')\n",
    "print(y[:20])"
   ]
  },
  {
   "cell_type": "code",
   "execution_count": 1009,
   "metadata": {},
   "outputs": [
    {
     "name": "stdout",
     "output_type": "stream",
     "text": [
      "Original #instances:722\n",
      "Sampled #instances:500\n"
     ]
    }
   ],
   "source": [
    "print('Original #instances:%d'%(X.shape[0]))\n",
    "X,y = sample(X,y,n_samples=500)\n",
    "print('Sampled #instances:%d'%(X.shape[0]))"
   ]
  },
  {
   "cell_type": "code",
   "execution_count": 1010,
   "metadata": {},
   "outputs": [
    {
     "data": {
      "image/png": "[encoded data removed]",
      "text/plain": [
       "<Figure size 1080x288 with 60 Axes>"
      ]
     },
     "metadata": {
      "needs_background": "light"
     },
     "output_type": "display_data"
    }
   ],
   "source": [
    "#plot sample digits with associated targets\n",
    "plot_digits(X[:60],y[:60], shape=(8,8), n_images_per_row=15)"
   ]
  },
  {
   "cell_type": "markdown",
   "metadata": {},
   "source": [
    "## Unit Tests\n",
    "\n",
    "In the following you can see examples of unit tests for the functions that you have been asked to make.\n",
    "\n",
    "In the Assignment, each test is associated to a number of marks. Passing the test awards the marks. Not passing the test awards 0 marks. This mechanism is not implemented in the workshop notebooks.\n",
    "\n",
    "In the Assignment the tests are not visible, instead you will see a cell that only contains the comment\n",
    "```python\n",
    "# This cell is reserved for the unit tests. Do not consider this cell. \n",
    "```"
   ]
  },
  {
   "cell_type": "code",
   "execution_count": 9,
   "metadata": {},
   "outputs": [],
   "source": [
    "# This cell is reserved for the unit tests. Do not consider this cell. \n",
    "### BEGIN TESTS \n",
    "X_test,y_test = get_digits_data(digit_list=[0,3])\n",
    "assert X_test.shape[1] == 64, 'Expected instances with 64 features' \n",
    "assert len(set(y_test)) == 2, 'Expected 2 classes'\n",
    "### END TESTS"
   ]
  },
  {
   "cell_type": "code",
   "execution_count": 16,
   "metadata": {},
   "outputs": [
    {
     "data": {
      "image/png": "[encoded data removed]",
      "text/plain": [
       "<Figure size 640x480 with 1 Axes>"
      ]
     },
     "metadata": {},
     "output_type": "display_data"
    }
   ],
   "source": [
    "# This cell is reserved for the unit tests. Do not consider this cell. \n",
    "### BEGIN TESTS \n",
    "X_test,y_test = get_digits_data(digit_list=[0,3])\n",
    "try:\n",
    "    plot_digit(X_test[0], shape=(8,8))\n",
    "except Exception:\n",
    "    assert False, 'the function should not raise an exception when asked to plot a 8x8 image'\n",
    "else:\n",
    "    pass\n",
    "try:\n",
    "    plot_digit(X_test[0], shape=(8,9))\n",
    "except Exception:\n",
    "    pass\n",
    "else:\n",
    "    assert False, 'the function should raise an exception when asked to plot a 8x9 image'\n",
    "### END TESTS"
   ]
  },
  {
   "cell_type": "code",
   "execution_count": 10,
   "metadata": {},
   "outputs": [
    {
     "data": {
      "image/png": "[encoded data removed]",
      "text/plain": [
       "<Figure size 640x480 with 40 Axes>"
      ]
     },
     "metadata": {},
     "output_type": "display_data"
    }
   ],
   "source": [
    "# This cell is reserved for the unit tests. Do not consider this cell. \n",
    "### BEGIN TESTS \n",
    "np.random.seed(0)\n",
    "n=40\n",
    "Xp = np.random.rand(n,36)\n",
    "yp = np.random.randint(2, size=n)\n",
    "try:\n",
    "    plot_digits(Xp,yp, shape=(6,6), n_images_per_row=20)\n",
    "except Exception:\n",
    "    assert False, 'the function should not raise an exception when asked to plot a 6x6 image with n_images_per_row=20'\n",
    "else:\n",
    "    pass\n",
    "### END TESTS"
   ]
  },
  {
   "cell_type": "code",
   "execution_count": 11,
   "metadata": {},
   "outputs": [
    {
     "name": "stdout",
     "output_type": "stream",
     "text": [
      "0.07082216759821094\n"
     ]
    }
   ],
   "source": [
    "# This cell is reserved for the unit tests. Do not consider this cell. \n",
    "### BEGIN TESTS \n",
    "np.random.seed(0)\n",
    "M = np.zeros((1000,10))\n",
    "M = add_input_noise(M, amount=10)\n",
    "print(np.fabs(np.mean(M)))\n",
    "assert np.fabs(np.mean(M)) < 0.1, 'The mean of the addd noise is not < 0.1'\n",
    "assert 4 < np.std(M) < 6, 'The std of the added noise is not in the interval [4,6]'\n",
    "### END TESTS"
   ]
  },
  {
   "cell_type": "code",
   "execution_count": 13,
   "metadata": {},
   "outputs": [],
   "source": [
    "# This cell is reserved for the unit tests. Do not consider this cell. \n",
    "### BEGIN TESTS \n",
    "np.random.seed(0)\n",
    "y_test = np.arange(10)\n",
    "y_test = add_target_noise(y_test, amount=0)\n",
    "assert np.all(y_test == np.arange(10)), 'Adding a 0 amount of noise should yield the input'\n",
    "y_test = np.arange(100)\n",
    "y_test_p = add_target_noise(y_test, amount=.1)\n",
    "assert 80 <= np.sum(y_test_p == y_test) < 100, 'The number of elements that have not been altered should be in the interval [80,100]'\n",
    "### END TESTS"
   ]
  },
  {
   "cell_type": "code",
   "execution_count": 14,
   "metadata": {},
   "outputs": [],
   "source": [
    "# This cell is reserved for the unit tests. Do not consider this cell. \n",
    "### BEGIN TESTS \n",
    "np.random.seed(0)\n",
    "Xp = np.random.rand(1000,10)\n",
    "yp = np.random.randint(2, size=1000)\n",
    "Xp,yp = sample(Xp,yp,n_samples=500)\n",
    "assert Xp.shape == (500,10), 'Expected shape of (500,10)'\n",
    "### END TESTS"
   ]
  },
  {
   "cell_type": "markdown",
   "metadata": {},
   "source": [
    "---"
   ]
  },
  {
   "cell_type": "markdown",
   "metadata": {},
   "source": []
  }
 ],
 "metadata": {
  "kernelspec": {
   "display_name": "Python 3",
   "language": "python",
   "name": "python3"
  },
  "language_info": {
   "codemirror_mode": {
    "name": "ipython",
    "version": 3
   },
   "file_extension": ".py",
   "mimetype": "text/x-python",
   "name": "python",
   "nbconvert_exporter": "python",
   "pygments_lexer": "ipython3",
   "version": "3.11.0"
  },
  "vscode": {
   "interpreter": {
    "hash": "b98f472bb8ba48098397e3b897b5be76f7bf0e62d98845cdb0e8066dc5677259"
   }
  }
 },
 "nbformat": 4,
 "nbformat_minor": 4
}
