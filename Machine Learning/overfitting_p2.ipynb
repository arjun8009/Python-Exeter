{
 "cells": [
  {
   "cell_type": "markdown",
   "metadata": {
    "slideshow": {
     "slide_type": "slide"
    }
   },
   "source": [
    "## Classifier Overfitting (part 2)\n",
    "\n",
    "**Aim:** Understand the notion of overfitting and underfitting."
   ]
  },
  {
   "cell_type": "code",
   "execution_count": 1,
   "metadata": {
    "slideshow": {
     "slide_type": "slide"
    }
   },
   "outputs": [],
   "source": [
    "%matplotlib inline\n",
    "import matplotlib.pyplot as plt\n",
    "import numpy as np\n",
    "import scipy as sp"
   ]
  },
  {
   "cell_type": "code",
   "execution_count": 2,
   "metadata": {},
   "outputs": [],
   "source": [
    "import warnings\n",
    "warnings.filterwarnings('ignore')"
   ]
  },
  {
   "cell_type": "markdown",
   "metadata": {},
   "source": [
    "# Auxiliary functions\n",
    "\n",
    "You can use the functions you have made in the previous exercise, or you can use the following ones. "
   ]
  },
  {
   "cell_type": "code",
   "execution_count": 3,
   "metadata": {},
   "outputs": [],
   "source": [
    "import sklearn.datasets\n",
    "\n",
    "def get_digits_data(digit_list=None):\n",
    "    X,y = sklearn.datasets.load_digits(n_class=10, return_X_y=True)\n",
    "    if digit_list is None:\n",
    "        return X,y\n",
    "    X_sel = np.vstack([X[y==t]for t in digit_list])\n",
    "    y_sel = y.copy()\n",
    "    y_sel = np.hstack([y_sel[y==t]for t in digit_list])\n",
    "    return X_sel,y_sel\n",
    "\n",
    "def plot_digit(x, shape):\n",
    "    plt.figure(figsize=(2,2))\n",
    "    img = x.reshape(*shape)\n",
    "    plt.imshow(img, cmap='gray_r')\n",
    "    plt.axis(False)\n",
    "    plt.show()\n",
    "    \n",
    "def plot_digits(X,y, shape, n_images_per_row=5):\n",
    "    n = X.shape[0]\n",
    "    size = 1\n",
    "    n_rows = int(np.ceil(n/n_images_per_row))\n",
    "    fig, axs = plt.subplots(n_rows, n_images_per_row, figsize=(size*n_images_per_row,size*n_rows))\n",
    "    for i, (x, t) in enumerate(zip(X,y)): \n",
    "        img = x.reshape(*shape)\n",
    "        col_index = i % n_images_per_row\n",
    "        row_index = i // n_images_per_row\n",
    "        axs[row_index, col_index].imshow(img, cmap='gray_r')\n",
    "        axs[row_index, col_index].set_title(t)\n",
    "        axs[row_index, col_index].set_axis_off() \n",
    "    fig.tight_layout() \n",
    "    plt.show()\n",
    "\n",
    "def add_input_noise(X, amount=16):\n",
    "    return X + (np.random.rand(*X.shape)*2*amount - amount)\n",
    "\n",
    "def add_target_noise(y, amount=.5):\n",
    "    n = int(len(y)*amount)\n",
    "    ids = np.random.randint(len(y),size=(2,n))\n",
    "    y_p = y.copy()\n",
    "    y_p[ids[0]]=y[ids[1]]\n",
    "    y_p[ids[1]]=y[ids[0]]\n",
    "    return y_p\n",
    "\n",
    "def sample(X,y,n_samples):\n",
    "    n = X.shape[0]\n",
    "    assert n_samples < n\n",
    "    ids = np.random.permutation(n)[:n_samples]\n",
    "    return X[ids],y[ids]"
   ]
  },
  {
   "cell_type": "markdown",
   "metadata": {
    "slideshow": {
     "slide_type": "slide"
    }
   },
   "source": [
    "## Question 1\n",
    "\n",
    "Make a function `classifier = train(X_train, y_train, param)` that takes in input a data matrix `X_train`, an associated target array `y_train`, and a single scalar parameter `param` and returns a fit classifier object. \n",
    "\n",
    "Make a function `preds = test(X_test, classifier)` that takes in input a data matrix `X_test`, a classifier object `classifier` and returns the prediction array `preds`.\n",
    "\n",
    "Specialise the functions using the following scikit classifiers:\n",
    "1. [Multi-layer Perceptron classifier](https://scikit-learn.org/stable/modules/generated/sklearn.neural_network.MLPClassifier.html#sklearn.neural_network.MLPClassifier) \n",
    "- tunable parameter `alpha` \n",
    "- fixed parameters:\n",
    "  - max_iter=10000\n",
    "  - activation='logistic'\n",
    "  - hidden_layer_sizes=(5,5)\n",
    "2. [k-nearest neighbors classifier](https://scikit-learn.org/stable/modules/generated/sklearn.neighbors.KNeighborsClassifier.html#sklearn.neighbors.KNeighborsClassifier)\n",
    "- tunable parameter `n_neighbors` \n",
    "3. [Random Forest Classifier](https://scikit-learn.org/stable/modules/generated/sklearn.ensemble.RandomForestClassifier.html?highlight=randomforestclassifier#sklearn.ensemble.RandomForestClassifier)\n",
    "- tunable parameter `max_leaf_nodes` and `max_depth`\n",
    "- fixed parameters:\n",
    "  - n_estimators=10\n",
    "\n",
    "You should therefore make the following functions (all with the same interface):\n",
    "- `train_mlp`, `test_mlp`\n",
    "- `train_knn`, `test_knn`\n",
    "- `train_rf`, `test_rf`"
   ]
  },
  {
   "cell_type": "code",
   "execution_count": 4,
   "metadata": {
    "slideshow": {
     "slide_type": "skip"
    }
   },
   "outputs": [],
   "source": [
    "from sklearn.neural_network import MLPClassifier\n",
    "from sklearn.neighbors import KNeighborsClassifier\n",
    "from sklearn.ensemble import  RandomForestClassifier\n",
    "def train_mlp(X_train, y_train, param):\n",
    "    model = MLPClassifier(alpha=param,max_iter=10000,activation='logistic',hidden_layer_sizes=(5,5))\n",
    "    model.fit(X_train, y_train)\n",
    "    return model\n",
    "\n",
    "def test_mlp(X_test, classifier):\n",
    "    predictions = classifier.predict(X_test)\n",
    "    return predictions\n",
    "    # YOUR CODE HERE\n",
    "    \n",
    "    \n",
    "def train_knn(X_train, y_train, param):\n",
    "    # YOUR CODE HERE\n",
    "    model = KNeighborsClassifier(n_neighbors=param)\n",
    "    model.fit(X_train, y_train)\n",
    "    return model\n",
    "\n",
    "def test_knn(X_test, classifier):\n",
    "    # YOUR CODE HERE\n",
    "    predictions = classifier.predict(X_test)\n",
    "    return predictions\n",
    "    \n",
    "def train_rf(X_train, y_train, param):\n",
    "    # YOUR CODE HERE\n",
    "    model = RandomForestClassifier(n_estimators=param)\n",
    "    model.fit(X_train, y_train)\n",
    "    return model\n",
    "\n",
    "def test_rf(X_test, classifier):\n",
    "    # YOUR CODE HERE\n",
    "    predictions = classifier.predict(X_test)\n",
    "    return predictions"
   ]
  },
  {
   "cell_type": "code",
   "execution_count": 5,
   "metadata": {},
   "outputs": [],
   "source": [
    "# This cell is reserved for the unit tests. Do not consider this cell. \n",
    "### BEGIN TESTS\n",
    "n_instances=1000\n",
    "X_train = np.random.rand(n_instances, 100)\n",
    "y_train = np.random.randint(2,size=n_instances)\n",
    "X_test = np.random.rand(n_instances, 100)\n",
    "y_test = np.random.randint(2,size=n_instances)\n",
    "\n",
    "clf = train_mlp(X_train, y_train, param=1e-3)\n",
    "y_pred = test_mlp(X_test, clf)\n",
    "assert 0.7 > np.sum(y_test==y_pred)/len(y_pred) > 0.3, 'For mlp expected a prediction accuracy in the interval [0.3,0.7]'\n",
    "\n",
    "clf = train_knn(X_train, y_train, param=11)\n",
    "y_pred = test_knn(X_test, clf)\n",
    "assert 0.7 > np.sum(y_test==y_pred)/len(y_pred) > 0.3, 'For knn expected a prediction accuracy in the interval [0.3,0.7]'\n",
    "\n",
    "clf = train_rf(X_train, y_train, param=5)\n",
    "y_pred = test_knn(X_test, clf)\n",
    "assert 0.7 > np.sum(y_test==y_pred)/len(y_pred) > 0.3, 'For rf expected a prediction accuracy in the interval [0.3,0.7]'\n",
    "### END TESTS"
   ]
  },
  {
   "cell_type": "markdown",
   "metadata": {
    "slideshow": {
     "slide_type": "slide"
    }
   },
   "source": [
    "## Question 2\n",
    "\n",
    "a) Make a function `error(y_true, y_pred)` that returns the fraction of times `y_pred` does not agree with `y_true`.\n",
    "\n",
    "b) Make a function `train_error, test_error = compute_error_curve(train_func, test_func, params, X_train, y_train, X_test, y_test)` that outputs the error on the training data `X_train` and the error on the test data `X_test` using the train/test functions in input. The errors are estimated for each value of the parameters in `params`.\n",
    "\n",
    "c) Make a function `plot_error_curve(params, train_err, test_err, logscale)` to plot the errors on the train data and test data for each value of `params`. Use the input argument `logscale=True/False` to choose between a logscale and a linear scale for the horizontal axis.  \n",
    "\n",
    "You should obtain something like:\n",
    "<img src='plot_overfit.png' width=500>"
   ]
  },
  {
   "cell_type": "code",
   "execution_count": 22,
   "metadata": {},
   "outputs": [],
   "source": [
    "def error(y_true, y_pred):\n",
    "    # YOUR CODE HERE\n",
    "    result = y_true == y_pred\n",
    "    num_errors = np.count_nonzero(result==False)\n",
    "    return (num_errors/len(y_true))\n",
    "    \n",
    "def plot_error_curve(params, train_err, test_err, logscale=False):\n",
    "    # YOUR CODE HERE\n",
    "    fig,ax  = plt.subplots(figsize=(5,3))\n",
    "    if logscale == True:\n",
    "        ax.plot(params,train_err,color='red',label='Train')\n",
    "        ax.set_xlabel('Params')\n",
    "        ax.set_ylabel('Train Error')\n",
    "        ax.set_xscale('log')\n",
    "        ax.set_yscale('log')\n",
    "        ax.legend()\n",
    "        ax2 = ax.twinx()\n",
    "        ax2.plot(params,test_err,label='Test')\n",
    "        ax2.set_ylabel('Test Error')\n",
    "        ax2.set_xscale('log')\n",
    "        ax2.set_yscale('log')\n",
    "        ax2.legend()\n",
    "        plt.grid()\n",
    "        plt.show()\n",
    "    else:\n",
    "        ax.plot(params,train_err,color='red',label='Train')\n",
    "        ax.set_xlabel('Params')\n",
    "        ax.set_ylabel('Train Error')\n",
    "        ax.legend()\n",
    "        ax2 = ax.twinx()\n",
    "        ax2.plot(params,test_err,label='Test')\n",
    "        ax2.set_ylabel('Test Error')\n",
    "        ax2.legend()\n",
    "        plt.grid()\n",
    "        plt.show()\n",
    "\n",
    "\n",
    "def compute_error_curve(train_func, test_func, params, X_train, y_train, X_test, y_test):\n",
    "    # YOUR CODE HERE\n",
    "    error_fraction_test = []\n",
    "    error_fraction_train = []\n",
    "    for i in params:\n",
    "        model = train_func(X_train, y_train,i)\n",
    "        predictions_test = test_func(X_test,model)\n",
    "        predictions_train = test_func(X_train,model)\n",
    "        error_fraction_test.append(error(y_test,predictions_test))\n",
    "        error_fraction_train.append(error(y_train,predictions_train))\n",
    "\n",
    "    return (error_fraction_train, error_fraction_test)\n",
    "\n",
    "    "
   ]
  },
  {
   "cell_type": "code",
   "execution_count": 9,
   "metadata": {},
   "outputs": [],
   "source": [
    "# This cell is reserved for the unit tests. Do not consider this cell. \n",
    "### BEGIN TESTS\n",
    "assert np.fabs(error(np.array([1,1,1,1]),np.array([0,1,1,1])) - 0.25) < 1e-3, 'The error function is not accurate'\n",
    "### END TESTS"
   ]
  },
  {
   "cell_type": "code",
   "execution_count": 14,
   "metadata": {},
   "outputs": [],
   "source": [
    "# This cell is reserved for the unit tests. Do not consider this cell. \n",
    "### BEGIN TESTS\n",
    "from sklearn.neighbors import KNeighborsClassifier\n",
    "def train_knn_p(X_train, y_train, param):\n",
    "    return KNeighborsClassifier(n_neighbors=param).fit(X_train, y_train)\n",
    "\n",
    "def test_knn_p(X_test, classifier):\n",
    "    return classifier.predict(X_test)\n",
    "\n",
    "n_instances=1000\n",
    "X_train = np.random.rand(n_instances, 100)\n",
    "y_train = np.random.randint(2,size=n_instances)\n",
    "X_test = np.random.rand(n_instances, 100)\n",
    "y_test = np.random.randint(2,size=n_instances)\n",
    "params=[1,3,5,7]\n",
    "train_error, test_error = compute_error_curve(train_knn_p, test_knn_p, params, X_train, y_train, X_test, y_test)\n",
    "\n",
    "assert train_error[0] < 1e-3, 'Train error for 1-nn should be close to 0'\n",
    "assert np.fabs(np.mean(test_error) - 0.5)< 1e-1, 'Test error should be close to 0.5'\n",
    "### END TESTS"
   ]
  },
  {
   "cell_type": "code",
   "execution_count": 23,
   "metadata": {},
   "outputs": [
    {
     "data": {
      "image/png": "[encoded data removed]",
      "text/plain": [
       "<Figure size 500x300 with 2 Axes>"
      ]
     },
     "metadata": {},
     "output_type": "display_data"
    }
   ],
   "source": [
    "# This cell is reserved for the unit tests. Do not consider this cell. \n",
    "### BEGIN TESTS\n",
    "from sklearn.neighbors import KNeighborsClassifier\n",
    "def train_knn_p(X_train, y_train, param):\n",
    "    return KNeighborsClassifier(n_neighbors=param).fit(X_train, y_train)\n",
    "\n",
    "def test_knn_p(X_test, classifier):\n",
    "    return classifier.predict(X_test)\n",
    "\n",
    "n_instances=1000\n",
    "X_train = np.random.rand(n_instances, 100)\n",
    "y_train = np.random.randint(2,size=n_instances)\n",
    "X_test = np.random.rand(n_instances, 100)\n",
    "y_test = np.random.randint(2,size=n_instances)\n",
    "params=[1,3,5,7]\n",
    "train_err, test_err = compute_error_curve(train_knn_p, test_knn_p, params, X_train, y_train, X_test, y_test)\n",
    "\n",
    "try:\n",
    "    plot_error_curve(params, train_err, test_err, logscale=False)\n",
    "except Exception:\n",
    "    assert False, 'the function should not raise an exception when asked to plot the train and test errors'\n",
    "else:\n",
    "    pass\n",
    "### END TESTS"
   ]
  },
  {
   "cell_type": "markdown",
   "metadata": {},
   "source": [
    "---"
   ]
  },
  {
   "cell_type": "markdown",
   "metadata": {
    "slideshow": {
     "slide_type": "slide"
    }
   },
   "source": [
    "## Question 3\n",
    "\n",
    "Experiment with the data generation and the classifiers parameters.\n",
    "\n",
    "Try to obtain a dataset and a range of parameters that show how various classifiers can overfit and underfit. \n",
    "\n",
    "For the data generation consider:\n",
    "- the amount of input and target noise \n",
    "- the dataset size and the train/test split proportion\n",
    "\n",
    "Fopr example:\n",
    "```python\n",
    "X,y = get_digits_data(digit_list=None)\n",
    "X = add_input_noise(X, amount=5)\n",
    "y = add_target_noise(y, amount=.2)\n",
    "X,y = sample(X,y,n_samples=1000)\n",
    "\n",
    "from sklearn.model_selection import train_test_split\n",
    "X_train, X_test, y_train, y_test = train_test_split(X, y, test_size=0.8)\n",
    "\n",
    "params = np.arange(1,30,2)\n",
    "train_err, test_err = compute_error_curve(train_knn, test_knn, params, X_train, y_train, X_test, y_test)\n",
    "plot_error_curve(params, train_err, test_err, logscale=False)\n",
    "```"
   ]
  },
  {
   "cell_type": "markdown",
   "metadata": {},
   "source": [
    "---"
   ]
  },
  {
   "cell_type": "markdown",
   "metadata": {
    "slideshow": {
     "slide_type": "slide"
    }
   },
   "source": [
    "## Question 4\n",
    "\n",
    "a) Make a function `compute_error_curve_with_conf_int(train_func, test_func, params, X, y, test_size, n_repetitions)` that takes in input a data matrix `X` with associated target array `y` and repeats `n_repetitions` times a random train/test split (in a proportion specified by `test_size`). Each time an estimate of the error curve is computed. The function outputs a list of test error curves (i.e. for semplicity do not output the train error).\n",
    "\n",
    "b) Make a function `plot_error_curve_with_intervals(params, errors, logscale)` that visualises the list of test error curves reporting the 25% the 50% and the 75% percentile of the errors in a way similar to:\n",
    "\n",
    "<img src='plot_overfit_int.png' width=500>"
   ]
  },
  {
   "cell_type": "code",
   "execution_count": null,
   "metadata": {},
   "outputs": [],
   "source": [
    "def compute_error_curve_with_conf_int(train_func, test_func, params, X, y, test_size, n_repetitions=30):\n",
    "    # YOUR CODE HERE\n",
    "    raise NotImplementedError()\n",
    "    \n",
    "def plot_error_curve_with_intervals(params, errors, logscale=False):\n",
    "    # YOUR CODE HERE\n",
    "    raise NotImplementedError()"
   ]
  },
  {
   "cell_type": "code",
   "execution_count": null,
   "metadata": {},
   "outputs": [],
   "source": [
    "# This cell is reserved for the unit tests. Do not consider this cell. \n",
    "### BEGIN TESTS\n",
    "from sklearn.neighbors import KNeighborsClassifier\n",
    "def train_knn_p(X_train, y_train, param):\n",
    "    return KNeighborsClassifier(n_neighbors=param).fit(X_train, y_train)\n",
    "\n",
    "def test_knn_p(X_test, classifier):\n",
    "    return classifier.predict(X_test)\n",
    "\n",
    "n_instances=1000\n",
    "X = np.random.rand(n_instances, 100)\n",
    "y = np.random.randint(2,size=n_instances)\n",
    "params=[1,3,5,7]\n",
    "\n",
    "test_errors = compute_error_curve_with_conf_int(train_knn_p, test_knn_p, params, X, y, test_size=.5, n_repetitions=30)\n",
    "\n",
    "assert np.std(np.mean(test_errors, axis=1)) < 1e-1, 'The dispersion around test errors should be small'\n",
    "### END TESTS"
   ]
  },
  {
   "cell_type": "code",
   "execution_count": null,
   "metadata": {},
   "outputs": [],
   "source": [
    "# This cell is reserved for the unit tests. Do not consider this cell. \n",
    "### BEGIN TESTS\n",
    "from sklearn.neighbors import KNeighborsClassifier\n",
    "def train_knn_p(X_train, y_train, param):\n",
    "    return KNeighborsClassifier(n_neighbors=param).fit(X_train, y_train)\n",
    "\n",
    "def test_knn_p(X_test, classifier):\n",
    "    return classifier.predict(X_test)\n",
    "\n",
    "n_instances=100\n",
    "X = np.random.rand(n_instances, 10)\n",
    "y = np.random.randint(2,size=n_instances)\n",
    "params=[1,3,5,7]\n",
    "\n",
    "test_errors = compute_error_curve_with_conf_int(train_knn_p, test_knn_p, params, X, y, test_size=.5, n_repetitions=10)\n",
    "\n",
    "try:\n",
    "    plot_error_curve_with_intervals(params, test_errors, logscale=False)\n",
    "except Exception:\n",
    "    assert False, 'the function should not raise an exception when asked to plot the train and test errors'\n",
    "else:\n",
    "    pass\n",
    "### END TESTS"
   ]
  },
  {
   "cell_type": "markdown",
   "metadata": {},
   "source": [
    "---"
   ]
  }
 ],
 "metadata": {
  "kernelspec": {
   "display_name": "Python 3",
   "language": "python",
   "name": "python3"
  },
  "language_info": {
   "codemirror_mode": {
    "name": "ipython",
    "version": 3
   },
   "file_extension": ".py",
   "mimetype": "text/x-python",
   "name": "python",
   "nbconvert_exporter": "python",
   "pygments_lexer": "ipython3",
   "version": "3.11.0"
  },
  "vscode": {
   "interpreter": {
    "hash": "b98f472bb8ba48098397e3b897b5be76f7bf0e62d98845cdb0e8066dc5677259"
   }
  }
 },
 "nbformat": 4,
 "nbformat_minor": 4
}
