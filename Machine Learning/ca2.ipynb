{
 "cells": [
  {
   "cell_type": "markdown",
   "metadata": {
    "deletable": false,
    "editable": false,
    "nbgrader": {
     "cell_type": "markdown",
     "checksum": "771d7934ea2fe9cef6b959a704771d78",
     "grade": false,
     "grade_id": "cell-11fe0ac8a0e8c08a",
     "locked": true,
     "schema_version": 3,
     "solution": false,
     "task": false
    }
   },
   "source": [
    "# ECMM422  Machine Learning\n",
    "## Course Assessment 2\n",
    "\n",
    "\n",
    "This course assessment (CA2) represents 60% of the overall module assessment.\n",
    "\n",
    "This is an individual exercise and your attention is drawn to the College and University guidelines on collaboration and plagiarism, which are available from the College website.\n",
    "\n",
    "\n",
    "**Note:**\n",
    "1. do not change the name of this notebook, i.e. the notebook file has to be named: ca1.ipynb\n",
    "2. do not remove/delete any cell\n",
    "3. do not add any cell (you can work on a draft notebook and only copy the function implementations here)\n",
    "4. do not add you name or student code in the notebook or in the file name\n",
    "\n",
    "**Evaluation criteria:**\n",
    "\n",
    "Each question asks for one or more functions to be implemented. \n",
    "\n",
    "Each question is awarded a number of marks. \n",
    "\n",
    "A (hidden) unit test is going to evaluate if all desired properties of the required function(s) are met. \n",
    "\n",
    "If the test passes all the associated marks are awarded, if it fails 0 marks are awarded. The large number of questions and sub-questions allows a fine grading. \n",
    "\n",
    "\n",
    "**Efficiency:** There is a cap of a few minutes on the execution of each cell and unit test. Make sure your code is not terribly inefficient (for example having a cell run for hours, e.g. using nested loops rather than NumPy functions that can work directly on  arrays), otherwise the execution of the cell/unit test will be interrupted and considered a failure. "
   ]
  },
  {
   "cell_type": "markdown",
   "metadata": {
    "deletable": false,
    "editable": false,
    "nbgrader": {
     "cell_type": "markdown",
     "checksum": "d08bfd5b485be397e790097c571241b2",
     "grade": false,
     "grade_id": "cell-b7361becee158bc9",
     "locked": true,
     "schema_version": 3,
     "solution": false,
     "task": false
    }
   },
   "source": [
    "## Notes:\n",
    "\n",
    "We call *rank* the number of indices required to get individual elements of an array. A matrix requires two indices (row, column), and has thus rank 2, a vector requires one index and has rank 1, a scalar does not require any index and has rank 0. The components that make up rank are called *axes* (plural of axis). The dimension is how many elements are in a particular axis. A *shape* is a tuple whose length is the rank and elements are the dimension of each axis.\n",
    "\n",
    "In the rest of the notebook, the term `data matrix` refers to a rank two numpy array where instances are encoded as rows, e.g. a data matrix with 100 rows and 4 columns is to be interpreted as a collection of 100 instances (vectors) each of dimension four.\n",
    "\n",
    "In the rest of the notebook, the term `vector` refers to a rank one numpy array. When the term `distance` is used we mean the Euclidean distance. \n",
    "\n",
    "The functions you are required to write need to take in input and return as output such objects (i.e. not python lists).\n",
    "\n",
    "---\n",
    "\n",
    "When a required function can be implemented directly by a library function it is intended that the candidate should write her own implementation of the function.\n",
    "\n",
    "---\n",
    "\n",
    "Do not assume that the implementations provided in the Workshops exercises contain no mistakes. You should write and are ultimately responsible for the code that you submit in this Assessment.\n",
    "\n",
    "---\n",
    "\n",
    "You are asked to solve the quadratic optimization problem using the library [cvxopt](http://cvxopt.org/).  \n",
    "\n",
    "You can install the library via:\n",
    "\n",
    "`pip install cvxopt`\n",
    "\n",
    "or\n",
    "\n",
    "`conda install -c conda-forge cvxopt`\n",
    "\n",
    "Then you should be able to import the module with:\n",
    "\n",
    "    `import cvxopt`\n",
    "  "
   ]
  },
  {
   "cell_type": "code",
   "execution_count": null,
   "metadata": {
    "ExecuteTime": {
     "end_time": "2023-04-08T17:11:48.304936Z",
     "start_time": "2023-04-08T17:11:48.301272Z"
    },
    "deletable": false,
    "editable": false,
    "nbgrader": {
     "cell_type": "code",
     "checksum": "cc88c7b698667ee9b7a7dfd438e1a80b",
     "grade": false,
     "grade_id": "cell-9e614a36d5268220",
     "locked": true,
     "schema_version": 3,
     "solution": false,
     "task": false
    }
   },
   "outputs": [],
   "source": [
    "%matplotlib inline\n",
    "import matplotlib.pyplot as plt\n",
    "import numpy as np\n",
    "import scipy as sp\n",
    "import cvxopt"
   ]
  },
  {
   "cell_type": "markdown",
   "metadata": {
    "deletable": false,
    "editable": false,
    "nbgrader": {
     "cell_type": "markdown",
     "checksum": "cd814e95c618fadebd246afff5e91420",
     "grade": false,
     "grade_id": "cell-41308c8fadb8d614",
     "locked": true,
     "schema_version": 3,
     "solution": false,
     "task": false
    }
   },
   "source": [
    "## Question 1  [marks 3]\n",
    "\n",
    "\n",
    "a) Make the following functions: \n",
    "\n",
    "- `TPR = true_positive_rate(preds, targets)` \n",
    "- `FPR = false_positive_rate(preds, targets)` \n",
    "\n",
    "to compute the sequence of true (resp. false) positive rates for all possible threshold values.\n",
    "The functions should work equally well when the input is of the type `list` or `numpy array`. \n",
    "The input `preds` contains the predictions as float numbers and the input `targets` contains the true class labels encoded as the integers `1` or `-1`. \n",
    "\n",
    "b) Make the function `compute_auc(TPR, FPR)` to compute the area under the curve of the ROC given in input the list of true poritive rates and false positive rates for all possible threshold values."
   ]
  },
  {
   "cell_type": "code",
   "execution_count": null,
   "metadata": {
    "ExecuteTime": {
     "end_time": "2023-04-08T17:11:48.309908Z",
     "start_time": "2023-04-08T17:11:48.306903Z"
    },
    "deletable": false,
    "nbgrader": {
     "cell_type": "code",
     "checksum": "e8ec7504b0d3e5e46838e72fe8b87d4d",
     "grade": false,
     "grade_id": "cell-a0f0f0cd335f936c",
     "locked": false,
     "schema_version": 3,
     "solution": true,
     "task": false
    }
   },
   "outputs": [],
   "source": [
    "def true_positive_rate(preds, targets):\n",
    "    # YOUR CODE HERE\n",
    "    raise NotImplementedError()"
   ]
  },
  {
   "cell_type": "code",
   "execution_count": null,
   "metadata": {
    "ExecuteTime": {
     "end_time": "2023-04-08T17:11:48.316117Z",
     "start_time": "2023-04-08T17:11:48.312656Z"
    },
    "deletable": false,
    "editable": false,
    "nbgrader": {
     "cell_type": "code",
     "checksum": "ef9a970caf87cd4ba7f3af5c85b3e25b",
     "grade": true,
     "grade_id": "cell-0303e08f10311887",
     "locked": true,
     "points": 1,
     "schema_version": 3,
     "solution": false,
     "task": false
    }
   },
   "outputs": [],
   "source": [
    "# This cell is reserved for the unit tests. Do not consider this cell. "
   ]
  },
  {
   "cell_type": "code",
   "execution_count": null,
   "metadata": {
    "ExecuteTime": {
     "end_time": "2023-04-08T17:11:48.321422Z",
     "start_time": "2023-04-08T17:11:48.318277Z"
    },
    "deletable": false,
    "nbgrader": {
     "cell_type": "code",
     "checksum": "abbc32f3a4672d03eb55891631ff8044",
     "grade": false,
     "grade_id": "cell-24cc1a4e8839d015",
     "locked": false,
     "schema_version": 3,
     "solution": true,
     "task": false
    }
   },
   "outputs": [],
   "source": [
    "def false_positive_rate(preds, targets):\n",
    "    # YOUR CODE HERE\n",
    "    raise NotImplementedError()"
   ]
  },
  {
   "cell_type": "code",
   "execution_count": null,
   "metadata": {
    "ExecuteTime": {
     "end_time": "2023-04-08T17:11:48.326409Z",
     "start_time": "2023-04-08T17:11:48.323320Z"
    },
    "deletable": false,
    "editable": false,
    "nbgrader": {
     "cell_type": "code",
     "checksum": "5a2a37fe29a5b7d246615d69dd246409",
     "grade": true,
     "grade_id": "cell-b0e8cdb3b2e9278d",
     "locked": true,
     "points": 1,
     "schema_version": 3,
     "solution": false,
     "task": false
    }
   },
   "outputs": [],
   "source": [
    "# This cell is reserved for the unit tests. Do not consider this cell. "
   ]
  },
  {
   "cell_type": "code",
   "execution_count": null,
   "metadata": {
    "ExecuteTime": {
     "end_time": "2023-04-08T17:11:48.330981Z",
     "start_time": "2023-04-08T17:11:48.328439Z"
    },
    "deletable": false,
    "nbgrader": {
     "cell_type": "code",
     "checksum": "f4dd2794877db77c9d0d7219a00d1b93",
     "grade": false,
     "grade_id": "cell-d42bf2881a8eee9a",
     "locked": false,
     "schema_version": 3,
     "solution": true,
     "task": false
    }
   },
   "outputs": [],
   "source": [
    "def compute_auc(TPR, FPR):\n",
    "    # YOUR CODE HERE\n",
    "    raise NotImplementedError()"
   ]
  },
  {
   "cell_type": "code",
   "execution_count": null,
   "metadata": {
    "ExecuteTime": {
     "end_time": "2023-04-08T17:11:48.337647Z",
     "start_time": "2023-04-08T17:11:48.334104Z"
    },
    "deletable": false,
    "editable": false,
    "nbgrader": {
     "cell_type": "code",
     "checksum": "57216768ef911f80ed9f26e8af586247",
     "grade": true,
     "grade_id": "cell-32df9f5400de93c9",
     "locked": true,
     "points": 1,
     "schema_version": 3,
     "solution": false,
     "task": false
    }
   },
   "outputs": [],
   "source": [
    "# This cell is reserved for the unit tests. Do not consider this cell. "
   ]
  },
  {
   "cell_type": "markdown",
   "metadata": {
    "deletable": false,
    "editable": false,
    "nbgrader": {
     "cell_type": "markdown",
     "checksum": "cd9166e210e4963548d727b7c05b5c07",
     "grade": false,
     "grade_id": "cell-9999880f2e15ef82",
     "locked": true,
     "schema_version": 3,
     "solution": false,
     "task": false
    }
   },
   "source": [
    "## Question 2  [marks 3]\n",
    "\n",
    "\n",
    "a) Make a function `classifier = train_rf(X_train, y_train, param)` that takes in input a data matrix `X_train`, an associated target array `y_train`, and a single scalar parameter `param` which corresponds to the maximum depth of the decision trees used in the forest, and returns a fit classifier object of type `sklearn.ensemble.RandomForestClassifier`. In this implementation you must fix the number of decision trees used in the forest to the value 10.\n",
    "\n",
    "b) Make a function `preds = test_rf(X_test, classifier)` that takes in input a data matrix `X_test`, a classifier object `classifier` and returns the prediction array `preds`.\n",
    "\n",
    "c) Make a function `scores = score_rf(X_test, classifier)` that takes in input a data matrix `X_test`, a classifier object `classifier` and returns the array `scores` containing the probability for each instance to belong to the positive class (which is assumed to be encoded with the integer `1`)."
   ]
  },
  {
   "cell_type": "code",
   "execution_count": null,
   "metadata": {
    "ExecuteTime": {
     "end_time": "2023-04-08T17:11:48.342616Z",
     "start_time": "2023-04-08T17:11:48.340186Z"
    },
    "deletable": false,
    "nbgrader": {
     "cell_type": "code",
     "checksum": "e43ffde4ea0fa183bbff99a673be39f8",
     "grade": false,
     "grade_id": "cell-4d62ca89a3562c93",
     "locked": false,
     "schema_version": 3,
     "solution": true,
     "task": false
    }
   },
   "outputs": [],
   "source": [
    "from sklearn.ensemble import RandomForestClassifier\n",
    "\n",
    "def train_rf(X_train, y_train, param):\n",
    "    # YOUR CODE HERE\n",
    "    raise NotImplementedError()"
   ]
  },
  {
   "cell_type": "code",
   "execution_count": null,
   "metadata": {
    "ExecuteTime": {
     "end_time": "2023-04-08T17:11:48.388357Z",
     "start_time": "2023-04-08T17:11:48.344310Z"
    },
    "deletable": false,
    "editable": false,
    "nbgrader": {
     "cell_type": "code",
     "checksum": "e7d8618cfa1293cff754d91f5d6c4755",
     "grade": true,
     "grade_id": "cell-882d1b3bf954598b",
     "locked": true,
     "points": 1,
     "schema_version": 3,
     "solution": false,
     "task": false
    }
   },
   "outputs": [],
   "source": [
    "# This cell is reserved for the unit tests. Do not consider this cell. "
   ]
  },
  {
   "cell_type": "code",
   "execution_count": null,
   "metadata": {
    "ExecuteTime": {
     "end_time": "2023-04-08T17:11:48.392569Z",
     "start_time": "2023-04-08T17:11:48.390221Z"
    },
    "deletable": false,
    "nbgrader": {
     "cell_type": "code",
     "checksum": "88e2087c0465c60e3f7b4c53b1718265",
     "grade": false,
     "grade_id": "cell-32185afb866e1d1f",
     "locked": false,
     "schema_version": 3,
     "solution": true,
     "task": false
    }
   },
   "outputs": [],
   "source": [
    "def test_rf(X_test, estimator):\n",
    "    # YOUR CODE HERE\n",
    "    raise NotImplementedError()"
   ]
  },
  {
   "cell_type": "code",
   "execution_count": null,
   "metadata": {
    "ExecuteTime": {
     "end_time": "2023-04-08T17:11:48.449017Z",
     "start_time": "2023-04-08T17:11:48.394291Z"
    },
    "deletable": false,
    "editable": false,
    "nbgrader": {
     "cell_type": "code",
     "checksum": "37f80516ef9ad031e864b61a4c410342",
     "grade": true,
     "grade_id": "cell-8630ee2f6a39d33b",
     "locked": true,
     "points": 1,
     "schema_version": 3,
     "solution": false,
     "task": false
    }
   },
   "outputs": [],
   "source": [
    "# This cell is reserved for the unit tests. Do not consider this cell. "
   ]
  },
  {
   "cell_type": "code",
   "execution_count": null,
   "metadata": {
    "ExecuteTime": {
     "end_time": "2023-04-08T17:11:48.452603Z",
     "start_time": "2023-04-08T17:11:48.450380Z"
    },
    "deletable": false,
    "nbgrader": {
     "cell_type": "code",
     "checksum": "210d07cdce92a341e85030c36bcb9563",
     "grade": false,
     "grade_id": "cell-768794cce387d3e7",
     "locked": false,
     "schema_version": 3,
     "solution": true,
     "task": false
    }
   },
   "outputs": [],
   "source": [
    "def score_rf(X_test, estimator):\n",
    "    # YOUR CODE HERE\n",
    "    raise NotImplementedError()"
   ]
  },
  {
   "cell_type": "code",
   "execution_count": null,
   "metadata": {
    "ExecuteTime": {
     "end_time": "2023-04-08T17:11:48.478753Z",
     "start_time": "2023-04-08T17:11:48.454027Z"
    },
    "deletable": false,
    "editable": false,
    "nbgrader": {
     "cell_type": "code",
     "checksum": "a13d31c1e5bec0299133b573440dc9bd",
     "grade": true,
     "grade_id": "cell-74ddc3791bce94ab",
     "locked": true,
     "points": 1,
     "schema_version": 3,
     "solution": false,
     "task": false
    }
   },
   "outputs": [],
   "source": [
    "# This cell is reserved for the unit tests. Do not consider this cell. "
   ]
  },
  {
   "cell_type": "markdown",
   "metadata": {
    "deletable": false,
    "editable": false,
    "nbgrader": {
     "cell_type": "markdown",
     "checksum": "f654f3fe2321e966504fc4616ad668ed",
     "grade": false,
     "grade_id": "cell-7abc63660b23c24e",
     "locked": true,
     "schema_version": 3,
     "solution": false,
     "task": false
    }
   },
   "source": [
    "## Question 3  [marks 2]\n",
    "\n",
    "Make a function `scores_list = compute_scores(train_func, score_func, param, X_train, y_train, X_test, num)` that trains a classifier on `X_train, y_train` and tests it on `X_test` a number of times equal to `num`. The function outputs a list of score arrays of size `num`, and each score array contains the predicted probability for each instance in `X_test` to belong to the positive class (which is assumed to be encoded with the integer `1`). Note that by using a randomized classifier (like the random forest) you will get different output score arrays each time. "
   ]
  },
  {
   "cell_type": "code",
   "execution_count": null,
   "metadata": {
    "ExecuteTime": {
     "end_time": "2023-04-08T17:11:48.482838Z",
     "start_time": "2023-04-08T17:11:48.480371Z"
    },
    "deletable": false,
    "nbgrader": {
     "cell_type": "code",
     "checksum": "fa347c9cc762e6fb2dadf4fe3a91c3ec",
     "grade": false,
     "grade_id": "cell-31dda09babfda730",
     "locked": false,
     "schema_version": 3,
     "solution": true,
     "task": false
    }
   },
   "outputs": [],
   "source": [
    "def compute_scores(train_func, score_func, param, X_train, y_train, X_test, num):\n",
    "    # YOUR CODE HERE\n",
    "    raise NotImplementedError()"
   ]
  },
  {
   "cell_type": "code",
   "execution_count": null,
   "metadata": {
    "ExecuteTime": {
     "end_time": "2023-04-08T17:11:48.488269Z",
     "start_time": "2023-04-08T17:11:48.484463Z"
    },
    "deletable": false,
    "editable": false,
    "nbgrader": {
     "cell_type": "code",
     "checksum": "2f53c8f524a546af7df0dfcf14cb86cc",
     "grade": true,
     "grade_id": "cell-c5a9e6b2e4a79326",
     "locked": true,
     "points": 2,
     "schema_version": 3,
     "solution": false,
     "task": false
    }
   },
   "outputs": [],
   "source": [
    "# This cell is reserved for the unit tests. Do not consider this cell. "
   ]
  },
  {
   "cell_type": "markdown",
   "metadata": {
    "deletable": false,
    "editable": false,
    "nbgrader": {
     "cell_type": "markdown",
     "checksum": "4d47d783af092d9684c6f5c66ca22d4c",
     "grade": false,
     "grade_id": "cell-c60bba12d8f215e8",
     "locked": true,
     "schema_version": 3,
     "solution": false,
     "task": false
    }
   },
   "source": [
    "## Question 4  [marks 7]\n",
    "\n",
    "Make a function `tpr_low, tpr_high, tpr_mid, fpr = compute_tpr_fpr_range(scores_list, y_test, false_positive_rate_func, true_positive_rate_func, low_quantile, high_quantile)`. The function takes in input a list of predicted scores, the true classes, a function to compute the false positive rate and one to compute the true positive rate and two threshold values: low_quantile and high_quantile. The function will output 4 lists (or arrays): \n",
    "\n",
    "- tpr_low: the true positive rate corresponding to the `low_quantile` true positive rate \n",
    "- tpr_high: the true positive rate corresponding to the `high_quantile` true positive rate\n",
    "- tpr_mid: the true positive rate corresponding to the median true positive rate\n",
    "- fpr: the false positive rate\n",
    "\n",
    "Note: instead of a single pair `(true positive rate,false positive rate)` the `scores_list` allows you to have mutiple true positive rate values for the same false positive rate value, i.e. a distribution of true positive rate values; the function `compute_tpr_fpr_range` must output the values corresponding to the quantiles of such distributions (e.g. the true positive rate corresponding to the 95 percentile of the true positive rate distribution) for each corresponding false positive rate value (see the figure the Checkpoint cell below).\n"
   ]
  },
  {
   "cell_type": "code",
   "execution_count": null,
   "metadata": {
    "ExecuteTime": {
     "end_time": "2023-04-08T17:11:48.493625Z",
     "start_time": "2023-04-08T17:11:48.489643Z"
    },
    "deletable": false,
    "nbgrader": {
     "cell_type": "code",
     "checksum": "d9425d17de4bc7c100eac1ff088d9262",
     "grade": false,
     "grade_id": "cell-a21caa734e30aa13",
     "locked": false,
     "schema_version": 3,
     "solution": true,
     "task": false
    }
   },
   "outputs": [],
   "source": [
    "def compute_tpr_fpr_range(scores_list, y_test, false_positive_rate_func, true_positive_rate_func, low_quantile, high_quantile):\n",
    "    # YOUR CODE HERE\n",
    "    raise NotImplementedError()"
   ]
  },
  {
   "cell_type": "code",
   "execution_count": null,
   "metadata": {
    "ExecuteTime": {
     "end_time": "2023-04-08T17:11:48.502541Z",
     "start_time": "2023-04-08T17:11:48.494969Z"
    },
    "deletable": false,
    "editable": false,
    "nbgrader": {
     "cell_type": "code",
     "checksum": "17e34c17dc8372ff61e0032834bf9cb2",
     "grade": true,
     "grade_id": "cell-b405cb8c7ad37191",
     "locked": true,
     "points": 2,
     "schema_version": 3,
     "solution": false,
     "task": false
    }
   },
   "outputs": [],
   "source": [
    "# This cell is reserved for the unit tests. Do not consider this cell. "
   ]
  },
  {
   "cell_type": "code",
   "execution_count": null,
   "metadata": {
    "ExecuteTime": {
     "end_time": "2023-04-08T17:11:48.515815Z",
     "start_time": "2023-04-08T17:11:48.507418Z"
    },
    "deletable": false,
    "editable": false,
    "nbgrader": {
     "cell_type": "code",
     "checksum": "dcd907f0adf8803f1d02b60fc251512d",
     "grade": true,
     "grade_id": "cell-a1bcf4018e2eab3b",
     "locked": true,
     "points": 5,
     "schema_version": 3,
     "solution": false,
     "task": false
    }
   },
   "outputs": [],
   "source": [
    "# This cell is reserved for the unit tests. Do not consider this cell. "
   ]
  },
  {
   "cell_type": "markdown",
   "metadata": {
    "deletable": false,
    "editable": false,
    "nbgrader": {
     "cell_type": "markdown",
     "checksum": "d6b6305a82aa4bd17cf4b7e0bd1d458d",
     "grade": false,
     "grade_id": "cell-c3660594aeb7164c",
     "locked": true,
     "schema_version": 3,
     "solution": false,
     "task": false
    }
   },
   "source": [
    "## Question 5  [marks 3]\n",
    "\n",
    "Make a function `plot_roc(tpr_low, tpr_high, tpr_mid, fpr, compute_auc_func)` that takes in input the true positive rate corresponding to the `low_quantile` true positive rate, the true positive rate corresponding to the `high_quantile` true positive rate, the true positive rate corresponding to the median true positive rate, the false positive rate and a function to compute the ROC AUC and produces a plot like:\n",
    "\n",
    "<img src='plot1.png' width=300>"
   ]
  },
  {
   "cell_type": "code",
   "execution_count": null,
   "metadata": {
    "ExecuteTime": {
     "end_time": "2023-04-08T17:11:48.522228Z",
     "start_time": "2023-04-08T17:11:48.519143Z"
    },
    "deletable": false,
    "nbgrader": {
     "cell_type": "code",
     "checksum": "f9c00c9b3e3405dce0597523fa7ebe7b",
     "grade": false,
     "grade_id": "cell-86b625ab0c6181c7",
     "locked": false,
     "schema_version": 3,
     "solution": true,
     "task": false
    }
   },
   "outputs": [],
   "source": [
    "def plot_roc(tpr_low, tpr_high, tpr_mid, fpr, compute_auc_func):\n",
    "    # YOUR CODE HERE\n",
    "    raise NotImplementedError()"
   ]
  },
  {
   "cell_type": "code",
   "execution_count": null,
   "metadata": {
    "ExecuteTime": {
     "end_time": "2023-04-08T17:11:48.687729Z",
     "start_time": "2023-04-08T17:11:48.523614Z"
    },
    "deletable": false,
    "editable": false,
    "nbgrader": {
     "cell_type": "code",
     "checksum": "ded41b96f1239b52b377632aa4316713",
     "grade": true,
     "grade_id": "cell-331f811c6e21acc6",
     "locked": true,
     "points": 3,
     "schema_version": 3,
     "solution": false,
     "task": false
    }
   },
   "outputs": [],
   "source": [
    "# This cell is reserved for the unit tests. Do not consider this cell. "
   ]
  },
  {
   "cell_type": "markdown",
   "metadata": {
    "deletable": false,
    "editable": false,
    "nbgrader": {
     "cell_type": "markdown",
     "checksum": "5e0f37d0a7e137c2cf5b21a273bf2dcb",
     "grade": false,
     "grade_id": "cell-b7fe39969958eb43",
     "locked": true,
     "schema_version": 3,
     "solution": false,
     "task": false
    }
   },
   "source": [
    "## Checkpoint\n",
    "\n",
    "This is just a check-point, i.e. it is for you to see that you are correctly implementing all functions. \n",
    "\n",
    "Execute the following code (just execute the next cell):\n",
    "```python\n",
    "from sklearn.datasets import make_classification\n",
    "X,y = make_classification(n_samples=500, n_features=20, n_informative=2, n_redundant=2, n_repeated=0, n_classes=2, n_clusters_per_class=2, weights=None, flip_y=0.1, class_sep=1.0, random_state=2)\n",
    "\n",
    "from sklearn.model_selection import train_test_split\n",
    "X_train, X_test, y_train, y_test = train_test_split(X,y, test_size=50, random_state=2)\n",
    "\n",
    "scores_list = compute_scores(train_rf, score_rf, 5, X_train, y_train, X_test, num=100)\n",
    "tpr_low, tpr_high, tpr_mid, fpr = compute_tpr_fpr_range(scores_list, y_test, false_positive_rate, true_positive_rate, low_quantile=0.05, high_quantile=0.95)\n",
    "plot_roc(tpr_low, tpr_high, tpr_mid, fpr, compute_auc)\n",
    "```\n",
    "\n",
    "You should obtain something like:\n",
    "\n",
    "<img src='plot1.png' width=300>"
   ]
  },
  {
   "cell_type": "code",
   "execution_count": null,
   "metadata": {
    "ExecuteTime": {
     "end_time": "2023-04-08T17:11:50.611573Z",
     "start_time": "2023-04-08T17:11:48.689659Z"
    },
    "deletable": false,
    "editable": false,
    "nbgrader": {
     "cell_type": "code",
     "checksum": "3013cc201bb8ad7b9ce08dfc6680d771",
     "grade": false,
     "grade_id": "cell-c435a96998cca747",
     "locked": true,
     "schema_version": 3,
     "solution": false,
     "task": false
    }
   },
   "outputs": [],
   "source": [
    "# Just run the following code, do not modify it\n",
    "\n",
    "from sklearn.datasets import make_classification\n",
    "X,y = make_classification(n_samples=500, n_features=20, n_informative=2, n_redundant=2, n_repeated=0, n_classes=2, n_clusters_per_class=2, weights=None, flip_y=0.1, class_sep=1.0, random_state=2)\n",
    "\n",
    "from sklearn.model_selection import train_test_split\n",
    "X_train, X_test, y_train, y_test = train_test_split(X,y, test_size=50, random_state=2)\n",
    "\n",
    "scores_list = compute_scores(train_rf, score_rf, 5, X_train, y_train, X_test, num=100)\n",
    "tpr_low, tpr_high, tpr_mid, fpr = compute_tpr_fpr_range(scores_list, y_test, false_positive_rate, true_positive_rate, low_quantile=0.05, high_quantile=0.95)\n",
    "plot_roc(tpr_low, tpr_high, tpr_mid, fpr, compute_auc)"
   ]
  },
  {
   "cell_type": "markdown",
   "metadata": {
    "deletable": false,
    "editable": false,
    "nbgrader": {
     "cell_type": "markdown",
     "checksum": "9be4a25b98534f782bdfc1b9a5b60acc",
     "grade": false,
     "grade_id": "cell-8c6d3bbf0c4023e0",
     "locked": true,
     "schema_version": 3,
     "solution": false,
     "task": false
    }
   },
   "source": [
    "## Question 6  [marks 6]\n",
    "\n",
    "Solve a constrained quadratic program (QP) with `cvxopt`. \n",
    "\n",
    "The standard form for a QP in `cvxopt` notation is:\n",
    "\n",
    "\\begin{align*}\n",
    "        \\min_{x}  \\tfrac{1}{2} x^T P x &+ q^T x \\\\\n",
    "        \\text{such that   }\\quad  Gx &\\preceq h\\\\\n",
    "        Ax & = b\n",
    "\\end{align*}\n",
    "where $Gx \\preceq h$ means that the inequality is taken element-wise for each row of $Gx$ and $h$.\n",
    "\n",
    "In `cvxopt` the QP is defined by the parameters $P, q, G, h, A$ and $b$.  The matrix $P$ and the vector $q$ must be specified, but the others are optional.   Note that all optimisations must be manipulated to be of this form.\n",
    "\n",
    "Consider this problem:\n",
    "\n",
    "\\begin{align*}\n",
    "        \\min_{x}  \\tfrac{1}{8} x^2 - \\frac{1}{10} y ^ 2+ & \\frac{1}{4} x + y\\\\\n",
    "        \\text{such that   }\\quad y - x & \\le 0\\\\\n",
    "        x + 3y & \\ge 15\\\\\n",
    "        3x + 5y & \\ge 40\\\\\n",
    "        \\frac{1}{2} x + 4y & \\le 50\n",
    "\\end{align*}\n",
    "\n",
    "Consider a grid covering the range $[0, 15] \\times [-2, 15]$ (i.e. $x \\in [0, 15]$ and $y \\in [-2, 15]$).\n",
    "\n",
    "Make a function `P,q,G,h = make_matrices()` that returns the corresponding matrices of type `cvxopt.matrix` for this specific problem."
   ]
  },
  {
   "cell_type": "code",
   "execution_count": null,
   "metadata": {
    "ExecuteTime": {
     "end_time": "2023-04-08T17:11:50.616619Z",
     "start_time": "2023-04-08T17:11:50.613005Z"
    },
    "deletable": false,
    "nbgrader": {
     "cell_type": "code",
     "checksum": "a4de9cff9aa06e00dcdfba7b0b3d9e18",
     "grade": false,
     "grade_id": "cell-ae6a77592d08e19a",
     "locked": false,
     "schema_version": 3,
     "solution": true,
     "task": false
    }
   },
   "outputs": [],
   "source": [
    "from cvxopt import matrix\n",
    "\n",
    "def make_matrices():\n",
    "    # YOUR CODE HERE\n",
    "    raise NotImplementedError()"
   ]
  },
  {
   "cell_type": "code",
   "execution_count": null,
   "metadata": {
    "ExecuteTime": {
     "end_time": "2023-04-08T17:11:50.621774Z",
     "start_time": "2023-04-08T17:11:50.618144Z"
    },
    "deletable": false,
    "editable": false,
    "nbgrader": {
     "cell_type": "code",
     "checksum": "99d2a7643d141278a94079b34420bf64",
     "grade": true,
     "grade_id": "cell-61b5affed39789b1",
     "locked": true,
     "points": 6,
     "schema_version": 3,
     "solution": false,
     "task": false
    }
   },
   "outputs": [],
   "source": [
    "# This cell is reserved for the unit tests. Do not consider this cell. "
   ]
  },
  {
   "cell_type": "markdown",
   "metadata": {
    "deletable": false,
    "editable": false,
    "nbgrader": {
     "cell_type": "markdown",
     "checksum": "f9eadeff07e3a11f1643aaf2d75ffa0b",
     "grade": false,
     "grade_id": "cell-4bb6295212d15c00",
     "locked": true,
     "schema_version": 3,
     "solution": false,
     "task": false
    }
   },
   "source": [
    "## Question 7  [marks 4]\n",
    "\n",
    "Make a function `sol, obj = compute_solution_and_objective(P,q,G,h)` that takes in input the corresponding matrices of type `cvxopt.matrix` and returns `sol` containing the vector (as a numpy array) that minimizes the constrained QP problem and a scalar `obj` that contains the value of the objective function evaluated at the solution (i.e. the minimum of the objective function)."
   ]
  },
  {
   "cell_type": "code",
   "execution_count": null,
   "metadata": {
    "ExecuteTime": {
     "end_time": "2023-04-08T17:11:50.625790Z",
     "start_time": "2023-04-08T17:11:50.623232Z"
    },
    "deletable": false,
    "nbgrader": {
     "cell_type": "code",
     "checksum": "b56068bbceb0085bb11d5a0de0961ea2",
     "grade": false,
     "grade_id": "cell-d476e9800c470942",
     "locked": false,
     "schema_version": 3,
     "solution": true,
     "task": false
    }
   },
   "outputs": [],
   "source": [
    "from cvxopt import solvers\n",
    "\n",
    "def compute_solution_and_objective(P,q,G,h):\n",
    "    # YOUR CODE HERE\n",
    "    raise NotImplementedError()"
   ]
  },
  {
   "cell_type": "code",
   "execution_count": null,
   "metadata": {
    "ExecuteTime": {
     "end_time": "2023-04-08T17:11:50.698145Z",
     "start_time": "2023-04-08T17:11:50.627114Z"
    },
    "deletable": false,
    "editable": false,
    "nbgrader": {
     "cell_type": "code",
     "checksum": "9f0dc37b164884ed8a3582a6a57b73b0",
     "grade": true,
     "grade_id": "cell-d3705bfe6b548c79",
     "locked": true,
     "points": 4,
     "schema_version": 3,
     "solution": false,
     "task": false
    }
   },
   "outputs": [],
   "source": [
    "# This cell is reserved for the unit tests. Do not consider this cell. "
   ]
  },
  {
   "cell_type": "markdown",
   "metadata": {
    "deletable": false,
    "editable": false,
    "nbgrader": {
     "cell_type": "markdown",
     "checksum": "b33ed8e6d51990ef0e00136e1b9ce9c4",
     "grade": false,
     "grade_id": "cell-38e2dce179158c72",
     "locked": true,
     "schema_version": 3,
     "solution": false,
     "task": false
    }
   },
   "source": [
    "## Question 8  [marks 6]\n",
    "\n",
    "Make a function `plot_solution(sol)` that takes in input the solution array `sol` to the previous QP problem and displays:\n",
    "\n",
    "- the feasibility region by representing the constraints \n",
    "- the objective function via colored contour lines and an associated color scale \n",
    "- the solution as a red dot\n",
    "\n",
    "The result (applied to a different QP problem) should resemble in style the following plot:\n",
    "\n",
    "<img src='plot2b.png' width=300>"
   ]
  },
  {
   "cell_type": "code",
   "execution_count": null,
   "metadata": {
    "ExecuteTime": {
     "end_time": "2023-04-08T17:11:50.704100Z",
     "start_time": "2023-04-08T17:11:50.699627Z"
    },
    "deletable": false,
    "nbgrader": {
     "cell_type": "code",
     "checksum": "54bc6a8b546d765b09d3270ee6feec63",
     "grade": false,
     "grade_id": "cell-342a84b76462a66c",
     "locked": false,
     "schema_version": 3,
     "solution": true,
     "task": false
    }
   },
   "outputs": [],
   "source": [
    "def plot_solution(sol):\n",
    "    # YOUR CODE HERE\n",
    "    raise NotImplementedError()"
   ]
  },
  {
   "cell_type": "code",
   "execution_count": null,
   "metadata": {
    "ExecuteTime": {
     "end_time": "2023-04-08T17:11:51.214711Z",
     "start_time": "2023-04-08T17:11:50.705475Z"
    },
    "deletable": false,
    "editable": false,
    "nbgrader": {
     "cell_type": "code",
     "checksum": "6b13c933f20b6c820a9cdc7ed3c8f2ea",
     "grade": true,
     "grade_id": "cell-607ed3475558e8f3",
     "locked": true,
     "points": 6,
     "schema_version": 3,
     "solution": false,
     "task": false
    }
   },
   "outputs": [],
   "source": [
    "# This cell is reserved for the unit tests. Do not consider this cell. \n"
   ]
  },
  {
   "cell_type": "markdown",
   "metadata": {
    "deletable": false,
    "editable": false,
    "nbgrader": {
     "cell_type": "markdown",
     "checksum": "cbef043ed4524eaf91fd0e35d74ffe8d",
     "grade": false,
     "grade_id": "cell-b1d0ee353ac61752",
     "locked": true,
     "schema_version": 3,
     "solution": false,
     "task": false
    }
   },
   "source": [
    "## Checkpoint\n",
    "\n",
    "This is just a check-point, i.e. it is for you to see that you are correctly implementing all functions.\n",
    "\n",
    "Execute the following code (just execute the next cell):\n",
    "```python\n",
    "P,q,G,h = make_matrices()\n",
    "sol, obj = compute_solution_and_objective(P,q,G,h)\n",
    "plot_solution(sol)\n",
    "print(sol, obj)\n",
    "```\n",
    "\n",
    "If you had to solve the following **different** problem:\n",
    "\\begin{align*}\n",
    "        \\min_{x}  \\tfrac{1}{2} x^2 + & 3x + 4y\\\\\n",
    "        \\text{such that   }\\quad x, y & \\ge 0\\\\\n",
    "        x + 3y & \\ge 15\\\\\n",
    "        2x + 5y & \\le 100\\\\\n",
    "        3x + 4y & \\le 80\n",
    "\\end{align*}\n",
    "in the domain $[-5, 20] \\times [-5, 20]$, then you would obtain a picture like this:\n",
    "\n",
    "<img src='plot2.png' width=300>\n",
    "\n",
    "Note however that **your problem is different** and you will obtain a different figure and a different solution."
   ]
  },
  {
   "cell_type": "code",
   "execution_count": null,
   "metadata": {
    "ExecuteTime": {
     "end_time": "2023-04-08T17:11:51.541177Z",
     "start_time": "2023-04-08T17:11:51.216229Z"
    },
    "deletable": false,
    "editable": false,
    "nbgrader": {
     "cell_type": "code",
     "checksum": "f215c56c81adeafdf26cf07185e52a6c",
     "grade": false,
     "grade_id": "cell-22111929289dfcec",
     "locked": true,
     "schema_version": 3,
     "solution": false,
     "task": false
    }
   },
   "outputs": [],
   "source": [
    "# Just run the following code, do not modify it\n",
    "\n",
    "P,q,G,h = make_matrices()\n",
    "sol, obj = compute_solution_and_objective(P,q,G,h)\n",
    "plot_solution(sol)\n",
    "print(sol, obj)"
   ]
  },
  {
   "cell_type": "markdown",
   "metadata": {
    "deletable": false,
    "editable": false,
    "nbgrader": {
     "cell_type": "markdown",
     "checksum": "933052d75dddb48342b8db6df58fd6f1",
     "grade": false,
     "grade_id": "cell-33e52a2f533fb62e",
     "locked": true,
     "schema_version": 3,
     "solution": false,
     "task": false
    }
   },
   "source": [
    "## Kernelized Large Margin Classifiers\n",
    "\n",
    "In this exercise you are asked to develop the code to solve the optimization problem that defines a kernelized Large Margin Classifier with soft margins. \n",
    "\n",
    "### Linear case\n",
    "\n",
    "We need to match the solver's API which, according to the documentation is of the form:\n",
    "\n",
    "\\begin{aligned}\n",
    "    & \\min \\frac{1}{2} x^TPx + q^Tx\n",
    "    \\\\\n",
    "     s.t. \\ & \\ Gx \\leq h \n",
    "    \\\\\n",
    "    & \\ Ax = b\n",
    "\\end{aligned}\n",
    "\n",
    "Recall that the dual problem is expressed as:\n",
    "\n",
    "\\begin{aligned}\n",
    "\\max_{\\alpha} \\sum_i^m \\alpha_i - \\frac{1}{2} \\sum_{i,j}^m y^{(i)}y^{(j)} \\alpha_i \\alpha_j <x^{(i)}, x^{(j)}>\n",
    "\\end{aligned}\n",
    "\n",
    "Let $\\mathbf{H}$ be a matrix such that $H_{i,j} = y^{(i)}y^{(j)} <x^{(i)} x^{(j)}>$, then the optimization becomes:\n",
    "\n",
    "\\begin{aligned}\n",
    "    & \\max_{\\alpha} \\sum_i^m \\alpha_i  - \\frac{1}{2}  \\alpha^T \\mathbf{H}  \\alpha\n",
    "    \\\\\n",
    "     s.t. & \\ \\alpha_i \\geq 0 \n",
    "    \\\\\n",
    "    &  \\ \\sum_i^m \\alpha_i y^{(i)} = 0  \n",
    "\\end{aligned}\n",
    "\n",
    "We convert the sums into vector form and multiply both the objective and the constraint by −1 which turns this into a minimization problem and reverses the inequality\n",
    "\n",
    "\\begin{aligned}\n",
    "    & \\min_{\\alpha}  \\frac{1}{2}  \\alpha^T \\mathbf{H}  \\alpha - 1^T \\alpha\n",
    "    \\\\\n",
    "    & s.t. \\ - \\alpha_i \\leq 0 \n",
    "    \\\\\n",
    "    & s.t. \\ y^T \\alpha = 0 \n",
    "\\end{aligned}\n",
    "\n",
    "We are now ready to convert our numpy arrays into the cvxopt format, using the same notation as in the documentation this gives\n",
    "\n",
    "* $P:=H$ a matrix of size $m×m$\n",
    "* $q:=−\\vec{1}$  a vector of size $m×1$\n",
    "* $G:=−diag[1]$ a diagonal matrix of -1s of size $m×m$\n",
    "* $h:=\\vec{0}$ a vector of zeros of size $m×1$\n",
    "* $A:=y^T$ the label vector of size $1×m$\n",
    "* $b:=0$ a scalar\n",
    "\n",
    "Note that in the simple example of $m=2$ the matrix $G$ and vector $h$ which define the constraint are \n",
    "\n",
    "$$G = \\begin{bmatrix} -1 & 0 \\\\ 0 & -1 \\end{bmatrix} \\ \\ \\text{and} \\ \\ h = \\begin{bmatrix} 0 \\\\ 0  \\end{bmatrix}$$\n",
    "\n",
    "### Computing the matrix $\\mathbf{H}$ in vectorized form\n",
    "\n",
    "Consider the simple example with 2 input samples $\\{x^{(1)}, x^{(2)}\\} \\in \\mathbb{R}^2$ which are two dimensional vectors. i.e. $x^{(1)} = (x_1^{(1)} , x_2^{(1)})^T$\n",
    "\n",
    "$$X = \\begin{bmatrix} x_1^{(1)} & x_2^{(1)} \\\\ x_1^{(2)} & x_2^{(2)} \\end{bmatrix} \\ \\ \\text{and} \\ \\ y = \\begin{bmatrix} y^{(1)}  \\\\ y^{(2)} \\end{bmatrix}$$\n",
    "\n",
    "We now proceed to creating a new matrix $X′$ where each input sample $x$ is multiplied by the corresponding output label y. This can be done easily in Numpy using vectorization and padding.\n",
    "\n",
    "$$X' = \\begin{bmatrix} x^{(1)}_1 y^{(1)} & x^{(1)}_2y^{(1)} \\\\\n",
    "x^{(2)}_1y^{(2)} & x^{(2)}_2y^{(2)} \\end{bmatrix}$$\n",
    "\n",
    "Finally we take the **matrix multiplication** of $X′$ and its transpose giving $H=X′X′^T$\n",
    "\n",
    "$$H = X' @ X'^T = \\begin{bmatrix} x^{(1)}_1 y^{(1)} & x^{(1)}_2y^{(1)} \\\\\n",
    "x^{(2)}_1y^{(2)} & x^{(2)}_2y^{(2)} \\end{bmatrix} \\begin{bmatrix} x^{(1)}_1 y^{(1)} & x^{(2)}_1 y^{(2)}  \\\\\n",
    "x^{(1)}_2y^{(1)} & x^{(2)}_2y^{(2)} \\end{bmatrix}$$\n",
    "\n",
    "$$H = \\begin{bmatrix}  x^{(1)}_1 x^{(1)}_1y^{(1)}y^{(1)} + x^{(1)}_2x^{(1)}_2y^{(1)}y^{(1)} & x^{(1)}_1 x^{(2)}_1y^{(1)}y^{(2)} + x^{(1)}_2x^{(2)}_2y^{(1)}y^{(2)} \\\\ x^{(2)}_1 x^{(1)}_1y^{(2)}y^{(1)} + x^{(2)}_2x^{(1)}_2y^{(2)}y^{(1)} & x^{(2)}_1 x^{(2)}_1y^{(2)}y^{(2)} + x^{(2)}_2x^{(2)}_2y^{(2)}y^{(2)} \\end{bmatrix}$$\n",
    "\n",
    "\n",
    "### Soft margin\n",
    "For the softmax margin SVM, recall that the optimization problem can be expressed as\n",
    "\n",
    "\\begin{aligned}\n",
    "    & \\max_{\\alpha} \\sum_i^m \\alpha_i  - \\frac{1}{2}  \\alpha^T \\mathbf{H}  \\alpha\n",
    "    \\\\\n",
    "     s.t. \\ \\ & 0 \\leq \\alpha_i \\leq C \n",
    "    \\\\\n",
    "    &  \\ \\sum_i^m \\alpha_i y^{(i)} = 0  \n",
    "\\end{aligned}\n",
    "\n",
    "which can be written in standard form as\n",
    "\n",
    "\\begin{aligned}\n",
    "    & \\min_{\\alpha}  \\frac{1}{2}  \\alpha^T \\mathbf{H}  \\alpha - 1^T \\alpha\n",
    "    \\\\\n",
    "     s.t. & \\ - \\alpha_i \\leq 0 \n",
    "    \\\\\n",
    "     & \\alpha_i \\leq C\n",
    "     \\\\\n",
    "     &\\ y^T \\alpha = 0  \n",
    "\\end{aligned}\n",
    "\n",
    "This is almost the same problem as previously, except for the additional inequality constraint on $\\alpha$. We translate this new constraint into standard form by concatenating below matrix $G$ a diagonal matrix of 1s of size $m \\times m$. Similarly for the vector $h$ to which the value of $C$ is added $m$ times.\n",
    "\n",
    "Note that in the simple example of $m=2$ the matrix $G$ and vector $h$ which define the constraint are\n",
    "\n",
    "$$G = \\begin{bmatrix} -1 & 0 \\\\ 0 & -1 \\\\ 1 & 0 \\\\ 0 & 1\\end{bmatrix} \\ \\ \\text{and} \\ \\ h = \\begin{bmatrix} 0 \\\\ 0 \\\\ C \\\\ C \\end{bmatrix}$$\n",
    "\n",
    "### Non linear case\n",
    "\n",
    "What has been written above corresponds to the hard and the soft margin case for a linear large margin classification problem.  \n",
    "\n",
    "You now need to appy the *kernel trick*, i.e. you need to replace the dot product operations in the input space $<x^{(i)} x^{(j)}>$ with the dot product in the feature space via a kernel function $K(x^{(i)},x^{(j)}) = <\\phi(x^{(i)}) \\phi(x^{(j)})>$. "
   ]
  },
  {
   "cell_type": "markdown",
   "metadata": {
    "deletable": false,
    "editable": false,
    "nbgrader": {
     "cell_type": "markdown",
     "checksum": "5ffa7ca18b5b8fe6526f453e59d8ee88",
     "grade": false,
     "grade_id": "cell-967480ffce73f50c",
     "locked": true,
     "schema_version": 3,
     "solution": false,
     "task": false
    }
   },
   "source": [
    "## Question 9  [marks 5]\n",
    "\n",
    "Make the function `H = make_H_k(X,t, kernel_function, param)` to compute the matrix $H$ for a data matrix `X` and an associated target vector `t` given a kernel function `kernel_function` with parameter `param`. "
   ]
  },
  {
   "cell_type": "code",
   "execution_count": null,
   "metadata": {
    "ExecuteTime": {
     "end_time": "2023-04-08T17:11:51.546156Z",
     "start_time": "2023-04-08T17:11:51.542905Z"
    },
    "deletable": false,
    "nbgrader": {
     "cell_type": "code",
     "checksum": "db4ff559451f91f97b3b4a78fbdcf247",
     "grade": false,
     "grade_id": "cell-1ee2d9cf92d42934",
     "locked": false,
     "schema_version": 3,
     "solution": true,
     "task": false
    }
   },
   "outputs": [],
   "source": [
    "def make_H_k(X,t, kernel_function, param):\n",
    "    # YOUR CODE HERE\n",
    "    raise NotImplementedError()"
   ]
  },
  {
   "cell_type": "code",
   "execution_count": null,
   "metadata": {
    "ExecuteTime": {
     "end_time": "2023-04-08T17:11:51.551484Z",
     "start_time": "2023-04-08T17:11:51.547874Z"
    },
    "deletable": false,
    "editable": false,
    "nbgrader": {
     "cell_type": "code",
     "checksum": "510937b3ba89466674ee58169b08bf3f",
     "grade": true,
     "grade_id": "cell-a7457326444282a9",
     "locked": true,
     "points": 5,
     "schema_version": 3,
     "solution": false,
     "task": false
    }
   },
   "outputs": [],
   "source": [
    "# This cell is reserved for the unit tests. Do not consider this cell. "
   ]
  },
  {
   "cell_type": "markdown",
   "metadata": {
    "deletable": false,
    "editable": false,
    "nbgrader": {
     "cell_type": "markdown",
     "checksum": "d0cc01755d6a6584dce46386092f3633",
     "grade": false,
     "grade_id": "cell-ab9d4b8a31cb8d26",
     "locked": true,
     "schema_version": 3,
     "solution": false,
     "task": false
    }
   },
   "source": [
    "## Question 10  [marks 3]\n",
    "\n",
    "Make the function `P, q, G, h, A, b = setup_optimization_soft_k(X, t, C, kernel_function, param)` to compute the necessary matrices to solve the QP problem associated to the soft margin kernelized classification task using the library [cvxopt](http://cvxopt.org/). The function receives in input a data matrix `X`, an associated target vector `t`, a regularization parameter `C` and a kernel function `kernel_function` with parameter `param`. "
   ]
  },
  {
   "cell_type": "code",
   "execution_count": null,
   "metadata": {
    "ExecuteTime": {
     "end_time": "2023-04-08T17:11:51.556908Z",
     "start_time": "2023-04-08T17:11:51.552987Z"
    },
    "deletable": false,
    "nbgrader": {
     "cell_type": "code",
     "checksum": "ee8898f096cd3be1f5e0c92424689220",
     "grade": false,
     "grade_id": "cell-3c3a89429165cdc9",
     "locked": false,
     "schema_version": 3,
     "solution": true,
     "task": false
    }
   },
   "outputs": [],
   "source": [
    "def setup_optimization_soft_k(X,t,C, kernel_function, param):\n",
    "    # YOUR CODE HERE\n",
    "    raise NotImplementedError()"
   ]
  },
  {
   "cell_type": "code",
   "execution_count": null,
   "metadata": {
    "ExecuteTime": {
     "end_time": "2023-04-08T17:11:51.563938Z",
     "start_time": "2023-04-08T17:11:51.558262Z"
    },
    "deletable": false,
    "editable": false,
    "nbgrader": {
     "cell_type": "code",
     "checksum": "c6fd40d47ba10a0cd14759def45b5c74",
     "grade": true,
     "grade_id": "cell-e162fd0d728ec39e",
     "locked": true,
     "points": 3,
     "schema_version": 3,
     "solution": false,
     "task": false
    }
   },
   "outputs": [],
   "source": [
    "# This cell is reserved for the unit tests. Do not consider this cell. "
   ]
  },
  {
   "cell_type": "markdown",
   "metadata": {
    "deletable": false,
    "editable": false,
    "nbgrader": {
     "cell_type": "markdown",
     "checksum": "4e1cac01266e422990ec280bfd94d37d",
     "grade": false,
     "grade_id": "cell-a0e161c44dd7209b",
     "locked": true,
     "schema_version": 3,
     "solution": false,
     "task": false
    }
   },
   "source": [
    "## Question 11  [marks 1]\n",
    "\n",
    "Make the function `support_vectors, support_targets, support_alphas, support_ids = compute_support_vectors(X,t,alphas)`  to compute:\n",
    "- `support_vectors` the support vectors\n",
    "- `support_targets` the target vector associated to the support vectors\n",
    "- `support_alphas` the vector of the dual variables $\\alpha_i$ associated to the support vectors\n",
    "- `support_ids` a boolean vector that indicates if a position is associated to a support vector (w.r.t. the original data matrix) (i.e. if the first instance is a support vector and the second one it is not, then `support_ids` = [True, False])"
   ]
  },
  {
   "cell_type": "code",
   "execution_count": null,
   "metadata": {
    "ExecuteTime": {
     "end_time": "2023-04-08T17:11:51.568369Z",
     "start_time": "2023-04-08T17:11:51.565440Z"
    },
    "deletable": false,
    "nbgrader": {
     "cell_type": "code",
     "checksum": "a3527bf9364c0211e3232bb6b526e06a",
     "grade": false,
     "grade_id": "cell-a3fbd2ca00fabac7",
     "locked": false,
     "schema_version": 3,
     "solution": true,
     "task": false
    }
   },
   "outputs": [],
   "source": [
    "def compute_support_vectors(X,t,alphas):\n",
    "    # YOUR CODE HERE\n",
    "    raise NotImplementedError()"
   ]
  },
  {
   "cell_type": "code",
   "execution_count": null,
   "metadata": {
    "ExecuteTime": {
     "end_time": "2023-04-08T17:11:51.573787Z",
     "start_time": "2023-04-08T17:11:51.569807Z"
    },
    "deletable": false,
    "editable": false,
    "nbgrader": {
     "cell_type": "code",
     "checksum": "cb9e089824fbd00ef95b3d42d023d3e4",
     "grade": true,
     "grade_id": "cell-5b47648439343ab9",
     "locked": true,
     "points": 1,
     "schema_version": 3,
     "solution": false,
     "task": false
    }
   },
   "outputs": [],
   "source": [
    "# This cell is reserved for the unit tests. Do not consider this cell. "
   ]
  },
  {
   "cell_type": "markdown",
   "metadata": {
    "deletable": false,
    "editable": false,
    "nbgrader": {
     "cell_type": "markdown",
     "checksum": "d506f1f1448f800111db9090da2ccdef",
     "grade": false,
     "grade_id": "cell-e61e6b7ff7e05a1e",
     "locked": true,
     "schema_version": 3,
     "solution": false,
     "task": false
    }
   },
   "source": [
    "## Question 12  [marks 2]\n",
    "\n",
    "Make the function `model = train_slmkc(X, t, C, kernel_function, param)` to compute the necessary elements to represent a kernelized soft large margin classifier trained over an input data matrix `X` with an associated target vector `t`, for a regularization parameter `C` and a kernel function `kernel_function` with parameter `param`. \n",
    "\n",
    "Note: you may implement `model` as a tuple containing information on the support vectors and the dual variables, i.e. `model = (support_vectors,support_targets,support_alphas, support_ids)`."
   ]
  },
  {
   "cell_type": "code",
   "execution_count": null,
   "metadata": {
    "ExecuteTime": {
     "end_time": "2023-04-08T17:11:51.578939Z",
     "start_time": "2023-04-08T17:11:51.575484Z"
    },
    "deletable": false,
    "nbgrader": {
     "cell_type": "code",
     "checksum": "374d36436bc8063f75c810f05bd584bb",
     "grade": false,
     "grade_id": "cell-4326ff86d3333ede",
     "locked": false,
     "schema_version": 3,
     "solution": true,
     "task": false
    }
   },
   "outputs": [],
   "source": [
    "def train_slmkc(X, t, C, kernel_function, param):\n",
    "    # YOUR CODE HERE\n",
    "    raise NotImplementedError()"
   ]
  },
  {
   "cell_type": "code",
   "execution_count": null,
   "metadata": {
    "ExecuteTime": {
     "end_time": "2023-04-08T17:11:51.591829Z",
     "start_time": "2023-04-08T17:11:51.580487Z"
    },
    "deletable": false,
    "editable": false,
    "nbgrader": {
     "cell_type": "code",
     "checksum": "0dd1bd236c4b72b755978ed28752862f",
     "grade": true,
     "grade_id": "cell-9e67f349a95fa964",
     "locked": true,
     "points": 2,
     "schema_version": 3,
     "solution": false,
     "task": false
    }
   },
   "outputs": [],
   "source": [
    "# This cell is reserved for the unit tests. Do not consider this cell. "
   ]
  },
  {
   "cell_type": "markdown",
   "metadata": {
    "deletable": false,
    "editable": false,
    "nbgrader": {
     "cell_type": "markdown",
     "checksum": "65bf9de2e0bdfce33fd59e5ff58dc16f",
     "grade": false,
     "grade_id": "cell-4a38a45da3977a8a",
     "locked": true,
     "schema_version": 3,
     "solution": false,
     "task": false
    }
   },
   "source": [
    "## Question 13  [marks 7]\n",
    "\n",
    "Given the kernelized soft large margin discriminant function of the form:\n",
    "$$ y(x) = \\sum_{n \\in SV} \\alpha_n t_n K(x_n,x) + b $$\n",
    "\n",
    "and given the encoded `model` to represent the necessary elements for a trained kernelized soft large margin classifier\n",
    "\n",
    "make the function `b = compute_bias(kernel_function, param, C, model)` to compute the offset/bias term `b`,  for a regularization parameter `C` and a kernel function `kernel_function` with parameter `param`. "
   ]
  },
  {
   "cell_type": "code",
   "execution_count": null,
   "metadata": {
    "ExecuteTime": {
     "end_time": "2023-04-08T17:11:51.596888Z",
     "start_time": "2023-04-08T17:11:51.593360Z"
    },
    "deletable": false,
    "nbgrader": {
     "cell_type": "code",
     "checksum": "a98c459078bed69dacd968750e1bbb39",
     "grade": false,
     "grade_id": "cell-3c803de0bb5aa809",
     "locked": false,
     "schema_version": 3,
     "solution": true,
     "task": false
    }
   },
   "outputs": [],
   "source": [
    "def compute_bias(kernel_function, param, C, model):\n",
    "    # YOUR CODE HERE\n",
    "    raise NotImplementedError()"
   ]
  },
  {
   "cell_type": "code",
   "execution_count": null,
   "metadata": {
    "ExecuteTime": {
     "end_time": "2023-04-08T17:11:51.604276Z",
     "start_time": "2023-04-08T17:11:51.598419Z"
    },
    "deletable": false,
    "editable": false,
    "nbgrader": {
     "cell_type": "code",
     "checksum": "c56bdf802639acf8162f25db0c8b66e0",
     "grade": true,
     "grade_id": "cell-11948a6db40d83c7",
     "locked": true,
     "points": 3,
     "schema_version": 3,
     "solution": false,
     "task": false
    }
   },
   "outputs": [],
   "source": [
    "# This cell is reserved for the unit tests. Do not consider this cell. "
   ]
  },
  {
   "cell_type": "code",
   "execution_count": null,
   "metadata": {
    "ExecuteTime": {
     "end_time": "2023-04-08T17:11:51.611539Z",
     "start_time": "2023-04-08T17:11:51.605746Z"
    },
    "deletable": false,
    "editable": false,
    "nbgrader": {
     "cell_type": "code",
     "checksum": "6f7edb561f8b27b066fd0ecbd3416fc6",
     "grade": true,
     "grade_id": "cell-346d9d624da48a38",
     "locked": true,
     "points": 4,
     "schema_version": 3,
     "solution": false,
     "task": false
    }
   },
   "outputs": [],
   "source": [
    "# This cell is reserved for the unit tests. Do not consider this cell. "
   ]
  },
  {
   "cell_type": "markdown",
   "metadata": {
    "deletable": false,
    "editable": false,
    "nbgrader": {
     "cell_type": "markdown",
     "checksum": "08ac01fe82cf4ebfc15302cd849a9a7d",
     "grade": false,
     "grade_id": "cell-e467e35ebbd2de02",
     "locked": true,
     "schema_version": 3,
     "solution": false,
     "task": false
    }
   },
   "source": [
    "## Question 14  [marks 7]\n",
    "\n",
    "Make the function `scores = score_slmkc(X_test, kernel_function, param, C, model)` to compute the scores for the kernelized soft large margin discriminant function over the data matrix `X_test`, for a regularization parameter `C`, a kernel function `kernel_function` with parameter `param` and an encoded model `model`."
   ]
  },
  {
   "cell_type": "code",
   "execution_count": null,
   "metadata": {
    "ExecuteTime": {
     "end_time": "2023-04-08T17:11:51.616201Z",
     "start_time": "2023-04-08T17:11:51.613006Z"
    },
    "deletable": false,
    "nbgrader": {
     "cell_type": "code",
     "checksum": "e813bbee21da993746a07ff727f776cd",
     "grade": false,
     "grade_id": "cell-4703c86bda07adb7",
     "locked": false,
     "schema_version": 3,
     "solution": true,
     "task": false
    }
   },
   "outputs": [],
   "source": [
    "def score_slmkc(X_test, kernel_function, param, C, model):\n",
    "    # YOUR CODE HERE\n",
    "    raise NotImplementedError()"
   ]
  },
  {
   "cell_type": "code",
   "execution_count": null,
   "metadata": {
    "ExecuteTime": {
     "end_time": "2023-04-08T17:11:51.623799Z",
     "start_time": "2023-04-08T17:11:51.617641Z"
    },
    "deletable": false,
    "editable": false,
    "nbgrader": {
     "cell_type": "code",
     "checksum": "f8dc6cade7b78c00caf475d97014f8da",
     "grade": true,
     "grade_id": "cell-c19c5c23e0cf70b3",
     "locked": true,
     "points": 3,
     "schema_version": 3,
     "solution": false,
     "task": false
    }
   },
   "outputs": [],
   "source": [
    "# This cell is reserved for the unit tests. Do not consider this cell. "
   ]
  },
  {
   "cell_type": "code",
   "execution_count": null,
   "metadata": {
    "ExecuteTime": {
     "end_time": "2023-04-08T17:11:51.631282Z",
     "start_time": "2023-04-08T17:11:51.625277Z"
    },
    "deletable": false,
    "editable": false,
    "nbgrader": {
     "cell_type": "code",
     "checksum": "6507ec87750af38175399462fe522e4a",
     "grade": true,
     "grade_id": "cell-2d07a2d793c36f8c",
     "locked": true,
     "points": 4,
     "schema_version": 3,
     "solution": false,
     "task": false
    }
   },
   "outputs": [],
   "source": [
    "# This cell is reserved for the unit tests. Do not consider this cell. "
   ]
  },
  {
   "cell_type": "markdown",
   "metadata": {
    "deletable": false,
    "editable": false,
    "nbgrader": {
     "cell_type": "markdown",
     "checksum": "f7cfc4812fb3367fa8b51e6a8f662208",
     "grade": false,
     "grade_id": "cell-926b98259b41ce16",
     "locked": true,
     "schema_version": 3,
     "solution": false,
     "task": false
    }
   },
   "source": [
    "## Question 15  [marks 2]\n",
    "\n",
    "Make the function `preds = test_slmkc(X_test, kernel_function, param, C, model)` to predict the class label for the kernelized soft large margin discriminant function over the data matrix `X_test`, for a regularization parameter `C`, a kernel function `kernel_function` with parameter `param` and an encoded model `model`."
   ]
  },
  {
   "cell_type": "code",
   "execution_count": null,
   "metadata": {
    "ExecuteTime": {
     "end_time": "2023-04-08T17:11:51.635538Z",
     "start_time": "2023-04-08T17:11:51.632836Z"
    },
    "deletable": false,
    "nbgrader": {
     "cell_type": "code",
     "checksum": "7744411769f7b78397d71f532e04f4b0",
     "grade": false,
     "grade_id": "cell-24355bf36a32c0da",
     "locked": false,
     "schema_version": 3,
     "solution": true,
     "task": false
    }
   },
   "outputs": [],
   "source": [
    "def test_slmkc(X_test, kernel_function, param, C, model):\n",
    "    # YOUR CODE HERE\n",
    "    raise NotImplementedError()"
   ]
  },
  {
   "cell_type": "code",
   "execution_count": null,
   "metadata": {
    "ExecuteTime": {
     "end_time": "2023-04-08T17:11:51.643375Z",
     "start_time": "2023-04-08T17:11:51.637019Z"
    },
    "deletable": false,
    "editable": false,
    "nbgrader": {
     "cell_type": "code",
     "checksum": "d1cd65a868b96a35d9981f898cf8577f",
     "grade": true,
     "grade_id": "cell-1776271de96ca7a0",
     "locked": true,
     "points": 2,
     "schema_version": 3,
     "solution": false,
     "task": false
    }
   },
   "outputs": [],
   "source": [
    "# This cell is reserved for the unit tests. Do not consider this cell. "
   ]
  },
  {
   "cell_type": "code",
   "execution_count": null,
   "metadata": {
    "ExecuteTime": {
     "end_time": "2023-04-08T17:11:51.649354Z",
     "start_time": "2023-04-08T17:11:51.644817Z"
    },
    "deletable": false,
    "editable": false,
    "nbgrader": {
     "cell_type": "code",
     "checksum": "5509efa14142289ecca03874386ce18b",
     "grade": false,
     "grade_id": "cell-2e2dd54e50e27abd",
     "locked": true,
     "schema_version": 3,
     "solution": false,
     "task": false
    }
   },
   "outputs": [],
   "source": [
    "# this function is provided to you, you do not need to alter it in any way.\n",
    "\n",
    "class MySoftLargeMarginKernelClassfier(object):\n",
    "    def __init__(self, C, kernel_function, param):\n",
    "        self.kernel_function = kernel_function\n",
    "        self.param = param\n",
    "        self.C = C\n",
    "        self.support_vectors = None\n",
    "        self.support_targets = None\n",
    "        self.support_alphas = None\n",
    "        self.support_ids = None\n",
    "    \n",
    "    def fit(self, X_train, y_train):\n",
    "        self.model = train_slmkc(X_train, y_train, self.C, self.kernel_function, self.param)\n",
    "        self.support_vectors, self.support_targets,self.support_alphas, self.support_ids = self.model\n",
    "        return self\n",
    "    \n",
    "    def predict(self, X_test):\n",
    "        return test_slmkc(X_test, self.kernel_function, self.param, self.C, self.model)\n",
    "        \n",
    "    def decision_function(self, X_test):\n",
    "        return score_slmkc(X_test, self.kernel_function, self.param, self.C, self.model)\n",
    "    \n",
    "    def predict_proba(self, X_test):\n",
    "        scores = self.decision_function(X_test)\n",
    "        probs = 1 / (1 + np.exp(-scores))\n",
    "        return probs"
   ]
  },
  {
   "cell_type": "markdown",
   "metadata": {
    "deletable": false,
    "editable": false,
    "nbgrader": {
     "cell_type": "markdown",
     "checksum": "68d83a0210a94d1c24ef0c75fedb85e0",
     "grade": false,
     "grade_id": "cell-c42a25e2add6ea41",
     "locked": true,
     "schema_version": 3,
     "solution": false,
     "task": false
    }
   },
   "source": [
    "## Question 16  [marks 2]\n",
    "\n",
    "Make the function `linear_kernel_function(x1,x2,param=None)` corresponding to the linear kernel defined as:\n",
    "$$ K(x_1,x_2) =  x_1^T x_2 $$\n",
    "where $x_1$ and $x_2$ are vectors. "
   ]
  },
  {
   "cell_type": "code",
   "execution_count": null,
   "metadata": {
    "ExecuteTime": {
     "end_time": "2023-04-08T17:11:51.653182Z",
     "start_time": "2023-04-08T17:11:51.650981Z"
    },
    "deletable": false,
    "nbgrader": {
     "cell_type": "code",
     "checksum": "25ebb8ec838a86294e12ba2dec990d02",
     "grade": false,
     "grade_id": "cell-5e08bd156018ddab",
     "locked": false,
     "schema_version": 3,
     "solution": true,
     "task": false
    }
   },
   "outputs": [],
   "source": [
    "def linear_kernel_function(x1,x2,param=None):\n",
    "    # YOUR CODE HERE\n",
    "    raise NotImplementedError()"
   ]
  },
  {
   "cell_type": "code",
   "execution_count": null,
   "metadata": {
    "ExecuteTime": {
     "end_time": "2023-04-08T17:11:51.657376Z",
     "start_time": "2023-04-08T17:11:51.654714Z"
    },
    "deletable": false,
    "editable": false,
    "nbgrader": {
     "cell_type": "code",
     "checksum": "0754bc811340c2fcc29d7d20415228ee",
     "grade": true,
     "grade_id": "cell-5becf31446e43db2",
     "locked": true,
     "points": 2,
     "schema_version": 3,
     "solution": false,
     "task": false
    }
   },
   "outputs": [],
   "source": [
    "# This cell is reserved for the unit tests. Do not consider this cell. "
   ]
  },
  {
   "cell_type": "markdown",
   "metadata": {
    "deletable": false,
    "editable": false,
    "nbgrader": {
     "cell_type": "markdown",
     "checksum": "20bac3df182e6f468118f0ed49c52913",
     "grade": false,
     "grade_id": "cell-8bf0e1d6f05df801",
     "locked": true,
     "schema_version": 3,
     "solution": false,
     "task": false
    }
   },
   "source": [
    "## Question 17  [marks 3]\n",
    "\n",
    "Make the function `polynomial_kernel_function(x1,x2,param)` corresponding to the polynomial kernel defined by the parameter $r=$`param`:\n",
    "$$ K(x_1,x_2) =  (1 + x_1^T x_2)^r$$\n",
    "where $x_1$ and $x_2$ are vectors. "
   ]
  },
  {
   "cell_type": "code",
   "execution_count": null,
   "metadata": {
    "ExecuteTime": {
     "end_time": "2023-04-08T17:11:51.661119Z",
     "start_time": "2023-04-08T17:11:51.658905Z"
    },
    "deletable": false,
    "nbgrader": {
     "cell_type": "code",
     "checksum": "c5f4f1a14224627536717957ec40fa64",
     "grade": false,
     "grade_id": "cell-65e510a6f055e1ae",
     "locked": false,
     "schema_version": 3,
     "solution": true,
     "task": false
    }
   },
   "outputs": [],
   "source": [
    "def polynomial_kernel_function(x1,x2,param):\n",
    "    # YOUR CODE HERE\n",
    "    raise NotImplementedError()"
   ]
  },
  {
   "cell_type": "code",
   "execution_count": null,
   "metadata": {
    "ExecuteTime": {
     "end_time": "2023-04-08T17:11:51.665248Z",
     "start_time": "2023-04-08T17:11:51.662585Z"
    },
    "deletable": false,
    "editable": false,
    "nbgrader": {
     "cell_type": "code",
     "checksum": "0c45d82fe582ce8b281e8bcfa8c49926",
     "grade": true,
     "grade_id": "cell-6a7118bdb09c9bab",
     "locked": true,
     "points": 3,
     "schema_version": 3,
     "solution": false,
     "task": false
    }
   },
   "outputs": [],
   "source": [
    "# This cell is reserved for the unit tests. Do not consider this cell. "
   ]
  },
  {
   "cell_type": "code",
   "execution_count": null,
   "metadata": {
    "ExecuteTime": {
     "end_time": "2023-04-08T17:11:51.672881Z",
     "start_time": "2023-04-08T17:11:51.666749Z"
    },
    "deletable": false,
    "editable": false,
    "nbgrader": {
     "cell_type": "code",
     "checksum": "faa0a004564e57961c8d28da4f8b048b",
     "grade": false,
     "grade_id": "cell-971973071cc0399e",
     "locked": true,
     "schema_version": 3,
     "solution": false,
     "task": false
    }
   },
   "outputs": [],
   "source": [
    "# this function is provided to you, you do not need to alter it in any way.\n",
    "\n",
    "def plot(X, y, support_vectors=None, predict_func=None):\n",
    "    cmap='bwr'\n",
    "    res = 100\n",
    "    x_min, x_max = X[:, 0].min(), X[:, 0].max()\n",
    "    y_min, y_max = X[:, 1].min(), X[:, 1].max()\n",
    "    delta = max((x_max-x_min)/5, (y_max-y_min)/5)\n",
    "    x_min -= delta\n",
    "    y_min -= delta\n",
    "    x_max += delta\n",
    "    y_max += delta\n",
    "    xx, yy = np.meshgrid(np.linspace(x_min, x_max, res),np.linspace(y_min, y_max, res))\n",
    "    if predict_func is None:\n",
    "        Z = np.ones(xx.shape)*.5\n",
    "    else:\n",
    "        Z = predict_func(np.hstack([xx.reshape(-1,1), yy.reshape(-1,1)]))\n",
    "        if Z.ndim == 1:\n",
    "            Z = Z.reshape(xx.shape)\n",
    "        else:\n",
    "            Z = Z[:,-1].reshape(xx.shape)\n",
    "    if support_vectors is None:\n",
    "        edge_colors = 'w'\n",
    "        sizes = 50\n",
    "    else:\n",
    "        edge_colors = ['k' if s else 'w' for s in support_vectors]\n",
    "        sizes = [100 if s else 50 for s in support_vectors]\n",
    "    plt.figure(figsize=(5,5))\n",
    "    plt.contourf(xx, yy, Z, levels=20, cmap=cmap, alpha=.5)\n",
    "    plt.scatter(X[:,0],X[:,1], c=y, s=sizes, edgecolors=edge_colors, cmap=cmap)\n",
    "    plt.grid()\n",
    "    plt.axis('equal')\n",
    "    plt.show()"
   ]
  },
  {
   "cell_type": "markdown",
   "metadata": {
    "deletable": false,
    "editable": false,
    "nbgrader": {
     "cell_type": "markdown",
     "checksum": "84bc5a10e77be84ac1938cb9bfd14a38",
     "grade": false,
     "grade_id": "cell-3a091bca810f39dd",
     "locked": true,
     "schema_version": 3,
     "solution": false,
     "task": false
    }
   },
   "source": [
    "## Checkpoint\n",
    "\n",
    "This is just a check-point, i.e. it is for you to see that you are correctly implementing all functions. \n",
    "\n",
    "Execute the following code (just execute the next cell):\n",
    "\n",
    "```python\n",
    "from sklearn.datasets import make_classification\n",
    "X,y = make_classification(n_samples=100, n_features=2, n_informative=2, n_redundant=0, n_repeated=0, n_classes=2, n_clusters_per_class=2, weights=None, flip_y=0.0, class_sep=1.0, random_state=5)\n",
    "y[y==0]=-1\n",
    "\n",
    "est = MySoftLargeMarginKernelClassfier(C=1e2, kernel_function=linear_kernel_function, param=None).fit(X, y)\n",
    "plot(X,y, support_vectors=est.support_ids, predict_func=est.predict_proba)\n",
    "\n",
    "est = MySoftLargeMarginKernelClassfier(C=1e-2, kernel_function=polynomial_kernel_function, param=5).fit(X, y)\n",
    "plot(X,y, support_vectors=est.support_ids, predict_func=est.predict_proba)\n",
    "```\n",
    "\n",
    "You should obtain something like:\n",
    "\n",
    "<img src='plot3.png' width=300>"
   ]
  },
  {
   "cell_type": "code",
   "execution_count": null,
   "metadata": {
    "ExecuteTime": {
     "end_time": "2023-04-08T17:11:54.276053Z",
     "start_time": "2023-04-08T17:11:51.682245Z"
    },
    "deletable": false,
    "editable": false,
    "nbgrader": {
     "cell_type": "code",
     "checksum": "3f4b848a92091e08074f3f47993337f7",
     "grade": false,
     "grade_id": "cell-50ac012e8a9821ce",
     "locked": true,
     "schema_version": 3,
     "solution": false,
     "task": false
    }
   },
   "outputs": [],
   "source": [
    "# Just run the following code, do not modify it\n",
    "\n",
    "from sklearn.datasets import make_classification\n",
    "X,y = make_classification(n_samples=100, n_features=2, n_informative=2, n_redundant=0, n_repeated=0, n_classes=2, n_clusters_per_class=2, weights=None, flip_y=0.0, class_sep=1.0, random_state=5)\n",
    "y[y==0]=-1\n",
    "\n",
    "est = MySoftLargeMarginKernelClassfier(C=1e2, kernel_function=linear_kernel_function, param=None).fit(X, y)\n",
    "plot(X,y, support_vectors=est.support_ids, predict_func=est.predict_proba)\n",
    "\n",
    "est = MySoftLargeMarginKernelClassfier(C=1e-2, kernel_function=polynomial_kernel_function, param=5).fit(X, y)\n",
    "plot(X,y, support_vectors=est.support_ids, predict_func=est.predict_proba)"
   ]
  },
  {
   "cell_type": "markdown",
   "metadata": {
    "deletable": false,
    "editable": false,
    "nbgrader": {
     "cell_type": "markdown",
     "checksum": "3eb3eaaa3ec5e5eac9ba124fb4d8d6de",
     "grade": false,
     "grade_id": "cell-061d36fea0f2e37e",
     "locked": true,
     "schema_version": 3,
     "solution": false,
     "task": false
    }
   },
   "source": [
    "## Question 18  [marks 1]\n",
    "\n",
    "\n",
    "a) Make a function `estimator = train_svm(X_train, y_train, param)` that takes in input a data matrix `X_train`, an associated target array `y_train`, and a single scalar parameter `param` which corresponds to the regularization parameter of the linear Support Vector machine classifier, and returns a fit classifier object of type `sklearn.svm.LinearSVC`.\n",
    "\n",
    "b) Make a function `preds = test_svm(X_test, classifier)` that takes in input a data matrix `X_test`, a classifier object `classifier` and returns the prediction array `preds`.\n",
    "\n",
    "c) Make a function `scores = score_svm(X_test, classifier)` that takes in input a data matrix `X_test`, a classifier object `classifier` and returns the array `scores` containing the distance from the decision surface  for each instance."
   ]
  },
  {
   "cell_type": "code",
   "execution_count": null,
   "metadata": {
    "ExecuteTime": {
     "end_time": "2023-04-08T17:11:54.282219Z",
     "start_time": "2023-04-08T17:11:54.279808Z"
    },
    "deletable": false,
    "nbgrader": {
     "cell_type": "code",
     "checksum": "1faa5a37f76fe291f1adb56fbeb91723",
     "grade": false,
     "grade_id": "cell-060b2b2211d73abd",
     "locked": false,
     "schema_version": 3,
     "solution": true,
     "task": false
    }
   },
   "outputs": [],
   "source": [
    "from sklearn.svm import LinearSVC\n",
    "\n",
    "def train_svm(X_train, y_train, param):\n",
    "    # YOUR CODE HERE\n",
    "    raise NotImplementedError()"
   ]
  },
  {
   "cell_type": "code",
   "execution_count": null,
   "metadata": {
    "ExecuteTime": {
     "end_time": "2023-04-08T17:11:54.288719Z",
     "start_time": "2023-04-08T17:11:54.283962Z"
    },
    "deletable": false,
    "editable": false,
    "nbgrader": {
     "cell_type": "code",
     "checksum": "6d329bba112f222def028dec45076fa8",
     "grade": true,
     "grade_id": "cell-f6ede79deccd0f43",
     "locked": true,
     "points": 1,
     "schema_version": 3,
     "solution": false,
     "task": false
    }
   },
   "outputs": [],
   "source": [
    "# This cell is reserved for the unit tests. Do not consider this cell. "
   ]
  },
  {
   "cell_type": "code",
   "execution_count": null,
   "metadata": {
    "ExecuteTime": {
     "end_time": "2023-04-08T17:11:54.292311Z",
     "start_time": "2023-04-08T17:11:54.290166Z"
    },
    "deletable": false,
    "nbgrader": {
     "cell_type": "code",
     "checksum": "7b3c55adeab4922edb66624f10355db6",
     "grade": false,
     "grade_id": "cell-f4e3879baaae1837",
     "locked": false,
     "schema_version": 3,
     "solution": true,
     "task": false
    }
   },
   "outputs": [],
   "source": [
    "def test_svm(X_test, estimator):\n",
    "    # YOUR CODE HERE\n",
    "    raise NotImplementedError()"
   ]
  },
  {
   "cell_type": "code",
   "execution_count": null,
   "metadata": {
    "ExecuteTime": {
     "end_time": "2023-04-08T17:11:54.298811Z",
     "start_time": "2023-04-08T17:11:54.293784Z"
    },
    "deletable": false,
    "editable": false,
    "nbgrader": {
     "cell_type": "code",
     "checksum": "0a4e8ccd15e0a5fdba7cb2cc18baae61",
     "grade": true,
     "grade_id": "cell-505df75a1c150ab0",
     "locked": true,
     "points": 1,
     "schema_version": 3,
     "solution": false,
     "task": false
    }
   },
   "outputs": [],
   "source": [
    "# This cell is reserved for the unit tests. Do not consider this cell. "
   ]
  },
  {
   "cell_type": "code",
   "execution_count": null,
   "metadata": {
    "ExecuteTime": {
     "end_time": "2023-04-08T17:11:54.302160Z",
     "start_time": "2023-04-08T17:11:54.300173Z"
    },
    "deletable": false,
    "nbgrader": {
     "cell_type": "code",
     "checksum": "8ea659eb850db49696edca4627d5fea5",
     "grade": false,
     "grade_id": "cell-8596fed8bc7596d1",
     "locked": false,
     "schema_version": 3,
     "solution": true,
     "task": false
    }
   },
   "outputs": [],
   "source": [
    "def score_svm(X_test, estimator):\n",
    "    # YOUR CODE HERE\n",
    "    raise NotImplementedError()"
   ]
  },
  {
   "cell_type": "code",
   "execution_count": null,
   "metadata": {
    "ExecuteTime": {
     "end_time": "2023-04-08T17:11:54.308760Z",
     "start_time": "2023-04-08T17:11:54.303628Z"
    },
    "deletable": false,
    "editable": false,
    "nbgrader": {
     "cell_type": "code",
     "checksum": "3a361861e7fff56be1e0dc3528d4b011",
     "grade": true,
     "grade_id": "cell-30af6f8ad25d13c5",
     "locked": true,
     "points": 1,
     "schema_version": 3,
     "solution": false,
     "task": false
    }
   },
   "outputs": [],
   "source": [
    "# This cell is reserved for the unit tests. Do not consider this cell. "
   ]
  },
  {
   "cell_type": "markdown",
   "metadata": {
    "deletable": false,
    "editable": false,
    "nbgrader": {
     "cell_type": "markdown",
     "checksum": "8693269b04377d4ef225034b934e85f3",
     "grade": false,
     "grade_id": "cell-2d4ca118647d4f02",
     "locked": true,
     "schema_version": 3,
     "solution": false,
     "task": false
    }
   },
   "source": [
    "## Question 19  [marks 2]\n",
    "\n",
    "\n",
    "The one-vs-one strategy constructs one classifier per pair of classes. At prediction time, the class which received the most votes is selected. \n",
    "\n",
    "In the event of a tie (among all those cases that achieve an equal number of votes), it selects the class with the highest aggregate classification confidence by summing over the pair-wise classification confidence levels computed by the underlying binary classifiers.\n",
    "\n",
    "Make the function `estimators = train_OvO(X_train, y_train, train_func, param)` that takes in input the data matrix `X_train`, the target vector `y_train`, the training procedure `train_func` with an associated parameter `param` and it outputs an object that represent the estimators fit using the OvO strategy."
   ]
  },
  {
   "cell_type": "code",
   "execution_count": null,
   "metadata": {
    "ExecuteTime": {
     "end_time": "2023-04-08T17:11:54.313713Z",
     "start_time": "2023-04-08T17:11:54.310140Z"
    },
    "deletable": false,
    "nbgrader": {
     "cell_type": "code",
     "checksum": "220faffd230a0c73ac768e9b9be4f045",
     "grade": false,
     "grade_id": "cell-fa80f2a123aa72c8",
     "locked": false,
     "schema_version": 3,
     "solution": true,
     "task": false
    }
   },
   "outputs": [],
   "source": [
    "def train_OvO(X_train, y_train, train_func, param):\n",
    "    # YOUR CODE HERE\n",
    "    raise NotImplementedError()"
   ]
  },
  {
   "cell_type": "code",
   "execution_count": null,
   "metadata": {
    "ExecuteTime": {
     "end_time": "2023-04-08T17:11:54.323418Z",
     "start_time": "2023-04-08T17:11:54.315256Z"
    },
    "deletable": false,
    "editable": false,
    "nbgrader": {
     "cell_type": "code",
     "checksum": "2a025a5236e0f39db10cdb602534f909",
     "grade": true,
     "grade_id": "cell-b2b7104eed779b41",
     "locked": true,
     "points": 2,
     "schema_version": 3,
     "solution": false,
     "task": false
    }
   },
   "outputs": [],
   "source": [
    "# This cell is reserved for the unit tests. Do not consider this cell. "
   ]
  },
  {
   "cell_type": "markdown",
   "metadata": {
    "deletable": false,
    "editable": false,
    "nbgrader": {
     "cell_type": "markdown",
     "checksum": "e78adaa9256072cf208827af85112c0f",
     "grade": false,
     "grade_id": "cell-d933efd25803e8bb",
     "locked": true,
     "schema_version": 3,
     "solution": false,
     "task": false
    }
   },
   "source": [
    "## Question 20  [marks 7]\n",
    "\n",
    "Make the function `preds = test_OvO(X_test, test_func, score_func, estimators)` that takes in input the data matrix `X_test`, the classification procedure `test_func`, the score function `score_func`, the estimators object and it returns the predicted class for each instance in the data matrix using the OvO strategy.\n",
    "\n",
    "Note: only when two or more classifiers end up in a tie the algorithm should resort to the score to break the tie. "
   ]
  },
  {
   "cell_type": "code",
   "execution_count": null,
   "metadata": {
    "ExecuteTime": {
     "end_time": "2023-04-08T17:11:54.329385Z",
     "start_time": "2023-04-08T17:11:54.324850Z"
    },
    "deletable": false,
    "nbgrader": {
     "cell_type": "code",
     "checksum": "61d2f3b8157f267e6ffefdd09edf89f1",
     "grade": false,
     "grade_id": "cell-f30629482a9176a9",
     "locked": false,
     "schema_version": 3,
     "solution": true,
     "task": false
    }
   },
   "outputs": [],
   "source": [
    "def test_OvO(X_test, test_func, score_func, estimators):\n",
    "    # YOUR CODE HERE\n",
    "    raise NotImplementedError()"
   ]
  },
  {
   "cell_type": "code",
   "execution_count": null,
   "metadata": {
    "ExecuteTime": {
     "end_time": "2023-04-08T17:11:54.348933Z",
     "start_time": "2023-04-08T17:11:54.331022Z"
    },
    "deletable": false,
    "editable": false,
    "nbgrader": {
     "cell_type": "code",
     "checksum": "1ad9885fc914e7bea8f6b7464a8a50d1",
     "grade": true,
     "grade_id": "cell-62fc29bd88c05adc",
     "locked": true,
     "points": 7,
     "schema_version": 3,
     "solution": false,
     "task": false
    }
   },
   "outputs": [],
   "source": [
    "# This cell is reserved for the unit tests. Do not consider this cell. "
   ]
  },
  {
   "cell_type": "markdown",
   "metadata": {
    "deletable": false,
    "editable": false,
    "nbgrader": {
     "cell_type": "markdown",
     "checksum": "860b5a022a8686eedfb8a23575e585c5",
     "grade": false,
     "grade_id": "cell-7f83d1342bd56821",
     "locked": true,
     "schema_version": 3,
     "solution": false,
     "task": false
    }
   },
   "source": [
    "## Question 21  [marks 4]\n",
    "\n",
    "Make the function `confusion_table(targets, preds)` to output the confusion matrix as a `n x n` Numpy array where `n` is the number of classes. The confusion table is a matrix whose i-th row and j-th column entry indicates the number of samples with true label being the i-th class and predicted label being the j-th class.\n",
    "\n",
    "As an example, when executing the following code:\n",
    "\n",
    "```python\n",
    "test_targets = np.array([0,1,2,0,1,2])\n",
    "test_preds  =  np.array([0,1,2,0,0,0])\n",
    "print(confusion_table(test_targets, test_preds))\n",
    "```\n",
    "you should obtain:\n",
    "```\n",
    "array([[2, 0, 0],\n",
    "       [1, 1, 0],\n",
    "       [1, 0, 1]])\n",
    "```"
   ]
  },
  {
   "cell_type": "code",
   "execution_count": null,
   "metadata": {
    "ExecuteTime": {
     "end_time": "2023-04-08T17:11:54.353738Z",
     "start_time": "2023-04-08T17:11:54.350478Z"
    },
    "deletable": false,
    "nbgrader": {
     "cell_type": "code",
     "checksum": "6ffd5476303dc6cbbb59a77463f69013",
     "grade": false,
     "grade_id": "cell-6a90d9550ef1caba",
     "locked": false,
     "schema_version": 3,
     "solution": true,
     "task": false
    }
   },
   "outputs": [],
   "source": [
    "def confusion_table(targets, preds):\n",
    "    # YOUR CODE HERE\n",
    "    raise NotImplementedError()"
   ]
  },
  {
   "cell_type": "code",
   "execution_count": null,
   "metadata": {
    "ExecuteTime": {
     "end_time": "2023-04-08T17:11:54.359501Z",
     "start_time": "2023-04-08T17:11:54.355547Z"
    },
    "deletable": false,
    "editable": false,
    "nbgrader": {
     "cell_type": "code",
     "checksum": "860224b5f8ca45923dbe6f02a3ae4314",
     "grade": true,
     "grade_id": "cell-63710cc233b18c82",
     "locked": true,
     "points": 4,
     "schema_version": 3,
     "solution": false,
     "task": false
    }
   },
   "outputs": [],
   "source": [
    "# This cell is reserved for the unit tests. Do not consider this cell. "
   ]
  },
  {
   "cell_type": "markdown",
   "metadata": {
    "deletable": false,
    "editable": false,
    "nbgrader": {
     "cell_type": "markdown",
     "checksum": "ff0794576629411c8cbb35f95a06a226",
     "grade": false,
     "grade_id": "cell-4c94b08c664771aa",
     "locked": true,
     "schema_version": 3,
     "solution": false,
     "task": false
    }
   },
   "source": [
    "## Cross correlations\n",
    "\n",
    "In the following section you are asked to work on the notion of cross correlations in 2 and 3 dimensions.\n",
    "\n",
    "Since the computation of a cross correlation becomes undefined at those positions that are very close to the image boundaries, you are asked to **pad** the original signal, i.e. to extend the signal using a specific strategy.\n",
    "\n",
    "Note that the resulting cross correlation has the same size as the original signal. "
   ]
  },
  {
   "cell_type": "markdown",
   "metadata": {
    "deletable": false,
    "editable": false,
    "nbgrader": {
     "cell_type": "markdown",
     "checksum": "abf0b83ca90624e841a0e8224074ff32",
     "grade": false,
     "grade_id": "cell-f96ca14793eec139",
     "locked": true,
     "schema_version": 3,
     "solution": false,
     "task": false
    }
   },
   "source": [
    "## Question 22  [marks 6]\n",
    "\n",
    "Make the function `Mp = padding_repeating(M, length)` that takes in input a 2D numpy array `M` and a scalar `length` and pads `M` with `length` replicas of the boundary cells. \n",
    "\n",
    "For example running the following code \n",
    "```python\n",
    "n=5\n",
    "M=np.arange(n*n).reshape(n,n)\n",
    "print(M)\n",
    "length=1\n",
    "print(length)\n",
    "print(padding_repeating(M, length))\n",
    "length=2\n",
    "print(length)\n",
    "print(padding_repeating(M, length))\n",
    "```\n",
    "\n",
    "yields\n",
    "\n",
    "```\n",
    "[[ 0  1  2  3  4]\n",
    " [ 5  6  7  8  9]\n",
    " [10 11 12 13 14]\n",
    " [15 16 17 18 19]\n",
    " [20 21 22 23 24]]\n",
    "1\n",
    "[[ 0  0  1  2  3  4  4]\n",
    " [ 0  0  1  2  3  4  4]\n",
    " [ 5  5  6  7  8  9  9]\n",
    " [10 10 11 12 13 14 14]\n",
    " [15 15 16 17 18 19 19]\n",
    " [20 20 21 22 23 24 24]\n",
    " [20 20 21 22 23 24 24]]\n",
    "2\n",
    "[[ 0  0  0  1  2  3  4  4  4]\n",
    " [ 0  0  0  1  2  3  4  4  4]\n",
    " [ 0  0  0  1  2  3  4  4  4]\n",
    " [ 5  5  5  6  7  8  9  9  9]\n",
    " [10 10 10 11 12 13 14 14 14]\n",
    " [15 15 15 16 17 18 19 19 19]\n",
    " [20 20 20 21 22 23 24 24 24]\n",
    " [20 20 20 21 22 23 24 24 24]\n",
    " [20 20 20 21 22 23 24 24 24]]\n",
    "```"
   ]
  },
  {
   "cell_type": "code",
   "execution_count": null,
   "metadata": {
    "ExecuteTime": {
     "end_time": "2023-04-08T17:11:54.365706Z",
     "start_time": "2023-04-08T17:11:54.360998Z"
    },
    "deletable": false,
    "nbgrader": {
     "cell_type": "code",
     "checksum": "d932fb0d828c1d23c936ba3c0e013958",
     "grade": false,
     "grade_id": "cell-0d5cfc2d037c04af",
     "locked": false,
     "schema_version": 3,
     "solution": true,
     "task": false
    }
   },
   "outputs": [],
   "source": [
    "def padding_repeating(M, length):\n",
    "    # YOUR CODE HERE\n",
    "    raise NotImplementedError()"
   ]
  },
  {
   "cell_type": "code",
   "execution_count": null,
   "metadata": {
    "ExecuteTime": {
     "end_time": "2023-04-08T17:11:54.371555Z",
     "start_time": "2023-04-08T17:11:54.367058Z"
    },
    "deletable": false,
    "editable": false,
    "nbgrader": {
     "cell_type": "code",
     "checksum": "745618d8b1bfb1fea2891bc38c5065e6",
     "grade": true,
     "grade_id": "cell-391c8c75c4927b6c",
     "locked": true,
     "points": 6,
     "schema_version": 3,
     "solution": false,
     "task": false
    }
   },
   "outputs": [],
   "source": [
    "# This cell is reserved for the unit tests. Do not consider this cell. "
   ]
  },
  {
   "cell_type": "markdown",
   "metadata": {
    "deletable": false,
    "editable": false,
    "nbgrader": {
     "cell_type": "markdown",
     "checksum": "4d01a93887659b619240d9b1aeba01cf",
     "grade": false,
     "grade_id": "cell-020c5a849f1fb6d4",
     "locked": true,
     "schema_version": 3,
     "solution": false,
     "task": false
    }
   },
   "source": [
    "## Question 23  [marks 4]\n",
    "\n",
    "Make the function `cross_correlation2D(image, kernel, padding_func)` that takes in input a $m \\times n$ 2D array `image` and a square $k \\times k$ 2D array `kernel` with $k$ an odd number (e.g. kernel is a 3x3 or 5x5, etc, matrix), and a padding function `padding_func`. The function outputs an array of the same size $m \\times n$ as `image` which corresponds to the 2D cross correlation between the padded `image` and `kernel`."
   ]
  },
  {
   "cell_type": "code",
   "execution_count": null,
   "metadata": {
    "ExecuteTime": {
     "end_time": "2023-04-08T17:11:54.378688Z",
     "start_time": "2023-04-08T17:11:54.373743Z"
    },
    "deletable": false,
    "nbgrader": {
     "cell_type": "code",
     "checksum": "367b9d6d6224d5ae95258c79614cba82",
     "grade": false,
     "grade_id": "cell-b5d12af8c2aa6d9e",
     "locked": false,
     "schema_version": 3,
     "solution": true,
     "task": false
    }
   },
   "outputs": [],
   "source": [
    "def cross_correlation2D(image, kernel, padding_func):\n",
    "    # YOUR CODE HERE\n",
    "    raise NotImplementedError()"
   ]
  },
  {
   "cell_type": "code",
   "execution_count": null,
   "metadata": {
    "ExecuteTime": {
     "end_time": "2023-04-08T17:11:54.385122Z",
     "start_time": "2023-04-08T17:11:54.380708Z"
    },
    "deletable": false,
    "editable": false,
    "nbgrader": {
     "cell_type": "code",
     "checksum": "09fb7dd9442ffa9da9d818bcca62e185",
     "grade": true,
     "grade_id": "cell-0466086c18625cd9",
     "locked": true,
     "points": 4,
     "schema_version": 3,
     "solution": false,
     "task": false
    }
   },
   "outputs": [],
   "source": [
    "# This cell is reserved for the unit tests. Do not consider this cell. "
   ]
  },
  {
   "cell_type": "markdown",
   "metadata": {
    "deletable": false,
    "editable": false,
    "nbgrader": {
     "cell_type": "markdown",
     "checksum": "6024b73e27a5274a5522ff5f340486bb",
     "grade": false,
     "grade_id": "cell-1315f7710cff2428",
     "locked": true,
     "schema_version": 3,
     "solution": false,
     "task": false
    }
   },
   "source": [
    "## Question 24  [marks 3]\n",
    "\n",
    "Make the function `padding_zeros_3D(M, length)` that takes in input a 3D numpy array `M` and a scalar `length` and pads `M` with with replicas of 0 entries along all sides.\n",
    "\n",
    "For example:\n",
    "```python\n",
    "padding_zeros_3D(np.ones((3,3,3)), length=1)\n",
    "```\n",
    "yields\n",
    "```\n",
    "array([[[0., 0., 0., 0., 0.],\n",
    "        [0., 0., 0., 0., 0.],\n",
    "        [0., 0., 0., 0., 0.],\n",
    "        [0., 0., 0., 0., 0.],\n",
    "        [0., 0., 0., 0., 0.]],\n",
    "\n",
    "       [[0., 0., 0., 0., 0.],\n",
    "        [0., 1., 1., 1., 0.],\n",
    "        [0., 1., 1., 1., 0.],\n",
    "        [0., 1., 1., 1., 0.],\n",
    "        [0., 0., 0., 0., 0.]],\n",
    "\n",
    "       [[0., 0., 0., 0., 0.],\n",
    "        [0., 1., 1., 1., 0.],\n",
    "        [0., 1., 1., 1., 0.],\n",
    "        [0., 1., 1., 1., 0.],\n",
    "        [0., 0., 0., 0., 0.]],\n",
    "\n",
    "       [[0., 0., 0., 0., 0.],\n",
    "        [0., 1., 1., 1., 0.],\n",
    "        [0., 1., 1., 1., 0.],\n",
    "        [0., 1., 1., 1., 0.],\n",
    "        [0., 0., 0., 0., 0.]],\n",
    "\n",
    "       [[0., 0., 0., 0., 0.],\n",
    "        [0., 0., 0., 0., 0.],\n",
    "        [0., 0., 0., 0., 0.],\n",
    "        [0., 0., 0., 0., 0.],\n",
    "        [0., 0., 0., 0., 0.]]])\n",
    "```"
   ]
  },
  {
   "cell_type": "code",
   "execution_count": null,
   "metadata": {
    "ExecuteTime": {
     "end_time": "2023-04-08T17:11:54.390386Z",
     "start_time": "2023-04-08T17:11:54.387161Z"
    },
    "deletable": false,
    "nbgrader": {
     "cell_type": "code",
     "checksum": "e57978b5bd5bd1f936b2fdcce7d4609c",
     "grade": false,
     "grade_id": "cell-c99762d7432648d8",
     "locked": false,
     "schema_version": 3,
     "solution": true,
     "task": false
    }
   },
   "outputs": [],
   "source": [
    "def padding_zeros_3D(M, length):\n",
    "    # YOUR CODE HERE\n",
    "    raise NotImplementedError()"
   ]
  },
  {
   "cell_type": "code",
   "execution_count": null,
   "metadata": {
    "ExecuteTime": {
     "end_time": "2023-04-08T17:11:54.395789Z",
     "start_time": "2023-04-08T17:11:54.392564Z"
    },
    "deletable": false,
    "editable": false,
    "nbgrader": {
     "cell_type": "code",
     "checksum": "d1d58bb6cee6a8e9f77d0b2eb38b5f14",
     "grade": true,
     "grade_id": "cell-19f2b776391b0003",
     "locked": true,
     "points": 3,
     "schema_version": 3,
     "solution": false,
     "task": false
    }
   },
   "outputs": [],
   "source": [
    "# This cell is reserved for the unit tests. Do not consider this cell. "
   ]
  },
  {
   "cell_type": "markdown",
   "metadata": {
    "deletable": false,
    "editable": false,
    "nbgrader": {
     "cell_type": "markdown",
     "checksum": "8ffbdee0df797f408d52ffc4af19a044",
     "grade": false,
     "grade_id": "cell-bbb8d97b9b1266dc",
     "locked": true,
     "schema_version": 3,
     "solution": false,
     "task": false
    }
   },
   "source": [
    "## Question 25  [marks 3]\n",
    "\n",
    "Make the function `cross_correlation3D(image, kernel, padding_func)` that takes in input a $m \\times n \\times p$ 3D array `image` and a square $k \\times k \\times k$ 3D array `kernel` with $k$ an odd number (e.g. kernel is a 3x3x3 or 5x5x5, etc, matrix), and a padding function `padding_func`. The function outputs an array of the same size $m \\times n \\times p$ as `image` which corresponds to the 3D cross correlation between the padded `image` and `kernel`."
   ]
  },
  {
   "cell_type": "code",
   "execution_count": null,
   "metadata": {
    "ExecuteTime": {
     "end_time": "2023-04-08T17:11:54.402916Z",
     "start_time": "2023-04-08T17:11:54.397713Z"
    },
    "deletable": false,
    "nbgrader": {
     "cell_type": "code",
     "checksum": "8e3d57fd33f819636ff538daf13d89d1",
     "grade": false,
     "grade_id": "cell-4846be3f36ff291f",
     "locked": false,
     "schema_version": 3,
     "solution": true,
     "task": false
    }
   },
   "outputs": [],
   "source": [
    "def cross_correlation3D(image, kernel, padding_func):\n",
    "    # YOUR CODE HERE\n",
    "    raise NotImplementedError()"
   ]
  },
  {
   "cell_type": "code",
   "execution_count": null,
   "metadata": {
    "ExecuteTime": {
     "end_time": "2023-04-08T17:11:54.410804Z",
     "start_time": "2023-04-08T17:11:54.405016Z"
    },
    "deletable": false,
    "editable": false,
    "nbgrader": {
     "cell_type": "code",
     "checksum": "82f13208841f6a1a84822a21d6e9daf4",
     "grade": true,
     "grade_id": "cell-33fad295ac73e311",
     "locked": true,
     "points": 3,
     "schema_version": 3,
     "solution": false,
     "task": false
    }
   },
   "outputs": [],
   "source": [
    "# This cell is reserved for the unit tests. Do not consider this cell. "
   ]
  },
  {
   "cell_type": "markdown",
   "metadata": {
    "deletable": false,
    "editable": false,
    "nbgrader": {
     "cell_type": "markdown",
     "checksum": "7595e3ddc175732639d69a2f823b3d93",
     "grade": false,
     "grade_id": "cell-5ca8d6a15911ba47",
     "locked": true,
     "schema_version": 3,
     "solution": false,
     "task": false
    }
   },
   "source": [
    "## Question 26  [marks 2]\n",
    "\n",
    "Make the function `make_averaging_kernel(n_dim, length)` that generates a kernel with `n_dim` dimensions (e.g. n_dim = 3) of shape $(l \\times l \\times \\ldots l)$ with $l=$`lenght`. The function should build a specific kernel that, when used in a cross correlation operation, computes the average of all the values in its field of action (e.g. a 3x3x3 kernel makes the average of the 27 neighboring cells)."
   ]
  },
  {
   "cell_type": "code",
   "execution_count": null,
   "metadata": {
    "ExecuteTime": {
     "end_time": "2023-04-08T17:11:54.415425Z",
     "start_time": "2023-04-08T17:11:54.412919Z"
    },
    "deletable": false,
    "nbgrader": {
     "cell_type": "code",
     "checksum": "aaa6d7db7043b5b888c32ea49fb5b4de",
     "grade": false,
     "grade_id": "cell-4ba477f1dc39b05a",
     "locked": false,
     "schema_version": 3,
     "solution": true,
     "task": false
    }
   },
   "outputs": [],
   "source": [
    "def make_averaging_kernel(n_dim, length):\n",
    "    # YOUR CODE HERE\n",
    "    raise NotImplementedError()"
   ]
  },
  {
   "cell_type": "code",
   "execution_count": null,
   "metadata": {
    "ExecuteTime": {
     "end_time": "2023-04-08T17:11:54.420356Z",
     "start_time": "2023-04-08T17:11:54.417531Z"
    },
    "deletable": false,
    "editable": false,
    "nbgrader": {
     "cell_type": "code",
     "checksum": "663ecd81154e919eb5946ca97043b642",
     "grade": true,
     "grade_id": "cell-09523f7b839129cb",
     "locked": true,
     "points": 2,
     "schema_version": 3,
     "solution": false,
     "task": false
    }
   },
   "outputs": [],
   "source": [
    "# This cell is reserved for the unit tests. Do not consider this cell. \n"
   ]
  },
  {
   "cell_type": "markdown",
   "metadata": {
    "deletable": false,
    "editable": false,
    "nbgrader": {
     "cell_type": "markdown",
     "checksum": "d73260b5d66a9b27e870203e60ebfb04",
     "grade": false,
     "grade_id": "cell-d3484756eb20bfd7",
     "locked": true,
     "schema_version": 3,
     "solution": false,
     "task": false
    }
   },
   "source": [
    "## Checkpoint\n",
    "\n",
    "This is just a check-point, i.e. it is for you to see that you are correctly implementing all functions. \n",
    "\n",
    "Note that a color image is encoded as a 3D array, where the 3rd dimension is used to encode the color information.\n",
    "\n",
    "Execute the following code (just execute the next cell):\n",
    "\n",
    "```python\n",
    "from PIL import Image\n",
    "image = np.array(Image.open('fish.jpeg')).astype(int)\n",
    "\n",
    "# original image\n",
    "print(image.shape)\n",
    "plt.imshow(image)\n",
    "plt.show()\n",
    "\n",
    "# correlation\n",
    "kernel = make_averaging_kernel(n_dim=3, length=7)\n",
    "out = cross_correlation3D(image, kernel, padding_zeros_3D)\n",
    "out = out.astype(int)\n",
    "plt.imshow(out)\n",
    "plt.show()\n",
    "```\n",
    "\n",
    "You should obtain something like:\n",
    "```\n",
    "(510, 510, 3)\n",
    "```\n",
    "\n",
    "<img src='plot4.png' width=300>"
   ]
  },
  {
   "cell_type": "code",
   "execution_count": null,
   "metadata": {
    "ExecuteTime": {
     "end_time": "2023-04-08T17:12:02.999365Z",
     "start_time": "2023-04-08T17:11:54.422422Z"
    },
    "deletable": false,
    "editable": false,
    "nbgrader": {
     "cell_type": "code",
     "checksum": "ba88878db6f046bf7bc1638ab28a91fd",
     "grade": false,
     "grade_id": "cell-e204be3549fb3567",
     "locked": true,
     "schema_version": 3,
     "solution": false,
     "task": false
    }
   },
   "outputs": [],
   "source": [
    "# Just run the following code, do not modify it\n",
    "\n",
    "from PIL import Image\n",
    "image = np.array(Image.open('fish.jpeg')).astype(int)\n",
    "\n",
    "# original image\n",
    "print(image.shape)\n",
    "plt.imshow(image)\n",
    "plt.show()\n",
    "\n",
    "# correlation\n",
    "kernel = make_averaging_kernel(n_dim=3, length=5)\n",
    "out = cross_correlation3D(image, kernel, padding_zeros_3D)\n",
    "out = out.astype(int)\n",
    "plt.imshow(out)\n",
    "plt.show()"
   ]
  }
 ],
 "metadata": {
  "kernelspec": {
   "display_name": "Python 3",
   "language": "python",
   "name": "python3"
  },
  "language_info": {
   "codemirror_mode": {
    "name": "ipython",
    "version": 3
   },
   "file_extension": ".py",
   "mimetype": "text/x-python",
   "name": "python",
   "nbconvert_exporter": "python",
   "pygments_lexer": "ipython3",
   "version": "3.8.5"
  }
 },
 "nbformat": 4,
 "nbformat_minor": 4
}
