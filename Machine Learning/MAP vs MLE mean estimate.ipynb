{
 "cells": [
  {
   "cell_type": "markdown",
   "metadata": {},
   "source": [
    "# MAP vs MLE mean estimate\n",
    "\n",
    "**Aim:** understand the difference between the MAP and MLE estimate in the Bayesian framework"
   ]
  },
  {
   "cell_type": "code",
   "execution_count": 2,
   "metadata": {},
   "outputs": [],
   "source": [
    "%matplotlib inline\n",
    "import matplotlib.pyplot as plt\n",
    "import numpy as np\n",
    "import scipy as sp\n",
    "import warnings\n",
    "warnings.filterwarnings('ignore')"
   ]
  },
  {
   "cell_type": "markdown",
   "metadata": {},
   "source": [
    "## Get the oracle\n",
    "\n",
    "Import the oracle functions `oracle_sigma` and `oracle_sample`. Do not look at their code.\n",
    "\n",
    "The function `oracle_sample` when invoked will output one value sampled from a probability distribution `P` that expresses the height of human male. \n",
    "\n",
    "The probability distribution `P` is a normal distribution with unknown mean and known standard deviation.\n",
    "\n",
    "The function `oracle_sigma` will output the value of the standard deviation of `P`. \n"
   ]
  },
  {
   "cell_type": "code",
   "execution_count": 3,
   "metadata": {},
   "outputs": [],
   "source": [
    "from oracle import oracle_sigma, oracle_sample"
   ]
  },
  {
   "cell_type": "markdown",
   "metadata": {},
   "source": [
    "## Question 1\n",
    "\n",
    "Retreive `n_samples` from the oracle. \n",
    "\n",
    "a) Make the function `mu_N, sigma_N = update_model(samples, sigma, mu_0, sigma_0)` to compute the MAP estimate of the mean of a Normal distribution with a known standard deviation given the samples retrieved.\n",
    "\n",
    "For reference consider the relations:\n",
    "\n",
    "$\\frac{1}{\\sigma_N^2} = \\frac{1}{\\sigma_0^2} + \\frac{N}{\\sigma^2}$\n",
    "\n",
    "$\\mu_N = \\sigma_N^2 (\\frac{\\mu_0}{\\sigma_0^2} + \\frac{N \\bar{t}}{\\sigma^2})$\n",
    "\n",
    "$\\bar{t}= \\frac{1}{N} \\sum_{n=1}^N t_n$\n",
    "\n",
    "where $\\mu_0, \\sigma_0$ refer to the priors (see the lecture material for details). \n"
   ]
  },
  {
   "cell_type": "code",
   "execution_count": 5,
   "metadata": {},
   "outputs": [],
   "source": [
    "def update_model(samples, sigma, mu_0, sigma_0):\n",
    "    # YOUR CODE HERE\n",
    "    raise NotImplementedError()"
   ]
  },
  {
   "cell_type": "code",
   "execution_count": 116,
   "metadata": {},
   "outputs": [],
   "source": [
    "# This cell is reserved for the unit tests. Do not consider this cell. \n",
    "### BEGIN TESTS\n",
    "test_samples = np.random.randn(1000000)\n",
    "mu_N, sigma_N = update_model(test_samples, sigma=10, mu_0=1, sigma_0=1)\n",
    "assert mu_N < 1e-2, 'update_model should compute a mu_N close to 0 instead of %.3f'%mu_N\n",
    "assert np.fabs(sigma_N - 0.001) < 0.01, 'update_model should compute a sigma_N close to 0.001 instead of %.3f'%sigma_N\n",
    "### END TESTS"
   ]
  },
  {
   "cell_type": "markdown",
   "metadata": {},
   "source": [
    "## Question 2\n",
    "\n",
    "Make a function `display_iterative_estimate(mu_0, sigma_0, n_samples)` to plot the iterative MAP and Maximum Likelihood (MLE) estimate when sampling up to `n_samples` from the oracle. \n",
    "\n",
    "You should plot the samples as dots.\n",
    "\n",
    "You should plot the MAP estimate reporting the confidence of the estimate (i.e. +-1 std).\n",
    "\n",
    "You should plot the MLE estimate.\n",
    "\n",
    "\n",
    "You should obtain something like:\n",
    "\n",
    "<img src='plot.png' width=500>"
   ]
  },
  {
   "cell_type": "code",
   "execution_count": null,
   "metadata": {},
   "outputs": [],
   "source": [
    "def display_iterative_estimate(mu_0, sigma_0, n_samples):\n",
    "    # YOUR CODE HERE\n",
    "    raise NotImplementedError()"
   ]
  },
  {
   "cell_type": "code",
   "execution_count": null,
   "metadata": {},
   "outputs": [],
   "source": [
    "# This cell is reserved for the unit tests. Do not consider this cell. \n",
    "### BEGIN TESTS\n",
    "try:\n",
    "    display_iterative_estimate(mu_0=100, sigma_0=10, n_samples=5)\n",
    "except Exception:\n",
    "    assert False, 'the function should not raise an exception when asked to plot the train and test errors'\n",
    "else:\n",
    "    pass\n",
    "### END TESTS"
   ]
  },
  {
   "cell_type": "markdown",
   "metadata": {},
   "source": [
    "## Question 3\n",
    "\n",
    "Experiment with different hypothesis for the prior using your common sense knowledge. \n",
    "\n",
    "Try using up to 10 samples for:\n",
    "1. a wrong large value for $\\mu_0$ with a strong confidence\n",
    "2. a wrong large value for $\\mu_0$ admitting a large uncertainty on the prior \n",
    "3. your best estimate for the average male height $\\mu_0$ and a reasonable confidence"
   ]
  },
  {
   "cell_type": "markdown",
   "metadata": {},
   "source": [
    "## Bonus question\n",
    "\n",
    "Compute what is the median MAP and MLE estimate after 25 samples starting from a range of priors, e.g. `mu_0 = [150,160,170,180,190]` and `sigma_0 = 10`. You should repeat the MAP and MLE estimates 1000 times. \n",
    "\n",
    "You may import the function `oracle_mean` to compute the estimate errors."
   ]
  },
  {
   "cell_type": "markdown",
   "metadata": {},
   "source": [
    "---"
   ]
  }
 ],
 "metadata": {
  "kernelspec": {
   "display_name": "Python 3",
   "language": "python",
   "name": "python3"
  },
  "language_info": {
   "codemirror_mode": {
    "name": "ipython",
    "version": 3
   },
   "file_extension": ".py",
   "mimetype": "text/x-python",
   "name": "python",
   "nbconvert_exporter": "python",
   "pygments_lexer": "ipython3",
   "version": "3.8.5"
  }
 },
 "nbformat": 4,
 "nbformat_minor": 4
}
