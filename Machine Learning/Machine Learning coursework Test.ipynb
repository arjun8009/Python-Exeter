{
 "cells": [
  {
   "cell_type": "markdown",
   "metadata": {
    "deletable": false,
    "editable": false,
    "nbgrader": {
     "cell_type": "markdown",
     "checksum": "c532e03241a2f466a57f4ebdb3b92c9b",
     "grade": false,
     "grade_id": "cell-11fe0ac8a0e8c08a",
     "locked": true,
     "schema_version": 3,
     "solution": false,
     "task": false
    }
   },
   "source": [
    "# ECMM422 Machine Learning\n",
    "## Course Assessment 1\n",
    "\n",
    "\n",
    "This course assessment (CA1) represents 40% of the overall module assessment.\n",
    "\n",
    "This is an individual exercise and your attention is drawn to the College and University guidelines on collaboration and plagiarism, which are available from the College website.\n",
    "\n",
    "\n",
    "**Note:**\n",
    "1. do not change the name of this notebook, i.e. the notebook file has to be named: ca1.ipynb\n",
    "2. do not remove/delete any cell\n",
    "3. do not add any cell (you can work on a draft notebook and only copy the function implementations here)\n",
    "4. do not add you name or student code in the notebook or in the file name\n",
    "\n",
    "**Evaluation criteria:**\n",
    "\n",
    "Each question asks for one or more functions to be implemented. \n",
    "\n",
    "Each question is awarded a number of marks. \n",
    "\n",
    "A (hidden) unit test is going to evaluate if all desired properties of the required function(s) are met. \n",
    "\n",
    "If the test passes all the associated marks are awarded, if it fails 0 marks are awarded. The large number of questions and sub-questions allows a fine grading. \n",
    "\n",
    "\n",
    "**Efficiency:** There is a cap of a few minutes on the execution of each cell and unit test. Make sure your code is not terribly inefficient (for example having a cell run for hours, e.g. using nested loops rather than NumPy functions that can work directly on  arrays), otherwise the execution of the cell/unit test will be interrupted and considered a failure. "
   ]
  },
  {
   "cell_type": "markdown",
   "metadata": {
    "deletable": false,
    "editable": false,
    "nbgrader": {
     "cell_type": "markdown",
     "checksum": "19a2cc433c02a6f192c81cede1f87272",
     "grade": false,
     "grade_id": "cell-b7361becee158bc9",
     "locked": true,
     "schema_version": 3,
     "solution": false,
     "task": false
    }
   },
   "source": [
    "## Notes:\n",
    "\n",
    "We call *rank* the number of indices required to get individual elements of an array. A matrix requires two indices (row, column), and has thus rank 2, a vector requires one index and has rank 1, a scalar does not require any index and has rank 0. The components that make up rank are called *axes* (plural of axis). The dimension is how many elements are in a particular axis. A *shape* is a tuple whose length is the rank and elements are the dimension of each axis.\n",
    "\n",
    "In the rest of the notebook, the term `data matrix` refers to a rank two numpy array where instances are encoded as rows, e.g. a data matrix with 100 rows and 4 columns is to be interpreted as a collection of 100 instances (vectors) each of dimension four.\n",
    "\n",
    "In the rest of the notebook, the term `vector` refers to a rank one numpy array. When the term `distance` is used we mean the Euclidean distance. \n",
    "\n",
    "The functions you are required to write need to take in input and return as output such objects (i.e. not python lists).\n",
    "\n",
    "---\n",
    "\n",
    "When a required function can be implemented directly by a library function it is intended that the candidate should write her own implementation of the function.\n",
    "\n",
    "---\n",
    "\n",
    "Do not assume that the implementations provided in the Workshops exercises contain no mistakes. You should write and are ultimately responsible for the code that you submit in this Assessment.\n"
   ]
  },
  {
   "cell_type": "code",
   "execution_count": 1,
   "metadata": {
    "ExecuteTime": {
     "end_time": "2023-02-24T12:05:59.733591Z",
     "start_time": "2023-02-24T12:05:59.341150Z"
    },
    "deletable": false,
    "editable": false,
    "nbgrader": {
     "cell_type": "code",
     "checksum": "1dfc583d591117627e814c28389f7622",
     "grade": false,
     "grade_id": "cell-9e614a36d5268220",
     "locked": true,
     "schema_version": 3,
     "solution": false,
     "task": false
    }
   },
   "outputs": [],
   "source": [
    "%matplotlib inline\n",
    "import matplotlib.pyplot as plt\n",
    "import numpy as np\n",
    "import scipy as sp"
   ]
  },
  {
   "cell_type": "markdown",
   "metadata": {
    "deletable": false,
    "editable": false,
    "nbgrader": {
     "cell_type": "markdown",
     "checksum": "d44cc563188300d4674776c37f058e45",
     "grade": false,
     "grade_id": "cell-41308c8fadb8d614",
     "locked": true,
     "schema_version": 3,
     "solution": false,
     "task": false
    }
   },
   "source": [
    "## Question 1  [marks 6]\n",
    "\n",
    "a) Make a function `data_matrix = make_data_classification(mean, std, n_centres, inner_std, n_samples, random_seed=42)` to create a data matrix according to the following rules:\n",
    "1. `mean` is a n-dimensional vector (say [1,1], but the function should allow vectors of any dimension)\n",
    "2. `n_centres` is the number of centres (say 3) \n",
    "3. `std` is the standard deviation (say 1)\n",
    "4. the centres are sampled from a Normal distribution with mean `mean` and standard deviation `std`\n",
    "5. from each centre sample `n_samples` from a Normal distribution with the centre as the mean and standard deviation `inner_std`\n",
    "so if `mean=[1,1]` `n_centres=3` and `n_samples=10` then the data matrix will be a 30 rows x 2 columns numpy array.\n",
    "\n",
    "b) Make a function `data_matrix, targets = make_data_regression(mean, std, n_centres, inner_std, n_samples, random_seed=42)` to create a data matrix  and a target vector according to the following rules:\n",
    "1. the data matrix is constructed in the same way as in `make_data_classification`\n",
    "2. the targets are the Euclidean distance between the sample and the centre of the generating Normal distribution\n",
    "\n",
    "See Question 3 for a graphical example of the expected output."
   ]
  },
  {
   "cell_type": "code",
   "execution_count": 2,
   "metadata": {
    "ExecuteTime": {
     "end_time": "2023-02-24T12:05:59.743740Z",
     "start_time": "2023-02-24T12:05:59.736511Z"
    },
    "deletable": false,
    "nbgrader": {
     "cell_type": "code",
     "checksum": "ae5712ffbdbc5ffb8119d10c6e0cd274",
     "grade": false,
     "grade_id": "cell-49b50402b19eacea",
     "locked": false,
     "schema_version": 3,
     "solution": true,
     "task": false
    }
   },
   "outputs": [],
   "source": [
    "def make_data_classification(mean, std, n_centres, inner_std, n_samples, random_seed=42):\n",
    "    np.random.seed(random_seed)\n",
    "    final_centre = []\n",
    "    total_samples = n_samples\n",
    "    n_samples= int(n_samples/3)\n",
    "    for i in range(n_centres):\n",
    "        centre = []\n",
    "        for j in range(len(mean)):\n",
    "            sample = std*np.random.randn(1) + mean[j]\n",
    "            centre.append(sample[0])\n",
    "        final_centre.append(centre)\n",
    "    #print(final_centre)\n",
    "    final_samples = []\n",
    "    for i in range(n_centres):\n",
    "        samples = []\n",
    "        for j in range(len(mean)):\n",
    "            sample = [[i] for  i in inner_std*np.random.randn(n_samples) + final_centre[i][j]]\n",
    "            samples.append(sample)\n",
    "        final_samples.append(np.hstack(samples))\n",
    "        #print(final_samples)\n",
    "    samples = []\n",
    "    #print(total_samples-len(final_samples))\n",
    "    if(total_samples-(n_samples*3)>0):\n",
    "        random_center = np.random.randint(0,3)\n",
    "        for j in range(len(mean)):\n",
    "            sample = [[i] for  i in inner_std*np.random.randn(total_samples-(n_samples*3)) + final_centre[random_center][j]]\n",
    "            samples.append(sample)\n",
    "        final_samples.append(np.hstack(samples))\n",
    "    elif(total_samples-(n_samples*3)<0):\n",
    "        for i in range(total_samples-(n_samples*3)):\n",
    "            index = np.random.randint(0,len(final_samples))\n",
    "            final_samples.pop(index)\n",
    "\n",
    "    final_samples = np.vstack(final_samples)\n",
    "    return final_samples    \n",
    "\n",
    "\n",
    "def make_data_regression(mean, std, n_centres, inner_std, n_samples, random_seed=43):\n",
    "    np.random.seed(random_seed)\n",
    "    final_centre = []\n",
    "    total_samples = n_samples\n",
    "    n_samples= int(n_samples/3)\n",
    "    for i in range(n_centres):\n",
    "        centre = []\n",
    "        for j in range(len(mean)):\n",
    "            sample = std*np.random.randn(1) + mean[j]\n",
    "            centre.append(sample[0])\n",
    "        final_centre.append(centre)\n",
    "    #print(final_centre)\n",
    "    final_samples = []\n",
    "    targets = []\n",
    "    for i in range(n_centres):\n",
    "        samples = []\n",
    "        for j in range(len(mean)):\n",
    "            sample = [[i] for  i in inner_std*np.random.randn(n_samples) + final_centre[i][j]]\n",
    "            samples.append(sample)\n",
    "        final_samples.append(np.hstack(samples))\n",
    "        #print(final_samples[i])\n",
    "        targets.append([np.linalg.norm(j-final_centre[i]) for j in final_samples[i]])\n",
    "        #print(targets)\n",
    "    \n",
    "    samples = []\n",
    "    new_samples = []\n",
    "    if(total_samples-(n_samples*3)>=1):\n",
    "        random_center = np.random.randint(0,3)\n",
    "        for j in range(len(mean)):\n",
    "            sample = [[i] for  i in inner_std*np.random.randn(total_samples-(n_samples*3)) + final_centre[random_center][j]]\n",
    "            samples.append(sample)\n",
    "        new_samples.append(np.hstack(samples))\n",
    "        final_samples.append(np.hstack(samples))\n",
    "        #print(final_samples[random_center])\n",
    "        targets.append([np.linalg.norm(j-final_centre[random_center]) for j in new_samples[0]])\n",
    "    elif(total_samples-n_samples<0):\n",
    "        print(\"Entered\")\n",
    "        for i in range(total_samples-(n_samples*3)):\n",
    "            index = np.random.randint(0,len(final_samples))\n",
    "            final_samples.pop(index)\n",
    "            targets.pop(index)\n",
    "    \n",
    "    targets = np.hstack(targets).reshape(-1,1)\n",
    "    final_samples = np.vstack(final_samples)\n",
    "    return final_samples,targets\n"
   ]
  },
  {
   "cell_type": "code",
   "execution_count": 3,
   "metadata": {
    "ExecuteTime": {
     "end_time": "2023-02-24T12:06:00.427477Z",
     "start_time": "2023-02-24T12:05:59.746225Z"
    },
    "deletable": false,
    "editable": false,
    "nbgrader": {
     "cell_type": "code",
     "checksum": "436a06a7c59628ba72548fe773c18388",
     "grade": true,
     "grade_id": "cell-fbf0bfd58ace420a",
     "locked": true,
     "points": 3,
     "schema_version": 3,
     "solution": false,
     "task": false
    }
   },
   "outputs": [],
   "source": [
    "# This cell is reserved for the unit tests. Do not consider this cell. "
   ]
  },
  {
   "cell_type": "code",
   "execution_count": 4,
   "metadata": {
    "ExecuteTime": {
     "end_time": "2023-02-24T12:06:00.434498Z",
     "start_time": "2023-02-24T12:06:00.430108Z"
    },
    "deletable": false,
    "editable": false,
    "nbgrader": {
     "cell_type": "code",
     "checksum": "9f1550f44b5e91700b7015dccd169b2e",
     "grade": true,
     "grade_id": "cell-633aa20749b2a6b8",
     "locked": true,
     "points": 3,
     "schema_version": 3,
     "solution": false,
     "task": false
    }
   },
   "outputs": [],
   "source": [
    "# This cell is reserved for the unit tests. Do not consider this cell. "
   ]
  },
  {
   "cell_type": "markdown",
   "metadata": {
    "deletable": false,
    "editable": false,
    "nbgrader": {
     "cell_type": "markdown",
     "checksum": "51ea1d2b15f7b5bded0ade05df9821cc",
     "grade": false,
     "grade_id": "cell-59fc19051b0b0921",
     "locked": true,
     "schema_version": 3,
     "solution": false,
     "task": false
    }
   },
   "source": [
    "## Question 2  [marks 2]\n",
    "\n",
    "a) Make a function `data_matrix, targets = get_dataset_classification(n_samples, std, inner_std)` to create a data matrix and a target vector for a binary classification problem according to the following rules:\n",
    "- the instances from the positive class are generated according to the same rules provided for `make_data_classification`; so are the instances from the negative class \n",
    "- the number of samples for the postive and negative class are balanced\n",
    "- instances from the positive class have as mean the vector [10,10] and those from the negative class, vector [-10,-10]\n",
    "- the number of centres is fixed to 3\n",
    "- the random seed is fixed to 42\n",
    "- `n_samples` indicates the total number of instances finally available in the output `data_matrix`\n",
    "\n",
    "b) Make a function `data_matrix, targets = get_dataset_regression(n_samples, std, inner_std)` to create a data matrix according to the following rules:\n",
    "- the instances are generated according to the same rules provided for `make_data_regression`\n",
    "- the targets are generated according to the same rules provided for `make_data_regression`\n",
    "- instances have as mean the vector [10,10]\n",
    "- the number of centres is fixed to 3\n",
    "- the random seed is fixed to 42\n",
    "- `n_samples` indicates the total number of instances finally available in the output `data_matrix`"
   ]
  },
  {
   "cell_type": "code",
   "execution_count": 5,
   "metadata": {
    "ExecuteTime": {
     "end_time": "2023-02-24T12:06:00.440711Z",
     "start_time": "2023-02-24T12:06:00.435979Z"
    },
    "deletable": false,
    "nbgrader": {
     "cell_type": "code",
     "checksum": "8a76bbf84050e15f32ffc49e1437e390",
     "grade": false,
     "grade_id": "cell-bff4bb4a60f18d71",
     "locked": false,
     "schema_version": 3,
     "solution": true,
     "task": false
    }
   },
   "outputs": [],
   "source": [
    "def get_dataset_classification(n_samples, std, inner_std):\n",
    "    positive_class_data = make_data_classification([10,10], std, 3, inner_std, int(n_samples/2), random_seed=42)\n",
    "    negative_class_data = make_data_classification([-10,-10], std, 3, inner_std, int(n_samples/2), random_seed=42)\n",
    "    data_matrix = np.vstack([positive_class_data, negative_class_data])\n",
    "    targets = np.vstack([np.ones((int(n_samples/2),1)),np.ones((int(n_samples/2),1))*-1])\n",
    "    return data_matrix, targets\n",
    "\n",
    "def get_dataset_regression(n_samples, std, inner_std):\n",
    "    data_matrix,targets = make_data_regression([10,10], std, 3, inner_std, n_samples, random_seed=42)\n",
    "    return data_matrix, targets\n"
   ]
  },
  {
   "cell_type": "code",
   "execution_count": 6,
   "metadata": {
    "ExecuteTime": {
     "end_time": "2023-02-24T12:06:00.449052Z",
     "start_time": "2023-02-24T12:06:00.442853Z"
    },
    "deletable": false,
    "editable": false,
    "nbgrader": {
     "cell_type": "code",
     "checksum": "6f5999d4363224881986e5f1e0e78632",
     "grade": true,
     "grade_id": "cell-315a764eecd939ce",
     "locked": true,
     "points": 2,
     "schema_version": 3,
     "solution": false,
     "task": false
    }
   },
   "outputs": [],
   "source": [
    "# This cell is reserved for the unit tests. Do not consider this cell. "
   ]
  },
  {
   "cell_type": "markdown",
   "metadata": {
    "deletable": false,
    "editable": false,
    "nbgrader": {
     "cell_type": "markdown",
     "checksum": "d15ce68d8df4f9234316e57318087534",
     "grade": false,
     "grade_id": "cell-a9f40b54d4638aae",
     "locked": true,
     "schema_version": 3,
     "solution": false,
     "task": false
    }
   },
   "source": [
    "## Question 3  [marks 1]\n",
    "\n",
    "Make a function `plot(X,y)` to display the scatter plot of a data matrix of two dimensional instances using the array `y` to assign the colour to the instances.\n",
    "\n",
    "\n",
    "When running \n",
    "\n",
    "```python\n",
    "X, y = get_dataset_regression(n_samples=600, std=30, inner_std=5)\n",
    "plot(X,y)\n",
    "```\n",
    "you should get something like\n",
    "\n",
    "<img src='plot3.png' width=300>\n",
    "\n",
    "and when running\n",
    "\n",
    "```python\n",
    "X, y = get_dataset_classification(n_samples=600, std=30, inner_std=5)\n",
    "plot(X,y)\n",
    "```\n",
    "you should get something like\n",
    "\n",
    "<img src='plot3b.png' width=300>"
   ]
  },
  {
   "cell_type": "code",
   "execution_count": 7,
   "metadata": {
    "ExecuteTime": {
     "end_time": "2023-02-24T12:06:00.456361Z",
     "start_time": "2023-02-24T12:06:00.453084Z"
    },
    "deletable": false,
    "nbgrader": {
     "cell_type": "code",
     "checksum": "650ac49d731f15d497caf36d43c2f8a9",
     "grade": false,
     "grade_id": "cell-c03ec4203ec30067",
     "locked": false,
     "schema_version": 3,
     "solution": true,
     "task": false
    }
   },
   "outputs": [],
   "source": [
    "def plot(X,y):\n",
    "    x = [i[0] for i in X]\n",
    "    y_1 = [i[1] for i in X]\n",
    "    plt.figure(figsize=(3,3))\n",
    "    plt.scatter(x,y_1,c=y,edgecolor='w')\n",
    "    plt.grid()\n",
    "    plt.show()\n",
    "    "
   ]
  },
  {
   "cell_type": "code",
   "execution_count": 8,
   "metadata": {},
   "outputs": [
    {
     "data": {
      "image/png": "[encoded data removed]",
      "text/plain": [
       "<Figure size 300x300 with 1 Axes>"
      ]
     },
     "metadata": {},
     "output_type": "display_data"
    },
    {
     "data": {
      "image/png": "[encoded data removed]",
      "text/plain": [
       "<Figure size 300x300 with 1 Axes>"
      ]
     },
     "metadata": {},
     "output_type": "display_data"
    }
   ],
   "source": [
    "X, y = get_dataset_classification(n_samples=600, std=30, inner_std=5)\n",
    "plot(X,y)\n",
    "X, y = get_dataset_regression(n_samples=600, std=30, inner_std=5)\n",
    "plot(X,y)"
   ]
  },
  {
   "cell_type": "code",
   "execution_count": 9,
   "metadata": {
    "ExecuteTime": {
     "end_time": "2023-02-24T12:06:00.623961Z",
     "start_time": "2023-02-24T12:06:00.460559Z"
    },
    "deletable": false,
    "editable": false,
    "nbgrader": {
     "cell_type": "code",
     "checksum": "ba4bc39cbbc1f2c95cdba9d7fc966b02",
     "grade": true,
     "grade_id": "cell-8ce0d987b11efe97",
     "locked": true,
     "points": 1,
     "schema_version": 3,
     "solution": false,
     "task": false
    }
   },
   "outputs": [],
   "source": [
    "# This cell is reserved for the unit tests. Do not consider this cell. "
   ]
  },
  {
   "cell_type": "markdown",
   "metadata": {
    "deletable": false,
    "editable": false,
    "nbgrader": {
     "cell_type": "markdown",
     "checksum": "1bc5ec9680b32564a8f73c81cea12468",
     "grade": false,
     "grade_id": "cell-3994e5b1f6dd1986",
     "locked": true,
     "schema_version": 3,
     "solution": false,
     "task": false
    }
   },
   "source": [
    "## Question 4  [marks 1]\n",
    "\n",
    "Make a function `classification_error(targets, preds)` to compute the fraction of times that the entries in `targets` do not agree with the corresponding entries in `preds`.\n",
    "\n",
    "**Note:** do not use library functions to compute the result directly but implement your own version."
   ]
  },
  {
   "cell_type": "code",
   "execution_count": 10,
   "metadata": {
    "ExecuteTime": {
     "end_time": "2023-02-24T12:06:00.627894Z",
     "start_time": "2023-02-24T12:06:00.625573Z"
    },
    "deletable": false,
    "nbgrader": {
     "cell_type": "code",
     "checksum": "1c3b697b4e5c6a79acc56b3a33c2e7ce",
     "grade": false,
     "grade_id": "cell-38283b8cd78fca31",
     "locked": false,
     "schema_version": 3,
     "solution": true,
     "task": false
    }
   },
   "outputs": [],
   "source": [
    "def classification_error(targets, preds):\n",
    "    errors = [targets[i] for i in range(len(preds)) if targets[i]!=preds[i]]\n",
    "    return len(errors)/len(targets)"
   ]
  },
  {
   "cell_type": "code",
   "execution_count": 11,
   "metadata": {
    "ExecuteTime": {
     "end_time": "2023-02-24T12:06:00.632218Z",
     "start_time": "2023-02-24T12:06:00.629428Z"
    },
    "deletable": false,
    "editable": false,
    "nbgrader": {
     "cell_type": "code",
     "checksum": "47f810f07baf8b3e2e83ffed54a909a9",
     "grade": true,
     "grade_id": "cell-2c4e50d0ec1e9227",
     "locked": true,
     "points": 1,
     "schema_version": 3,
     "solution": false,
     "task": false
    }
   },
   "outputs": [],
   "source": [
    "# This cell is reserved for the unit tests. Do not consider this cell. "
   ]
  },
  {
   "cell_type": "markdown",
   "metadata": {
    "deletable": false,
    "editable": false,
    "nbgrader": {
     "cell_type": "markdown",
     "checksum": "c86fbb9199fbe9ee64006cdaae0e5862",
     "grade": false,
     "grade_id": "cell-569ce08b42229bd0",
     "locked": true,
     "schema_version": 3,
     "solution": false,
     "task": false
    }
   },
   "source": [
    "## Question 5  [marks 2]\n",
    "\n",
    "Make a function `regression_error(targets, preds)` to compute the mean squared error between `targets` and `preds`.\n",
    "\n",
    "$${\\displaystyle \\operatorname {MSE} ={\\frac {1}{n}}\\sum _{i=1}^{n}(T_{i}-{ {P_{i}}})^{2}.}$$\n",
    "\n",
    "**Note:** do not use library functions to compute the result directly but implement your own version."
   ]
  },
  {
   "cell_type": "code",
   "execution_count": 12,
   "metadata": {
    "ExecuteTime": {
     "end_time": "2023-02-24T12:06:00.636250Z",
     "start_time": "2023-02-24T12:06:00.633755Z"
    },
    "deletable": false,
    "nbgrader": {
     "cell_type": "code",
     "checksum": "fdd5b8ce3d832d1cab61410211fb0273",
     "grade": false,
     "grade_id": "cell-41a05a42202a748d",
     "locked": false,
     "schema_version": 3,
     "solution": true,
     "task": false
    }
   },
   "outputs": [],
   "source": [
    "def regression_error(targets, preds):\n",
    "    n = len(preds)\n",
    "    error = [(targets[i]-preds[i])**2 for i in range(len(preds))]\n",
    "    return sum(error)[0]/n"
   ]
  },
  {
   "cell_type": "code",
   "execution_count": 13,
   "metadata": {
    "ExecuteTime": {
     "end_time": "2023-02-24T12:06:00.640602Z",
     "start_time": "2023-02-24T12:06:00.637741Z"
    },
    "deletable": false,
    "editable": false,
    "nbgrader": {
     "cell_type": "code",
     "checksum": "697ec2cac2d3194d4823da20999474f2",
     "grade": true,
     "grade_id": "cell-6c6a3122c790388a",
     "locked": true,
     "points": 2,
     "schema_version": 3,
     "solution": false,
     "task": false
    }
   },
   "outputs": [],
   "source": [
    "# This cell is reserved for the unit tests. Do not consider this cell. "
   ]
  },
  {
   "cell_type": "markdown",
   "metadata": {
    "deletable": false,
    "editable": false,
    "nbgrader": {
     "cell_type": "markdown",
     "checksum": "30677a3966db2bf530e5b3d4c4906622",
     "grade": false,
     "grade_id": "cell-054372fdf9cd01db",
     "locked": true,
     "schema_version": 3,
     "solution": false,
     "task": false
    }
   },
   "source": [
    "## Question 6  [marks 7]\n",
    "\n",
    "Make a function `make_bootstrap(data_matrix, targets)` to extract a bootstrapped replicate of an input dataset. \n",
    "\n",
    "The function should return the following 6 elements (in this order): `bootstrap_data_matrix, bootstrap_targets, bootstrap_sample_ids, oob_data_matrix, oob_targets, oob_samples_ids`, where:\n",
    "1. `bootstrap_data_matrix`: is a data matrix encoding the bootstrapped replicate of the data matrix; the number of instances in `bootstrap_data_matrix` is equal to the number of instances in `data_matrix`\n",
    "2. `bootstrap_targets`: is the corresponding bootstrapped replicate of the target vector\n",
    "3. `bootstrap_sample_ids`: is an array containing the instance indices of the bootstrapped replicate of the data matrix\n",
    "4. `oob_data_matrix`: is a data matrix encoding the out of bag instances \n",
    "5. `oob_targets`: is the corresponding out of bag instances of the target vector\n",
    "6. `oob_samples_ids`: is an array containing the instance indices of the out of bag instances "
   ]
  },
  {
   "cell_type": "code",
   "execution_count": 14,
   "metadata": {
    "ExecuteTime": {
     "end_time": "2023-02-24T12:06:00.645061Z",
     "start_time": "2023-02-24T12:06:00.642081Z"
    },
    "deletable": false,
    "nbgrader": {
     "cell_type": "code",
     "checksum": "c0df64ac3989e98156db1e3f9178c628",
     "grade": false,
     "grade_id": "cell-9820cf66bd156644",
     "locked": false,
     "schema_version": 3,
     "solution": true,
     "task": false
    }
   },
   "outputs": [],
   "source": [
    "def make_bootstrap(data_matrix, targets):\n",
    "    bootstrap_sample_ids = []\n",
    "    bootstrap_data_matrix = []\n",
    "    bootstrap_target = []\n",
    "    no_of_samples = len(targets)\n",
    "    for i in range(no_of_samples):\n",
    "        choice = np.random.randint(0, no_of_samples)\n",
    "        bootstrap_sample_ids.append(choice)\n",
    "        bootstrap_data_matrix.append(data_matrix[choice])\n",
    "        bootstrap_target.append(targets[choice])\n",
    "    uniques_sample_ids = np.unique(bootstrap_sample_ids)\n",
    "    oob_data_matrix = np.array([data_matrix[i] for i in range(len(targets)) if i not in uniques_sample_ids])\n",
    "    oob_sample_ids = np.array([i for i in range(len(targets)) if i not in uniques_sample_ids])\n",
    "    oob_targets = np.array([targets[i] for i in range(len(targets)) if i not in uniques_sample_ids])\n",
    "\n",
    "\n",
    "    return bootstrap_data_matrix,bootstrap_target,bootstrap_sample_ids,oob_data_matrix,oob_targets,oob_sample_ids\n",
    "\n",
    "        \n",
    "\n",
    "\n",
    "        "
   ]
  },
  {
   "cell_type": "code",
   "execution_count": 15,
   "metadata": {
    "ExecuteTime": {
     "end_time": "2023-02-24T12:06:00.650910Z",
     "start_time": "2023-02-24T12:06:00.646533Z"
    },
    "deletable": false,
    "editable": false,
    "nbgrader": {
     "cell_type": "code",
     "checksum": "02a587297741dc7101065d25ebb82732",
     "grade": true,
     "grade_id": "cell-d5d05e6a91c17f6e",
     "locked": true,
     "points": 4,
     "schema_version": 3,
     "solution": false,
     "task": false
    }
   },
   "outputs": [],
   "source": [
    "# This cell is reserved for the unit tests. Do not consider this cell. "
   ]
  },
  {
   "cell_type": "code",
   "execution_count": 16,
   "metadata": {
    "ExecuteTime": {
     "end_time": "2023-02-24T12:06:00.656626Z",
     "start_time": "2023-02-24T12:06:00.652629Z"
    },
    "deletable": false,
    "editable": false,
    "nbgrader": {
     "cell_type": "code",
     "checksum": "c7a8cf3883784c8f626cd377a7354d1a",
     "grade": true,
     "grade_id": "cell-144c51ff934a2f3f",
     "locked": true,
     "points": 3,
     "schema_version": 3,
     "solution": false,
     "task": false
    }
   },
   "outputs": [],
   "source": [
    "# This cell is reserved for the unit tests. Do not consider this cell. "
   ]
  },
  {
   "cell_type": "markdown",
   "metadata": {
    "deletable": false,
    "editable": false,
    "nbgrader": {
     "cell_type": "markdown",
     "checksum": "78b00ab687dcb2a784503b3e43b589b4",
     "grade": false,
     "grade_id": "cell-11d4d0ffcdc7e914",
     "locked": true,
     "schema_version": 3,
     "solution": false,
     "task": false
    }
   },
   "source": [
    "## Question 7  [marks 9]\n",
    "\n",
    "Consider the following functional blueprints `estimator = train(X_train, y_train, param)` and `test(X_test, estimator)`. A function of type `train` takes in input a data matrix `X_train` a target vector `y_train` and a single value `param` (not a list of parameters). A function of type `train` outputs an object that represent an estimator. A function of type `test` takes in input a data matrix `X_test` the fit object `estimator` and outputs the predicted targets.\n",
    "\n",
    "Using this blueprint, write the specialised train and test functions for the following classifiers and regressors (use the function signature provided in the next cell, e.g. `train_ab` for training an adaboost classifier):\n",
    "\n",
    "Classifiers:\n",
    "- a) k-nearest-neighbor: the parameter controls the number of neighbors (you may use KNeighborsClassifier from scikit) `[train_knn, test_knn]`\n",
    "- b) adaboost: the parameter controls the maximal depth of the decision tree uses as weak classifier (you may use the DecisionTreeClassifier from scikit but **you should provide your own implementation of the boosting algorithm**) `[train_ab, test_ab]`\n",
    "- c) random forest: the parameter controls the maximal depth of the tree (you may use the DecisionTreeClassifier from scikit but **you should provide your own implementation of the bagging algorithm**) `[train_rfc, test_rfc]`\n",
    "\n",
    "Regressors:\n",
    "- d) decision tree: the parameter controls the maximal depth of the tree (you may use the DecisionTreeRegressor from scikit) `[train_dt, test_dt]`\n",
    "- e) svm linear: the parameter controls the regularization constant C (you may use SVR from scikit) `[train_svm_1, test_svm]`\n",
    "- f) svm with a polynomial kernel of degree 2: the parameter controls the regularization constant C  (you may use SVR from scikit) `[train_svm_2, test_svm]`\n",
    "- g) svm with a polynomial kernel of degree 3: the parameter controls the regularization constant C  (you may use SVR from scikit) `[train_svm_3, test_svm]`\n",
    "- h) random forest: the parameter controls the maximal depth of the tree (you may use the DecisionTreeRegressor from scikit but **you should provide your own implementation of the bagging algorithm**) `[train_rf, test_rf]`\n",
    "\n",
    "For the algorithms `adaboost` and `random forest`, the size of the ensemble should be fixed to 100."
   ]
  },
  {
   "cell_type": "code",
   "execution_count": 17,
   "metadata": {
    "ExecuteTime": {
     "end_time": "2023-02-24T12:06:00.671354Z",
     "start_time": "2023-02-24T12:06:00.658156Z"
    },
    "deletable": false,
    "nbgrader": {
     "cell_type": "code",
     "checksum": "2e6e8e1169241fdd83d3145216354846",
     "grade": false,
     "grade_id": "cell-df3c9bf947c1e603",
     "locked": false,
     "schema_version": 3,
     "solution": true,
     "task": false
    }
   },
   "outputs": [],
   "source": [
    "# classifiers\n",
    "from sklearn.neighbors import KNeighborsClassifier\n",
    "\n",
    "def train_knn(X_train, y_train, param):\n",
    "    model = KNeighborsClassifier(n_neighbors=param)\n",
    "    model.fit(X_train, y_train.ravel())\n",
    "    return model\n",
    "\n",
    "def test_knn(X_test, est):\n",
    "    predictions = est.predict(X_test)\n",
    "    return predictions\n",
    "\n",
    "from sklearn.tree import DecisionTreeClassifier\n",
    "\n",
    "def error(targets, preds, weights=None):\n",
    "    if(weights is not None):\n",
    "        weighted_error = [weights[i] for i in range(len(preds)) if preds[i]!=targets[i] ]\n",
    "        error  = sum(weighted_error)/sum(weights)\n",
    "        return error\n",
    "    else:\n",
    "        unweighted_error = [1 for i in range(len(preds)) if preds[i]!=targets[i]]\n",
    "        error  = sum(unweighted_error)\n",
    "        return error\n",
    "\n",
    "def update_weights(Wm, preds, targets):\n",
    "    #print(preds,targets.ravel())\n",
    "    errors = error(targets,preds,Wm)\n",
    "    numerator = 1-errors\n",
    "    classifier_error = 0.5*np.log(numerator/errors)\n",
    "    updated_weights=  []\n",
    "    #print(\"classifier error\",classifier_error)\n",
    "    indicator = [1 if preds[i]!=targets[i] else 0 for i in range(len(targets))]\n",
    "    #print(\"indicator\",indicator)\n",
    "    for i in range(len(Wm)):\n",
    "        exponent = np.exp(classifier_error*indicator[i])\n",
    "        #print(\"exponent\",exponent)\n",
    "        updated_weights.append(Wm[i]*exponent)\n",
    "        #print(\"updated weights\",updated_weights)\n",
    "    updated_weights = np.array([i/sum(updated_weights) for i in updated_weights])\n",
    "    #print(sum(updated_weights))\n",
    "    return updated_weights,classifier_error,errors\n",
    "\n",
    "def initialise_weights(X):\n",
    "    N = len(X)\n",
    "    weights = [1/N for i in range(N)]\n",
    "    return weights\n",
    "\n",
    "\n",
    "def train_ab(X_train, y_train, param):\n",
    "    models = [] \n",
    "    errors = []\n",
    "    alphas = []\n",
    "    weightss = []\n",
    "    n_iter = 5\n",
    "    weights = initialise_weights(X_train)\n",
    "    y_train = y_train.ravel()\n",
    "    #y_train = [-1 if y_train[i]==0 else 1 for i in range(len(y_train))]\n",
    "    for m in range(n_iter):\n",
    "        #print(weights)\n",
    "        \"\"\"fint and predict using a weak classifier: a decision tree of depth=max_depth \"\"\"\n",
    "        clf = DecisionTreeClassifier(max_depth=param).fit(X_train,y_train,sample_weight=weights)\n",
    "        preds = clf.predict(X_train)\n",
    "        \n",
    "        \"\"\"update instances' weights based on predictive error\"\"\"\n",
    "        weights, alpha, e = update_weights(weights, preds, y_train)\n",
    "        \n",
    "        models.append((alpha,clf))       #Store the trained model (clf) and its weight (alpha)\n",
    "\n",
    "\n",
    "        \"\"\"Log info for downstream analysis\"\"\"\n",
    "        errors.append(e)          \n",
    "        alphas.append(alpha)      \n",
    "        weightss.append(weights.copy())\n",
    "    \n",
    "    return models\n",
    " \n",
    "\n",
    "def test_ab(X_test, models):\n",
    "    predictions = []\n",
    "    for j in range(len(X_test)):\n",
    "        votes = []\n",
    "        for i in models:\n",
    "            alpha,clf = i\n",
    "            prediction = clf.predict([X_test[j]])\n",
    "            votes.append(prediction[0]*alpha)\n",
    "        sum_vote = sum(votes)\n",
    "        #print(sum_vote)\n",
    "        predictions.append(np.sign(sum_vote))\n",
    "    #predictions = [0 if predictions[i]==-1 else 1 for i in range(len(predictions))]\n",
    "    return predictions\n",
    "\n",
    "from sklearn.tree import DecisionTreeClassifier\n",
    "\n",
    "def train_rfc(X_train, y_train, param):\n",
    "    B = 3\n",
    "    models = []\n",
    "    for i in range(B):\n",
    "        bootstrap_data_matrix,bootstrap_target,bootstrap_sample_ids,oob_data_matrix,oob_targets,oob_sample_ids = make_bootstrap(X_train, y_train)\n",
    "        clf = DecisionTreeClassifier(max_depth=param).fit(bootstrap_data_matrix,bootstrap_target)\n",
    "        models.append(clf)\n",
    "    return models\n",
    "\n",
    "        \n",
    "def test_rfc(X_test, models):\n",
    "    predictions = []\n",
    "    for i in X_test:\n",
    "        predictions_per_bootstrap = []\n",
    "        for j in models:\n",
    "            predictions_per_bootstrap.append(j.predict([i]))\n",
    "        predictions_per_bootstrap = np.array(predictions_per_bootstrap)\n",
    "        unique,counts = np.unique(predictions_per_bootstrap,return_counts=True)\n",
    "        predictions.append(unique[np.argmax(counts)])\n",
    "    return predictions\n",
    "        \n",
    "        \n",
    "\n",
    "\n",
    "# regressors\n",
    "from sklearn.tree import DecisionTreeRegressor\n",
    "\n",
    "def train_dt(X_train, y_train, param):\n",
    "    model = DecisionTreeRegressor(max_depth=param).fit(X_train, y_train.ravel())\n",
    "    return model\n",
    "\n",
    "def test_dt(X_test, est):\n",
    "    predictions = est.predict(X_test)\n",
    "    return predictions\n",
    "\n",
    "from sklearn.svm import SVR\n",
    "\n",
    "def train_svm_1(X_train, y_train, param):\n",
    "    model = SVR(kernel='linear',C=param).fit(X_train, y_train.ravel())\n",
    "    return model\n",
    "\n",
    "def train_svm_2(X_train, y_train, param):\n",
    "    model = SVR(kernel='poly',degree=2,C=param).fit(X_train, y_train.ravel())\n",
    "    return model\n",
    "\n",
    "def train_svm_3(X_train, y_train, param):\n",
    "    model = SVR(kernel='poly',degree=3,C=param).fit(X_train, y_train.ravel())\n",
    "    return model\n",
    "\n",
    "#Note: you do not need to specialise the svm test function for each degree\n",
    "def test_svm(X_test, est):\n",
    "    predictions = est.predict(X_test)\n",
    "    return predictions\n",
    "\n",
    "from sklearn.tree import DecisionTreeRegressor\n",
    "\n",
    "def train_rf(X_train, y_train, param):\n",
    "    B = 5\n",
    "    models = []\n",
    "    for i in range(B):\n",
    "        bootstrap_data_matrix,bootstrap_target,bootstrap_sample_ids,oob_data_matrix,oob_targets,oob_sample_ids = make_bootstrap(X_train, y_train)\n",
    "        clf = DecisionTreeRegressor(max_depth=param).fit(bootstrap_data_matrix,bootstrap_target)\n",
    "        models.append(clf)\n",
    "    return models\n",
    "\n",
    "def test_rf(X_test, models):\n",
    "    predictions = []\n",
    "    B = 5\n",
    "    for i in X_test:\n",
    "        predictions_per_bootstrap = []\n",
    "        for j in models:\n",
    "            predictions_per_bootstrap.append(j.predict([i]))\n",
    "        predictions.append(np.round(sum(predictions_per_bootstrap)/B,2))\n",
    "    return predictions\n",
    "    "
   ]
  },
  {
   "cell_type": "code",
   "execution_count": 18,
   "metadata": {
    "ExecuteTime": {
     "end_time": "2023-02-24T12:06:00.683807Z",
     "start_time": "2023-02-24T12:06:00.673253Z"
    },
    "deletable": false,
    "editable": false,
    "nbgrader": {
     "cell_type": "code",
     "checksum": "6f0b6388c0871638ea9db50fd3284ac1",
     "grade": true,
     "grade_id": "cell-80c878649e4d112c",
     "locked": true,
     "points": 1,
     "schema_version": 3,
     "solution": false,
     "task": false
    }
   },
   "outputs": [],
   "source": [
    "# This cell is reserved for the unit tests. Do not consider this cell. "
   ]
  },
  {
   "cell_type": "code",
   "execution_count": 19,
   "metadata": {
    "ExecuteTime": {
     "end_time": "2023-02-24T12:06:00.742882Z",
     "start_time": "2023-02-24T12:06:00.685357Z"
    },
    "deletable": false,
    "editable": false,
    "nbgrader": {
     "cell_type": "code",
     "checksum": "606f8f4909fdcbf614800913a1096d2e",
     "grade": true,
     "grade_id": "cell-b2ecf67d4ffd1c9d",
     "locked": true,
     "points": 2,
     "schema_version": 3,
     "solution": false,
     "task": false
    }
   },
   "outputs": [],
   "source": [
    "# This cell is reserved for the unit tests. Do not consider this cell. "
   ]
  },
  {
   "cell_type": "code",
   "execution_count": 20,
   "metadata": {
    "ExecuteTime": {
     "end_time": "2023-02-24T12:06:00.874167Z",
     "start_time": "2023-02-24T12:06:00.744289Z"
    },
    "deletable": false,
    "editable": false,
    "nbgrader": {
     "cell_type": "code",
     "checksum": "f49a51ed8f12eec8e5dd3a2991e95343",
     "grade": true,
     "grade_id": "cell-3893cfeb1e962d39",
     "locked": true,
     "points": 2,
     "schema_version": 3,
     "solution": false,
     "task": false
    }
   },
   "outputs": [],
   "source": [
    "# This cell is reserved for the unit tests. Do not consider this cell. "
   ]
  },
  {
   "cell_type": "code",
   "execution_count": 21,
   "metadata": {
    "ExecuteTime": {
     "end_time": "2023-02-24T12:06:00.879500Z",
     "start_time": "2023-02-24T12:06:00.875708Z"
    },
    "deletable": false,
    "editable": false,
    "nbgrader": {
     "cell_type": "code",
     "checksum": "8cc543ba68662f14092ea466f5bdd180",
     "grade": true,
     "grade_id": "cell-15b2ff0fa002b72e",
     "locked": true,
     "points": 2,
     "schema_version": 3,
     "solution": false,
     "task": false
    }
   },
   "outputs": [],
   "source": [
    "# This cell is reserved for the unit tests. Do not consider this cell. "
   ]
  },
  {
   "cell_type": "code",
   "execution_count": 22,
   "metadata": {
    "ExecuteTime": {
     "end_time": "2023-02-24T12:06:00.910327Z",
     "start_time": "2023-02-24T12:06:00.880966Z"
    },
    "deletable": false,
    "editable": false,
    "nbgrader": {
     "cell_type": "code",
     "checksum": "d0aed26d7a113d504d749368e80d2c46",
     "grade": true,
     "grade_id": "cell-804333e0e5c4f7f5",
     "locked": true,
     "points": 1,
     "schema_version": 3,
     "solution": false,
     "task": false
    }
   },
   "outputs": [],
   "source": [
    "# This cell is reserved for the unit tests. Do not consider this cell. "
   ]
  },
  {
   "cell_type": "code",
   "execution_count": 23,
   "metadata": {
    "ExecuteTime": {
     "end_time": "2023-02-24T12:06:00.998912Z",
     "start_time": "2023-02-24T12:06:00.916757Z"
    },
    "deletable": false,
    "editable": false,
    "nbgrader": {
     "cell_type": "code",
     "checksum": "0b3367854bd57ca6a78e450e796e35b1",
     "grade": true,
     "grade_id": "cell-869a7a5802fd6883",
     "locked": true,
     "points": 1,
     "schema_version": 3,
     "solution": false,
     "task": false
    }
   },
   "outputs": [],
   "source": [
    "# This cell is reserved for the unit tests. Do not consider this cell. "
   ]
  },
  {
   "cell_type": "markdown",
   "metadata": {
    "deletable": false,
    "editable": false,
    "nbgrader": {
     "cell_type": "markdown",
     "checksum": "35087837b2da638f5080dc89cbd9810e",
     "grade": false,
     "grade_id": "cell-a9835f8a00d85970",
     "locked": true,
     "schema_version": 3,
     "solution": false,
     "task": false
    }
   },
   "source": [
    "## Checkpoint\n",
    "\n",
    "This is just a check-point, i.e. it is for you to see that you are correctly implementing all functions. \n",
    "\n",
    "Execute the following code (just execute the next cell):\n",
    "```python\n",
    "X, y = get_dataset_classification(n_samples=240, std=30, inner_std=10)\n",
    "from sklearn.model_selection import train_test_split\n",
    "X_train, X_test, y_train, y_test = train_test_split(X,y, test_size=.3)\n",
    "param=3\n",
    "e_knn = classification_error(y_test, test_knn(X_test, train_knn(X_train, y_train, param)))\n",
    "e_rfc = classification_error(y_test, test_rfc(X_test, train_rfc(X_train, y_train, param)))\n",
    "e_ab = classification_error(y_test, test_ab(X_test, train_ab(X_train, y_train, param)))\n",
    "print(e_knn, e_rfc, e_ab)\n",
    "```\n",
    "\n",
    "and check that the classification error for \n",
    "- k-nearest-neighbor\n",
    "- random forest classifier\n",
    "- adaboost\n",
    "is around\n",
    "\n",
    "```0.16 0.19 0.16```"
   ]
  },
  {
   "cell_type": "code",
   "execution_count": 24,
   "metadata": {
    "ExecuteTime": {
     "end_time": "2023-02-24T12:06:01.182145Z",
     "start_time": "2023-02-24T12:06:01.002633Z"
    },
    "deletable": false,
    "nbgrader": {
     "cell_type": "code",
     "checksum": "9f48b81a4ca0a079f6cc92d1597973d4",
     "grade": true,
     "grade_id": "cell-7638b5bea8a76ff4",
     "locked": false,
     "points": 0,
     "schema_version": 3,
     "solution": true,
     "task": false
    }
   },
   "outputs": [
    {
     "name": "stdout",
     "output_type": "stream",
     "text": [
      "0.1388888888888889 0.1527777777777778 0.18055555555555555\n"
     ]
    }
   ],
   "source": [
    "X, y = get_dataset_classification(n_samples=240, std=30, inner_std=10)\n",
    "from sklearn.model_selection import train_test_split\n",
    "X_train, X_test, y_train, y_test = train_test_split(X,y, test_size=.3)\n",
    "param=3\n",
    "e_knn = classification_error(y_test, test_knn(X_test, train_knn(X_train, y_train, param)))\n",
    "e_rfc = classification_error(y_test, test_rfc(X_test, train_rfc(X_train, y_train, param)))\n",
    "e_ab = classification_error(y_test, test_ab(X_test, train_ab(X_train, y_train, param)))\n",
    "print(e_knn, e_rfc, e_ab)\n"
   ]
  },
  {
   "cell_type": "markdown",
   "metadata": {
    "deletable": false,
    "editable": false,
    "nbgrader": {
     "cell_type": "markdown",
     "checksum": "6d6f0067ef23ab0ed718c91cf52debc8",
     "grade": false,
     "grade_id": "cell-baa423aae2ccd501",
     "locked": true,
     "schema_version": 3,
     "solution": false,
     "task": false
    }
   },
   "source": [
    "## Checkpoint\n",
    "\n",
    "This is just a check-point, i.e. it is for you to see that you are correctly implementing all functions. \n",
    "\n",
    "Execute the following code (just execute the next cell):\n",
    "\n",
    "```python\n",
    "# Just run the following code, do not modify it\n",
    "X, y = get_dataset_regression(n_samples=120, std=30, inner_std=10)\n",
    "from sklearn.model_selection import train_test_split\n",
    "X_train, X_test, y_train, y_test = train_test_split(X,y, test_size=.3)\n",
    "param=3\n",
    "e_dt = regression_error(y_test, test_dt(X_test, train_dt(X_train, y_train, param)))\n",
    "e_svm2 = regression_error(y_test, test_svm(X_test, train_svm_2(X_train, y_train, param)))\n",
    "e_svm3 = regression_error(y_test, test_svm(X_test, train_svm_3(X_train, y_train, param)))\n",
    "print(e_dt, e_svm2, e_svm3)\n",
    "```\n",
    "\n",
    "and check that the regression error for these regressors\n",
    "- decision tree\n",
    "- svm with polynomial kernel of degree 2\n",
    "- svm with polynomial kernel of degree 3\n",
    "\n",
    "is approximately comparable."
   ]
  },
  {
   "cell_type": "code",
   "execution_count": 25,
   "metadata": {
    "ExecuteTime": {
     "end_time": "2023-02-24T12:06:01.190507Z",
     "start_time": "2023-02-24T12:06:01.183618Z"
    },
    "deletable": false,
    "nbgrader": {
     "cell_type": "code",
     "checksum": "f0cbccb27a5961f89759001048c874a2",
     "grade": true,
     "grade_id": "cell-fcad6b7fe731fa70",
     "locked": false,
     "points": 0,
     "schema_version": 3,
     "solution": true,
     "task": false
    }
   },
   "outputs": [
    {
     "name": "stdout",
     "output_type": "stream",
     "text": [
      "36.59232276863933 53.16519012008732 38.752260610956284\n"
     ]
    }
   ],
   "source": [
    "X, y = get_dataset_regression(n_samples=120, std=30, inner_std=10)\n",
    "from sklearn.model_selection import train_test_split\n",
    "X_train, X_test, y_train, y_test = train_test_split(X,y, test_size=.3)\n",
    "param=3\n",
    "e_dt = regression_error(y_test, test_dt(X_test, train_dt(X_train, y_train, param)))\n",
    "e_svm2 = regression_error(y_test, test_svm(X_test, train_svm_2(X_train, y_train, param)))\n",
    "e_svm3 = regression_error(y_test, test_svm(X_test, train_svm_3(X_train, y_train, param)))\n",
    "print(e_dt, e_svm2, e_svm3)\n"
   ]
  },
  {
   "cell_type": "markdown",
   "metadata": {
    "deletable": false,
    "editable": false,
    "nbgrader": {
     "cell_type": "markdown",
     "checksum": "e14c33d723d0048f359ed8945506cdbd",
     "grade": false,
     "grade_id": "cell-87b17b427ce7adc2",
     "locked": true,
     "schema_version": 3,
     "solution": false,
     "task": false
    }
   },
   "source": [
    "## Question 8  [marks 10]\n",
    "\n",
    "Make a function `sizes, train_errors, test_errors = compute_learning_curve(train_func, test_func, param, X, y, test_size, n_steps, n_repetitions)` to compute the train and test errors as mandated in the learning curve approach.  \n",
    "\n",
    "The regressor will be trained via `train_func` on the problem `data_matrix`, `targets` with parameter `param`. The estimate will be done averaging a number of replicates equal to `n_repetitions`, i.e. the code needs to repeat the process  `n_repetitions` times (say 10) and average the error. \n",
    "\n",
    "Note that a fraction of the data as indicated by `test_size` (say 0.3 for 30%) is going to be reserved for testing purposes. The remaining amount of data can be used in the training phase. The learning curve should be computed for an amount of training material that varies from a **minimum of 2 instances** up to all the instances available for training. The paramter `n_steps` defines the number of datasets of different size that are computed; e.g. if the number of available instances for training is 100 and `n_steps=5`, then one would perform experiments with datasets of size `[  2,  26,  51,  75, 100]`.\n",
    "\n",
    "You should use the function `regression_error` to compute the error.\n",
    "\n",
    "\n",
    "**Note:** do not use library functions (e.g. `learning_curve` in scikit) to compute the result directly but implement your own version."
   ]
  },
  {
   "cell_type": "code",
   "execution_count": 26,
   "metadata": {
    "ExecuteTime": {
     "end_time": "2023-02-24T12:06:01.196363Z",
     "start_time": "2023-02-24T12:06:01.191932Z"
    },
    "deletable": false,
    "nbgrader": {
     "cell_type": "code",
     "checksum": "10c61c95b206b7aaae2b64f3db817f45",
     "grade": false,
     "grade_id": "cell-88fd81865bf10bcb",
     "locked": false,
     "schema_version": 3,
     "solution": true,
     "task": false
    }
   },
   "outputs": [],
   "source": [
    "def compute_learning_curve(train_func, test_func, param, X, y, test_size, n_steps, n_repetitions):\n",
    "    sizes = []\n",
    "    X_train, X_test, y_train, y_test = train_test_split(X,y, test_size=.3)\n",
    "    avg_errors_training = []\n",
    "    avg_errors_test = []\n",
    "    for i in range(n_steps):\n",
    "        per_iter_error_test = []\n",
    "        per_iter_error_train = []\n",
    "        sizes.append(np.random.randint(2,len(y_train)))\n",
    "        for j in range(n_repetitions):\n",
    "            sample_indices = np.random.randint(0,len(y_train),sizes[i])\n",
    "            trainable_samples = X_train[sample_indices]\n",
    "            trainable_labels = y_train[sample_indices]\n",
    "            model = train_func(trainable_samples, trainable_labels,param)\n",
    "            predictions = test_func(X_test,model)\n",
    "            predictions_train = test_func(trainable_samples,model)\n",
    "            per_iter_error_test.append(regression_error(y_test, predictions))\n",
    "            per_iter_error_train.append(regression_error(trainable_labels, predictions_train))\n",
    "        \n",
    "        avg_errors_test.append(np.average(per_iter_error_test))\n",
    "        avg_errors_training.append(np.average(per_iter_error_train))\n",
    "    return sizes,avg_errors_training,avg_errors_test\n",
    "\n",
    "\n",
    "            \n",
    "        \n"
   ]
  },
  {
   "cell_type": "code",
   "execution_count": 27,
   "metadata": {
    "ExecuteTime": {
     "end_time": "2023-02-24T12:06:01.289444Z",
     "start_time": "2023-02-24T12:06:01.197693Z"
    },
    "deletable": false,
    "editable": false,
    "nbgrader": {
     "cell_type": "code",
     "checksum": "ac0f72d8737e4c6c9f9875ce6baf7466",
     "grade": true,
     "grade_id": "cell-3eec91d7844605ce",
     "locked": true,
     "points": 5,
     "schema_version": 3,
     "solution": false,
     "task": false
    }
   },
   "outputs": [],
   "source": [
    "# This cell is reserved for the unit tests. Do not consider this cell. "
   ]
  },
  {
   "cell_type": "code",
   "execution_count": 28,
   "metadata": {
    "ExecuteTime": {
     "end_time": "2023-02-24T12:06:01.314902Z",
     "start_time": "2023-02-24T12:06:01.290990Z"
    },
    "deletable": false,
    "editable": false,
    "nbgrader": {
     "cell_type": "code",
     "checksum": "0e92b711f34546414d39205d7015488a",
     "grade": true,
     "grade_id": "cell-259a159e336b1e94",
     "locked": true,
     "points": 5,
     "schema_version": 3,
     "solution": false,
     "task": false
    }
   },
   "outputs": [],
   "source": [
    "# This cell is reserved for the unit tests. Do not consider this cell. "
   ]
  },
  {
   "cell_type": "markdown",
   "metadata": {
    "deletable": false,
    "editable": false,
    "nbgrader": {
     "cell_type": "markdown",
     "checksum": "adb5dd58dd68c45110b4af36a7a3953b",
     "grade": false,
     "grade_id": "cell-71594a187644a8b6",
     "locked": true,
     "schema_version": 3,
     "solution": false,
     "task": false
    }
   },
   "source": [
    "## Question 9  [marks 1]\n",
    "\n",
    "Make a function `plot_learning_curve(sizes, train_errors, test_errors)` to display the train and test error as a function of the size of the training set. \n",
    "\n",
    "You should get something like:\n",
    "\n",
    "<img src='plot11.png' width=400>"
   ]
  },
  {
   "cell_type": "code",
   "execution_count": 29,
   "metadata": {
    "ExecuteTime": {
     "end_time": "2023-02-24T12:06:01.319115Z",
     "start_time": "2023-02-24T12:06:01.316572Z"
    },
    "deletable": false,
    "nbgrader": {
     "cell_type": "code",
     "checksum": "fecfac2d1acf30ad977d24284202bb6a",
     "grade": false,
     "grade_id": "cell-86543ebb7a72f24c",
     "locked": false,
     "schema_version": 3,
     "solution": true,
     "task": false
    }
   },
   "outputs": [],
   "source": [
    "def plot_learning_curve(sizes, train_errors, test_errors):\n",
    "    sizes_sorted,train_errors_sorted,test_errors_sorted = [list(x) for x in zip(*sorted(zip(sizes, train_errors,test_errors), key=lambda pair: pair[0]))]\n",
    "    plt.figure(figsize=(5,3))\n",
    "    plt.plot(sizes_sorted, train_errors_sorted,c='orange' , linestyle='dashed',label='train')\n",
    "    plt.plot(sizes_sorted, test_errors_sorted,c='blue',label='test')\n",
    "    plt.legend()\n",
    "    plt.grid()\n",
    "    plt.show()"
   ]
  },
  {
   "cell_type": "code",
   "execution_count": 30,
   "metadata": {},
   "outputs": [
    {
     "data": {
      "image/png": "[encoded data removed]",
      "text/plain": [
       "<Figure size 500x300 with 1 Axes>"
      ]
     },
     "metadata": {},
     "output_type": "display_data"
    }
   ],
   "source": [
    "X, y = get_dataset_regression(n_samples=800, std=30, inner_std=10)\n",
    "train_func, test_func = train_dt, test_dt\n",
    "param=5\n",
    "sizes, train_errors, test_errors = compute_learning_curve(train_func, test_func, param, X, y, test_size=.3, n_steps=10, n_repetitions=100)\n",
    "#print(sizes)\n",
    "#e = estimate_asymptotic_error(train_errors, test_errors)\n",
    "#print('Asymptotic error: %.1f'%e)\n",
    "plot_learning_curve(sizes, train_errors, test_errors)\n"
   ]
  },
  {
   "cell_type": "code",
   "execution_count": 31,
   "metadata": {
    "ExecuteTime": {
     "end_time": "2023-02-24T12:06:01.468324Z",
     "start_time": "2023-02-24T12:06:01.320792Z"
    },
    "deletable": false,
    "editable": false,
    "nbgrader": {
     "cell_type": "code",
     "checksum": "5fd29ec85e410164d492692a4d1ad956",
     "grade": true,
     "grade_id": "cell-51334d4ebb1fcea2",
     "locked": true,
     "points": 1,
     "schema_version": 3,
     "solution": false,
     "task": false
    }
   },
   "outputs": [],
   "source": [
    "# This cell is reserved for the unit tests. Do not consider this cell. "
   ]
  },
  {
   "cell_type": "markdown",
   "metadata": {
    "deletable": false,
    "editable": false,
    "nbgrader": {
     "cell_type": "markdown",
     "checksum": "e231593abdc340e33b15b50dba6e256c",
     "grade": false,
     "grade_id": "cell-d996b3c06e38ec72",
     "locked": true,
     "schema_version": 3,
     "solution": false,
     "task": false
    }
   },
   "source": [
    "## Question 10  [marks 3]\n",
    "\n",
    "Make a function `estimate_asymptotic_error(sizes, train_errors, test_errors)` that returns an estimate of the asymptotic or Bayes error, i.e. the error made in the limit of an infinitely large training set."
   ]
  },
  {
   "cell_type": "code",
   "execution_count": 32,
   "metadata": {
    "ExecuteTime": {
     "end_time": "2023-02-24T12:06:01.472354Z",
     "start_time": "2023-02-24T12:06:01.469826Z"
    },
    "deletable": false,
    "nbgrader": {
     "cell_type": "code",
     "checksum": "32136a56cf90671c7c064646b6293aba",
     "grade": false,
     "grade_id": "cell-d218adcf35168c1c",
     "locked": false,
     "schema_version": 3,
     "solution": true,
     "task": false
    }
   },
   "outputs": [],
   "source": [
    "def estimate_asymptotic_error(sizes, train_errors, test_errors):\n",
    "    # YOUR CODE HERE\n",
    "    raise NotImplementedError()"
   ]
  },
  {
   "cell_type": "code",
   "execution_count": 33,
   "metadata": {
    "ExecuteTime": {
     "end_time": "2023-02-24T12:06:01.477006Z",
     "start_time": "2023-02-24T12:06:01.473790Z"
    },
    "deletable": false,
    "editable": false,
    "nbgrader": {
     "cell_type": "code",
     "checksum": "eb6e67a4914d520253fd8a36c6d2751b",
     "grade": true,
     "grade_id": "cell-e14e0ce3d70a3d1a",
     "locked": true,
     "points": 3,
     "schema_version": 3,
     "solution": false,
     "task": false
    }
   },
   "outputs": [],
   "source": [
    "# This cell is reserved for the unit tests. Do not consider this cell. "
   ]
  },
  {
   "cell_type": "markdown",
   "metadata": {
    "deletable": false,
    "editable": false,
    "nbgrader": {
     "cell_type": "markdown",
     "checksum": "0352d16d3a05143ba3b238efff8ba287",
     "grade": false,
     "grade_id": "cell-a18a34da97e63be0",
     "locked": true,
     "schema_version": 3,
     "solution": false,
     "task": false
    }
   },
   "source": [
    "## Checkpoint\n",
    "\n",
    "This is just a check-point, i.e. it is for you to see that you are correctly implementing all functions. \n",
    "\n",
    "Execute the following code (just execute the next cell):\n",
    "\n",
    "```python\n",
    "X, y = get_dataset_regression(n_samples=800, std=30, inner_std=10)\n",
    "train_func, test_func = train_dt, test_dt\n",
    "param=5\n",
    "sizes, train_errors, test_errors = compute_learning_curve(train_func, test_func, param, X, y, test_size=.3, n_steps=10, n_repetitions=100)\n",
    "e = estimate_asymptotic_error(train_errors, test_errors)\n",
    "print('Asymptotic error: %.1f'%e)\n",
    "plot_learning_curve(sizes, train_errors, test_errors)\n",
    "```\n",
    "\n",
    "you should get something like\n",
    "\n",
    "<img src='plot12.png' width=400>\n"
   ]
  },
  {
   "cell_type": "markdown",
   "metadata": {
    "deletable": false,
    "editable": false,
    "nbgrader": {
     "cell_type": "markdown",
     "checksum": "8cf87ab05f40fe2629df853e538b3b08",
     "grade": false,
     "grade_id": "cell-c94a2de1e13199cb",
     "locked": true,
     "schema_version": 3,
     "solution": false,
     "task": false
    }
   },
   "source": [
    "## Question 11 [marks 6]\n",
    "\n",
    "Make a function `bias2, variance = compute_bias_variance(predictions_dict, targets)` that takes in input a dictionary of lists of predictions indexed by the instance index, and the target vector. The function should compute the squared bias component of the error and the variance components of the error for each instance.\n",
    "\n",
    "As a toy example consider: `predictions_dict={0:[1,1,1], 1:[1,-1], 2:[-1,-1,-1,1]}` and `targets=[1,1,-1]`, that is, for instance with index 0 there are 3 predictions available `[1,1,1]`, instead for instance with index 1 there are only 2 predictions available `[1,-1]`, etc. In this case, you should get `bias2=[0.  , 1.  , 0.25]` and `variance=[0.  , 1.  , 0.75]`.\n",
    "\n",
    "Note that if you apply Bessel's correction and divide by the number of instances - 1 rather than by the number of instance you will obtain, for small datasets, slightly different results (e.g. `variance=[[0. , 2. , 1.]` in the example). Either solutions are acceptable."
   ]
  },
  {
   "cell_type": "code",
   "execution_count": 34,
   "metadata": {
    "ExecuteTime": {
     "end_time": "2023-02-24T12:06:02.413519Z",
     "start_time": "2023-02-24T12:06:02.409333Z"
    },
    "deletable": false,
    "nbgrader": {
     "cell_type": "code",
     "checksum": "f14b8f7fbc03243ad0c8094b27b3f441",
     "grade": false,
     "grade_id": "cell-25ae52c28952d27b",
     "locked": false,
     "schema_version": 3,
     "solution": true,
     "task": false
    }
   },
   "outputs": [],
   "source": [
    "def compute_bias_variance(predictions_dict, targets): \n",
    "    bias = []\n",
    "    variance = []\n",
    "    for i,j in enumerate(predictions_dict.keys()):\n",
    "        #print(i,j)\n",
    "        predictions =predictions_dict[j]\n",
    "        #print(np.square(np.average(predictions)-targets[i]))\n",
    "        bias.append(np.square(np.average(predictions)-targets[i]))\n",
    "        diff = np.array([(np.average(predictions)-k)**2 for k in predictions])\n",
    "        sums = np.sum(diff)\n",
    "        #print(diff,sums)\n",
    "        variance.append(sums/(len(predictions)))\n",
    "    #bias = [i[0] for i in bias]\n",
    "    return bias,variance\n",
    "        "
   ]
  },
  {
   "cell_type": "code",
   "execution_count": 35,
   "metadata": {
    "ExecuteTime": {
     "end_time": "2023-02-24T12:06:02.423234Z",
     "start_time": "2023-02-24T12:06:02.416057Z"
    },
    "deletable": false,
    "editable": false,
    "nbgrader": {
     "cell_type": "code",
     "checksum": "71679d8c75e57771c54a4e371c27037d",
     "grade": true,
     "grade_id": "cell-6b57668a0b7b2754",
     "locked": true,
     "points": 6,
     "schema_version": 3,
     "solution": false,
     "task": false
    }
   },
   "outputs": [],
   "source": [
    "# This cell is reserved for the unit tests. Do not consider this cell. "
   ]
  },
  {
   "cell_type": "markdown",
   "metadata": {
    "deletable": false,
    "editable": false,
    "nbgrader": {
     "cell_type": "markdown",
     "checksum": "9282bb2d8546760f51f45360c393854c",
     "grade": false,
     "grade_id": "cell-138f82796f4cd3e8",
     "locked": true,
     "schema_version": 3,
     "solution": false,
     "task": false
    }
   },
   "source": [
    "## Question 12 [marks 10]\n",
    "\n",
    "Make a function `bias2, variance = bias_variance_decomposition(train_func, test_func, param, data_matrix, targets, n_bootstraps)` to compute the bias variance decomposition of the error of a regressor on a given problem. The regressor will be trained via `train_func` on the problem `data_matrix`, `targets` with parameter `param`. The estimate will be done using a number of replicates equal to `n_bootstraps`."
   ]
  },
  {
   "cell_type": "code",
   "execution_count": 36,
   "metadata": {
    "ExecuteTime": {
     "end_time": "2023-02-24T12:06:02.430145Z",
     "start_time": "2023-02-24T12:06:02.425394Z"
    },
    "deletable": false,
    "nbgrader": {
     "cell_type": "code",
     "checksum": "41169b2313a617eb1f6e14bd3d0480ca",
     "grade": false,
     "grade_id": "cell-2e0210536c923437",
     "locked": false,
     "schema_version": 3,
     "solution": true,
     "task": false
    }
   },
   "outputs": [],
   "source": [
    "def bias_variance_decomposition(train_func, test_func, param, data_matrix, targets, n_bootstraps):\n",
    "    predictions_dict = {}\n",
    "    targets_estimate  = []\n",
    "    for i in range(n_bootstraps):\n",
    "        bootstrap_data_matrix, bootstrap_targets, bootstrap_sample_ids, oob_data_matrix, oob_targets, oob_samples_ids = make_bootstrap(data_matrix,targets)\n",
    "        bootstrap_targets = np.array(bootstrap_targets)\n",
    "        model = train_func(bootstrap_data_matrix,bootstrap_targets,param)\n",
    "        predictions = np.array(test_func(oob_data_matrix,model))\n",
    "        unique_ids = np.unique(oob_samples_ids)\n",
    "        oob_targets = np.array(oob_targets).ravel()\n",
    "        #print(bootstrap_targets)\n",
    "        for j in range(len(unique_ids)):\n",
    "            id = unique_ids[j]\n",
    "            if(id not in predictions_dict.keys()):\n",
    "                indexes = np.where(oob_samples_ids==id)\n",
    "                predictions_dict[id] = predictions[indexes[0]]\n",
    "                targets_estimate.append(targets[id])\n",
    "            else: \n",
    "                indexes = np.where(oob_samples_ids==id)\n",
    "                predictions_dict[id] = list(predictions_dict[id]) + list(predictions[indexes[0]])\n",
    "    \n",
    "    #print(targets_estimate)\n",
    "    #targets_estimate = [i for j in targets_estimate for i in j]\n",
    "    #print(targets_estimate)\n",
    "    bias,variance = compute_bias_variance(predictions_dict, targets_estimate)\n",
    "    #print(\"bias is\",bias)\n",
    "    #print(\"variance is\",variance)\n",
    "    return bias,variance\n",
    "\n"
   ]
  },
  {
   "cell_type": "code",
   "execution_count": 37,
   "metadata": {
    "ExecuteTime": {
     "end_time": "2023-02-24T12:06:02.488739Z",
     "start_time": "2023-02-24T12:06:02.431811Z"
    },
    "deletable": false,
    "editable": false,
    "nbgrader": {
     "cell_type": "code",
     "checksum": "e77444c7aefa3c05aa30aa05a76fdac2",
     "grade": true,
     "grade_id": "cell-948c1dfbb6cc0e61",
     "locked": true,
     "points": 5,
     "schema_version": 3,
     "solution": false,
     "task": false
    }
   },
   "outputs": [],
   "source": [
    "# This cell is reserved for the unit tests. Do not consider this cell. "
   ]
  },
  {
   "cell_type": "code",
   "execution_count": 38,
   "metadata": {
    "ExecuteTime": {
     "end_time": "2023-02-24T12:06:02.795932Z",
     "start_time": "2023-02-24T12:06:02.490261Z"
    },
    "deletable": false,
    "editable": false,
    "nbgrader": {
     "cell_type": "code",
     "checksum": "137e8f1880f50bcfcefde97de1b62887",
     "grade": true,
     "grade_id": "cell-6160907ac4ad0607",
     "locked": true,
     "points": 5,
     "schema_version": 3,
     "solution": false,
     "task": false
    }
   },
   "outputs": [],
   "source": [
    "# This cell is reserved for the unit tests. Do not consider this cell. "
   ]
  },
  {
   "cell_type": "markdown",
   "metadata": {
    "deletable": false,
    "editable": false,
    "nbgrader": {
     "cell_type": "markdown",
     "checksum": "3115e8eafe93f61e2e743c28d8d64200",
     "grade": false,
     "grade_id": "cell-542d93c404e385f3",
     "locked": true,
     "schema_version": 3,
     "solution": false,
     "task": false
    }
   },
   "source": [
    "## Question 13 [marks 2]\n",
    "\n",
    "Consider the following regression problem (it does not matter that the target is only 1 and -1):\n",
    "\n",
    "```python\n",
    "from sklearn.datasets import load_iris\n",
    "\n",
    "def make_iris_data():\n",
    "    X,y = load_iris(return_X_y=True)\n",
    "    X=X[:,[0,2]]\n",
    "    y[y==2]=0\n",
    "    y[y==0]=-1\n",
    "    return X,y\n",
    "```\n",
    "\n",
    "Estimate the squared bias and variance component for each instance.  \n",
    "\n",
    "Consider as regressor a linear svm and a polynomial svm with degree 3.\n",
    "\n",
    "What is the class of the instances that have the highest bias error on average?"
   ]
  },
  {
   "cell_type": "code",
   "execution_count": 64,
   "metadata": {
    "ExecuteTime": {
     "end_time": "2023-02-24T12:06:07.853795Z",
     "start_time": "2023-02-24T12:06:02.797363Z"
    },
    "deletable": false,
    "editable": false,
    "nbgrader": {
     "cell_type": "code",
     "checksum": "8d60058a9d3f620fcc0272aa6f936bf4",
     "grade": false,
     "grade_id": "cell-f98e40bd2056b968",
     "locked": true,
     "schema_version": 3,
     "solution": false,
     "task": false
    }
   },
   "outputs": [
    {
     "name": "stdout",
     "output_type": "stream",
     "text": [
      "1.2003039544931422 1.1375867141299854\n",
      "0.33268369946550325 0.4620586015280532\n"
     ]
    }
   ],
   "source": [
    "# Just run the following code, do not modify it\n",
    "from sklearn.datasets import load_iris\n",
    "\n",
    "def make_iris_data():\n",
    "    X,y = load_iris(return_X_y=True)\n",
    "    X=X[:,[0,2]]\n",
    "    y[y==2]=0\n",
    "    y[y==0]=-1\n",
    "    return X,y\n",
    "\n",
    "X,y = make_iris_data()\n",
    "\n",
    "bias2, variance = bias_variance_decomposition(train_svm_1, test_svm, param=2, data_matrix=X, targets=y, n_bootstraps=100)\n",
    "bias2 = np.array(bias2)\n",
    "variance = np.array(variance)\n",
    "print(np.mean(bias2[y==1]) , np.mean(bias2[y==-1]))\n",
    "bias2, variance = bias_variance_decomposition(train_svm_3, test_svm, param=2, data_matrix=X, targets=y, n_bootstraps=100)\n",
    "bias2 = np.array(bias2)\n",
    "variance = np.array(variance)\n",
    "print(np.mean(bias2[y==1]) , np.mean(bias2[y==-1]))\n",
    "#print(np.mean(variance[y==1]) , np.mean(variance[y==-1]))"
   ]
  },
  {
   "cell_type": "code",
   "execution_count": 40,
   "metadata": {},
   "outputs": [
    {
     "data": {
      "text/plain": [
       "150"
      ]
     },
     "execution_count": 40,
     "metadata": {},
     "output_type": "execute_result"
    }
   ],
   "source": [
    "len(bias2)"
   ]
  },
  {
   "cell_type": "code",
   "execution_count": 41,
   "metadata": {
    "ExecuteTime": {
     "end_time": "2023-02-24T12:06:12.475253Z",
     "start_time": "2023-02-24T12:06:07.855912Z"
    },
    "deletable": false,
    "editable": false,
    "nbgrader": {
     "cell_type": "code",
     "checksum": "fe5477d535bb6be3fb50660c24226711",
     "grade": true,
     "grade_id": "cell-18d4b80a0509aa21",
     "locked": true,
     "points": 2,
     "schema_version": 3,
     "solution": false,
     "task": false
    }
   },
   "outputs": [],
   "source": [
    "# This cell is reserved for the unit tests. Do not consider this cell. "
   ]
  },
  {
   "cell_type": "markdown",
   "metadata": {
    "deletable": false,
    "editable": false,
    "nbgrader": {
     "cell_type": "markdown",
     "checksum": "c03bd44265437260ff3f458289e20afb",
     "grade": false,
     "grade_id": "cell-48b2824486b6c6ce",
     "locked": true,
     "schema_version": 3,
     "solution": false,
     "task": false
    }
   },
   "source": [
    "## Question 14 [marks 6]\n",
    "\n",
    "Make a function `bs,vs = compute_bias_variance_decomposition(train_func, test_func, params, data_matrix, targets, n_bootstraps)` to compute the average squared bias error component and the average variance component of the error for each parameter setting in the vector `params`. The regressor will be trained via `train_func` on the problem `data_matrix`, `targets` with parameter `param`. The estimate will be done using a number of replicates equal to `n_bootstraps`. To be clear, the vector `bs` contains the average square bias error for each parameter in `params` and the vector `vs` contains the average variance error for each parameter in `params`."
   ]
  },
  {
   "cell_type": "code",
   "execution_count": 42,
   "metadata": {
    "ExecuteTime": {
     "end_time": "2023-02-24T12:06:12.481011Z",
     "start_time": "2023-02-24T12:06:12.477822Z"
    },
    "deletable": false,
    "nbgrader": {
     "cell_type": "code",
     "checksum": "d2b332776a3106ad5416d03d6429bc94",
     "grade": false,
     "grade_id": "cell-a7413326b1b02cd7",
     "locked": false,
     "schema_version": 3,
     "solution": true,
     "task": false
    }
   },
   "outputs": [],
   "source": [
    "def compute_bias_variance_decomposition(train_func, test_func, params, data_matrix, targets, n_bootstraps):\n",
    "    average_bias2 =[]\n",
    "    average_variance = []\n",
    "    for j in params:\n",
    "        bias2,variance = bias_variance_decomposition(train_func, test_func, j, data_matrix, targets, n_bootstraps)\n",
    "        #bias2 = [np.sqrt(i) for i in bias2]\n",
    "        average_bias2.append(sum(bias2)/len(bias2))\n",
    "        average_variance.append(sum(variance)/len(variance))\n",
    "        \n",
    "    return average_bias2,average_variance        "
   ]
  },
  {
   "cell_type": "code",
   "execution_count": 43,
   "metadata": {
    "ExecuteTime": {
     "end_time": "2023-02-24T12:06:12.633833Z",
     "start_time": "2023-02-24T12:06:12.482564Z"
    },
    "deletable": false,
    "editable": false,
    "nbgrader": {
     "cell_type": "code",
     "checksum": "e24fac08a9538e943b51603adb8a63d2",
     "grade": true,
     "grade_id": "cell-913efa2d181b3145",
     "locked": true,
     "points": 6,
     "schema_version": 3,
     "solution": false,
     "task": false
    }
   },
   "outputs": [],
   "source": [
    "# This cell is reserved for the unit tests. Do not consider this cell. "
   ]
  },
  {
   "cell_type": "markdown",
   "metadata": {
    "deletable": false,
    "editable": false,
    "nbgrader": {
     "cell_type": "markdown",
     "checksum": "937d3896d362ac89591ede97564d377d",
     "grade": false,
     "grade_id": "cell-c81f66b915335b2b",
     "locked": true,
     "schema_version": 3,
     "solution": false,
     "task": false
    }
   },
   "source": [
    "## Question 15 [marks 1]\n",
    "\n",
    "Make a function `plot_bias_variance_decomposition(train_func, test_func, params, data_matrix, targets, n_bootstraps, logscale=False)`.\n",
    "\n",
    "You should plot the individual components or the squared bias, the variance and the total error. You should allow the possibility to employ a logarithmic scale for the horizontal axis via the `logscale` flag.\n",
    "\n",
    "You should get something like:\n",
    "\n",
    "<img src='plot18.png' width=400>"
   ]
  },
  {
   "cell_type": "code",
   "execution_count": 44,
   "metadata": {
    "ExecuteTime": {
     "end_time": "2023-02-24T12:06:12.638590Z",
     "start_time": "2023-02-24T12:06:12.635450Z"
    },
    "deletable": false,
    "nbgrader": {
     "cell_type": "code",
     "checksum": "71201436650300639351e1223a091bdf",
     "grade": false,
     "grade_id": "cell-0cff4b437bbcda3f",
     "locked": false,
     "schema_version": 3,
     "solution": true,
     "task": false
    }
   },
   "outputs": [],
   "source": [
    "def plot_bias_variance_decomposition(train_func, test_func, params, data_matrix, targets, n_bootstraps, logscale=False):\n",
    "    average_bias,average_variance = compute_bias_variance_decomposition(train_func, test_func, params, data_matrix, targets, n_bootstraps)\n",
    "    average_errors = [average_variance[i]+average_bias[i] for i in range(len(average_bias))]\n",
    "    #print(\"bias is\",average_bias)\n",
    "    print(\"variance is\",average_variance)\n",
    "    if(logscale==False):\n",
    "        plt.figure(figsize=(5,3))\n",
    "        plt.plot(params,average_bias,label='bias2',c='b')\n",
    "        plt.plot(params,average_variance,label='variance',c='orange')\n",
    "        plt.plot(params,average_errors,label='total error',c='g')\n",
    "        plt.grid()\n",
    "        plt.legend()\n",
    "        plt.show()\n",
    "    else:\n",
    "        plt.figure(figsize=(5,3))\n",
    "        plt.semilogy(params,average_bias,label='bias2',c='b')\n",
    "        plt.semilogy(params,average_variance,label='variance',c='orange')\n",
    "        plt.semilogy(params,average_errors,lable='total error',c='g')\n",
    "        plt.grid()\n",
    "        plt.legend()\n",
    "        plt.show()\n"
   ]
  },
  {
   "cell_type": "code",
   "execution_count": 45,
   "metadata": {
    "ExecuteTime": {
     "end_time": "2023-02-24T12:06:13.487517Z",
     "start_time": "2023-02-24T12:06:12.640349Z"
    },
    "deletable": false,
    "editable": false,
    "nbgrader": {
     "cell_type": "code",
     "checksum": "1c7ed7989aac2ba0a85257b70751c3cc",
     "grade": true,
     "grade_id": "cell-ec88b44e8808fc53",
     "locked": true,
     "points": 1,
     "schema_version": 3,
     "solution": false,
     "task": false
    }
   },
   "outputs": [],
   "source": [
    "# This cell is reserved for the unit tests. Do not consider this cell. "
   ]
  },
  {
   "cell_type": "markdown",
   "metadata": {
    "deletable": false,
    "editable": false,
    "nbgrader": {
     "cell_type": "markdown",
     "checksum": "0748f21fcbb764c04321c97f8c809d64",
     "grade": false,
     "grade_id": "cell-500d63e45e73faf9",
     "locked": true,
     "schema_version": 3,
     "solution": false,
     "task": false
    }
   },
   "source": [
    "## Question 16 [marks 2]\n",
    "\n",
    "Make a function `find_best_param_with_bias_variance_decomposition(train_func, test_func, params, data_matrix, targets, n_bootstraps)` that uses the bias variance decomposition analysis to determine which parameter among `params` achieves the smallest estimated predictive error."
   ]
  },
  {
   "cell_type": "code",
   "execution_count": 46,
   "metadata": {
    "ExecuteTime": {
     "end_time": "2023-02-24T12:06:13.493160Z",
     "start_time": "2023-02-24T12:06:13.489924Z"
    },
    "deletable": false,
    "nbgrader": {
     "cell_type": "code",
     "checksum": "b89b218199627bd69ff6821dbeafe0b9",
     "grade": false,
     "grade_id": "cell-aa28c6e5e78e4b64",
     "locked": false,
     "schema_version": 3,
     "solution": true,
     "task": false
    }
   },
   "outputs": [],
   "source": [
    "def find_best_param_with_bias_variance_decomposition(train_func, test_func, params, data_matrix, targets, n_bootstraps):\n",
    "    average_bias,average_variance = compute_bias_variance_decomposition(train_func, test_func, params, data_matrix, targets, n_bootstraps)\n",
    "    average_errors = [average_variance[i]+average_bias[i] for i in range(len(average_bias))]\n",
    "    average_errors = [i[0] for i in average_errors]\n",
    "    #print(average_errors)\n",
    "    index_min = average_errors.index(min(average_errors))\n",
    "    #print(index_min)\n",
    "    return params[index_min]"
   ]
  },
  {
   "cell_type": "code",
   "execution_count": 47,
   "metadata": {},
   "outputs": [
    {
     "name": "stdout",
     "output_type": "stream",
     "text": [
      "(400, 2) (400, 1)\n",
      "Best parameter:5\n",
      "variance is [1.6813371204609329, 2.313602545513238, 3.26517617162128, 2.9023171443852114, 3.4471252896598994, 3.888683385624345, 4.415561254322085, 4.922205282828149, 5.74324936506544, 6.108965588653838, 6.886308203985886, 8.248973755914975, 7.99667438120405, 8.458301191769612, 8.372048448355288, 8.490389053009434, 8.600882354567492, 8.570826662682139, 8.003120367173032, 8.25176727424215, 7.820302054177456, 8.355137702377775, 8.208132599024722, 8.204707394424348, 8.086328477871804, 8.194059312061325, 7.923124490117089, 7.958886557171883, 7.745086581459803, 8.210035782364239]\n"
     ]
    },
    {
     "data": {
      "image/png": "[encoded data removed]",
      "text/plain": [
       "<Figure size 500x300 with 1 Axes>"
      ]
     },
     "metadata": {},
     "output_type": "display_data"
    }
   ],
   "source": [
    "X, y = get_dataset_regression(n_samples=400, std=10, inner_std=7)\n",
    "print(X.shape,y.shape)\n",
    "params = np.linspace(1,30,30).astype(int)\n",
    "train_func, test_func = train_dt, test_dt\n",
    "p = find_best_param_with_bias_variance_decomposition(train_func, test_func, params, X, y, n_bootstraps=60)\n",
    "print('Best parameter:%s'%p)\n",
    "plot_bias_variance_decomposition(train_func, test_func, params, X, y, n_bootstraps=50, logscale=False)\n"
   ]
  },
  {
   "cell_type": "code",
   "execution_count": 48,
   "metadata": {
    "ExecuteTime": {
     "end_time": "2023-02-24T12:06:13.498247Z",
     "start_time": "2023-02-24T12:06:13.495218Z"
    },
    "deletable": false,
    "editable": false,
    "nbgrader": {
     "cell_type": "code",
     "checksum": "3c05ad10dac8dd8cbd4919f5de60d045",
     "grade": true,
     "grade_id": "cell-98ff3545d2855471",
     "locked": true,
     "points": 2,
     "schema_version": 3,
     "solution": false,
     "task": false
    }
   },
   "outputs": [],
   "source": [
    "# This cell is reserved for the unit tests. Do not consider this cell. "
   ]
  },
  {
   "cell_type": "markdown",
   "metadata": {
    "deletable": false,
    "editable": false,
    "nbgrader": {
     "cell_type": "markdown",
     "checksum": "60afff96f21c708f004b5f15f4b358a7",
     "grade": false,
     "grade_id": "cell-410b087988cb8ce1",
     "locked": true,
     "schema_version": 3,
     "solution": false,
     "task": false
    }
   },
   "source": [
    "## Question 17 [marks 6]\n",
    "\n",
    "When you execute the following code \n",
    "```python\n",
    "X, y = get_dataset_regression(n_samples=400, std=10, inner_std=7)\n",
    "params = np.linspace(1,30,30).astype(int)\n",
    "train_func, test_func = train_dt, test_dt\n",
    "p = find_best_param_with_bias_variance_decomposition(train_func, test_func, params, data_matrix, targets, n_bootstraps=60)\n",
    "print('Best parameter:%s'%p)\n",
    "plot_bias_variance_decomposition(train_func, test_func, params, data_matrix, targets, n_bootstraps=50, logscale=False)\n",
    "```\n",
    "\n",
    "You should get something like:\n",
    "\n",
    "<img src='plot19.png' width=400>\n",
    "\n",
    "The next unit tests will run your functions `find_best_param_with_bias_variance_decomposition` on an undisclosed dataset using as regressors:\n",
    "- decision tree\n",
    "- svm degree 3\n",
    "\n",
    "and 3 marks will be awarded for each correct optimal parameter identified."
   ]
  },
  {
   "cell_type": "code",
   "execution_count": 49,
   "metadata": {
    "ExecuteTime": {
     "end_time": "2023-02-24T12:06:16.837352Z",
     "start_time": "2023-02-24T12:06:13.499489Z"
    },
    "deletable": false,
    "editable": false,
    "nbgrader": {
     "cell_type": "code",
     "checksum": "ebe5ef38e27fcca0f8e6b5f288f3b087",
     "grade": true,
     "grade_id": "cell-feb1a931d76ea8c6",
     "locked": true,
     "points": 3,
     "schema_version": 3,
     "solution": false,
     "task": false
    }
   },
   "outputs": [],
   "source": [
    "# This cell is reserved for the unit tests. Do not consider this cell. "
   ]
  },
  {
   "cell_type": "code",
   "execution_count": 50,
   "metadata": {
    "ExecuteTime": {
     "end_time": "2023-02-24T12:06:19.186609Z",
     "start_time": "2023-02-24T12:06:16.838924Z"
    },
    "deletable": false,
    "editable": false,
    "nbgrader": {
     "cell_type": "code",
     "checksum": "01a69608d91fac9ad7da4d4ad7a63a3f",
     "grade": true,
     "grade_id": "cell-76df33a1a8fbb2ed",
     "locked": true,
     "points": 3,
     "schema_version": 3,
     "solution": false,
     "task": false
    }
   },
   "outputs": [],
   "source": [
    "# This cell is reserved for the unit tests. Do not consider this cell. "
   ]
  },
  {
   "cell_type": "markdown",
   "metadata": {
    "deletable": false,
    "editable": false,
    "nbgrader": {
     "cell_type": "markdown",
     "checksum": "eef86b1ef11376632ca5f130c570beac",
     "grade": false,
     "grade_id": "cell-f59fab32129c8dd2",
     "locked": true,
     "schema_version": 3,
     "solution": false,
     "task": false
    }
   },
   "source": [
    "## Question 18 [marks 5]\n",
    "\n",
    "Make a function `conf_mtx = confusion_table(targets, preds)` to output the confusion matrix as a 2 x 2 Numpy array. Rows indicate the prediction and columns the target. The cell element with index [0,0] should report the true positive count. \n",
    "\n",
    "Running the following code:\n",
    "\n",
    "```python\n",
    "from sklearn.datasets import load_iris\n",
    "X,y = load_iris(return_X_y=True)\n",
    "y[y==2]=0\n",
    "\n",
    "from sklearn.model_selection import train_test_split\n",
    "X_train, X_test, y_train, y_test = train_test_split(X,y, test_size=.3)\n",
    "\n",
    "models = train_knn(X_train, y_train, param=3)\n",
    "preds = test_knn(X_test, models)\n",
    "conf_mtx = confusion_table(y_test, preds)\n",
    "print(conf_mtx)\n",
    "```\n",
    "you should obtain something similar to\n",
    "```\n",
    "[[16.  1.]\n",
    " [ 0. 28.]]\n",
    "```\n",
    "Note: the exact values can differ in your run\n",
    "\n",
    "**Note:** do not use library functions to compute the result directly but implement your own version."
   ]
  },
  {
   "cell_type": "code",
   "execution_count": 51,
   "metadata": {
    "ExecuteTime": {
     "end_time": "2023-02-24T12:06:19.192401Z",
     "start_time": "2023-02-24T12:06:19.188128Z"
    },
    "deletable": false,
    "nbgrader": {
     "cell_type": "code",
     "checksum": "2b00fc58c41247681c010e3389ff66e9",
     "grade": false,
     "grade_id": "cell-176a75e90af658d1",
     "locked": false,
     "schema_version": 3,
     "solution": true,
     "task": false
    }
   },
   "outputs": [],
   "source": [
    "def confusion_table(targets, preds):\n",
    "    classes = list(np.unique(targets))\n",
    "    positive_class = classes[0]\n",
    "    negative_class = classes[1]\n",
    "    TP = [1 if targets[i]==preds[i] and preds[i]==positive_class else 0 for i in range(len(targets))]\n",
    "    FP = [1 if targets[i]!=preds[i] and preds[i]==positive_class else 0 for i in range(len(targets))]\n",
    "    TN = [1 if targets[i]==preds[i] and preds[i]==negative_class else 0 for i in range(len(targets))]\n",
    "    FN = [1 if targets[i]!=preds[i] and preds[i]==negative_class else 0 for i in range(len(targets))]\n",
    "    confusion_matrix = np.array([[sum(TP),sum(FN)],[sum(FP),sum(TN)]])\n",
    "    return confusion_matrix"
   ]
  },
  {
   "cell_type": "code",
   "execution_count": 52,
   "metadata": {
    "ExecuteTime": {
     "end_time": "2023-02-24T12:06:19.197280Z",
     "start_time": "2023-02-24T12:06:19.193788Z"
    },
    "deletable": false,
    "editable": false,
    "nbgrader": {
     "cell_type": "code",
     "checksum": "2593cff5ca1d4cf2178e76fe87958cf6",
     "grade": true,
     "grade_id": "cell-00a88b70a57ad1df",
     "locked": true,
     "points": 5,
     "schema_version": 3,
     "solution": false,
     "task": false
    }
   },
   "outputs": [],
   "source": [
    "# This cell is reserved for the unit tests. Do not consider this cell. "
   ]
  },
  {
   "cell_type": "markdown",
   "metadata": {
    "deletable": false,
    "editable": false,
    "nbgrader": {
     "cell_type": "markdown",
     "checksum": "569616e12d7c3327cb19ba228a618181",
     "grade": false,
     "grade_id": "cell-39022c43725d18a2",
     "locked": true,
     "schema_version": 3,
     "solution": false,
     "task": false
    }
   },
   "source": [
    "## Question 19 [marks 1]\n",
    "\n",
    "Make a function `error_from_confusion_table(confusion_table_func, targets, preds)` that takes in input the previous `confusion_table` function and returns the error, i.e. the fraction of predictions that do not agree with the targets."
   ]
  },
  {
   "cell_type": "code",
   "execution_count": 53,
   "metadata": {
    "ExecuteTime": {
     "end_time": "2023-02-24T12:06:19.202045Z",
     "start_time": "2023-02-24T12:06:19.199117Z"
    },
    "deletable": false,
    "nbgrader": {
     "cell_type": "code",
     "checksum": "2365f18f722e8ce42bd99ba99991ea56",
     "grade": false,
     "grade_id": "cell-ebe8c8b0dbd3efe5",
     "locked": false,
     "schema_version": 3,
     "solution": true,
     "task": false
    }
   },
   "outputs": [],
   "source": [
    "def error_from_confusion_table(confusion_table_func, targets, preds):\n",
    "    confusion_matrix = confusion_table_func(targets, preds)\n",
    "    error = confusion_matrix[0,1] + confusion_matrix[1,0]\n",
    "    error_fraction = error/np.sum(confusion_matrix)\n",
    "    return error_fraction"
   ]
  },
  {
   "cell_type": "code",
   "execution_count": 54,
   "metadata": {
    "ExecuteTime": {
     "end_time": "2023-02-24T12:06:19.206365Z",
     "start_time": "2023-02-24T12:06:19.203814Z"
    },
    "deletable": false,
    "editable": false,
    "nbgrader": {
     "cell_type": "code",
     "checksum": "1000097f4d4ae8b11ee6441001833cce",
     "grade": true,
     "grade_id": "cell-535aed4f0db3a8dc",
     "locked": true,
     "points": 1,
     "schema_version": 3,
     "solution": false,
     "task": false
    }
   },
   "outputs": [],
   "source": [
    "# This cell is reserved for the unit tests. Do not consider this cell. "
   ]
  },
  {
   "cell_type": "markdown",
   "metadata": {
    "deletable": false,
    "editable": false,
    "nbgrader": {
     "cell_type": "markdown",
     "checksum": "afdc7dc4601e57bac37e957cd749a3cd",
     "grade": false,
     "grade_id": "cell-265762770e3a29f9",
     "locked": true,
     "schema_version": 3,
     "solution": false,
     "task": false
    }
   },
   "source": [
    "## Question 20 [marks 12]\n",
    "\n",
    "Make a function `predictions, out_targets = cross_validation_prediction(train_func, test_func, param, data_matrix, targets, kfold)` that estimates the predictions of a classifier trained via the function `train_func` with parameter `param` on the problem `data_matrix, targets` using a k-fold cross validation strategy with the number of folds indicated by `kfold`.\n",
    "\n",
    "Since the order of the instances associated to the predictions can be different from the original order, the function is required to output also the corresponding target values in the array `out_targets` (i.e. the value in position 10 in `predictions` corresponds to the target value in position 10 in `out_targets` )\n",
    "\n",
    "**Note:** do not use library functions (such as `KFold` or `StratifiedKFold`) but implement your own version of the cross validation."
   ]
  },
  {
   "cell_type": "code",
   "execution_count": 55,
   "metadata": {
    "ExecuteTime": {
     "end_time": "2023-02-24T12:06:19.211862Z",
     "start_time": "2023-02-24T12:06:19.207529Z"
    },
    "deletable": false,
    "nbgrader": {
     "cell_type": "code",
     "checksum": "0dc461a62adc2fb145ae329fca3cf87e",
     "grade": false,
     "grade_id": "cell-871b84ac5ae59e38",
     "locked": false,
     "schema_version": 3,
     "solution": true,
     "task": false
    }
   },
   "outputs": [],
   "source": [
    "def cross_validation_prediction(train_func, test_func, param, data_matrix, targets, kfold):\n",
    "    np.random.seed(46)\n",
    "    samples_each_fold = int(len(data_matrix)/kfold)\n",
    "    kfold_indices = []\n",
    "    final_predictions = []\n",
    "    final_targets = []\n",
    "    for i in range(kfold):\n",
    "        if(i==0):\n",
    "            choices_available = np.arange(len(data_matrix))\n",
    "        else:\n",
    "            choices_available = np.setdiff1d(choices_available,choices_made)\n",
    "        if(i!=kfold-1):\n",
    "            #print(\"if\",len(choices_available))\n",
    "            choices_made = np.random.choice(choices_available,size=samples_each_fold,replace=False)\n",
    "        else:\n",
    "            #print(\"else\",len(choices_available))\n",
    "            choices_made = np.random.choice(choices_available,size=len(choices_available),replace=False)\n",
    "        kfold_indices.append(choices_made)\n",
    "    \n",
    "    for j in range(kfold):\n",
    "        test_set_indices = kfold_indices[j]\n",
    "        test_set = data_matrix[test_set_indices]\n",
    "        test_targets =  targets[test_set_indices]\n",
    "        train_set_indices = np.setdiff1d(np.arange(len(data_matrix)),test_set_indices)\n",
    "        train_set = data_matrix[train_set_indices]\n",
    "        train_targets = targets[train_set_indices]\n",
    "        model = train_func(train_set,train_targets,param)\n",
    "        predictions =test_func(test_set,model)\n",
    "        final_predictions.append(np.array([i for i in predictions]))\n",
    "        final_targets.append(np.array([i for i in test_targets]))\n",
    "    \n",
    "    final_targets = np.array(final_targets,dtype=object)\n",
    "    final_predictions=np.array(final_predictions,dtype=object)\n",
    "    final_predictions = list(np.hstack(final_predictions))\n",
    "    final_targets = list(np.hstack(final_targets))\n",
    "\n",
    "    return final_predictions,final_targets"
   ]
  },
  {
   "cell_type": "code",
   "execution_count": 56,
   "metadata": {
    "ExecuteTime": {
     "end_time": "2023-02-24T12:06:19.219246Z",
     "start_time": "2023-02-24T12:06:19.213322Z"
    },
    "deletable": false,
    "editable": false,
    "nbgrader": {
     "cell_type": "code",
     "checksum": "cee7461170a6f5035605a7d9e6cb9573",
     "grade": true,
     "grade_id": "cell-76f31b6cacf8f5f8",
     "locked": true,
     "points": 6,
     "schema_version": 3,
     "solution": false,
     "task": false
    }
   },
   "outputs": [],
   "source": [
    "# This cell is reserved for the unit tests. Do not consider this cell. "
   ]
  },
  {
   "cell_type": "code",
   "execution_count": 57,
   "metadata": {
    "ExecuteTime": {
     "end_time": "2023-02-24T12:06:19.256383Z",
     "start_time": "2023-02-24T12:06:19.220589Z"
    },
    "deletable": false,
    "editable": false,
    "nbgrader": {
     "cell_type": "code",
     "checksum": "d24b9a5629423fca3182ddffd0218c66",
     "grade": true,
     "grade_id": "cell-7a433e8e5fb3c0a4",
     "locked": true,
     "points": 6,
     "schema_version": 3,
     "solution": false,
     "task": false
    }
   },
   "outputs": [],
   "source": [
    "# This cell is reserved for the unit tests. Do not consider this cell. "
   ]
  },
  {
   "cell_type": "markdown",
   "metadata": {
    "deletable": false,
    "editable": false,
    "nbgrader": {
     "cell_type": "markdown",
     "checksum": "c3ff8dfc86d995eeb36dbcb0e3c208a3",
     "grade": false,
     "grade_id": "cell-b6756e854969d98b",
     "locked": true,
     "schema_version": 3,
     "solution": false,
     "task": false
    }
   },
   "source": [
    "## Question 21 [marks 5]\n",
    "\n",
    "Make a function `mean_errors = compute_errors_with_crossvalidation(train_func, test_func, params, data_matrix, targets, kfold, n_repetitions)` that returns the estimated average error for each parameter in `params`. The classifier is trained via the function `train_func` with parameters taken from `params` on the problem `data_matrix, targets` using a k-fold cross validation strategy with the number of folds indicated by `kfold`.\n",
    "The error estimate is repeated a number of times indicated in `n_repetitions`. The error should be computed using the function `error_from_confusion_table`. The output vector `mean_errors` has as many entries as there are paramters in `params`.\n",
    "\n",
    "**Note:** do not use library functions (such as `cross_val_score`) but implement your own version of the code."
   ]
  },
  {
   "cell_type": "code",
   "execution_count": 58,
   "metadata": {
    "ExecuteTime": {
     "end_time": "2023-02-24T12:06:19.260875Z",
     "start_time": "2023-02-24T12:06:19.257719Z"
    },
    "deletable": false,
    "nbgrader": {
     "cell_type": "code",
     "checksum": "dba054e6a6944e090333db353aa91bda",
     "grade": false,
     "grade_id": "cell-16f6d125d1c875b3",
     "locked": false,
     "schema_version": 3,
     "solution": true,
     "task": false
    }
   },
   "outputs": [],
   "source": [
    "def compute_errors_with_crossvalidation(train_func, test_func, params, data_matrix, targets, kfold, n_repetitions):\n",
    "    mean_errors = []\n",
    "    for i in params:\n",
    "        errors = []\n",
    "        for j in range(n_repetitions):\n",
    "            predictions,actual_targets = cross_validation_prediction(train_func, test_func, i, data_matrix, targets, kfold)\n",
    "            errors.append(error_from_confusion_table(confusion_table, actual_targets, predictions))\n",
    "        \n",
    "        mean_errors.append(sum(errors)/n_repetitions)\n",
    "    return mean_errors\n",
    "\n"
   ]
  },
  {
   "cell_type": "code",
   "execution_count": 59,
   "metadata": {
    "ExecuteTime": {
     "end_time": "2023-02-24T12:06:19.282632Z",
     "start_time": "2023-02-24T12:06:19.262214Z"
    },
    "deletable": false,
    "editable": false,
    "nbgrader": {
     "cell_type": "code",
     "checksum": "cf0052c6a0d4c8baf1cad3006fb667c7",
     "grade": true,
     "grade_id": "cell-0fced19d33039cab",
     "locked": true,
     "points": 5,
     "schema_version": 3,
     "solution": false,
     "task": false
    }
   },
   "outputs": [],
   "source": [
    "# This cell is reserved for the unit tests. Do not consider this cell. "
   ]
  },
  {
   "cell_type": "markdown",
   "metadata": {
    "deletable": false,
    "editable": false,
    "nbgrader": {
     "cell_type": "markdown",
     "checksum": "08ee0e3c3da7efc40ce44e3893f4c218",
     "grade": false,
     "grade_id": "cell-689c2b5f45b17896",
     "locked": true,
     "schema_version": 3,
     "solution": false,
     "task": false
    }
   },
   "source": [
    "## Question 22 [marks 2]\n",
    "\n",
    "Make a function `find_best_param_with_crossvalidation(train_func, test_func, params, data_matrix, targets, kfold, n_repetitions)` that uses crossvalidation to determine which parameter among `params` achieves the smallest estimated predictive error."
   ]
  },
  {
   "cell_type": "code",
   "execution_count": 60,
   "metadata": {
    "ExecuteTime": {
     "end_time": "2023-02-24T12:06:19.286565Z",
     "start_time": "2023-02-24T12:06:19.283984Z"
    },
    "deletable": false,
    "nbgrader": {
     "cell_type": "code",
     "checksum": "1300dd7d2038c1842c1ea9eb6b10f616",
     "grade": false,
     "grade_id": "cell-3356a77d706ff595",
     "locked": false,
     "schema_version": 3,
     "solution": true,
     "task": false
    }
   },
   "outputs": [],
   "source": [
    "def find_best_param_with_crossvalidation(train_func, test_func, params, data_matrix, targets, kfold, n_repetitions):\n",
    "    mean_errors = compute_errors_with_crossvalidation(train_func, test_func, params, data_matrix, targets, kfold, n_repetitions)\n",
    "    min_error_index = mean_errors.index(min(mean_errors))\n",
    "    return params[min_error_index]"
   ]
  },
  {
   "cell_type": "code",
   "execution_count": 61,
   "metadata": {
    "ExecuteTime": {
     "end_time": "2023-02-24T12:06:19.460877Z",
     "start_time": "2023-02-24T12:06:19.287914Z"
    },
    "deletable": false,
    "editable": false,
    "nbgrader": {
     "cell_type": "code",
     "checksum": "1d2dabd02e9044c53676f88bed54be24",
     "grade": true,
     "grade_id": "cell-31eb98e3acfb9b21",
     "locked": true,
     "points": 2,
     "schema_version": 3,
     "solution": false,
     "task": false
    }
   },
   "outputs": [],
   "source": [
    "# This cell is reserved for the unit tests. Do not consider this cell. "
   ]
  },
  {
   "cell_type": "markdown",
   "metadata": {
    "deletable": false,
    "editable": false,
    "nbgrader": {
     "cell_type": "markdown",
     "checksum": "c24b1906d70f46da92e8dbdc24b97579",
     "grade": false,
     "grade_id": "cell-bb44e9b62569137f",
     "locked": true,
     "schema_version": 3,
     "solution": false,
     "task": false
    }
   },
   "source": [
    "## Checkpoint\n",
    "\n",
    "This is just a check-point, i.e. it is for you to see that you are correctly implementing all functions. \n",
    "\n",
    "Execute the following code (just execute the next cell):\n",
    "```python\n",
    "from sklearn.datasets import load_wine\n",
    "X,y = load_wine(return_X_y=True)\n",
    "y[y==2]=0\n",
    "params = [3,5,7,9,11]\n",
    "train_func, test_func = train_knn, test_knn\n",
    "kfold = 5\n",
    "n_repetitions = 5\n",
    "best_param = find_best_param_with_crossvalidation(train_func, test_func, params, data_matrix, targets, kfold, n_repetitions)\n",
    "print(best_param)\n",
    "```\n",
    "and get a value around 3."
   ]
  },
  {
   "cell_type": "code",
   "execution_count": 62,
   "metadata": {
    "ExecuteTime": {
     "end_time": "2023-02-24T12:06:20.475261Z",
     "start_time": "2023-02-24T12:06:19.462712Z"
    },
    "deletable": false,
    "nbgrader": {
     "cell_type": "code",
     "checksum": "f8f34798138fe84c414010fe546ad1b9",
     "grade": true,
     "grade_id": "cell-6a856c9021ae9c19",
     "locked": false,
     "points": 0,
     "schema_version": 3,
     "solution": true,
     "task": false
    }
   },
   "outputs": [
    {
     "name": "stdout",
     "output_type": "stream",
     "text": [
      "3\n"
     ]
    }
   ],
   "source": [
    "from sklearn.datasets import load_wine\n",
    "X,y = load_wine(return_X_y=True)\n",
    "y[y==2]=0\n",
    "params = [3,5,7,9,11]\n",
    "train_func, test_func = train_knn, test_knn\n",
    "kfold = 5\n",
    "n_repetitions = 5\n",
    "best_param = find_best_param_with_crossvalidation(train_func, test_func, params, X, y, kfold, n_repetitions)\n",
    "print(best_param)\n"
   ]
  },
  {
   "cell_type": "code",
   "execution_count": null,
   "metadata": {},
   "outputs": [],
   "source": []
  },
  {
   "cell_type": "code",
   "execution_count": null,
   "metadata": {},
   "outputs": [],
   "source": []
  }
 ],
 "metadata": {
  "kernelspec": {
   "display_name": "Python 3",
   "language": "python",
   "name": "python3"
  },
  "language_info": {
   "codemirror_mode": {
    "name": "ipython",
    "version": 3
   },
   "file_extension": ".py",
   "mimetype": "text/x-python",
   "name": "python",
   "nbconvert_exporter": "python",
   "pygments_lexer": "ipython3",
   "version": "3.11.0"
  },
  "vscode": {
   "interpreter": {
    "hash": "b98f472bb8ba48098397e3b897b5be76f7bf0e62d98845cdb0e8066dc5677259"
   }
  }
 },
 "nbformat": 4,
 "nbformat_minor": 4
}
